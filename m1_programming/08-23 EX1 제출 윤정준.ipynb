{
 "cells": [
  {
   "cell_type": "markdown",
   "id": "6ac1ab53",
   "metadata": {},
   "source": [
    "### Q74. 캐릭터는 매뉴얼에 따라 이동한다. 아래 입력조건에 따라 캐릭터가 방문한 칸의 수를 출력하는 프로그램을 작성하세요.\n",
    "\n",
    "- 입력조건\n",
    "  - 첫째 줄에 맵의 세로 크기 N과 가로 크기 M을 공백으로 구분하여 입력 (3 <= N,M <=50)\n",
    "  - 둘째 줄에 게임 캐릭터가 있는 칸의 좌표 (A,B)와 바라보는 방향 d가 각각 서로 공백으로 구분하여 입력(방향 d의 값으로는 북, 동, 남, 서가 각각 0,1,2,3)\n",
    "  - 세째 줄에 맵이 육지인지 바다인지에 대한 정보 입력(육지 0, 바다 1) N개의 줄에 맵의 상태가 북쪽으로 부터 남쪽순서대로 각 줄의 데이터는 서쪽부터 동쪽 순서대로 주어진다.\n",
    "  - 처음에 캐릭터가 위치한 칸의 상태는 항상 육지이다.\n",
    "\n",
    "\n",
    "- 매뉴얼<BR>\n",
    "  캐릭터가 있는 장소는 1 X 1 크기의 정사각형으로 이루어진 N X M 크기의 직사각형으로 각각의 칸은 육지 또는 바다이다.캐릭터는 동서남북 중 한 곳을 바라본다. 맵의 각 칸은 (A, B)로 나타낼 수 있고 A는 북쪽으로부터 떨어진 칸의 개수, B는 서쪽으로부터 떨어진 칸의 개수이다.캐릭터는 상하좌우로 움직일 수 있고 바다로 되어 있는 공간에는 갈 수 없다. 캐릭터의 움직임 설정을 위한 매뉴얼은 아래와 같다.\n",
    "  - 현재 위치에서 현재 방향을 기준으로 왼쪽 방향부터 차례대로 갈 곳을 정한다.\n",
    "  - 캐릭터의 바로 왼쪽 방향에 아직 가보지 않은 칸이 존재한다면 왼쪽 방향으로 회전한 다음 왼쪽으로 한 칸을 전진한다. 왼쪽 방향에 가보지 않은 칸이 없다면 왼쪽 방향으로 회전만 수행하고 1단계로 돌아간다.\n",
    "  - 만약 네 방향 모두 이미 가본 칸이거나 바다로 되어 있는 칸인 경우에는 바라보는 방향을 유지한 채로 한 칸 뒤로 가고 1단계로 돌아간다. 단, 이때 뒤쪽 방향이 바다인 칸이라 뒤로 갈수 없는 경우에는 움직임을 멈춘다."
   ]
  },
  {
   "cell_type": "code",
   "execution_count": 8,
   "id": "8713fad4",
   "metadata": {},
   "outputs": [
    {
     "name": "stdout",
     "output_type": "stream",
     "text": [
      "공백으로 구분하여 맵의 세로크기와 가로크기를 입력하세요\n",
      "3 3\n",
      "공백으로 구분하여 캐릭터가 있는 칸의 좌표와 바라보는 방향을 입력하세요\n",
      "1 1 0\n",
      "공백으로 구분하여 3 X 3맵의 1번째 행의 칸들이 육지(0)인지 바다(1)인지 입력하세요\n",
      "1 1 1\n",
      "공백으로 구분하여 3 X 3맵의 2번째 행의 칸들이 육지(0)인지 바다(1)인지 입력하세요\n",
      "1 0 0\n",
      "공백으로 구분하여 3 X 3맵의 3번째 행의 칸들이 육지(0)인지 바다(1)인지 입력하세요\n",
      "1 1 0\n",
      "\n",
      "마지막 위치는 (1, 2) 이며 방문한 칸의 수는 3칸 입니다.\n"
     ]
    }
   ],
   "source": [
    "import numpy as np\n",
    "\n",
    "n, m = map(int,input('공백으로 구분하여 맵의 세로크기와 가로크기를 입력하세요\\n').split(' '))\n",
    "\n",
    "if (3 <= n) & (m <= 50):\n",
    "    N = n\n",
    "    M = m\n",
    "else:\n",
    "    del N, M\n",
    "\n",
    "kr, kc, ks = map(int,input('공백으로 구분하여 캐릭터가 있는 칸의 좌표와 바라보는 방향을 입력하세요\\n').split(' '))\n",
    "\n",
    "mpli = []\n",
    "\n",
    "for i in range(M):\n",
    "    mp = list(map(int,input(f'공백으로 구분하여 {N} X {M}맵의 {i+1}번째 행의 칸들이 육지(0)인지 바다(1)인지 입력하세요\\n').split(' ')))\n",
    "    mpli += mp\n",
    "\n",
    "mpli = np.array(mpli).reshape(M,N)\n",
    "mpli[kc,kr] = 0\n",
    "ksco = 0\n",
    "cot = 0\n",
    "comp = '0123'\n",
    "move = {0:(-1,0),1:(0,1),2:(1,0),3:(0,-1)}\n",
    "while True:\n",
    "    ks = int(comp[ks-1])\n",
    "    ksco += 1\n",
    "    try:\n",
    "        if mpli[kc + move[ks][0],kr + move[ks][1]] == 0:\n",
    "            mpli[kc, kr] = 2\n",
    "            cot +=1\n",
    "            kc += move[ks][0]\n",
    "            kr += move[ks][1]\n",
    "            ksco = 0\n",
    "        elif ksco == 4:\n",
    "            if mpli[kc + move[int(comp[ks-2])][0],kr + move[int(comp[ks-2])][1]] != 1:\n",
    "                mpli[kc, kr] = 2\n",
    "                cot +=1\n",
    "                kc += move[int(comp[ks-2])][0]\n",
    "                kr += move[int(comp[ks-2])][1]\n",
    "                ksco = 0\n",
    "            else:\n",
    "                print(f'\\n마지막 위치는 ({kc}, {kr}) 이며 방문한 칸의 수는 {cot}칸 입니다.')\n",
    "                break\n",
    "    except IndexError:\n",
    "        if ksco == 4:\n",
    "            if mpli[kc + move[int(comp[ks-2])][0],kr + move[int(comp[ks-2])][1]] != 1:\n",
    "                mpli[kc, kr] = 2\n",
    "                cot +=1\n",
    "                kc += move[int(comp[ks-2])][0]\n",
    "                kr += move[int(comp[ks-2])][1]\n",
    "                ksco = 0\n",
    "            else:\n",
    "                print(f'\\n마지막 위치는 ({kc}, {kr}) 이며 방문한 칸의 수는 {cot}칸 입니다.')\n",
    "                break"
   ]
  }
 ],
 "metadata": {
  "kernelspec": {
   "display_name": "Python 3 (ipykernel)",
   "language": "python",
   "name": "python3"
  },
  "language_info": {
   "codemirror_mode": {
    "name": "ipython",
    "version": 3
   },
   "file_extension": ".py",
   "mimetype": "text/x-python",
   "name": "python",
   "nbconvert_exporter": "python",
   "pygments_lexer": "ipython3",
   "version": "3.8.13"
  },
  "toc": {
   "base_numbering": 1,
   "nav_menu": {},
   "number_sections": true,
   "sideBar": true,
   "skip_h1_title": false,
   "title_cell": "Table of Contents",
   "title_sidebar": "Contents",
   "toc_cell": false,
   "toc_position": {},
   "toc_section_display": true,
   "toc_window_display": false
  }
 },
 "nbformat": 4,
 "nbformat_minor": 5
}
