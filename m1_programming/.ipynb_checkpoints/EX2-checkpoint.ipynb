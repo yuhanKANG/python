{
 "cells": [
  {
   "cell_type": "code",
   "execution_count": 2,
   "id": "9685bd54",
   "metadata": {},
   "outputs": [
    {
     "ename": "TypeError",
     "evalue": "'float' object is not iterable",
     "output_type": "error",
     "traceback": [
      "\u001b[1;31m---------------------------------------------------------------------------\u001b[0m",
      "\u001b[1;31mTypeError\u001b[0m                                 Traceback (most recent call last)",
      "Input \u001b[1;32mIn [2]\u001b[0m, in \u001b[0;36m<cell line: 21>\u001b[1;34m()\u001b[0m\n\u001b[0;32m     18\u001b[0m height \u001b[38;5;241m=\u001b[39m random\u001b[38;5;241m.\u001b[39mrandint(\u001b[38;5;241m140\u001b[39m,\u001b[38;5;241m200\u001b[39m)\n\u001b[0;32m     19\u001b[0m BMI \u001b[38;5;241m=\u001b[39m kg\u001b[38;5;241m/\u001b[39m(height\u001b[38;5;241m*\u001b[39m\u001b[38;5;241m*\u001b[39m\u001b[38;5;241m2\u001b[39m)\n\u001b[1;32m---> 21\u001b[0m \u001b[38;5;28;01mfor\u001b[39;00m i \u001b[38;5;129;01min\u001b[39;00m BMI :\n\u001b[0;32m     22\u001b[0m     \u001b[38;5;28;01mif\u001b[39;00m i \u001b[38;5;241m<\u001b[39m\u001b[38;5;241m=\u001b[39m \u001b[38;5;241m18.5\u001b[39m :\n\u001b[0;32m     23\u001b[0m         \u001b[38;5;28mprint\u001b[39m(\u001b[38;5;124m'\u001b[39m\u001b[38;5;124m저체중\u001b[39m\u001b[38;5;124m'\u001b[39m)\n",
      "\u001b[1;31mTypeError\u001b[0m: 'float' object is not iterable"
     ]
    }
   ],
   "source": [
    "import random\n",
    "import numpy as np\n",
    "import pandas as pd\n",
    "\n",
    "first_name = '김이박최정강조윤장임'  # 10개씩 \n",
    "middle_name = '유세호민아승시일선도'\n",
    "last_name = '영철은지원진림현윤형'\n",
    "\n",
    "def human():      # 없는사람 만들기\n",
    "    name = ''\n",
    "    name +=random.choice(first_name)\n",
    "    name +=random.choice(middle_name)\n",
    "    name +=random.choice(last_name)\n",
    "    return name\n",
    "human()\n",
    "\n",
    "kg = random.randint(40,100)\n",
    "height = random.randint(140,200)\n",
    "BMI = kg/(height**2)\n",
    "\n",
    "for i in BMI :\n",
    "    if i <= 18.5 :\n",
    "        print('저체중')\n",
    "    elif i < 23 :\n",
    "        print('정상')\n",
    "    elif i < 25 :\n",
    "        print('과체중')\n",
    "    else : \n",
    "        print('비만')\n",
    "\n",
    "# people = []\n",
    "# person = 1000\n",
    "# people.append(random.randint(1,human))"
   ]
  },
  {
   "cell_type": "code",
   "execution_count": null,
   "id": "7184536e",
   "metadata": {},
   "outputs": [],
   "source": [
    "li = []\n",
    "for i in range(1000) :\n",
    "    li.append(human())\n",
    "    print(li)"
   ]
  }
 ],
 "metadata": {
  "kernelspec": {
   "display_name": "Python 3 (ipykernel)",
   "language": "python",
   "name": "python3"
  },
  "language_info": {
   "codemirror_mode": {
    "name": "ipython",
    "version": 3
   },
   "file_extension": ".py",
   "mimetype": "text/x-python",
   "name": "python",
   "nbconvert_exporter": "python",
   "pygments_lexer": "ipython3",
   "version": "3.8.13"
  }
 },
 "nbformat": 4,
 "nbformat_minor": 5
}
