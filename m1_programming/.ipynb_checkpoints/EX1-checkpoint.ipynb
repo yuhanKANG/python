{
 "cells": [
  {
   "cell_type": "markdown",
   "id": "ea22fd19",
   "metadata": {},
   "source": [
    "- Q1. 남녀 파트너 정해주기 프로그램(zip함수)\n",
    "\n",
    "같은 수의 남녀 모임에서 파트너를 랜덤하게 정해주는 프로그램을 만들어 보세요"
   ]
  },
  {
   "cell_type": "code",
   "execution_count": 85,
   "id": "92362ccd",
   "metadata": {},
   "outputs": [],
   "source": [
    "male = ['철수','갑돌','로미오','이몽룡','온돌']\n",
    "female = ['미미','갑순','줄리엣','성춘향','평강']"
   ]
  },
  {
   "cell_type": "code",
   "execution_count": 86,
   "id": "7b6d8a07",
   "metadata": {},
   "outputs": [
    {
     "name": "stdout",
     "output_type": "stream",
     "text": [
      "파트너1 : 갑돌, 미미\n",
      "파트너2 : 로미오, 줄리엣\n",
      "파트너3 : 온돌, 갑순\n",
      "파트너4 : 이몽룡, 평강\n",
      "파트너5 : 철수, 성춘향\n"
     ]
    }
   ],
   "source": [
    "# zip : 길이가 같은 함수를 묶어줌\n",
    "\n",
    "import numpy as np\n",
    "np.random.shuffle(male)\n",
    "np.random.shuffle(female)\n",
    "partners = zip(male, female)\n",
    "\n",
    "for i, partner in enumerate(partners) :\n",
    "    print(f'파트너{i+1} : {partner[0]}, {partner[1]}')\n",
    "    \n",
    "    # print(f'partner{i+1}:{partner[0]}-{partner[1]}')    "
   ]
  },
  {
   "cell_type": "markdown",
   "id": "2e3948c7",
   "metadata": {},
   "source": [
    "- Q2. 사용자가 입력한 횟수만큼 로또 번호를 출력하는 프로그램을 작성하세요.(중복 금지)"
   ]
  },
  {
   "cell_type": "code",
   "execution_count": 149,
   "id": "d0867b6e",
   "metadata": {},
   "outputs": [
    {
     "name": "stdout",
     "output_type": "stream",
     "text": [
      "원하시는 횟수를 입력하세요 : 13\n",
      "[1, 35, 36, 5, 8, 10, 42, 11, 14, 22, 23, 25, 31]\n"
     ]
    }
   ],
   "source": [
    "import random\n",
    "num = set()\n",
    "human = int(input(f'원하시는 횟수를 입력하세요 : '))\n",
    "\n",
    "while len(num) < human :\n",
    "    num.add(random.randint(1,45))  # 로또번호 개수를 모르는데 이건 끝자리만 바꿔주면됨\n",
    "    \n",
    "    \n",
    "num = list(num)\n",
    "# num.sort()\n",
    "print(num)"
   ]
  },
  {
   "cell_type": "markdown",
   "id": "69a97008",
   "metadata": {},
   "source": [
    "- 도전과제1.\n",
    "- 발표자를 원하는 수만큼 랜덤하게 출력하는 프로그램을 작성하세요."
   ]
  },
  {
   "cell_type": "code",
   "execution_count": null,
   "id": "45fba47c",
   "metadata": {},
   "outputs": [],
   "source": [
    "cakd7 = ['박영권','김현지','김덕현','변서연','한지웅','양주희','이호원','정지은','이정현A','이명진','이상윤','조승현',\n",
    "        '강유한','김영선','최애림','김민섭','박혜린','이정현B','윤정준','김진형',\n",
    "       '진청아','신창훈','김병석','박세희']\n",
    "len(cakd7)"
   ]
  },
  {
   "cell_type": "code",
   "execution_count": 34,
   "id": "aeaafb29",
   "metadata": {},
   "outputs": [
    {
     "name": "stdout",
     "output_type": "stream",
     "text": [
      "=============== CAKD7 발표자 랜덤 뽑기 입니다.===============\n",
      "\n",
      " 발표 인원을 입력해주세요 >  \n",
      "3\n",
      " \n",
      "1번 문제 발표자는 김현지 입니다.\n",
      "2번 문제 발표자는 정승기 입니다.\n",
      "3번 문제 발표자는 이상윤 입니다.\n"
     ]
    }
   ],
   "source": [
    "import random \n",
    "import numpy as np\n",
    "\n",
    "list = ['박영권','김현지','김덕현','변서연','한지웅','양주희','이호원','정지은','이정현A',\n",
    "         '이정현B','이명진','이상윤','조승현','강유한','김영선','최애림','김민섭','박혜린',\n",
    "         '윤정준','김진형','정승기','진청아','신창훈','김병석','박세희']\n",
    "\n",
    "print(\"=============== CAKD7 발표자 랜덤 뽑기 입니다.===============\"'\\n')\n",
    "                        \n",
    "get_ran_num = int(input(\" 발표 인원을 입력해주세요 >  \"'\\n')) \n",
    "\n",
    "\n",
    "lucky_guy = random.sample(list,get_ran_num)\n",
    "\n",
    "print(\" \")\n",
    "for i in range(get_ran_num):\n",
    "    print(f'{i+1}번 문제 발표자는 {lucky_guy[i]} 입니다.')"
   ]
  },
  {
   "cell_type": "markdown",
   "id": "2604e461",
   "metadata": {},
   "source": [
    "- Q3. 입력받은 문자열의 각 문자를 그 다음 문자로 변경하여 출력하세요.\n",
    "\n",
    "abc -> bca"
   ]
  },
  {
   "cell_type": "code",
   "execution_count": null,
   "id": "f7ec5ea0",
   "metadata": {},
   "outputs": [],
   "source": [
    "a =str(input(\"문자를 입력해주세요\"))\n",
    "\n",
    "print(a[1:]+(a[0]))"
   ]
  },
  {
   "cell_type": "code",
   "execution_count": null,
   "id": "4bd7e611",
   "metadata": {},
   "outputs": [],
   "source": [
    "text = input(\"문장을 입력하세요. > \")\n",
    "\n",
    "ret = ''\n",
    "for i in range(len(text)):\n",
    "    if i != len(text) -1 :\n",
    "        ret += text[i+1]\n",
    "    else:\n",
    "        ret += text[0]\n",
    "\n",
    "print(ret)"
   ]
  },
  {
   "cell_type": "markdown",
   "id": "65dd3a14",
   "metadata": {},
   "source": [
    "- Q4. url에서 호스트 도메인(news.naver.com)을 추출하여 출력하세요."
   ]
  },
  {
   "cell_type": "code",
   "execution_count": null,
   "id": "7852452f",
   "metadata": {},
   "outputs": [],
   "source": [
    "import re\n",
    "url = 'http://news.naver.com/main/read.nhn?mode=LSD&mid=shm&sid1=105&oid=028&aid=0002334601'\n",
    "p = re.compile('\\w{4}[.]\\w{5}[.]\\w{3}')\n",
    "\n",
    "m = p.search(url)\n",
    "m"
   ]
  },
  {
   "cell_type": "code",
   "execution_count": null,
   "id": "800adfe3",
   "metadata": {},
   "outputs": [],
   "source": [
    "re.findall('\\w{4}[.]\\w{5}[.]\\w{3}',url)"
   ]
  },
  {
   "cell_type": "code",
   "execution_count": null,
   "id": "6ee686f1",
   "metadata": {},
   "outputs": [],
   "source": [
    "url = 'http://news.naver.com/main/read.nhn?mode=LSD&mid=shm&sid1=105&oid=028&aid=0002334601'\n",
    "\n",
    "tmp = url.split('/')\n",
    "tmp[2]"
   ]
  },
  {
   "cell_type": "markdown",
   "id": "6e3bb939",
   "metadata": {},
   "source": [
    "- Q5. url에서 쿼리문을 추출하여 출력하세요."
   ]
  },
  {
   "cell_type": "code",
   "execution_count": null,
   "id": "5f4344db",
   "metadata": {},
   "outputs": [],
   "source": [
    "# url에서 '?'뒤에 표시되는 문자열을 쿼리 문자열이라고 하며 변수=값 사이 &로 구분되어 나열된다.\n",
    "url = 'http://news.naver.com/main/read.nhn?mode=LSD&mid=shm&sid1=105&oid=028&aid=0002334601'\n",
    "qus = url.split('?')\n",
    "qus[1]"
   ]
  },
  {
   "cell_type": "code",
   "execution_count": null,
   "id": "de818ed8",
   "metadata": {},
   "outputs": [],
   "source": [
    "qus[1].split('&')"
   ]
  },
  {
   "cell_type": "markdown",
   "id": "446fba5f",
   "metadata": {},
   "source": [
    "- Q6. 텍스트 파일(mydata.txt)을 읽고  파일의 내용에서 나타나는 문자들에 대해\n",
    "\n",
    "자주 나타나는 문자들을 아래와 같이 순서대로 출력하세요.\n",
    "- \\[ \\] -> [177]회 나타남\n",
    "- [e] -> [97]회 나타남\n",
    "- [t] -> [85]회 나타남"
   ]
  },
  {
   "cell_type": "code",
   "execution_count": null,
   "id": "71f05121",
   "metadata": {},
   "outputs": [],
   "source": [
    "file = open('./mydata.txt', mode = 'r')\n",
    "file"
   ]
  },
  {
   "cell_type": "code",
   "execution_count": null,
   "id": "c354fc7f",
   "metadata": {},
   "outputs": [],
   "source": [
    "lines = file.readlines()\n",
    "print(lines)"
   ]
  },
  {
   "cell_type": "code",
   "execution_count": null,
   "id": "9b9c2f58",
   "metadata": {},
   "outputs": [],
   "source": [
    "# 잘못된거\n",
    "sum_e = 0\n",
    "for i in lines :\n",
    "    a = i.split(\" \") # a: 파일 내 리스트 단어로 쪼개기\n",
    "    for b in a :  # b: 모든 단어 추출\n",
    "        c = b.count('e') # c : 해당문자 추출\n",
    "        sum_e += c\n",
    "sum_t = 0\n",
    "for i in lines :\n",
    "    a = i.split(\" \")\n",
    "    for b in a : \n",
    "        c = b.count('t')\n",
    "        sum_t += c\n",
    "        \n",
    "\n",
    "print(f'[e] -> [{sum_e}]회 나타남')\n",
    "print(f'[t] -> [{sum_t}]회 나타남')"
   ]
  },
  {
   "cell_type": "code",
   "execution_count": null,
   "id": "d422b278",
   "metadata": {
    "scrolled": true
   },
   "outputs": [],
   "source": [
    "# 정답\n",
    "def getTextFreq(filename):\n",
    "    with open(filename,'r') as f:\n",
    "        text = f.read()\n",
    "        fa = {}\n",
    "        for c in text:\n",
    "            if c in fa:\n",
    "                fa[c] += 1\n",
    "            else:\n",
    "                fa[c] = 1\n",
    "    return fa\n",
    "ret = getTextFreq('mydata.txt')\n",
    "ret = sorted(ret.items(),key=lambda x:x[1], reverse=True)\n",
    "print(ret)\n",
    "for c, freq in ret:\n",
    "    if c =='\\n':\n",
    "        continue\n",
    "    print('[%c] - > [%d]회 나타남' %(c,freq))\n"
   ]
  },
  {
   "cell_type": "markdown",
   "id": "ce0c7633",
   "metadata": {},
   "source": [
    "- Q7. 두개의 수를 입력한 후 두개의 수에 대한 사칙연산을 수행하세요.\n",
    "\n",
    "(0을 입력한 경우 다시 입력하도록 조치)"
   ]
  },
  {
   "cell_type": "code",
   "execution_count": 1,
   "id": "8f510d97",
   "metadata": {},
   "outputs": [
    {
     "name": "stdout",
     "output_type": "stream",
     "text": [
      "숫자를 입력하세요4\n",
      "숫자를 입력하세요0\n",
      "숫자를 다시 입력하세요0\n",
      "숫자를 다시 입력하세요6\n",
      "숫자를 다시 입력하세요8\n",
      "숫자를 다시 입력하세요4\n",
      "8 + 4 = 12\n",
      "8 - 4 = 4\n",
      "8 * 4 = 32\n",
      "8 / 4 = 2.0\n"
     ]
    }
   ],
   "source": [
    "# Cal4 클래스를 만들어서 작성하세요.\n",
    "a = int(input(\"숫자를 입력하세요\"))\n",
    "b = int(input(\"숫자를 입력하세요\"))\n",
    "\n",
    "for i in a, b :\n",
    "    if a == 0 or b == 0 :\n",
    "        a = int(input(\"숫자를 다시 입력하세요\"))\n",
    "        b = int(input(\"숫자를 다시 입력하세요\"))\n",
    "        \n",
    "class Cal4:  \n",
    "    def __init__(self, a, b) : # 클래스를 만드는 과정에서 무조건 실행되는 스페셜 메소드 __init__\n",
    "        self.first = a         # 인스턴스화 될때(만들때) 반드시 실행됨.\n",
    "        self.second = b      \n",
    "        \n",
    "    def add(self):\n",
    "        result = self.first + self.second\n",
    "        return result\n",
    "    \n",
    "    def sub(self):\n",
    "        result = self.first - self.second\n",
    "        return result\n",
    "    \n",
    "    def mul(self) :\n",
    "        result = self.first * self.second\n",
    "        return result\n",
    "    \n",
    "    def div(self) :\n",
    "        result = self.first / self.second\n",
    "        return result\n",
    "    \n",
    "c = Cal4(a,b)\n",
    "print(f'{a} + {b} = {c.add()}')\n",
    "print(f'{a} - {b} = {c.sub()}')\n",
    "print(f'{a} * {b} = {c.mul()}')\n",
    "print(f'{a} / {b} = {c.div()}')"
   ]
  },
  {
   "cell_type": "markdown",
   "id": "a17a569c",
   "metadata": {},
   "source": [
    "- while True사용\n",
    "- continue 반복처음으로\n",
    "- break 종료"
   ]
  },
  {
   "cell_type": "markdown",
   "id": "af6b82b0",
   "metadata": {},
   "source": [
    "- Q8. Order 클래스를 상속받아 extraOrder 클래스에서 메소드 오버라이딩하여\n",
    "\n",
    "출력가격에 원이 추가되도록 출력하세요."
   ]
  },
  {
   "cell_type": "code",
   "execution_count": 5,
   "id": "76874ac7",
   "metadata": {},
   "outputs": [
    {
     "name": "stdout",
     "output_type": "stream",
     "text": [
      "1000\n",
      "Kevin님의 주문금액은 1000원 입니다.\n",
      "None\n"
     ]
    }
   ],
   "source": [
    "class Order: \n",
    "    def __init__(self, name): \n",
    "        self.customer = 0 \n",
    "        self.name = name \n",
    "    def order(self, price): \n",
    "        self.customer += price \n",
    "        return self.customer\n",
    "    \n",
    "\n",
    "class extraOrder(Order) :\n",
    "    def __init__(self, name): \n",
    "        super().__init__(name)\n",
    "    def order(self, price) :\n",
    "        super().order(price)\n",
    "        print(f'{self.name}님의 주문금액은 {self.customer}원 입니다.')\n",
    "    \n",
    "        \n",
    "        \n",
    "\n",
    "order = Order('kevin')\n",
    "print(order.order(1000))  # 앞의 order는 객체 \n",
    "order = extraOrder('Kevin')\n",
    "print(order.order(1000))"
   ]
  },
  {
   "cell_type": "code",
   "execution_count": null,
   "id": "288236de",
   "metadata": {},
   "outputs": [],
   "source": [
    "# 위에 8번 다시해보기"
   ]
  },
  {
   "cell_type": "markdown",
   "id": "6df4bae2",
   "metadata": {},
   "source": [
    "- Q9. 업무미팅이 2시임을 알려주는 자동 이메일을 클래스 AutoEmail을 작성하여\n",
    "\n",
    "아래와 같이 출력하세요.\n",
    "\n",
    "안녕하세요. Kevin님, 업무미팅은 2시입니다."
   ]
  },
  {
   "cell_type": "code",
   "execution_count": 6,
   "id": "cbb4d21e",
   "metadata": {},
   "outputs": [
    {
     "ename": "SyntaxError",
     "evalue": "EOL while scanning string literal (787192407.py, line 10)",
     "output_type": "error",
     "traceback": [
      "\u001b[1;36m  Input \u001b[1;32mIn [6]\u001b[1;36m\u001b[0m\n\u001b[1;33m    print(f'안녕하세요 {self.name}님, 업무미팅은 {self.t}시 입니다.'')\u001b[0m\n\u001b[1;37m                                                       ^\u001b[0m\n\u001b[1;31mSyntaxError\u001b[0m\u001b[1;31m:\u001b[0m EOL while scanning string literal\n"
     ]
    }
   ],
   "source": [
    "import time\n",
    "class AutoEmail :\n",
    "    def __init__(self, name, t):\n",
    "        self.name = name\n",
    "        self.t = t\n",
    "    def alarm(self) :\n",
    "        if time.localtime().tm_hour == self.t:\n",
    "            print(f'{self.name}님, 업무미팅이 진행중입니다.')\n",
    "        else:\n",
    "            print(f'안녕하세요 {self.name}님, 업무미팅은 {self.t}시 입니다.'')\n",
    "    \n",
    "meeting = AutoEmail()\n",
    "meeting.alarm('Kevin',2)"
   ]
  },
  {
   "cell_type": "markdown",
   "id": "4338d93c",
   "metadata": {},
   "source": [
    "- Q10. 정규표현식을 사용하여 test에서 전화번호만 출력하세요.\n",
    "\n",
    "text = \"문의사항이 있으면 032-232-3245으로 연락주시기 바랍니다."
   ]
  },
  {
   "cell_type": "code",
   "execution_count": 5,
   "id": "f0e94159",
   "metadata": {},
   "outputs": [
    {
     "data": {
      "text/plain": [
       "['032-232-3245']"
      ]
     },
     "execution_count": 5,
     "metadata": {},
     "output_type": "execute_result"
    }
   ],
   "source": [
    "text = \"문의사항이 있으면 032-232-3245으로 연락주시기 바랍니다.\"\n",
    "# 숫자3 - 숫자3 - 숫자4 추출\n",
    "import re\n",
    "\n",
    "p = re.compile('\\d{3}[-]\\d{3}[-]\\d{4}')\n",
    "# re.findall('\\d{3}[-]\\d{3}[-]\\d{4}', text) # 리스트해제 [0]\n",
    "re.findall('\\d+[-]\\d+[-]\\d+', text)\n",
    "# \\d : 숫자"
   ]
  },
  {
   "cell_type": "markdown",
   "id": "1308544a",
   "metadata": {},
   "source": [
    "- Q11. 정규표현식을 사용하여 text에서 에러가 들어간 부분만 포함하는 리스트를 출력하세요.\n",
    "\n",
    "text = \"에러 1122, 레퍼런스 오류, 에러 1033, 아규먼트 오류, 에러 xxx\""
   ]
  },
  {
   "cell_type": "code",
   "execution_count": 1,
   "id": "e905dfe5",
   "metadata": {},
   "outputs": [
    {
     "data": {
      "text/plain": [
       "['에러 1122', '에러 1033', '에러 xxx']"
      ]
     },
     "execution_count": 1,
     "metadata": {},
     "output_type": "execute_result"
    }
   ],
   "source": [
    "# 에러 1122, 에러 1033, 에러 xxx 추출\n",
    "# 에러 \" \" ~ 추출하는 식으로\n",
    "import re\n",
    "text = \"에러 1122, 레퍼런스 오류, 에러 1033, 아규먼트 오류, 에러 xxx\"\n",
    "\n",
    "p2 = re.findall('에러.{4,5}', text)\n",
    "# 에러#s#w\n",
    "p2"
   ]
  },
  {
   "cell_type": "markdown",
   "id": "c628d92b",
   "metadata": {},
   "source": [
    "- Q12. 정규표현식을 사용하여 text에서 지역코드만 출력하세요.\n",
    "\n",
    "text = \"문의사항이 있으면 032-232-3245으로 연락주시기 바랍니다."
   ]
  },
  {
   "cell_type": "code",
   "execution_count": 2,
   "id": "900d96ab",
   "metadata": {},
   "outputs": [
    {
     "data": {
      "text/plain": [
       "'032'"
      ]
     },
     "execution_count": 2,
     "metadata": {},
     "output_type": "execute_result"
    }
   ],
   "source": [
    "# 032 출력\n",
    "text = \"문의사항이 있으면 032-232-3245으로 연락주시기 바랍니다.\"\n",
    "\n",
    "p3 = re.findall('\\d{3}', text)\n",
    "p3[0]"
   ]
  },
  {
   "cell_type": "markdown",
   "id": "6ffe34db",
   "metadata": {},
   "source": [
    "- Q13. 정규표현식을 사용하여 text에서 지역코드 제외한 번호만 출력하세요.\n",
    "\n",
    "text = \"문의사항이 있으면 032-232-3245으로 연락주시기 바랍니다."
   ]
  },
  {
   "cell_type": "code",
   "execution_count": 3,
   "id": "dde3c4b3",
   "metadata": {},
   "outputs": [
    {
     "data": {
      "text/plain": [
       "['232-3245']"
      ]
     },
     "execution_count": 3,
     "metadata": {},
     "output_type": "execute_result"
    }
   ],
   "source": [
    "# 232-3245 출력\n",
    "text = \"문의사항이 있으면 032-232-3245으로 연락주시기 바랍니다.\"\n",
    "\n",
    "p4 = re.findall('\\d+[-]\\d{4}', text)\n",
    "p4"
   ]
  },
  {
   "cell_type": "markdown",
   "id": "c7ab0ad1",
   "metadata": {},
   "source": [
    "- Q14. 'abcdefghij' 에 대하여 중첩을 적용한 서브그룹 5개로 컴파일하여 group()함수를 이용하여 'abcdefghi'와 e'를 출력하세요. (정규식)\n"
   ]
  },
  {
   "cell_type": "code",
   "execution_count": 41,
   "id": "826f6fe1",
   "metadata": {},
   "outputs": [
    {
     "name": "stdout",
     "output_type": "stream",
     "text": [
      "abcdefghi\n",
      "e\n"
     ]
    }
   ],
   "source": [
    "# re.compile('뽑아쓸 패턴')\n",
    "\n",
    "# 패턴 안에서 정규표현식을 ( )(괄호)로 묶으면 그룹이 됩니다.\n",
    "# (정규표현식) (정규표현식)\n",
    "text = \"abcdefghij\"\n",
    "\n",
    "# ((a(b(cd)(e)fg)hi)j)\n",
    "p = re.compile('((\\w(\\w(\\w{2})(\\w)\\w{2})\\w\\w)\\w)')\n",
    "m = p.search(text)\n",
    "m\n",
    "\n",
    "print(m.group(2))\n",
    "print(m.group(5))"
   ]
  },
  {
   "cell_type": "code",
   "execution_count": 6,
   "id": "4bb4126f",
   "metadata": {},
   "outputs": [
    {
     "name": "stdout",
     "output_type": "stream",
     "text": [
      "abcdefghi\n"
     ]
    },
    {
     "data": {
      "text/plain": [
       "'e'"
      ]
     },
     "execution_count": 6,
     "metadata": {},
     "output_type": "execute_result"
    }
   ],
   "source": [
    "# 주신답\n",
    "p = re.compile('(a(b(c(d(e)f)g)h)i)j')\n",
    "m = p.match('abcdefghij')\n",
    "# print(m.group(0))\n",
    "print(m.group(1))\n",
    "m.group(5)"
   ]
  },
  {
   "cell_type": "markdown",
   "id": "bc74c134",
   "metadata": {},
   "source": [
    "- Q15. 위 Q14 문제에서 모든 서브 그룹에 대한 문자열을 포함하는 튜플을 출력하세요."
   ]
  },
  {
   "cell_type": "code",
   "execution_count": 42,
   "id": "58301a22",
   "metadata": {},
   "outputs": [
    {
     "data": {
      "text/plain": [
       "('abcdefghij', 'abcdefghi', 'bcdefg', 'cd', 'e')"
      ]
     },
     "execution_count": 42,
     "metadata": {},
     "output_type": "execute_result"
    }
   ],
   "source": [
    "# groups는 튜플 형태로 반환\n",
    "m.groups()"
   ]
  },
  {
   "cell_type": "markdown",
   "id": "4042c731",
   "metadata": {},
   "source": [
    "- Q16. 이름으로 그룹을 참조하여 'Lots of punctuation 에서 Lots를 출력하세요."
   ]
  },
  {
   "cell_type": "code",
   "execution_count": 59,
   "id": "d1a24dfe",
   "metadata": {},
   "outputs": [
    {
     "data": {
      "text/plain": [
       "'Lots'"
      ]
     },
     "execution_count": 59,
     "metadata": {},
     "output_type": "execute_result"
    }
   ],
   "source": [
    "# 그룹에 이름 붙이기 ex : (?P<NAME>\\w+)\n",
    "import re\n",
    "\n",
    "text = 'Lots of punctuation'\n",
    "p = re.compile('(?P<words>\\w+)')\n",
    "m = p.match(text)\n",
    "m.group('words')"
   ]
  },
  {
   "cell_type": "markdown",
   "id": "06d2ba7e",
   "metadata": {},
   "source": [
    "- Q17. 'Paris is very very beautiful.'에서 'very very'를 출력하세요."
   ]
  },
  {
   "cell_type": "code",
   "execution_count": 60,
   "id": "dbcb6691",
   "metadata": {},
   "outputs": [
    {
     "data": {
      "text/plain": [
       "'very very'"
      ]
     },
     "execution_count": 60,
     "metadata": {},
     "output_type": "execute_result"
    }
   ],
   "source": [
    "text = 'Paris is very very beautiful.'\n",
    "p = re.compile('\\w{4}\\s\\w{4}')\n",
    "m = p.findall(text)\n",
    "m[0]"
   ]
  },
  {
   "cell_type": "markdown",
   "id": "c7506b23",
   "metadata": {},
   "source": [
    "- Q18. 정규표현식을 작성하여 아래와 같이 출력하세요.\n",
    "\n",
    "['1 apple', '5 oranges', '3 boys', '4 girls', '10 army', '11 mr']"
   ]
  },
  {
   "cell_type": "code",
   "execution_count": 61,
   "id": "c63693ef",
   "metadata": {},
   "outputs": [
    {
     "name": "stdout",
     "output_type": "stream",
     "text": [
      "['1 apple', '5 oranges', '3 boys', '4 girls', '10 army', '11 mr']\n"
     ]
    }
   ],
   "source": [
    "import re\n",
    "li = '1 apple, 5 oranges, 3 boys, 4 girls; 10 army| 11 mr'\n",
    "regex = re.compile('\\d+\\s\\w+')\n",
    "list = regex.findall(li)\n",
    "print(list)"
   ]
  },
  {
   "cell_type": "markdown",
   "id": "41cb0858",
   "metadata": {},
   "source": [
    "- Q19. text에서 'H,h'만 출력하세요."
   ]
  },
  {
   "cell_type": "code",
   "execution_count": 62,
   "id": "d9ff671d",
   "metadata": {},
   "outputs": [
    {
     "data": {
      "text/plain": [
       "['H', 'h', 'h']"
      ]
     },
     "execution_count": 62,
     "metadata": {},
     "output_type": "execute_result"
    }
   ],
   "source": [
    "text = 'Hello my friend! Life is short you need Python!'\n",
    "p = re.compile('H')\n",
    "p2 = re.compile('h')\n",
    "#m = p.match(text)\n",
    "#m2 = p2.match(text)\n",
    "p.findall(text)+p2.findall(text)\n"
   ]
  },
  {
   "cell_type": "code",
   "execution_count": 63,
   "id": "6e043737",
   "metadata": {},
   "outputs": [
    {
     "data": {
      "text/plain": [
       "['H', 'h', 'h']"
      ]
     },
     "execution_count": 63,
     "metadata": {},
     "output_type": "execute_result"
    }
   ],
   "source": [
    "text = 'Hello my friend! Life is short you need Python!'\n",
    "p = '[Hh]'\n",
    "re.findall(p, text)"
   ]
  },
  {
   "cell_type": "markdown",
   "id": "eaa82dac",
   "metadata": {},
   "source": [
    "- Q20. text에서 'H,h'가 아닌 것 모두를 출력하세요."
   ]
  },
  {
   "cell_type": "code",
   "execution_count": 64,
   "id": "85b12e74",
   "metadata": {},
   "outputs": [
    {
     "data": {
      "text/plain": [
       "['ello my friend! Life is s', 'ort you need Pyt', 'on!']"
      ]
     },
     "execution_count": 64,
     "metadata": {},
     "output_type": "execute_result"
    }
   ],
   "source": [
    "text = 'Hello my friend! Life is short you need Python!'\n",
    "p = re.compile('[^H^h]+')\n",
    "#m = p.match(text)\n",
    "#m2 = p2.match(text)\n",
    "p.findall(text)"
   ]
  },
  {
   "cell_type": "markdown",
   "id": "2f2dc692",
   "metadata": {},
   "source": [
    "- Q21. 'we are going home'에서 home만 출력하세요.(정규식)"
   ]
  },
  {
   "cell_type": "code",
   "execution_count": 65,
   "id": "52739707",
   "metadata": {},
   "outputs": [
    {
     "data": {
      "text/plain": [
       "'home'"
      ]
     },
     "execution_count": 65,
     "metadata": {},
     "output_type": "execute_result"
    }
   ],
   "source": [
    "import re\n",
    "text = 'we are going home'\n",
    "p = re.compile('\\w+')\n",
    "# p = re.compile('\\w+$')    >> m[0]\n",
    "m = p.findall(text)\n",
    "m[3]\n",
    "#text[-4:]"
   ]
  },
  {
   "cell_type": "markdown",
   "id": "b2ad1abd",
   "metadata": {},
   "source": [
    "- Q22. '199305, 1923A, a93247'에서 199305만 출력하세요."
   ]
  },
  {
   "cell_type": "code",
   "execution_count": 66,
   "id": "bf745b53",
   "metadata": {},
   "outputs": [
    {
     "data": {
      "text/plain": [
       "'199305'"
      ]
     },
     "execution_count": 66,
     "metadata": {},
     "output_type": "execute_result"
    }
   ],
   "source": [
    "text= '199305, 1923A, a93247'\n",
    "p = re.compile('\\w+')\n",
    "m = p.findall(text)\n",
    "m[0]"
   ]
  },
  {
   "cell_type": "markdown",
   "id": "af1076cc",
   "metadata": {},
   "source": [
    "- Q23. '12345abc'에서 'abc'만 출력하세요."
   ]
  },
  {
   "cell_type": "code",
   "execution_count": 67,
   "id": "86bd08ee",
   "metadata": {},
   "outputs": [
    {
     "data": {
      "text/plain": [
       "'abc'"
      ]
     },
     "execution_count": 67,
     "metadata": {},
     "output_type": "execute_result"
    }
   ],
   "source": [
    "text = '12345abc'\n",
    "p = re.compile('[a-z]+')\n",
    "m = p.findall(text)\n",
    "m[0]"
   ]
  },
  {
   "cell_type": "code",
   "execution_count": 68,
   "id": "10a8acb0",
   "metadata": {},
   "outputs": [
    {
     "data": {
      "text/plain": [
       "'abc'"
      ]
     },
     "execution_count": 68,
     "metadata": {},
     "output_type": "execute_result"
    }
   ],
   "source": [
    "m = re.search('[a-z]+', text)\n",
    "m.group()"
   ]
  },
  {
   "cell_type": "code",
   "execution_count": 69,
   "id": "82e39e49",
   "metadata": {},
   "outputs": [
    {
     "data": {
      "text/plain": [
       "'12345'"
      ]
     },
     "execution_count": 69,
     "metadata": {},
     "output_type": "execute_result"
    }
   ],
   "source": [
    "text = '12345abc'\n",
    "re.sub('[^0-9]','' ,  text) # 숫자가 아닌것을 공백으로 대체"
   ]
  },
  {
   "cell_type": "markdown",
   "id": "bad0ccfd",
   "metadata": {},
   "source": [
    "- Q24. '12345abc'에서 'a'만 출력하세요."
   ]
  },
  {
   "cell_type": "code",
   "execution_count": 70,
   "id": "302f7fd8",
   "metadata": {},
   "outputs": [
    {
     "data": {
      "text/plain": [
       "'a'"
      ]
     },
     "execution_count": 70,
     "metadata": {},
     "output_type": "execute_result"
    }
   ],
   "source": [
    "text = '12345abc'\n",
    "p = re.compile('[a-z]') # a b c 따로 출력\n",
    "m = p.findall(text)\n",
    "m[0]"
   ]
  },
  {
   "cell_type": "code",
   "execution_count": 71,
   "id": "4305bd71",
   "metadata": {},
   "outputs": [
    {
     "data": {
      "text/plain": [
       "'a'"
      ]
     },
     "execution_count": 71,
     "metadata": {},
     "output_type": "execute_result"
    }
   ],
   "source": [
    "import re\n",
    "m = re.search('[a-z]', text)\n",
    "m.group(0)"
   ]
  },
  {
   "cell_type": "markdown",
   "id": "2d6f7317",
   "metadata": {},
   "source": [
    "- Q25. 'abc12345Abc'에서 'A'만 출력하세요."
   ]
  },
  {
   "cell_type": "code",
   "execution_count": 72,
   "id": "1982c002",
   "metadata": {},
   "outputs": [
    {
     "data": {
      "text/plain": [
       "'A'"
      ]
     },
     "execution_count": 72,
     "metadata": {},
     "output_type": "execute_result"
    }
   ],
   "source": [
    "text = 'abc12345Abc'\n",
    "p = re.compile('[A-Z]')\n",
    "m = p.findall(text)\n",
    "m[0]"
   ]
  },
  {
   "cell_type": "markdown",
   "id": "6feb9bd9",
   "metadata": {},
   "source": [
    "- Q26. 'Banker'에서 'anker', 'banker123'에서 'banker'를 출력하세요"
   ]
  },
  {
   "cell_type": "code",
   "execution_count": 4,
   "id": "83cb6ff3",
   "metadata": {},
   "outputs": [
    {
     "name": "stdout",
     "output_type": "stream",
     "text": [
      "anker\n",
      "banker\n"
     ]
    }
   ],
   "source": [
    "import re\n",
    "a1 = 'Banker'\n",
    "p1 = re.compile('[a-z]+')\n",
    "m1 = p1.findall(a1)\n",
    "print(m1[0])\n",
    "\n",
    "a2 = 'banker123'\n",
    "p2 = re.compile('\\D+')\n",
    "m2 = p2.findall(a2)\n",
    "print(m2[0])"
   ]
  },
  {
   "cell_type": "markdown",
   "id": "80c192ae",
   "metadata": {},
   "source": [
    "- Q27. 'KOREA 대한민국'에서 '대'만 출력하세요."
   ]
  },
  {
   "cell_type": "code",
   "execution_count": 74,
   "id": "e7583023",
   "metadata": {},
   "outputs": [
    {
     "data": {
      "text/plain": [
       "'대'"
      ]
     },
     "execution_count": 74,
     "metadata": {},
     "output_type": "execute_result"
    }
   ],
   "source": [
    "text = 'KOREA 대한민국'\n",
    "p = re.compile('[가-힣]')\n",
    "m = p.findall(text)\n",
    "m[0]\n",
    "# k = re.search('[가-힣]',text)\n",
    "# k.group()"
   ]
  },
  {
   "cell_type": "markdown",
   "id": "5b6c5cf8",
   "metadata": {},
   "source": [
    "- Q28. text에서 'aaaaBBBcccDDDeee'을 모두 출력하세요."
   ]
  },
  {
   "cell_type": "code",
   "execution_count": 3,
   "id": "c16bcc3d",
   "metadata": {},
   "outputs": [
    {
     "data": {
      "text/plain": [
       "'aaaaBBBcccDDDeee'"
      ]
     },
     "execution_count": 3,
     "metadata": {},
     "output_type": "execute_result"
    }
   ],
   "source": [
    "# reverse\n",
    "text = 'aaaBBccDDeeaaaaBBBcccDDDeeeeeeDDDcccBBBaaaa'\n",
    "# p = re.compile('[a-z]{4}[A-Z]{3}[a-z]{3}[A-Z]{3}[a-z]{3}')\n",
    "m = re.findall('[a-z]{4}[A-Z]{3}[a-z]{3}[A-Z]{3}[a-z]{3}', text)\n",
    "m[0]\n",
    "\n",
    "# t = re.search('a{4}B{3}c{3}D{3}e{3}',text)\n",
    "# t.group()"
   ]
  },
  {
   "cell_type": "markdown",
   "id": "397be341",
   "metadata": {},
   "source": [
    "- Q29. 아래의 경우에서 \\<html>만 출력하세요"
   ]
  },
  {
   "cell_type": "code",
   "execution_count": 5,
   "id": "12c63f85",
   "metadata": {},
   "outputs": [
    {
     "name": "stdout",
     "output_type": "stream",
     "text": [
      "59\n"
     ]
    }
   ],
   "source": [
    "# 그리디, non-그리디?\n",
    "import re\n",
    "text = '<html><head><title>Title</title></head><body></body></html>'\n",
    "\n",
    "pattern = re.compile('<.*?>')  #  * : greedy  ? : non-greedy\n",
    "\n",
    "print(len(text))\n",
    "p = pattern.search(text)"
   ]
  },
  {
   "cell_type": "code",
   "execution_count": 7,
   "id": "d05976ab",
   "metadata": {},
   "outputs": [
    {
     "data": {
      "text/plain": [
       "'<html>'"
      ]
     },
     "execution_count": 7,
     "metadata": {},
     "output_type": "execute_result"
    }
   ],
   "source": [
    "p.group()"
   ]
  },
  {
   "cell_type": "markdown",
   "id": "52967e24",
   "metadata": {},
   "source": [
    "- Q30. '1234a1234'에서  '1', '2', '3', '4'를 모두 출력하세요."
   ]
  },
  {
   "cell_type": "code",
   "execution_count": 8,
   "id": "de8209cd",
   "metadata": {},
   "outputs": [
    {
     "data": {
      "text/plain": [
       "['1', '2', '3', '4', '1', '2', '3', '4']"
      ]
     },
     "execution_count": 8,
     "metadata": {},
     "output_type": "execute_result"
    }
   ],
   "source": [
    "text = '1234a1234'\n",
    "p = re.compile('[\\d]')\n",
    "m = re.findall('[\\d]', text)\n",
    "m"
   ]
  },
  {
   "cell_type": "markdown",
   "id": "0d4ecec3",
   "metadata": {},
   "source": [
    "- Q31. 문제없음"
   ]
  },
  {
   "cell_type": "markdown",
   "id": "5abecbd9",
   "metadata": {},
   "source": [
    "- Q32. text에서 전체문장 모두 출력하세요."
   ]
  },
  {
   "cell_type": "code",
   "execution_count": 13,
   "id": "b5915176",
   "metadata": {
    "scrolled": true
   },
   "outputs": [
    {
     "name": "stdout",
     "output_type": "stream",
     "text": [
      "what are you doing?\n",
      "it is going to be late for school\n",
      "we need to hurry up\n"
     ]
    }
   ],
   "source": [
    "import re\n",
    "text = \"what are you doing?\\nit is going to be late for school\\nwe need to hurry up\"\n",
    "#regex = re.compile('.*[\\n].*[\\n].*')\n",
    "regex = re.compile('\\D*')\n",
    "mo = regex.search(text)\n",
    "print(mo.group())"
   ]
  },
  {
   "cell_type": "code",
   "execution_count": 15,
   "id": "d199939b",
   "metadata": {},
   "outputs": [
    {
     "name": "stdout",
     "output_type": "stream",
     "text": [
      "what are you doing?\n",
      "it is going to be late for school\n",
      "we need to hurry up\n"
     ]
    }
   ],
   "source": [
    "#다른방법\n",
    "import re\n",
    "text = \"what are you doing?\\nit is going to be late for school\\nwe need to hurry up\"\n",
    "regex = re.compile('.*',re.DOTALL) # re.DOTALL : 개행문자도 출력\n",
    "mo = regex.search(text)\n",
    "print(mo.group())"
   ]
  },
  {
   "cell_type": "markdown",
   "id": "71d1b04b",
   "metadata": {},
   "source": [
    "- Q33. text에서 대소문자 구분없이 전체문장 모두 출력하세요"
   ]
  },
  {
   "cell_type": "code",
   "execution_count": 19,
   "id": "9f1af661",
   "metadata": {},
   "outputs": [
    {
     "data": {
      "text/plain": [
       "'Friend fRiend friEnd FRIEND'"
      ]
     },
     "execution_count": 19,
     "metadata": {},
     "output_type": "execute_result"
    }
   ],
   "source": [
    "text = 'Friend fRiend friEnd FRIEND'\n",
    "p = re.compile('.+')\n",
    "m = p.findall(text)\n",
    "m[0]"
   ]
  },
  {
   "cell_type": "code",
   "execution_count": 27,
   "id": "855838b5",
   "metadata": {},
   "outputs": [
    {
     "name": "stdout",
     "output_type": "stream",
     "text": [
      "Friend\n",
      "fRiend\n",
      "friEnd\n",
      "FRIEND\n"
     ]
    }
   ],
   "source": [
    "text = 'Friend fRiend friEnd FRIEND'\n",
    "\n",
    "regex = re.compile('friend*',re.I) # 대문자 i. re.i : 대소문자구분x\n",
    "mo = regex.findall(text)\n",
    "for i in mo:\n",
    "    print(i)"
   ]
  },
  {
   "cell_type": "markdown",
   "id": "daa62bc1",
   "metadata": {},
   "source": [
    "- Q34. 1609160537.371015을 \"Sat Jun 26 08:35:03 2021\" 포멧으로 출력하세요."
   ]
  },
  {
   "cell_type": "code",
   "execution_count": 28,
   "id": "cc444570",
   "metadata": {},
   "outputs": [
    {
     "data": {
      "text/plain": [
       "'Mon Dec 28 22:02:17 2020'"
      ]
     },
     "execution_count": 28,
     "metadata": {},
     "output_type": "execute_result"
    }
   ],
   "source": [
    "# float > timestamp > str\n",
    "from datetime import datetime\n",
    "t = 1609160537.371015\n",
    "# 실수 > 타임스탬프 : datetime.fromtimestamp(실수)\n",
    "# float > timestamp\n",
    "t1 = datetime.fromtimestamp(t)\n",
    "t1\n",
    "# datetime > str\n",
    "# %a 축약 요일(영) %b 축약 월(영)\n",
    "t2 = t1.strftime('%a %b %d %H:%M:%S %Y')\n",
    "t2\n",
    "# t1.strftime('%c')"
   ]
  },
  {
   "cell_type": "markdown",
   "id": "ac348de5",
   "metadata": {},
   "source": [
    "- ctime() 함수는 주어진 timestamp를 현지 시간대 기준으로 소위 미국에서 흔히 사용되는 요 월 일 시:분:초 년 포멧으로 변환해줍니다. 그냥 간단하게 timestamp가 나타내는 날짜와 시간을 확인해보는 용도로 쓰기에 좋습니다."
   ]
  },
  {
   "cell_type": "code",
   "execution_count": 31,
   "id": "b41281e4",
   "metadata": {},
   "outputs": [
    {
     "data": {
      "text/plain": [
       "'Mon Dec 28 22:02:17 2020'"
      ]
     },
     "execution_count": 31,
     "metadata": {},
     "output_type": "execute_result"
    }
   ],
   "source": [
    "import time\n",
    "timestring=time.ctime(1609160537.371015)\n",
    "timestring"
   ]
  },
  {
   "cell_type": "markdown",
   "id": "824fe42f",
   "metadata": {},
   "source": [
    "- Q35. 현재 날짜와 시간을 \"Sat Jun 26 08:35:03 2021\" 포멧으로 출력하세요."
   ]
  },
  {
   "cell_type": "code",
   "execution_count": 29,
   "id": "48f735be",
   "metadata": {},
   "outputs": [
    {
     "data": {
      "text/plain": [
       "'Tue Jul 26 09:15:19 2022'"
      ]
     },
     "execution_count": 29,
     "metadata": {},
     "output_type": "execute_result"
    }
   ],
   "source": [
    "# https://kkumalog.tistory.com/15 날짜 포맷\n",
    "from datetime import datetime\n",
    "t1 = datetime.now()\n",
    "t = t1.strftime('%a %b %d %H:%M:%S %Y')\n",
    "t"
   ]
  },
  {
   "cell_type": "markdown",
   "id": "90bbec22",
   "metadata": {},
   "source": [
    "- Q36. 현재 시간을 년-월-일 시:분:초로 출력하세요."
   ]
  },
  {
   "cell_type": "code",
   "execution_count": 181,
   "id": "92a485a0",
   "metadata": {},
   "outputs": [
    {
     "data": {
      "text/plain": [
       "'2022-07-26 18:38:42'"
      ]
     },
     "execution_count": 181,
     "metadata": {},
     "output_type": "execute_result"
    }
   ],
   "source": [
    "from datetime import datetime\n",
    "t =datetime.now()\n",
    "now = t.strftime('%Y-%m-%d %H:%M:%S')\n",
    "now"
   ]
  },
  {
   "cell_type": "markdown",
   "id": "71adbefd",
   "metadata": {},
   "source": [
    "- Q37. 현재 시간을 time.time을 불러와서 년-월-일 시:분:초로 출력하세요."
   ]
  },
  {
   "cell_type": "code",
   "execution_count": 183,
   "id": "444f8bcc",
   "metadata": {},
   "outputs": [
    {
     "name": "stdout",
     "output_type": "stream",
     "text": [
      "1658828373.627831\n",
      "2022-07-26 18:39:33.627831\n",
      "2022-07-26 18:39:33\n"
     ]
    }
   ],
   "source": [
    "import time\n",
    "from datetime import datetime\n",
    "t = time.time() # 현재시간 실수\n",
    "print(t)\n",
    "\n",
    "t1 = datetime.fromtimestamp(t) # 실수 > datetime\n",
    "print(t1)\n",
    "\n",
    "t2 = t1.strftime('%Y-%m-%d %H:%M:%S') # datetime > str\n",
    "print(t2)"
   ]
  },
  {
   "cell_type": "markdown",
   "id": "a1101790",
   "metadata": {},
   "source": [
    "- Q38. 올해 경과된 날짜수 계산하세요 (1/1~오늘)"
   ]
  },
  {
   "cell_type": "code",
   "execution_count": 10,
   "id": "0a3c4261",
   "metadata": {},
   "outputs": [
    {
     "name": "stdout",
     "output_type": "stream",
     "text": [
      "207 days, 0:00:00\n"
     ]
    }
   ],
   "source": [
    "from datetime import datetime\n",
    "#date 타입으로 통일\n",
    "ny = '20220101'\n",
    "td = datetime.now().date()\n",
    "td\n",
    "\n",
    "newy = datetime.strptime(ny, '%Y%m%d') # 문자를 datetime으로 변환\n",
    "NY = newy.date() # datetime을 date 타입으로 다시 변환\n",
    "NY\n",
    "\n",
    "print(td-NY)"
   ]
  },
  {
   "cell_type": "code",
   "execution_count": 5,
   "id": "b2b11ed6",
   "metadata": {},
   "outputs": [
    {
     "name": "stdout",
     "output_type": "stream",
     "text": [
      "207 days, 9:16:44.208960\n"
     ]
    }
   ],
   "source": [
    "ny2 = datetime(2022,1,1)\n",
    "td2 = datetime.now()\n",
    "\n",
    "print(td2-ny2)"
   ]
  },
  {
   "cell_type": "markdown",
   "id": "958dc435",
   "metadata": {},
   "source": [
    "- Q39. 현재 요일을 \"2021-6-26 오늘은 토요일입니다.\"와 같은 형식으로 출력하세요."
   ]
  },
  {
   "cell_type": "code",
   "execution_count": 197,
   "id": "ae741e0e",
   "metadata": {},
   "outputs": [
    {
     "name": "stdout",
     "output_type": "stream",
     "text": [
      "화요일\n"
     ]
    },
    {
     "data": {
      "text/plain": [
       "'2022-07-26 오늘은 화요일입니다.'"
      ]
     },
     "execution_count": 197,
     "metadata": {},
     "output_type": "execute_result"
    }
   ],
   "source": [
    "from datetime import datetime\n",
    "td = datetime.now() # 현재날짜, 시간\n",
    "yoil = td.weekday() # weekday : 요일 숫자로 출력(mon=0)\n",
    "days = ['월요일', '화요일', '수요일', '목요일', '금요일', '토요일', '일요일']\n",
    "today = days[yoil] # 인덱스\n",
    "# print(today)\n",
    "\n",
    "dinfo = td.strftime('%Y-%m-%d 오늘은 '+today+ '입니다.')\n",
    "dinfo"
   ]
  },
  {
   "cell_type": "markdown",
   "id": "ed7d2f64",
   "metadata": {},
   "source": [
    "- Q40. 1에서 백만까지 더하는데 걸리는 프로그램 실행 시간을 밀리초(ms) 단위로 구하세요."
   ]
  },
  {
   "cell_type": "code",
   "execution_count": 3,
   "id": "161703ad",
   "metadata": {},
   "outputs": [
    {
     "name": "stdout",
     "output_type": "stream",
     "text": [
      "114.813ms\n"
     ]
    }
   ],
   "source": [
    "from datetime import datetime\n",
    "start_time = datetime.now()\n",
    "\n",
    "i = 0\n",
    "sum= 0\n",
    "for i in range(1000001) :\n",
    "    sum += i\n",
    "    sum\n",
    "\n",
    "end_time = datetime.now()\n",
    "\n",
    "a = end_time-start_time\n",
    "ms = a.microseconds/1000\n",
    "print(f'{ms}ms')"
   ]
  },
  {
   "cell_type": "code",
   "execution_count": 203,
   "id": "ca2b3ef8",
   "metadata": {},
   "outputs": [
    {
     "name": "stdout",
     "output_type": "stream",
     "text": [
      "CPU times: total: 109 ms\n",
      "Wall time: 105 ms\n"
     ]
    }
   ],
   "source": [
    "import pandas as pd\n",
    "\n",
    "my_list = range(1000001)\n",
    "sum = 0\n",
    "\n",
    "%time for i in my_list : sum +=i # 리스트라서 이렇게씀"
   ]
  },
  {
   "cell_type": "markdown",
   "id": "05378711",
   "metadata": {},
   "source": [
    "- Q41. 아래 코드를 보완하여 발생 가능한 모든 예외(정수, 인덱스, 미리 파악하지 못한 예외)를 처리한 후 마지막에  '모든 예외처리 완료'를 출력하세요."
   ]
  },
  {
   "cell_type": "code",
   "execution_count": 31,
   "id": "b8006b9d",
   "metadata": {},
   "outputs": [
    {
     "name": "stdout",
     "output_type": "stream",
     "text": [
      "정수 입력> 아니\n",
      "invalid literal for int() with base 10: '아니'\n",
      "에러입니다.\n",
      "예외 처리 완료\n"
     ]
    }
   ],
   "source": [
    "# try except // - int, unexpected error, index error\n",
    "try :\n",
    "    list_num = [52,273,32,72,100]\n",
    "    \n",
    "    num_input = int(input('정수 입력> '))\n",
    "    print(f'{num_input}번째 요소: {list_num[num_input-1]}')\n",
    "    break\n",
    "\n",
    "except ValueError :\n",
    "    print(\"ValueError:\", \"정수에러\")\n",
    "    IndexError\n",
    "    ExceptError\n",
    "    \n",
    "finally:\n",
    "    print('예외 처리 완료')"
   ]
  },
  {
   "cell_type": "code",
   "execution_count": 2,
   "id": "d79727f3",
   "metadata": {},
   "outputs": [
    {
     "name": "stdout",
     "output_type": "stream",
     "text": [
      "정수 입력> 12461\n",
      "IndexError: 인덱스에러\n",
      "모든 예외처리 완료\n",
      "정수 입력> 5\n",
      "5번째 요소: 100\n",
      "모든 예외처리 완료\n"
     ]
    }
   ],
   "source": [
    "list_num = [52,273,32,72,100]\n",
    "\n",
    "while True:\n",
    "    try:\n",
    "        num_input = int(input('정수 입력> '))\n",
    "        print(f'{num_input}번째 요소: {list_num[num_input-1]}')\n",
    "        break\n",
    "    except ValueError:\n",
    "        print(\"ValueError:\", \"정수에러\")\n",
    "    except IndexError:\n",
    "        print(\"IndexError:\", \"인덱스에러\")    \n",
    "    except:\n",
    "        print(\"ExceptError:\", \"파악하지 못한 예외처리\")    \n",
    "    finally:\n",
    "        print('모든 예외처리 완료')"
   ]
  },
  {
   "cell_type": "markdown",
   "id": "438ce2a5",
   "metadata": {},
   "source": [
    "- Q42. 기본가격 1000원인 2개의 상품에 대하여 임의의 추가 가격을 입력시 가격 조정한 결과를 반환하는 Price 클래스를 생성 후 객체를 만들어 price1, price2를 수행하세요.\n",
    "\n",
    "\n",
    "- price1 : 기본가격 + 추가가격\n",
    "- price2 : (기본가격 + 추가가격) * 90%"
   ]
  },
  {
   "cell_type": "code",
   "execution_count": 3,
   "id": "8fe02e50",
   "metadata": {},
   "outputs": [
    {
     "name": "stdout",
     "output_type": "stream",
     "text": [
      "price1: 1100 원\n",
      "price2: 990.0 원\n"
     ]
    }
   ],
   "source": [
    "class Price():\n",
    "    def __init__(self, price1 = 1000):\n",
    "        self.price1 = price1\n",
    "       \n",
    "    def in_price(self, price2, sale = 0):\n",
    "        self.price2 = price2\n",
    "        self.sale = sale\n",
    "    def sum_price(self):\n",
    "        price = self.price1 + self.price2    \n",
    "        \n",
    "        if self.sale == 1:\n",
    "            price = price * 0.9\n",
    "        return price\n",
    "\n",
    "price1 = Price()\n",
    "price2 = Price()\n",
    "\n",
    "price1.in_price(100)\n",
    "price2.in_price(100,1)\n",
    "\n",
    "print(\"price1:\", price1.sum_price(), \"원\")\n",
    "print(\"price2:\", price2.sum_price(), \"원\")"
   ]
  },
  {
   "cell_type": "markdown",
   "id": "06089f7c",
   "metadata": {},
   "source": [
    " - Q43. strings를 문자의 크기 순서로 내림차순 정렬하세요"
   ]
  },
  {
   "cell_type": "code",
   "execution_count": 3,
   "id": "24a6de5d",
   "metadata": {},
   "outputs": [
    {
     "name": "stdout",
     "output_type": "stream",
     "text": [
      "['ababa', 'aaaa', 'bar', 'ca', 'a']\n"
     ]
    }
   ],
   "source": [
    "strings = ['a', 'ca', 'bar', 'aaaa', 'ababa']\n",
    "\n",
    "strings.sort(key=len) # 개수순\n",
    "# strings.sort(key = lambda x:len(x), reverse=True) 로 바로 끝(True 역정렬)\n",
    "strings.reverse() # 역정렬\n",
    "print(strings)"
   ]
  },
  {
   "cell_type": "markdown",
   "id": "91f47b0d",
   "metadata": {},
   "source": [
    "- Q44. strings를 다양한 문자가 포함된 순서로 정렬하세요"
   ]
  },
  {
   "cell_type": "code",
   "execution_count": 117,
   "id": "503f429f",
   "metadata": {},
   "outputs": [
    {
     "data": {
      "text/plain": [
       "['card', 'bar', 'abab', 'foo', 'aaaa']"
      ]
     },
     "execution_count": 117,
     "metadata": {},
     "output_type": "execute_result"
    }
   ],
   "source": [
    "strings = ['foo', 'card', 'bar', 'aaaa', 'abab']\n",
    "strings.sort(key = lambda x:len(set(x)))\n",
    "strings.reverse()\n",
    "# strings.sort(key = lambda x:len(set(x)), reverse=True)\n",
    "strings"
   ]
  },
  {
   "cell_type": "markdown",
   "id": "7ded49a5",
   "metadata": {},
   "source": [
    "- Q45. 'abcde' 를 'edcba'로 바꾸어 출력하세요.(5가지 방법)"
   ]
  },
  {
   "cell_type": "code",
   "execution_count": 207,
   "id": "0b0a6303",
   "metadata": {},
   "outputs": [
    {
     "name": "stdout",
     "output_type": "stream",
     "text": [
      "edcba\n",
      "**************************************************\n",
      "edcba\n",
      "**************************************************\n",
      "edcba\n",
      "**************************************************\n",
      "edcba\n",
      "**************************************************\n",
      "edcba\n"
     ]
    }
   ],
   "source": [
    "# sorted(a), a.sort, A.reverse, reversed(A) \n",
    "A = 'abcde'\n",
    "# 첫번째 방법 - 인덱스\n",
    "print(A[4]+A[3]+A[2]+A[1]+A[0])\n",
    "print('*'*50)\n",
    "# 두번째 방법 - for문\n",
    "name = A\n",
    "reverse_name = ''\n",
    "\n",
    "for c in name:\n",
    "    reverse_name = c + reverse_name\n",
    "\n",
    "print(f'{reverse_name}')\n",
    "print('*'*50)\n",
    "\n",
    "# 세번째 방법 - 슬라이싱\n",
    "print(A[::-1])\n",
    "print('*'*50)\n",
    "\n",
    "# 네번째 방법 - list화 > reverse, join\n",
    "A = list(A)\n",
    "A.reverse()\n",
    "A1 = ''.join(A)\n",
    "print(A1)\n",
    "print('*'*50)\n",
    "\n",
    "# 다섯번째 방법 - reversed\n",
    "A = 'abcde'\n",
    "words =''.join(reversed(str(A)))\n",
    "print(words)"
   ]
  },
  {
   "cell_type": "markdown",
   "id": "19da48ac",
   "metadata": {},
   "source": [
    "- Q46. numbers 내부에 들어 있는 숫자가 몇 번 등장하는지를 출력하는 코드를 작성하세요."
   ]
  },
  {
   "cell_type": "code",
   "execution_count": 1,
   "id": "385998ff",
   "metadata": {},
   "outputs": [
    {
     "data": {
      "text/plain": [
       "Counter({3: 4, 6: 2, 5: 2, 8: 2, 2: 2, 9: 2, 7: 2, 4: 2})"
      ]
     },
     "execution_count": 1,
     "metadata": {},
     "output_type": "execute_result"
    }
   ],
   "source": [
    "from collections import Counter\n",
    "numbers = [3,6,3,5,8,2,9,7,4,3,6,3,5,8,2,9,7,4]\n",
    "Counter(numbers)"
   ]
  },
  {
   "cell_type": "markdown",
   "id": "d4a1657d",
   "metadata": {},
   "source": [
    "- Q47. 코딩을 한줄로 작성해서 동일한 결과를 출력하세요"
   ]
  },
  {
   "cell_type": "code",
   "execution_count": 8,
   "id": "c8c42f5b",
   "metadata": {},
   "outputs": [
    {
     "name": "stdout",
     "output_type": "stream",
     "text": [
      "[0, 4, 16, 36, 64, 100, 144, 196, 256, 324]\n"
     ]
    }
   ],
   "source": [
    "# 람다?\n",
    "list = []\n",
    "for i in range(0,20,2):\n",
    "    list.append(i*i)\n",
    "print(list)"
   ]
  },
  {
   "cell_type": "code",
   "execution_count": 54,
   "id": "0a28a2a5",
   "metadata": {},
   "outputs": [
    {
     "data": {
      "text/plain": [
       "[0, 4, 16, 36, 64, 100, 144, 196, 256, 324]"
      ]
     },
     "execution_count": 54,
     "metadata": {},
     "output_type": "execute_result"
    }
   ],
   "source": [
    "[i**2 for i in range(0,20,2) if i % 2 == 0]"
   ]
  },
  {
   "cell_type": "code",
   "execution_count": 2,
   "id": "8485315e",
   "metadata": {},
   "outputs": [
    {
     "data": {
      "text/plain": [
       "[0, 4, 16, 36, 64, 100, 144, 196, 256, 324]"
      ]
     },
     "execution_count": 2,
     "metadata": {},
     "output_type": "execute_result"
    }
   ],
   "source": [
    "list = [i*i for i in range(0,20,2)]\n",
    "list"
   ]
  },
  {
   "cell_type": "code",
   "execution_count": null,
   "id": "3ba67e6b",
   "metadata": {},
   "outputs": [],
   "source": [
    "del list"
   ]
  },
  {
   "cell_type": "markdown",
   "id": "45c6edd6",
   "metadata": {},
   "source": [
    " - Q48. 반복문으로 팩토리얼을 구하는 사용자 함수를 작성하고 5!, 10!를 구하세요."
   ]
  },
  {
   "cell_type": "code",
   "execution_count": 25,
   "id": "1fe201d7",
   "metadata": {},
   "outputs": [
    {
     "name": "stdout",
     "output_type": "stream",
     "text": [
      "120\n",
      "3628800\n"
     ]
    }
   ],
   "source": [
    "def factorial(n) :\n",
    "    result = 1\n",
    "    for i in range(1,n+1) :\n",
    "        result *= i\n",
    "    return result\n",
    "print(factorial(5))\n",
    "print(factorial(10))"
   ]
  },
  {
   "cell_type": "markdown",
   "id": "a28a9192",
   "metadata": {},
   "source": [
    "- Q49. 재귀란 '자기자신을 호출하는 것'을 의미한다. 재귀함수를 이용해서 팩토리얼을 구하는 사용자 함수를 작성하고 1!, 5!, 10!를 구하세요."
   ]
  },
  {
   "cell_type": "code",
   "execution_count": 4,
   "id": "e8953d3e",
   "metadata": {},
   "outputs": [
    {
     "name": "stdout",
     "output_type": "stream",
     "text": [
      "1\n",
      "120\n",
      "3628800\n"
     ]
    }
   ],
   "source": [
    "# factorial(n) = n * factorial(n-1) (n >= 1)\n",
    "\n",
    "def factorial(n) :\n",
    "    if n == 1 or n == 0 :\n",
    "        return 1\n",
    "    else :\n",
    "        return n*factorial(n-1)\n",
    "\n",
    "print(factorial(1))\n",
    "print(factorial(5))\n",
    "print(factorial(10))"
   ]
  },
  {
   "cell_type": "markdown",
   "id": "18918a60",
   "metadata": {},
   "source": [
    "- Q50. list a의 모든 원소를 실수형으로 바꾸어 출력하세요"
   ]
  },
  {
   "cell_type": "code",
   "execution_count": 50,
   "id": "e77e8e99",
   "metadata": {},
   "outputs": [
    {
     "name": "stdout",
     "output_type": "stream",
     "text": [
      "1.0\n",
      "2.0\n",
      "3.0\n",
      "4.0\n",
      "5.0\n"
     ]
    }
   ],
   "source": [
    "a = [1,2,3,4,5]\n",
    "for i in a :\n",
    "    i = float(i)\n",
    "    print(i)"
   ]
  },
  {
   "cell_type": "code",
   "execution_count": 7,
   "id": "a278f1d5",
   "metadata": {},
   "outputs": [
    {
     "data": {
      "text/plain": [
       "[1.0, 2.0, 3.0, 4.0, 5.0]"
      ]
     },
     "execution_count": 7,
     "metadata": {},
     "output_type": "execute_result"
    }
   ],
   "source": [
    "a = [1,2,3,4,5]\n",
    "for i, j in enumerate(a) :\n",
    "    a[i] = float(j)\n",
    "a"
   ]
  },
  {
   "cell_type": "code",
   "execution_count": 19,
   "id": "60b7a5fe",
   "metadata": {},
   "outputs": [
    {
     "data": {
      "text/plain": [
       "[1.0, 2.0, 3.0, 4.0, 5.0]"
      ]
     },
     "execution_count": 19,
     "metadata": {},
     "output_type": "execute_result"
    }
   ],
   "source": [
    "a = [1,2,3,4,5]\n",
    "a = list(map(float,a))\n",
    "a"
   ]
  },
  {
   "cell_type": "markdown",
   "id": "d8f097f8",
   "metadata": {},
   "source": [
    "- Q31. 문자열 리스트 states를 정형화하여 아래와 같이 출력하세요."
   ]
  },
  {
   "cell_type": "code",
   "execution_count": null,
   "id": "d88116b1",
   "metadata": {},
   "outputs": [],
   "source": [
    "states = ['   Alabama ', 'Georgia!', 'Georgia', 'georgia', 'FlOrIda',\n",
    "          'south   carolina##', 'West virginia?']\n",
    "[출력]\n",
    "['Alabama',\n",
    " 'Georgia',\n",
    " 'Georgia',\n",
    " 'Georgia',\n",
    " 'Florida',\n",
    " 'South   Carolina',\n",
    " 'West Virginia']"
   ]
  },
  {
   "cell_type": "code",
   "execution_count": 125,
   "id": "bf14e710",
   "metadata": {},
   "outputs": [
    {
     "data": {
      "text/plain": [
       "['Alabama',\n",
       " 'Georgia',\n",
       " 'Georgia',\n",
       " 'Georgia',\n",
       " 'Florida',\n",
       " 'South   Carolina',\n",
       " 'West Virginia']"
      ]
     },
     "execution_count": 125,
     "metadata": {},
     "output_type": "execute_result"
    }
   ],
   "source": [
    "import re\n",
    "# 조건 : strip, Capitalize, re.sub \n",
    "states = ['   Alabama ', 'Georgia!', 'Georgia', 'georgia', 'FlOrIda',\n",
    "          'south   carolina##', 'West virginia?']\n",
    "\n",
    "states[0] = states[0].strip()\n",
    "states[1] = states[1][:-1]\n",
    "states[3] = states[3].capitalize()\n",
    "states[4] = states[4].title()\n",
    "states[5] = states[5][:-2].title()\n",
    "states[6] = states[6][:-1].title()\n",
    "states"
   ]
  },
  {
   "cell_type": "code",
   "execution_count": 1,
   "id": "b1cc3363",
   "metadata": {},
   "outputs": [
    {
     "data": {
      "text/plain": [
       "['Alabama',\n",
       " 'Georgia',\n",
       " 'Georgia',\n",
       " 'Georgia',\n",
       " 'Florida',\n",
       " 'South Carolina',\n",
       " 'West Virginia']"
      ]
     },
     "execution_count": 1,
     "metadata": {},
     "output_type": "execute_result"
    }
   ],
   "source": [
    "import re\n",
    "# 조건 : strip, Capitalize, re.sub \n",
    "states = ['   Alabama ', 'Georgia!', 'Georgia', 'georgia', 'FlOrIda',\n",
    "          'south   carolina##', 'West virginia?']\n",
    "\n",
    "def form(word):\n",
    "    word = word.strip()\n",
    "    word = re.sub('[^\\s*\\w*]+', \"\", word) # 특수기호 삭제\n",
    "    word = re.sub('\\s+', \" \", word) # 공백 문자는 space 1칸으로\n",
    "    word = word.title()\n",
    "    return word\n",
    "list(map(form, states))"
   ]
  },
  {
   "cell_type": "code",
   "execution_count": null,
   "id": "a1c60210",
   "metadata": {},
   "outputs": [],
   "source": [
    "def form(word):\n",
    "    word = word.strip()\n",
    "    word = re.sub('[#!?]+', \"\", word)\n",
    "    word = word.title()\n",
    "    return word\n",
    "list(map(form, states))"
   ]
  },
  {
   "cell_type": "markdown",
   "id": "15747130",
   "metadata": {},
   "source": [
    "-  Q51. 게시물의 총 건수와 한 페이지에 보여 줄 게시물 수를 입력시 총 페이지 수를 출력하는 프로그램"
   ]
  },
  {
   "cell_type": "code",
   "execution_count": null,
   "id": "2f075964",
   "metadata": {},
   "outputs": [],
   "source": [
    "사용자함수\n",
    "인자 : 총건수, 한페이지에 보여줄 게시물수"
   ]
  },
  {
   "cell_type": "code",
   "execution_count": 133,
   "id": "e081cf31",
   "metadata": {},
   "outputs": [
    {
     "name": "stdout",
     "output_type": "stream",
     "text": [
      "총 게시물 수 : 134\n",
      "페이지당 몇 개의 게시물을 보실건가요? :12\n",
      "총 12 페이지 입니다.\n"
     ]
    }
   ],
   "source": [
    "import numpy as np\n",
    "\n",
    "def Paper():\n",
    "    a = int(input('총 게시물 수 : '))\n",
    "    b = int(input('페이지당 몇 개의 게시물을 보실건가요? :'))\n",
    "    print(f'총 {round(np.ceil(a/b))} 페이지 입니다.')\n",
    "Paper()"
   ]
  },
  {
   "cell_type": "markdown",
   "id": "ac7dd9ae",
   "metadata": {},
   "source": [
    "- Q52. 랜덤하게 1000명의 이름, 키와 몸무게 만들어 저장한 후 다시 불러내어 다음과 같이 출력하세요."
   ]
  },
  {
   "cell_type": "code",
   "execution_count": null,
   "id": "78899f34",
   "metadata": {},
   "outputs": [],
   "source": [
    "BMI를 이용한 비만도 계산은 자신의 몸무게를 키의 제곱으로 나누는 것으로 공식은 kg/㎡.\n",
    "BMI가 18.5 이하면 저체중 ／ 18.5 ~ 22.9 사이면 정상 ／ 23.0 ~ 24.9 사이면 과체중 ／\n",
    "25.0 이상부터는 비만으로 판정.\n",
    "\n",
    "- 이름 :라바\n",
    "- 몸무게: 80\n",
    "- 키: 146\n",
    "- BMI: 37.53049352598987\n",
    "- 결과: 과체중"
   ]
  },
  {
   "cell_type": "code",
   "execution_count": 157,
   "id": "cbbc9f49",
   "metadata": {},
   "outputs": [
    {
     "data": {
      "text/plain": [
       "'이일형'"
      ]
     },
     "execution_count": 157,
     "metadata": {},
     "output_type": "execute_result"
    }
   ],
   "source": [
    "import random\n",
    "import numpy as np\n",
    "import pandas as pd\n",
    "\n",
    "first_name = '김이박최정강조윤장임'  # 10개씩 \n",
    "middle_name = '유세호민아승시일선도'\n",
    "last_name = '영철은지원진림현윤형'\n",
    "\n",
    "def human():      # 없는사람 만들기\n",
    "    name = ''\n",
    "    name +=random.choice(first_name)\n",
    "    name +=random.choice(middle_name)\n",
    "    name +=random.choice(last_name)\n",
    "    return name\n",
    "human()\n",
    "\n",
    "kg = random.randint(40,100)\n",
    "height = random.randint(140,200)\n",
    "BMI = kg/(m**2)\n",
    "\n",
    "for i in BMI :\n",
    "    if i <= 18.5 :\n",
    "        print('저체중')\n",
    "    elif i < 23 :\n",
    "        print('정상')\n",
    "    elif i < 25 :\n",
    "        print('과체중')\n",
    "    else : \n",
    "        print('비만')\n",
    "\n",
    "# people = []\n",
    "# person = 1000\n",
    "# people.append(random.randint(1,human))"
   ]
  },
  {
   "cell_type": "markdown",
   "id": "117cc27e",
   "metadata": {},
   "source": [
    "- Q53. 입력한 숫자를 천 단위로 구분하여 출력하세요."
   ]
  },
  {
   "cell_type": "code",
   "execution_count": 33,
   "id": "9b6b0f30",
   "metadata": {},
   "outputs": [
    {
     "name": "stdout",
     "output_type": "stream",
     "text": [
      "정수를 입력해주세요.151957319\n",
      "151,957,319\n"
     ]
    }
   ],
   "source": [
    "a = int(input('정수를 입력해주세요.'))\n",
    "print(format(a, ',d'))"
   ]
  },
  {
   "cell_type": "markdown",
   "id": "edc507ed",
   "metadata": {},
   "source": [
    "- Q54. 카운터에서 거스름돈으로 사용할 500원, 100원, 50원, 10원짜리 동전이 무한히 존재한다고 가정한다. 손님에게 거슬러줘야할 돈이 N원일 때 거슬러줘야할 동전의 최소 개수를 구하세요. 단, 거슬러줘야할 돈 N은 항상 10의 배수이다. N은 2750원이다."
   ]
  },
  {
   "cell_type": "code",
   "execution_count": 26,
   "id": "b4d6176d",
   "metadata": {},
   "outputs": [
    {
     "name": "stdout",
     "output_type": "stream",
     "text": [
      "거스름돈을 입력하세요 : 6631590\n",
      "[13263, 0, 1, 4] \n",
      "\n",
      "500원 :  13263 개\n",
      "100원 :  0 개\n",
      "50원 :  1 개\n",
      "10원 :  4 개\n",
      "최소 동전의 개수는 13268개 입니다.\n"
     ]
    }
   ],
   "source": [
    "# N은 항상 10의 배수\n",
    "# N = x*500 + y*100 + z*10\n",
    "# 재귀함수? 혹은 while문\n",
    "li = [0 for i in range(4)]\n",
    "sum = int(input(\"거스름돈을 입력하세요 : \"))\n",
    "while sum != 0 : \n",
    "    if sum >= 500 : \n",
    "        li[0] += 1 \n",
    "        sum = sum - 500 \n",
    "    elif sum >= 100 : \n",
    "        li[1] += 1 \n",
    "        sum = sum - 100 \n",
    "    elif sum >= 50 : \n",
    "        li[2] += 1 \n",
    "        sum = sum - 50 \n",
    "    elif sum >= 10 : \n",
    "        li[3] += 1 \n",
    "        sum = sum - 10 \n",
    "\n",
    "print(li, '\\n')\n",
    "print(\"500원 : \",li[0],\"개\")\n",
    "print(\"100원 : \",li[1],\"개\")\n",
    "print(\"50원 : \",li[2],\"개\") \n",
    "print(\"10원 : \",li[3],\"개\")\n",
    "print(f'최소 동전의 개수는 {li[0]+li[1]+li[2]+li[3]}개 입니다.')"
   ]
  },
  {
   "cell_type": "code",
   "execution_count": 2,
   "id": "89af2d09",
   "metadata": {},
   "outputs": [
    {
     "name": "stdout",
     "output_type": "stream",
     "text": [
      "10\n"
     ]
    }
   ],
   "source": [
    "n = 3750\n",
    "count = 0\n",
    "\n",
    "# 큰 단위의 화폐부터 차례대로 확인하기\n",
    "coin_types = [500, 100, 50, 10]\n",
    "\n",
    "for coin in coin_types:\n",
    "    count += n // coin # 해당 화폐로 거슬러 줄 수 있는 동전의 개수 세기\n",
    "    n %= coin # 나머지\n",
    "\n",
    "print(count)"
   ]
  },
  {
   "cell_type": "markdown",
   "id": "c7121a75",
   "metadata": {},
   "source": [
    "- Q55. mydata.txt 파일에 있는 단어 개수를 출력하세요."
   ]
  },
  {
   "cell_type": "code",
   "execution_count": 8,
   "id": "97a12c29",
   "metadata": {
    "scrolled": true
   },
   "outputs": [
    {
     "name": "stdout",
     "output_type": "stream",
     "text": [
      "221\n",
      "['a', 'lot', 'of', 'things', 'occur', 'each', 'day', 'we', 've', 'got', 'to', 'live', 'with', 'on', 'our', 'way', 'there', 's', 'so', 'much', 'misery', 'on', 'the', 'screen', 'with', 'commercials', 'in', 'between', 'and', 'the', 'russians', 'won', 't', 'be', 'so', 'late', 'uncle', 'sam', 'don', 't', 'want', 'to', 'wait', 'no', 'matter', 'if', 'you', 're', 'black', 'or', 'white', 'you', 'never', 'ever', 'had', 'a', 'right', 'and', 'look', 'up', 'to', 'the', 'eternal', 'skies', 'see', 'warfare', 'even', 'there', 'what', 'once', 'has', 'been', 'a', 'paradise', 'now', 'destruction', 'and', 'despair', 'in', 'other', 'worlds', 'the', 'children', 'die', 'lacking', 'food', 'ill', 'from', 'a', 'fly', 'oppressed', 'by', 'troops', 'to', 'tame', 'their', 'land', 'it', 's', 'all', 'the', 'same', 'again', 'if', 'any', 'man', 'is', 'free', 'on', 'earth', 'then', 'tormentors', 'steal', 'his', 'birth', 'they', 'slam', 'gun', 'butts', 'in', 'his', 'face', 'and', 'leave', 'his', 'woman', 'choked', 'in', 'mace', 'so', 'stand', 'up', 'for', 'our', 'human', 'rights', 'push', 'back', 'this', 'pest', 'of', 'hate', 'raise', 'you', 'voice', 'pass', 'on', 'the', 'light', 'unite', 'it', 's', 'not', 'too', 'late', 'how', 'many', 'tears', 'flow', 'away', 'to', 'become', 'a', 'sea', 'of', 'fears', 'how', 'many', 'hearts', 'are', 'torn', 'apart', 'till', 'another', 'torment', 'starts', 'but', 'before', 'the', 'world', 'turns', 'into', 'a', 'sun', 'all', 'cruelty', 'and', 'violence', 'on', 'earth', 'will', 'be', 'dead', 'and', 'gone', 'so', 'stand', 'up', 'for', 'our', 'human', 'rights', 'push', 'back', 'this', 'pest', 'of', 'hate', 'raise', 'you', 'voice', 'pass', 'on', 'the', 'light', 'unite', 'it', 's', 'not', 'too', 'late']\n"
     ]
    }
   ],
   "source": [
    "import re\n",
    "li = []\n",
    "with open('./mydata.txt', 'r') as f:\n",
    "    lines = f.readlines()\n",
    "    for line in lines :\n",
    "        line = re.sub('\\W', ' ', line)\n",
    "        li.append(line.strip())\n",
    "        \n",
    "li = ' '.join(li)\n",
    "li = li.split(' ')\n",
    "try :\n",
    "    for _ in range(len(li)):\n",
    "        li.remove('')\n",
    "except :\n",
    "    pass\n",
    "print(len(li))\n",
    "print(li)\n"
   ]
  },
  {
   "cell_type": "code",
   "execution_count": 10,
   "id": "9b940988",
   "metadata": {},
   "outputs": [
    {
     "name": "stdout",
     "output_type": "stream",
     "text": [
      "단어수 : 213\n"
     ]
    }
   ],
   "source": [
    "# we've를 한단어로 본다면\n",
    "import re\n",
    "with open('./mydata.txt','r') as f:\n",
    "    data = f.read()\n",
    "    tmp = data.split()\n",
    "    print(f'단어수 : {len(tmp)}')"
   ]
  },
  {
   "cell_type": "markdown",
   "id": "eac6dc0e",
   "metadata": {},
   "source": [
    "- Q56. 파일이름과 특정 단어를 인자로 입력하면 그 파일에 있는 특정 단어의 개수를 반환하는 사용자 함수를 이용하여 mydata 파일에서 how의 개수를 출력하세요."
   ]
  },
  {
   "cell_type": "code",
   "execution_count": 14,
   "id": "704c57a0",
   "metadata": {},
   "outputs": [
    {
     "name": "stdout",
     "output_type": "stream",
     "text": [
      "filename을 입력하세요: mydata.txt\n",
      "filename에서 개수를 구할 단어를 입력하세요: How\n",
      "how의 개수: 2\n"
     ]
    }
   ],
   "source": [
    "# 사용자함수 필수\n",
    "def countWord(filename, word):\n",
    "    with open(filename, 'r') as f:\n",
    "        text = f.read()\n",
    "        text = text.lower()\n",
    "        pos = text.find(word)\n",
    "        count = 0\n",
    "        while pos != -1: # 없을떄까지 \n",
    "            count += 1\n",
    "            pos = text.find(word, pos+1)\n",
    "    return count\n",
    "\n",
    "filename = input('filename을 입력하세요: ')\n",
    "word = input('filename에서 개수를 구할 단어를 입력하세요: ').lower()\n",
    "ret = countWord(filename, word)\n",
    "print(f'{word}의 개수: {ret}')\n"
   ]
  },
  {
   "cell_type": "markdown",
   "id": "76c656cf",
   "metadata": {},
   "source": [
    "- Q57,58없음"
   ]
  },
  {
   "cell_type": "markdown",
   "id": "9e775f3a",
   "metadata": {},
   "source": [
    "- Q59.\n",
    "문자열을 입력받아 같은 문자가 연속적으로 반복되는 경우에 그 반복 횟수를 표시해 문자열을 압축하여 표시하세요.\n",
    "- 예) \"aaabbcccccca\" -> a3b2c6a1\n"
   ]
  },
  {
   "cell_type": "code",
   "execution_count": 10,
   "id": "27c0b099",
   "metadata": {},
   "outputs": [
    {
     "name": "stdout",
     "output_type": "stream",
     "text": [
      "문자열을 입력하세요aaaaaaaadddddadaaa\n",
      "a8d5a1d1a3\n"
     ]
    }
   ],
   "source": [
    "string = input(\"문자열을 입력하세요\")\n",
    "\n",
    "idx = string[0]\n",
    "count = 1\n",
    "length = len(string)\n",
    "\n",
    "for i in range(1, length) :\n",
    "    if string[i] == idx :\n",
    "        count += 1\n",
    "    else :\n",
    "        print(\"%c%d\" % (idx, count), end = '')\n",
    "        count = 1\n",
    "        idx = string[i]\n",
    "print(\"%c%d\" % (string[length-1], count))"
   ]
  },
  {
   "cell_type": "code",
   "execution_count": 1,
   "id": "76d102d1",
   "metadata": {},
   "outputs": [
    {
     "data": {
      "text/plain": [
       "'a6b2c8a3c1'"
      ]
     },
     "execution_count": 1,
     "metadata": {},
     "output_type": "execute_result"
    }
   ],
   "source": [
    "a = \"aaaaaabbccccccccaaac\"\n",
    "result = ''\n",
    "cou = 1\n",
    "for i,j in enumerate(a):\n",
    "    if i == 0:\n",
    "        result += a[0]\n",
    "    elif a[i] == a[i-1]:\n",
    "        cou += 1\n",
    "    elif a[i] != a[i-1]:\n",
    "        result += str(cou) + a[i]\n",
    "        cou = 1\n",
    "result+str(cou)"
   ]
  },
  {
   "cell_type": "code",
   "execution_count": 3,
   "id": "f81a7dbc",
   "metadata": {},
   "outputs": [
    {
     "name": "stdout",
     "output_type": "stream",
     "text": [
      "a3b2c6a1\n"
     ]
    }
   ],
   "source": [
    "s = \"aaabbcccccca\"\n",
    "\n",
    "result = s[0]\n",
    "count = 0 \n",
    "\n",
    "for i in s:\n",
    "    if i == result[-1]:\n",
    "        count += 1\n",
    "        2\n",
    "    else:\n",
    "        result += str(count) + i\n",
    "        count = 1\n",
    "        \n",
    "result += str(count)\n",
    "\n",
    "print(result)"
   ]
  },
  {
   "cell_type": "code",
   "execution_count": 4,
   "id": "8ec5c413",
   "metadata": {},
   "outputs": [
    {
     "data": {
      "text/plain": [
       "'a3b2c6a4'"
      ]
     },
     "execution_count": 4,
     "metadata": {},
     "output_type": "execute_result"
    }
   ],
   "source": [
    "from itertools import groupby\n",
    "t = \"aaabbccccccaaaa\"\n",
    "\"\".join(f'{x}{len(list(y))}' for x, y in groupby(t))"
   ]
  },
  {
   "cell_type": "code",
   "execution_count": null,
   "id": "a0ed8784",
   "metadata": {},
   "outputs": [],
   "source": [
    "s = 'ccaaabbccccccaaa'\n",
    "_c = \"\"\n",
    "cnt = 0\n",
    "result = \"\"\n",
    "for c in s:\n",
    "    if c!=_c:\n",
    "        _c = c\n",
    "        if cnt:\n",
    "            result +=str(cnt)\n",
    "        result += c\n",
    "        cnt = 1\n",
    "    else:\n",
    "        cnt += 1\n",
    "if cnt:\n",
    "       result +=str(cnt)\n",
    "print(result)"
   ]
  },
  {
   "cell_type": "markdown",
   "id": "b44aa9a3",
   "metadata": {},
   "source": [
    "- Q60.\n",
    "N개의 요소로 이루어진 배열이 있을 때 주어진 수들을 M번 더하여 가장 큰 수를 만드는 프로그램을 작성하세요. 단 배열의 특정한 인덱스(번호)에 해당하는 수가 연속해서 K번을 초과하여 더해질 수 없는 것이 특징이다.\n",
    "프로그램은 다음 조건을 만족하는 N, M, K를 공백으로 일차 입력하고 N개의 배열을 공백으로 이차 입력하면 결과물을 출력하는 방식으로 수행함.\n",
    "- 2 <= N <= 1000\n",
    "- 1 <= M <= 10000\n",
    "- 1 <= K <= 10000\n"
   ]
  },
  {
   "cell_type": "code",
   "execution_count": null,
   "id": "2f972bf1",
   "metadata": {},
   "outputs": [],
   "source": [
    "ex : input(5 8 3) 5는 요소의 수, 총8번 더하는데 큰수를 반복할수있는게 3번\n",
    "5 6 9 3 5 >> 9 3번, 6 3번, 5 2번"
   ]
  },
  {
   "cell_type": "code",
   "execution_count": 5,
   "id": "105dbc57",
   "metadata": {},
   "outputs": [
    {
     "name": "stdout",
     "output_type": "stream",
     "text": [
      "4 8 6\n",
      "5 7 3 8\n",
      "63\n"
     ]
    }
   ],
   "source": [
    "# N, M, K를 공백을 기준으로 구분하여 입력 받기\n",
    "n, m, k = map(int, input().split())\n",
    "# N개의 수를 공백을 기준으로 구분하여 입력 받기\n",
    "data = list(map(int, input().split()))\n",
    "\n",
    "data.sort() # 입력 받은 수들 정렬하기\n",
    "first = data[n - 1] # 가장 큰 수\n",
    "second = data[n - 2] # 두 번째로 큰 수\n",
    "\n",
    "# 가장 큰 수가 더해지는 횟수 계산\n",
    "count = int(m / (k + 1)) * k\n",
    "count += m % (k + 1)\n",
    "\n",
    "result = 0\n",
    "result += (count) * first # 가장 큰 수 더하기\n",
    "result += (m - count) * second # 두 번째로 큰 수 더하기\n",
    "\n",
    "print(result) # 최종 답안 출력"
   ]
  },
  {
   "cell_type": "markdown",
   "id": "99025065",
   "metadata": {},
   "source": [
    "- Q61. file1, 2의 파일 크기를 각각 구하세요.\n",
    "\n",
    "- file1 = 'data/stockcode.txt'\n",
    "- file2 = 'data/img_sample.jpg'\n"
   ]
  },
  {
   "cell_type": "code",
   "execution_count": 12,
   "id": "68d6f816",
   "metadata": {},
   "outputs": [
    {
     "name": "stdout",
     "output_type": "stream",
     "text": [
      "File Name: ./data/stockcode.txt \tFile Size: 16339 byte\n",
      "File Name: ./data/img_sample.jpg \tFile Size: 170005 byte\n"
     ]
    }
   ],
   "source": [
    "from os.path import getsize\n",
    "# with open('./data/stockcode.txt', 'r') as f:\n",
    "#    f.readlines()\n",
    "file1 = './data/stockcode.txt'\n",
    "file_size1 = getsize(file1)\n",
    "file2 = './data/img_sample.jpg'\n",
    "file_size2 = getsize(file2)\n",
    "\n",
    "print('File Name: %s \\tFile Size: %d byte' %(file1, file_size1))\n",
    "print('File Name: %s \\tFile Size: %d byte' %(file2, file_size2))"
   ]
  },
  {
   "cell_type": "markdown",
   "id": "901ff1a5",
   "metadata": {},
   "source": [
    "- Q62. stockcode.txt의 105바이트 위치에서 500바이트를 읽어 그 내용은 stock_part.txt에 저장 한 후 출력하세요."
   ]
  },
  {
   "cell_type": "code",
   "execution_count": 25,
   "id": "c6edbc03",
   "metadata": {},
   "outputs": [
    {
     "name": "stdout",
     "output_type": "stream",
     "text": [
      " 유한양행\n",
      "000101 유한양행우\n",
      "000120 대한통운\n",
      "000140 하이트홀딩스\n",
      "000141 하이트홀딩스우\n",
      "000150 두산\n",
      "000151 두산우\n",
      "000152 두산2우B\n",
      "000180 성창기업지주\n",
      "000210 대림산업\n",
      "000211 대림산업우\n",
      "000220 유유제약\n",
      "000221 유유제약1우\n",
      "000222 유유제약2우B\n",
      "000230 일동제약\n",
      "000240 한국타이어\n",
      "000270 기아차\n",
      "000300 대유신소재\n",
      "000320 디피아이홀딩스\n",
      "000321 디피아이홀딩스우\n",
      "000322 디피아이홀딩스2B\n",
      "000360 삼환기업\n",
      "000361 삼환기업우\n",
      "000370 한화손해보험\n",
      "000390 삼화페인트\n",
      "000400 롯데손해보험\n",
      "000420 로\n"
     ]
    }
   ],
   "source": [
    "# txt생성\n",
    "with open('./data/stockcode.txt', 'rb') as f:\n",
    "    f.seek(105,0)\n",
    "    body=f.read(500)\n",
    "with open('./stock_part.txt', 'wb') as f2:\n",
    "    f2.write(body)\n",
    "with open('./stock_part.txt', 'r') as f2:    \n",
    "    print(f2.read())"
   ]
  },
  {
   "cell_type": "markdown",
   "id": "112280f0",
   "metadata": {},
   "source": [
    "- Q63. 네이버 검색에서 관심 주제와 기사 수를 입력하면 그만큼 출력하는 크롤링 프로그램을 작성하여 다음 사항을 수행하세요.\n",
    "\n",
    "기사 제목과 링크를 데이터프레임으로 가져온 후 본문 내용에서 한글 단어만 출력하여 형태소 분석\n",
    "최근 국내 'AI'와 관련하여 가장 많이 언급되는 단어에 대한 빈도분석 및 시각화\n",
    "AI 분야에서의 유의할 만한 트랜드 정보 및 인사이트 도출"
   ]
  },
  {
   "cell_type": "code",
   "execution_count": null,
   "id": "511527f6",
   "metadata": {},
   "outputs": [],
   "source": [
    "import requests\n",
    "from bs4 import BeautifulSoup\n",
    "import re\n",
    "import urllib\n",
    "\n",
    "import pandas as pd\n",
    "news_df = pd.DataFrame(columns=['title','link','description'])\n",
    "news_df\n",
    "\n",
    "url = 'https://search.naver.com/search.naver?where=news&sm=tab_jum&query='\n",
    "headers = {\"User-Agent\":\"Mozilla/5.0 (Windows NT 10.0; Win64; x64) AppleWebKit/537.36 (KHTML, like Gecko) Chrome/96.0.4664.45 Safari/537.36\"}\n",
    "\n",
    "while True:\n",
    "    try:\n",
    "        keyword = input(\"검색 키워드:\")\n",
    "        keyword = keyword.strip()\n",
    "        \n",
    "        if len(keyword) >= 2:\n",
    "            break\n",
    "        else:\n",
    "            print(\"키워드를 입력해 주세요.\")    \n",
    "    except:\n",
    "        print(\"키워드를 입력해 주세요. [2자이상]\")\n",
    "        pass  \n",
    "\n",
    "while True:\n",
    "    try:\n",
    "        count = int(input(\"검색 건수:\"))\n",
    "        break\n",
    "    except:\n",
    "        print(\"정수로 입력해 주세요.\")\n",
    "        pass  \n",
    "\n",
    "url = url + urllib.parse.quote(keyword)\n",
    "\n",
    "ind = 0\n",
    "newslinks = []\n",
    "page = 0\n",
    "while True:\n",
    "    new_url = url + \"&start=\" + str((page*10)+1)\n",
    "    req = requests.get(new_url, headers=headers).text\n",
    "    bs = BeautifulSoup(req, 'lxml')\n",
    "    #links = bs.select('ul.list_news a[title]')\n",
    "    #links = bs.select('.news_cluster > ul.list_cluster .sub_bx .sub_wrap')    \n",
    "    links = bs.select('.news_area > .news_info > .info_group span.info+a.info')\n",
    "\n",
    "    for j, a in enumerate(links):\n",
    "        try:\n",
    "            newsurl = a.get('href')\n",
    "            if newsurl != \"#\": \n",
    "                news = requests.get(newsurl, headers=headers)\n",
    "                bs = BeautifulSoup(news.text, 'html.parser')\n",
    "                description = bs.select('#dic_area')[0].text\n",
    "                newstitle = bs.select('#ct .media_end_head_title')[0].text\n",
    "                newstitle = re.sub('\\n','',newstitle) #개행 공백으로\n",
    "                newstitle = re.sub('\\t','',newstitle) #tab 공백으로\n",
    "                newstitle = newstitle.strip()\n",
    "                \n",
    "                news_df.loc[ind] = [newstitle,newsurl,description]    \n",
    "                ind += 1                \n",
    "        except:\n",
    "            print(newsurl)\n",
    "            pass    \n",
    "        \n",
    "        if ind >= count:\n",
    "            break               \n",
    "    \n",
    "    if ind >= count:\n",
    "        break        \n",
    "\n",
    "    page += 1\n",
    "    \n",
    "    # page > 20 일경우 강제종료\n",
    "    if page > 20:\n",
    "        break  \n",
    "    \n",
    "news_df.drop_duplicates(inplace = True)"
   ]
  },
  {
   "cell_type": "code",
   "execution_count": null,
   "id": "a99f3bc0",
   "metadata": {},
   "outputs": [],
   "source": [
    "news_df"
   ]
  },
  {
   "cell_type": "code",
   "execution_count": null,
   "id": "e141c8a0",
   "metadata": {},
   "outputs": [],
   "source": [
    "target = news_df['description'].values # 배열\n",
    "title_list = target.tolist() #리스트로 변환\n",
    "text = ' '.join(title_list)\n",
    "text"
   ]
  },
  {
   "cell_type": "code",
   "execution_count": null,
   "id": "b38dbd04",
   "metadata": {},
   "outputs": [],
   "source": [
    "import re\n",
    "text = re.sub('[^가-힝]+',' ',text)\n",
    "print(len(text))\n",
    "text[:100]"
   ]
  },
  {
   "cell_type": "code",
   "execution_count": null,
   "id": "7dbd9def",
   "metadata": {},
   "outputs": [],
   "source": [
    "from konlpy.tag import Okt\n",
    "okt = Okt()\n",
    "morph = okt.pos(text)\n",
    "noun_list = []\n",
    "for word, tag in morph:\n",
    "    if (tag =='Noun') & (len(word) > 1):\n",
    "        noun_list.append(word)\n",
    "print(morph)\n",
    "print(noun_list)"
   ]
  },
  {
   "cell_type": "code",
   "execution_count": null,
   "id": "7ac21b71",
   "metadata": {},
   "outputs": [],
   "source": [
    "from collections import Counter\n",
    "one_word = []\n",
    "for word, tag in morph:\n",
    "    if (tag == 'Noun') & (len(word)==1):\n",
    "        one_word.append(word)\n",
    "one_dict = dict(Counter(one_word).most_common())\n",
    "keys = sorted(one_dict.items(), key=lambda x:x[1], reverse=True)\n",
    "keys[:10]"
   ]
  },
  {
   "cell_type": "code",
   "execution_count": null,
   "id": "d29a1be6",
   "metadata": {},
   "outputs": [],
   "source": [
    "#불용어 제거\n",
    "stop_words = ['통해','대한','사흘','네이버','인공','지능']\n",
    "noun_list = [word for word in noun_list if not word in stop_words]\n",
    "noun_list[:20]"
   ]
  },
  {
   "cell_type": "code",
   "execution_count": null,
   "id": "d82a5ce5",
   "metadata": {},
   "outputs": [],
   "source": [
    "from collections import Counter\n",
    "from matplotlib import rc\n",
    "import matplotlib.pyplot as plt\n",
    "import seaborn as sns\n",
    "\n",
    "rc('font',family='Malgun Gothic')  # 한글 폰트 설정\n",
    "plt.rcParams['axes.unicode_minus'] = False # 마이너스 부호 출력 설정\n",
    "count = Counter(noun_list)\n",
    "data = dict(count.most_common())\n",
    "series = pd.Series(data)\n",
    "df = pd.DataFrame(series, columns=['cnt'])\n",
    "df10 = df.sort_values(by='cnt',ascending=False)[:10]\n",
    "df10.reset_index(inplace=True)\n",
    "df10"
   ]
  },
  {
   "cell_type": "code",
   "execution_count": null,
   "id": "2e924fa7",
   "metadata": {},
   "outputs": [],
   "source": [
    "sns.barplot(x='index', y='cnt', data=df10, orient='v')"
   ]
  },
  {
   "cell_type": "code",
   "execution_count": null,
   "id": "90b05bd9",
   "metadata": {},
   "outputs": [],
   "source": [
    "from wordcloud import WordCloud\n",
    "import matplotlib.pyplot as plt\n",
    "wordcloud = WordCloud(font_path='../visualition/dataset/malgun.ttf', background_color='white',\n",
    "                     colormap='flare', width=1500, height=1000).generate_from_frequencies(data)\n",
    "\n",
    "plt.imshow(wordcloud)\n",
    "plt.axis('off')\n",
    "# plt.~ figure로 사이즈조정"
   ]
  },
  {
   "cell_type": "markdown",
   "id": "80f528d5",
   "metadata": {},
   "source": [
    "- Q64. 어떠한 수 N이 1이 될 때까지 다음의 두 과정 중 하나를 반복적으로 선택하여 수행하려고 한다. 단 두번째 연산은 N이 K로 나누어 떨어질 때만 선택할 수 있다.  N과 K를 입력했을 때 N이 1이 될 때까지 1번 혹은 2번의 과정을 수행해야 하는 최소 횟수를 구하는 프로그램을 완성하세요.\n",
    "\n",
    "1. N에서 1을 뺀다.\n",
    "2. N을 K로 나눈다."
   ]
  },
  {
   "cell_type": "code",
   "execution_count": 2,
   "id": "12b76f46",
   "metadata": {},
   "outputs": [
    {
     "name": "stdout",
     "output_type": "stream",
     "text": [
      "처리할 수16\n",
      "나눌 수2\n"
     ]
    },
    {
     "ename": "KeyboardInterrupt",
     "evalue": "",
     "output_type": "error",
     "traceback": [
      "\u001b[1;31m---------------------------------------------------------------------------\u001b[0m",
      "\u001b[1;31mKeyboardInterrupt\u001b[0m                         Traceback (most recent call last)",
      "Input \u001b[1;32mIn [2]\u001b[0m, in \u001b[0;36m<cell line: 5>\u001b[1;34m()\u001b[0m\n\u001b[0;32m      4\u001b[0m \u001b[38;5;28;01mwhile\u001b[39;00m \u001b[38;5;28;01mTrue\u001b[39;00m :\n\u001b[0;32m      5\u001b[0m     \u001b[38;5;28;01mif\u001b[39;00m N \u001b[38;5;241m/\u001b[39m\u001b[38;5;241m/\u001b[39m K \u001b[38;5;241m==\u001b[39m \u001b[38;5;241m0\u001b[39m :\n\u001b[1;32m----> 6\u001b[0m         \u001b[38;5;28;01mcontinue\u001b[39;00m\n\u001b[0;32m      8\u001b[0m     \u001b[38;5;28;01melif\u001b[39;00m N \u001b[38;5;241m/\u001b[39m\u001b[38;5;241m/\u001b[39m K \u001b[38;5;241m!=\u001b[39m \u001b[38;5;241m0\u001b[39m :\n\u001b[0;32m      9\u001b[0m         N \u001b[38;5;241m-\u001b[39m\u001b[38;5;241m=\u001b[39m \u001b[38;5;241m1\u001b[39m\n",
      "\u001b[1;31mKeyboardInterrupt\u001b[0m: "
     ]
    }
   ],
   "source": [
    "N = int(input(\"처리할 수\"))\n",
    "K = int(input(\"나눌 수\"))\n",
    "\n",
    "while True :\n",
    "    if N // K == 0 :\n",
    "        continue\n",
    "        \n",
    "    elif N // K != 0 :\n",
    "        N -= 1\n",
    "        continue\n",
    "        \n",
    "    elif N == 1 :\n",
    "        break\n",
    "\n"
   ]
  },
  {
   "cell_type": "markdown",
   "id": "02718f54",
   "metadata": {},
   "source": [
    "- Q65. 아래와 같이 출력하는 코드를 작성하세요."
   ]
  },
  {
   "cell_type": "code",
   "execution_count": null,
   "id": "0ef8c6ad",
   "metadata": {},
   "outputs": [],
   "source": [
    "*\n",
    "**\n",
    "***\n",
    "****\n",
    "*****"
   ]
  },
  {
   "cell_type": "code",
   "execution_count": 4,
   "id": "8dc4f15d",
   "metadata": {},
   "outputs": [
    {
     "name": "stdout",
     "output_type": "stream",
     "text": [
      "*\n",
      "**\n",
      "***\n",
      "****\n",
      "*****\n"
     ]
    }
   ],
   "source": [
    "for i in range(1,6) :\n",
    "    print(\"*\"*i)"
   ]
  },
  {
   "cell_type": "markdown",
   "id": "a934852c",
   "metadata": {},
   "source": [
    "- Q66. 아래와 같이 출력하는 코드를 작성하세요."
   ]
  },
  {
   "cell_type": "code",
   "execution_count": null,
   "id": "c0b759f8",
   "metadata": {},
   "outputs": [],
   "source": [
    "     *\n",
    "    ***\n",
    "   *****\n",
    "  *******\n",
    " *********\n",
    "  *******\n",
    "   *****\n",
    "    ***\n",
    "     *\n"
   ]
  },
  {
   "cell_type": "code",
   "execution_count": 10,
   "id": "d62c2da6",
   "metadata": {},
   "outputs": [
    {
     "name": "stdout",
     "output_type": "stream",
     "text": [
      "    *    \n",
      "   ***   \n",
      "  *****  \n",
      " ******* \n",
      "*********\n",
      " ******* \n",
      "  *****  \n",
      "   ***   \n",
      "    *    \n"
     ]
    }
   ],
   "source": [
    "for i in range(1,10, 2):\n",
    "    print(\"{:^9}\".format(\"*\"*i))\n",
    "for j in range(7,0,-2):\n",
    "    print(\"{:^9}\".format(\"*\"*j))"
   ]
  },
  {
   "cell_type": "code",
   "execution_count": 11,
   "id": "30962b50",
   "metadata": {},
   "outputs": [
    {
     "name": "stdout",
     "output_type": "stream",
     "text": [
      "       *\n",
      "      ***\n",
      "     *****\n",
      "    *******\n",
      "   *********\n",
      "  ***********\n",
      " *************\n",
      "  ***********\n",
      "   *********\n",
      "    *******\n",
      "     *****\n",
      "      ***\n",
      "       *\n"
     ]
    }
   ],
   "source": [
    "n = 7\n",
    "for i in range(1,n+1):\n",
    "    print(\" \"*(n-i), \"*\"*(2*i-1))\n",
    "for j in range(n-1, 0, -1):\n",
    "    print(\" \"*(n-j), \"*\"*(2*j-1))"
   ]
  },
  {
   "cell_type": "markdown",
   "id": "118ac821",
   "metadata": {},
   "source": [
    "- Q67. Tree의 높이를 입력하면 해당하는 높이의 아래와 같은 Tree를 출력하는 프로그램을 작성하세요."
   ]
  },
  {
   "cell_type": "code",
   "execution_count": null,
   "id": "4513b0ad",
   "metadata": {},
   "outputs": [],
   "source": [
    "         *\n",
    "        ***\n",
    "       *****\n",
    "      *******\n",
    "     *********\n",
    "    ***********\n",
    "   *************\n",
    "  ***************\n",
    " *****************\n",
    "*******************\n",
    "         ***\n",
    "         ***\n",
    "         ***"
   ]
  },
  {
   "cell_type": "code",
   "execution_count": 13,
   "id": "2372ce8d",
   "metadata": {},
   "outputs": [
    {
     "name": "stdout",
     "output_type": "stream",
     "text": [
      "          *\n",
      "         ***\n",
      "        *****\n",
      "       *******\n",
      "      *********\n",
      "     ***********\n",
      "    *************\n",
      "   ***************\n",
      "  *****************\n",
      " *******************\n",
      "         ***\n",
      "         ***\n",
      "         ***\n"
     ]
    }
   ],
   "source": [
    "n = 10\n",
    "for i in range(1,n+1):\n",
    "    print(\" \"*(n-i), \"*\"*(2*i-1))\n",
    "for j in range(3):\n",
    "    print(\" \"*(n-2), \"*\"*3)"
   ]
  },
  {
   "cell_type": "markdown",
   "id": "3ad328b8",
   "metadata": {},
   "source": [
    "- Q68. 구구단을 출력하는 프로그램을 출력하세요."
   ]
  },
  {
   "cell_type": "code",
   "execution_count": 16,
   "id": "0cdd8087",
   "metadata": {},
   "outputs": [
    {
     "name": "stdout",
     "output_type": "stream",
     "text": [
      "<2단>\n",
      "2x1=2\n",
      "2x2=4\n",
      "2x3=6\n",
      "2x4=8\n",
      "2x5=10\n",
      "2x6=12\n",
      "2x7=14\n",
      "2x8=16\n",
      "2x9=18\n",
      "\n",
      "<3단>\n",
      "3x1=3\n",
      "3x2=6\n",
      "3x3=9\n",
      "3x4=12\n",
      "3x5=15\n",
      "3x6=18\n",
      "3x7=21\n",
      "3x8=24\n",
      "3x9=27\n",
      "\n",
      "<4단>\n",
      "4x1=4\n",
      "4x2=8\n",
      "4x3=12\n",
      "4x4=16\n",
      "4x5=20\n",
      "4x6=24\n",
      "4x7=28\n",
      "4x8=32\n",
      "4x9=36\n",
      "\n",
      "<5단>\n",
      "5x1=5\n",
      "5x2=10\n",
      "5x3=15\n",
      "5x4=20\n",
      "5x5=25\n",
      "5x6=30\n",
      "5x7=35\n",
      "5x8=40\n",
      "5x9=45\n",
      "\n",
      "<6단>\n",
      "6x1=6\n",
      "6x2=12\n",
      "6x3=18\n",
      "6x4=24\n",
      "6x5=30\n",
      "6x6=36\n",
      "6x7=42\n",
      "6x8=48\n",
      "6x9=54\n",
      "\n",
      "<7단>\n",
      "7x1=7\n",
      "7x2=14\n",
      "7x3=21\n",
      "7x4=28\n",
      "7x5=35\n",
      "7x6=42\n",
      "7x7=49\n",
      "7x8=56\n",
      "7x9=63\n",
      "\n",
      "<8단>\n",
      "8x1=8\n",
      "8x2=16\n",
      "8x3=24\n",
      "8x4=32\n",
      "8x5=40\n",
      "8x6=48\n",
      "8x7=56\n",
      "8x8=64\n",
      "8x9=72\n",
      "\n",
      "<9단>\n",
      "9x1=9\n",
      "9x2=18\n",
      "9x3=27\n",
      "9x4=36\n",
      "9x5=45\n",
      "9x6=54\n",
      "9x7=63\n",
      "9x8=72\n",
      "9x9=81\n",
      "\n"
     ]
    }
   ],
   "source": [
    "def gugu() :\n",
    "    for i in range(2, 10) :\n",
    "            print(f\"<{i}단>\") # 바로아래줄에 쓰면 j의 영향을 받고 수식이 나옴\n",
    "            for j in range(1, 10) :\n",
    "                print(f\"{i}x{j}={i*j}\")\n",
    "            print() # 바로 위 프린트와 같은줄에 쓰면 줄마다 띄어씀\n",
    "\n",
    "gugu()"
   ]
  },
  {
   "cell_type": "code",
   "execution_count": 1,
   "id": "f0078015",
   "metadata": {},
   "outputs": [
    {
     "ename": "SyntaxError",
     "evalue": "invalid syntax (3284739666.py, line 4)",
     "output_type": "error",
     "traceback": [
      "\u001b[1;36m  Input \u001b[1;32mIn [1]\u001b[1;36m\u001b[0m\n\u001b[1;33m    print(str(i) + \" * \" + str(j) + \" = \" str(i*j) )\u001b[0m\n\u001b[1;37m                                          ^\u001b[0m\n\u001b[1;31mSyntaxError\u001b[0m\u001b[1;31m:\u001b[0m invalid syntax\n"
     ]
    }
   ],
   "source": [
    "def gugu() :\n",
    "    for i in range(2, 10) :\n",
    "            for j in range(1, 10) :\n",
    "                print(str(i) + \" * \" + str(j) + \" = \" str(i*j) )\n",
    "            print() # 바로 위 프린트와 같은줄에 쓰면 줄마다 띄어씀\n",
    "\n",
    "gugu()"
   ]
  },
  {
   "cell_type": "markdown",
   "id": "2ab0baf7",
   "metadata": {},
   "source": [
    "- Q69.\n",
    "아래와 같이 입력하면 N X M 행렬 형태의 숫자 카드 중에서 먼저 뽑고자 하는 카드가 포함되어 있는 행을 선택한 후 그 행에서 가장 숫자가 낮은 카드를 뽑아야 하는 규칙하에서 가장 높은 숫자가 쓰인 카드 한장의 숫자를 출력한는 프로그램을 작성하세요. \n",
    "- 첫번째 입력 : N X M 형열에 대하여 N(행), M(열)의 개수를 공백을 기준으로 입력(1<= N, M<=100)\n",
    "- 두번째 입력 : 각 행의 숫자를 공백을 기준으로 입력. 단, 각 숫자는 1 이상 10000 이하의 자연수임."
   ]
  },
  {
   "cell_type": "code",
   "execution_count": null,
   "id": "39b5a1bc",
   "metadata": {},
   "outputs": [],
   "source": [
    "import numpy as np\n",
    "n, m = map(int, input('숫자입력').split())\n",
    "\n",
    "result = 0\n",
    "for i in range(n):\n",
    "    data = list(map(int, input().split()))\n",
    "    min_value = min(data)\n",
    "    result = max(result, min_value)\n",
    "    \n",
    "print(result)"
   ]
  },
  {
   "cell_type": "markdown",
   "id": "14e04752",
   "metadata": {},
   "source": [
    "- Q70. Q69는 함수, 정렬 등의 방법으로 문제를 풀었다. 이 문제를 다중 for문을 사용하여 풀어보세요."
   ]
  },
  {
   "cell_type": "code",
   "execution_count": null,
   "id": "00ca0ce8",
   "metadata": {},
   "outputs": [],
   "source": [
    "import numpy as np\n",
    "n, m = map(int, input('숫자입력').split())\n",
    "\n",
    "result = 0\n",
    "for i in range(n):\n",
    "    "
   ]
  },
  {
   "cell_type": "code",
   "execution_count": null,
   "id": "3e028d73",
   "metadata": {},
   "outputs": [],
   "source": [
    "n,m = map(int,input().split())\n",
    "\n",
    "result = 0\n",
    "for i in range(n):\n",
    "    data = list(map(int,input().split()))\n",
    "    min_value = 10001\n",
    "    for a in data:\n",
    "        min_value = min(min_value, a)\n",
    "    result = max(result,min_value)\n",
    "print(result)"
   ]
  },
  {
   "cell_type": "markdown",
   "id": "2257c3cb",
   "metadata": {},
   "source": [
    "- Q71. 여행가 A는 N X N 크기의 정사각형 공간에 서 있다. A는 6개의 이동 명령 계획에 따라 움직이게 된다. 이동 명령은 L(왼쪽), R(오른쪽), U(윗쪽), D(아랫쪽)로 구성되며 R R R U D D와 같이 6개이다. 정사각형 공간을 벗어나는 움직임은 무시된다. 언급한 규칙에 따라 N과 이동 명령 계획으로 각각 5와 R R R U D D를 입력하면 A의 공간 좌표는 3 4가 된다. 이동 명령 계획서가 주어질 때 A가 최종적으로 도착할 지점의 좌표를 출력하는 프로그램을 작성하시오."
   ]
  },
  {
   "cell_type": "code",
   "execution_count": null,
   "id": "4c6779de",
   "metadata": {},
   "outputs": [],
   "source": []
  },
  {
   "cell_type": "markdown",
   "id": "a20db36c",
   "metadata": {},
   "source": [
    "- Q72. 정수 N이 입력되면 00시 00분 00초부터 N시 59분 59초까지의 모든 시각 중에서 3이 하나라도 포함되는 모든 경우의 수를 구하는 프로그램을 작성하시오.(0<= N <=23)"
   ]
  },
  {
   "cell_type": "code",
   "execution_count": 38,
   "id": "54ad1e46",
   "metadata": {},
   "outputs": [
    {
     "name": "stdout",
     "output_type": "stream",
     "text": [
      "정수를 입력해주세요0\n",
      "1575\n"
     ]
    }
   ],
   "source": [
    "# ex : 00시02분03초\n",
    "# 모든 경우의 수 : (N+1)*3600\n",
    "N = int(input(\"정수를 입력해주세요\"))\n",
    "sum = 0\n",
    "for i in range(N+1) : # 시에 3이 있을때\n",
    "    for j in range(59+1) : # 분에 3이 있을때\n",
    "        for k in range(59+1) : # 초\n",
    "            if '3' in str(i) or '3' in str(j) or '3' in str(k) :\n",
    "                sum += 1\n",
    "print(sum)"
   ]
  },
  {
   "cell_type": "markdown",
   "id": "277fb522",
   "metadata": {},
   "source": [
    "- Q73. 행 위치는 1~8로 열 위치는 a ~ h로 표현하는 8 x 8 좌표 평면상에서 특정 위치가 주어졌을 때 아래 조건하에서 그 위치에서 이동할 수 있는 경우의 수를 출력하는 프로그램을 작성하세요.\n",
    "- 수평으로 두 칸 이동한 뒤에 수직으로 한 칸 이동\n",
    "- 수직으로 두 칸 이동한 뒤에 수평으로 한 칸 이동\n",
    "- 8 x 8 좌표 평면을 나갈 수 없음"
   ]
  },
  {
   "cell_type": "code",
   "execution_count": 39,
   "id": "d9580ac6",
   "metadata": {},
   "outputs": [
    {
     "data": {
      "text/plain": [
       "array([[ 0,  1,  2,  3,  4,  5,  6,  7],\n",
       "       [ 8,  9, 10, 11, 12, 13, 14, 15],\n",
       "       [16, 17, 18, 19, 20, 21, 22, 23],\n",
       "       [24, 25, 26, 27, 28, 29, 30, 31],\n",
       "       [32, 33, 34, 35, 36, 37, 38, 39],\n",
       "       [40, 41, 42, 43, 44, 45, 46, 47],\n",
       "       [48, 49, 50, 51, 52, 53, 54, 55],\n",
       "       [56, 57, 58, 59, 60, 61, 62, 63]])"
      ]
     },
     "execution_count": 39,
     "metadata": {},
     "output_type": "execute_result"
    }
   ],
   "source": [
    "import numpy as np\n",
    "\n",
    "np.arange(64).reshape(-1,8)"
   ]
  },
  {
   "cell_type": "code",
   "execution_count": null,
   "id": "470de495",
   "metadata": {},
   "outputs": [],
   "source": [
    "c3~f6(16개) : 경우의수 최대(8)\n",
    "   a b c d e f g h\n",
    "1| 2 3 4 4 4 4 3 2\n",
    "2| 3 4 6 6 6 6 4 3\n",
    "3| 4 6 8 8 8 8 6 4\n",
    "4| 4 6 8 8 8 8 6 4\n",
    "5| 4 6 8 8 8 8 6 4\n",
    "6| 4 6 8 8 8 8 6 4\n",
    "7| 3 4 6 6 6 6 4 3\n",
    "8| 2 3 4 4 4 4 3 2"
   ]
  },
  {
   "cell_type": "code",
   "execution_count": 2,
   "id": "1a723ee3",
   "metadata": {},
   "outputs": [
    {
     "name": "stdout",
     "output_type": "stream",
     "text": [
      "위치(a1~h8):a1\n"
     ]
    }
   ],
   "source": [
    "# 1칸후 2칸 이동 (-1,2),(-1,-2),(1,2),(1,-2)\n",
    "# 2칸후 1칸 이동 (-2,1),(-2,-1),(2,1),(2,-1)\n",
    "\n",
    "\n",
    "point = list(input(\"위치(a1~h8):\"))\n"
   ]
  },
  {
   "cell_type": "markdown",
   "id": "d84bf377",
   "metadata": {},
   "source": [
    "- Q74. 캐릭터는 매뉴얼에 따라 이동한다. 아래 입력조건에 따라 캐릭터가 방문한 칸의 수를 출력하는 프로그램을 작성하세요.\n",
    "\n",
    "- 입력조건\n",
    "  - 첫째 줄에 맵의 세로 크기 N과 가로 크기 M을 공백으로 구분하여 입력 (3 <= N,M <=50)\n",
    "  - 둘째 줄에 게임 캐릭터가 있는 칸의 좌표 (A,B)와 바라보는 방향 d가 각각 서로 공백으로 구분하여 입력(방향 d의 값으로는 북, 동, 남, 서가 각각 0,1,2,3)\n",
    "  - 세째 줄에 맵이 육지인지 바다인지에 대한 정보 입력(육지 0, 바다 1) N개의 줄에 맵의 상태가 북쪽으로 부터 남쪽순서대로 각 줄의 데이터는 서쪽부터 동쪽 순서대로 주어진다.\n",
    "  - 처음에 캐릭터가 위치한 칸의 상태는 항상 육지이다.\n",
    "\n",
    "\n",
    "- 매뉴얼<BR>\n",
    "  캐릭터가 있는 장소는 1 X 1 크기의 정사각형으로 이루어진 N X M 크기의 직사각형으로 각각의 칸은 육지 또는 바다이다.캐릭터는 동서남북 중 한 곳을 바라본다. 맵의 각 칸은 (A, B)로 나타낼 수 있고 A는 북쪽으로부터 떨어진 칸의 개수, B는 서쪽으로부터 떨어진 칸의 개수이다.캐릭터는 상하좌우로 움직일 수 있고 바다로 되어 있는 공간에는 갈 수 없다. 캐릭터의 움직임 설정을 위한 매뉴얼은 아래와 같다.\n",
    "  - 현재 위치에서 현재 방향을 기준으로 왼쪽 방향부터 차례대로 갈 곳을 정한다.\n",
    "  - 캐릭터의 바로 왼쪽 방향에 아직 가보지 않은 칸이 존재한다면 왼쪽 방향으로 회전한 다음 왼쪽으로 한 칸을 전진한다. 왼쪽 방향에 가보지 않은 칸이 없다면 왼쪽 방향으로 회전만 수행하고 1단계로 돌아간다.\n",
    "  - 만약 네 방향 모두 이미 가본 칸이거나 바다로 되어 있는 칸인 경우에는 바라보는 방향을 유지한 채로 한 칸 뒤로 가고 1단계로 돌아간다. 단, 이때 뒤쪽 방향이 바다인 칸이라 뒤로 갈수 없는 경우에는 움직임을 멈춘다."
   ]
  },
  {
   "cell_type": "code",
   "execution_count": null,
   "id": "60b3600f",
   "metadata": {},
   "outputs": [],
   "source": [
    "4 4 # 4x4\n",
    "1 1 0 # 1,1좌표, 0은 방향(북)\n",
    "입력조건3\n",
    "1 1 1 1\n",
    "1 0 0 1\n",
    "1 1 0 1\n",
    "1 1 1 1\n",
    "3"
   ]
  },
  {
   "cell_type": "code",
   "execution_count": null,
   "id": "5edf17fa",
   "metadata": {},
   "outputs": [],
   "source": [
    "import numpy as np\n",
    "\n",
    "def turtle_trip():\n",
    "    N,M = map(int,input('N M > ').split(' '))\n",
    "\n",
    "    if N<3 or (M>50 and M<0):\n",
    "        pass\n",
    "    else:\n",
    "        A,B,d = map(int,input('A B d > ').split(' '))\n",
    "    \n",
    "    base_map = np.arange(N*M).reshape(N,M)\n",
    "    \n",
    "    for i in range(N):\n",
    "        for j in range(M):\n",
    "            base_map[i,j] = int(input('바다:1 육지:0 > '))\n",
    "            \n",
    "\n",
    "    row = A\n",
    "    col = B\n",
    "    \n",
    "    base_map[row,col] = 0\n",
    "    cnt = 0\n",
    "    \n",
    "    print(f'\\n 처음 지도 \\n {base_map} \\n')\n",
    "    try:\n",
    "        while(True):\n",
    "            # 북쪽 방향\n",
    "            if d == 0:\n",
    "                if base_map[row,col-1] == 1:\n",
    "                    row = row+1\n",
    "                    cnt += 1\n",
    "                elif base_map[row,col-1] == 0:\n",
    "                    base_map[row,col-1] = 1\n",
    "                    cnt += 1\n",
    "                    d = 3\n",
    "                    col = col-1\n",
    "                else:\n",
    "                    pass\n",
    "\n",
    "            # 동쪽 방향\n",
    "            if d == 1:\n",
    "                if base_map[row-1,col] == 1:\n",
    "                    col = col-1\n",
    "                    cnt += 1\n",
    "                elif base_map[row-1,col]== 0:\n",
    "                    base_map[row-1,col]=1\n",
    "                    cnt += 1\n",
    "                    d = 0\n",
    "                    row = row-1\n",
    "                else :\n",
    "                    pass\n",
    "\n",
    "            # 남쪽 방향   \n",
    "            if d == 2:\n",
    "                if base_map[row,col+1] == 1:\n",
    "                    row = row-1\n",
    "                    cnt += 1\n",
    "                elif base_map[row,col+1] == 0:\n",
    "                    base_map[row,col+1] =1\n",
    "                    cnt += 1\n",
    "                    d = 1\n",
    "                    col = col+1\n",
    "                else :\n",
    "                    pass            \n",
    "\n",
    "            # 서쪽 방향       \n",
    "            if d == 3:\n",
    "                if base_map[row+1,col] == 1:\n",
    "                    col = col+1\n",
    "                    cnt += 1\n",
    "                elif base_map[row+1,col] == 0:\n",
    "                    base_map[row+1,col] =1\n",
    "                    cnt += 1\n",
    "                    d = 2\n",
    "                    row = row+1\n",
    "                else :\n",
    "                    pass\n",
    "    except:\n",
    "        print(f'거북이가 방문한 칸의 수 : {cnt}\\n')\n",
    "        print(f'거북이가 그린 지도 \\n {base_map}')\n",
    "\n",
    "turtle_trip()"
   ]
  },
  {
   "cell_type": "markdown",
   "id": "e765aebe",
   "metadata": {},
   "source": [
    "- 스택 : 박스 쌓기에 비유, 선입후출 구조"
   ]
  },
  {
   "cell_type": "code",
   "execution_count": 3,
   "id": "235f302d",
   "metadata": {},
   "outputs": [
    {
     "name": "stdout",
     "output_type": "stream",
     "text": [
      "[5, 2, 3, 1]\n",
      "[1, 3, 2, 5]\n"
     ]
    }
   ],
   "source": [
    "stack = []\n",
    "stack.append(5)\n",
    "stack.append(2)\n",
    "stack.append(3)\n",
    "stack.append(7)\n",
    "stack.pop()  # pop로 뺌. 7빠짐 선입후출\n",
    "stack.append(1)\n",
    "stack.append(4)\n",
    "stack.pop()  # 가장 최근에 쌓인 4빠짐 \n",
    "\n",
    "print(stack)\n",
    "print(stack[::-1])"
   ]
  },
  {
   "cell_type": "markdown",
   "id": "ae180dfd",
   "metadata": {},
   "source": [
    "- 큐 : 먼저 온사람이 먼저 들어간다. 선입선출 구조"
   ]
  },
  {
   "cell_type": "code",
   "execution_count": 5,
   "id": "6c84ed13",
   "metadata": {},
   "outputs": [
    {
     "name": "stdout",
     "output_type": "stream",
     "text": [
      "deque([3, 7, 1, 4])\n",
      "deque([4, 1, 7, 3])\n"
     ]
    }
   ],
   "source": [
    "from collections import deque\n",
    "\n",
    "queue = deque()\n",
    "\n",
    "queue.append(5)\n",
    "queue.append(2)\n",
    "queue.append(3)\n",
    "queue.append(7)\n",
    "queue.popleft()  # pop로 뺌. 5빠짐 선입선출\n",
    "queue.append(1)\n",
    "queue.append(4)\n",
    "queue.popleft() # 5다음 오래쌓였던 2가 빠짐\n",
    "\n",
    "print(queue)\n",
    "queue.reverse()\n",
    "print(queue)"
   ]
  },
  {
   "cell_type": "markdown",
   "id": "64cfd1b2",
   "metadata": {},
   "source": [
    "- Q75.\n",
    "N X M 크기의 얼음 틀로 한번에 만들 수 있는 아이스크림의 개수를 아래 입력조건에 따라 출력하는 프로그램을 DFS(Depth First Search)를 이용하여 작성하세요.\n",
    " \n",
    "- 입력조건\n",
    "  - 첫번째 줄에 얼음 틀의 세로 길이 N과 가로 길이 M이 주어진다.(1 <= N,M <= 1000)\n",
    "  - 두번째 줄부터 N+1번째 줄까지 얼음 틀의 형태가 주어진다.\n",
    "  - 이때 구멍이 뚫려있는 부분은 0 그렇지 않은 부분은 1이다.\n",
    "  - 구멍이 뚫려 있는 부분끼리 상, 하, 좌, 우로 붙어 있는 경우 서로 연결되어 있는 것으로 간주한다."
   ]
  },
  {
   "cell_type": "code",
   "execution_count": null,
   "id": "7b0558d0",
   "metadata": {},
   "outputs": [],
   "source": [
    "5 5\n",
    "00110\n",
    "00011\n",
    "11111\n",
    "00111\n",
    "11000\n",
    "4개 (0 범위)"
   ]
  },
  {
   "cell_type": "code",
   "execution_count": null,
   "id": "397a174e",
   "metadata": {},
   "outputs": [],
   "source": [
    "if N,M >= 1 and N,M <= 1000 :\n",
    "    N,M = map(int,input('N M 공백한칸두고 입력').split(' '))\n",
    "else :\n",
    "    pass\n",
    "\n",
    "def dfs(ice):\n",
    "    "
   ]
  },
  {
   "cell_type": "markdown",
   "id": "6a0add88",
   "metadata": {},
   "source": [
    "###  재귀함수"
   ]
  },
  {
   "cell_type": "code",
   "execution_count": 1,
   "id": "c36c5911",
   "metadata": {},
   "outputs": [
    {
     "name": "stdout",
     "output_type": "stream",
     "text": [
      "1 번째 재귀함수에서 2 번째 재귀함수를 호출합니다.\n",
      "2 번째 재귀함수에서 3 번째 재귀함수를 호출합니다.\n",
      "3 번째 재귀함수에서 4 번째 재귀함수를 호출합니다.\n",
      "4 번째 재귀함수에서 5 번째 재귀함수를 호출합니다.\n",
      "4 번째 재귀함수를 호출합니다.\n",
      "3 번째 재귀함수를 호출합니다.\n",
      "2 번째 재귀함수를 호출합니다.\n",
      "1 번째 재귀함수를 호출합니다.\n"
     ]
    }
   ],
   "source": [
    "def recursive_function(i):\n",
    "    if i == 5:\n",
    "        return # 리턴 아무것도안주면 끝내는것.break와 비슷\n",
    "    print(i, '번째 재귀함수에서', i+1, '번째 재귀함수를 호출합니다.')\n",
    "    recursive_function(i+1)\n",
    "    print(i,'번째 재귀함수를 호출합니다.')\n",
    "recursive_function(1)\n",
    "    \n",
    "    "
   ]
  },
  {
   "cell_type": "markdown",
   "id": "cd0dd5e1",
   "metadata": {},
   "source": [
    "- Q76. 10!을 재귀함수를 이용하여 출력하세요."
   ]
  },
  {
   "cell_type": "code",
   "execution_count": 9,
   "id": "7684fd45",
   "metadata": {},
   "outputs": [
    {
     "data": {
      "text/plain": [
       "3628800"
      ]
     },
     "execution_count": 9,
     "metadata": {},
     "output_type": "execute_result"
    }
   ],
   "source": [
    "def factorial_iterative(n):\n",
    "    result = 1\n",
    "    for i in range(1,n+1):\n",
    "        result *= i\n",
    "    return result\n",
    "factorial_iterative(10)"
   ]
  },
  {
   "cell_type": "code",
   "execution_count": 10,
   "id": "128973f8",
   "metadata": {},
   "outputs": [],
   "source": [
    "# f(n) = n * f(n-1) (n >= 1)\n",
    "# 1! 구할 때 f(0)이 필요.\n",
    "# f(0) = 0 * ~는 0이 되므로 n=0 일때는 출력값 1로 지정\n",
    "# f(1) = 1 * f(0) 이므로 f(0)때문에 같이 출력값 1로 지정\n",
    "def f(n) :\n",
    "    if n == 1 or n == 0 :\n",
    "        return 1\n",
    "    else :\n",
    "        return n*f(n-1)"
   ]
  },
  {
   "cell_type": "code",
   "execution_count": 11,
   "id": "4f2f2c7f",
   "metadata": {},
   "outputs": [
    {
     "data": {
      "text/plain": [
       "3628800"
      ]
     },
     "execution_count": 11,
     "metadata": {},
     "output_type": "execute_result"
    }
   ],
   "source": [
    "f(10)"
   ]
  },
  {
   "cell_type": "markdown",
   "id": "8c55742b",
   "metadata": {},
   "source": [
    "- Q77.(도전과제)\n",
    "\n",
    "N X M 크기의 미로에는 여러마리의 괴물이 있어 이를 피해 탈출해야 한다. 주인공의 위치는 (0,0)이고 미로의 출구는 (N-1,M-1)의 위치에 존재하며 한번에 한칸씩 이동할 수 있다. 괴물이 있는 부분은 0, 없는 부분은 1로 표시되어 있으며 미로는 반드시 탈출할 수 있는 형태로 제시된다. 주인공이 탈출하기 위해 움직여야 하는 최소 칸의 개수를 구하세요. 칸을 셀 때는 시작 칸과 마지막 칸을 모두 포함하여 계산하고 입력 조건은 아래와 같다.(BFS를 이용)\n",
    "- 첫째 줄에 두 정수 N,M(4<=N,M<=200)이 주어진다. \n",
    "- 다음 N개의 줄에는 각각 M개의 정수(0 혹은 1)로 미로의 정보가 주어진다. 각각의 수들은 공백없이 붙여서 입력으로 제시된다. \n",
    "- 또한 시작칸과 마지막칸은 항상 1이다.\n"
   ]
  },
  {
   "cell_type": "code",
   "execution_count": null,
   "id": "85f85199",
   "metadata": {},
   "outputs": [],
   "source": [
    "5 5\n",
    "11011\n",
    "01011\n",
    "01111\n",
    "11011\n",
    "10111\n",
    "9"
   ]
  },
  {
   "cell_type": "code",
   "execution_count": 2,
   "id": "bb399d73",
   "metadata": {},
   "outputs": [
    {
     "name": "stdout",
     "output_type": "stream",
     "text": [
      "5 5\n",
      "10101\n",
      "11110\n",
      "00011\n",
      "10100\n",
      "00111\n",
      "1\n"
     ]
    }
   ],
   "source": [
    "from collections import deque\n",
    "\n",
    "# N, M을 공백으로 구분하여 입력받기\n",
    "n,m=map(int,input().split())\n",
    "\n",
    "# 2차원 리스트의 맵 정보 입력받기\n",
    "graph=[]\n",
    "for i in range(n):\n",
    "    graph.append(list(map(int,input())))\n",
    "\n",
    "# 이동할 네 방향 정의(상, 하, 좌, 우), x는 위쪽에서 떨어진 위치, y는 좌측에서 떨어진 위치 \n",
    "dx = [-1,1,0,0]\n",
    "dy = [0,0,-1,1]\n",
    "\n",
    "# BFS 소스코드 구현\n",
    "def bfs(x,y):\n",
    "    # 큐 구현을 위해 deque 라이브러리 사용\n",
    "    queue = deque()\n",
    "    queue.append((x,y))\n",
    "    # 큐가 빌 때까지 반복\n",
    "    \n",
    " # 가장 오른쪽 아래까지의 최단 거리 반환(이동할 때마다 1씩 추가하기 때문에 탈출시에 최종 이동한 칸의 개수가 만들어짐)\n",
    "    return graph[n-1][m-1]\n",
    "\n",
    "# BFS를 수행한 결과 출력\n",
    "print(bfs(0,0))"
   ]
  },
  {
   "cell_type": "markdown",
   "id": "a541a126",
   "metadata": {},
   "source": [
    "- Q78.\n",
    "소수란 2보다 큰 자연수 중에서 1과 자기자신을 제외한 자연수로는 나누어떨어지지 않는 자연수이다. 어떠한 자연수가 소수인지 아닌지 판별하는 프로그램을 작성하세요.\n"
   ]
  },
  {
   "cell_type": "code",
   "execution_count": 18,
   "id": "531f5e87",
   "metadata": {},
   "outputs": [
    {
     "name": "stdout",
     "output_type": "stream",
     "text": [
      "37\n",
      "True\n"
     ]
    }
   ],
   "source": [
    "# 사용자함수\n",
    "# n을 2 ~ n-1로 나눴을 때 모든 나머지가 0이 아니면 소수\n",
    "\n",
    "def sosu(num):\n",
    "    for i in range(2, num):\n",
    "        if num % i == 0:\n",
    "            return False\n",
    "    return True\n",
    "\n",
    "n = int(input())\n",
    "print(sosu(n))"
   ]
  },
  {
   "cell_type": "markdown",
   "id": "933ebae1",
   "metadata": {},
   "source": [
    "- Q79. M 이상 N 이하의 소수를 모두 출력하는 프로그램을 작성하세요.\n",
    "- 입력조건\n",
    "  - 첫째 줄에 자연수 M과 N이 빈칸을 사이에 두고 주어진다.(1<=M<=N<=1,000,000)\n",
    "  - 단 M이상 N 이하의 소수가 하나 이상 있는 입력만 주어진다.\n"
   ]
  },
  {
   "cell_type": "code",
   "execution_count": null,
   "id": "27e0502d",
   "metadata": {},
   "outputs": [],
   "source": [
    "# map \n",
    "# 소수 하나 이상 > if 로 리턴\n",
    "M, N = map(int,input('N M 공백한칸두고 입력').split(' '))"
   ]
  },
  {
   "cell_type": "code",
   "execution_count": null,
   "id": "10bfbd74",
   "metadata": {},
   "outputs": [],
   "source": [
    "def sosu(num):\n",
    "    for i in range(2, num):\n",
    "        if num % i == 0:\n",
    "            return False\n",
    "    return num\n",
    "\n",
    "n = int(input())\n",
    "print(sosu(n))"
   ]
  },
  {
   "cell_type": "markdown",
   "id": "002a748c",
   "metadata": {},
   "source": [
    "- Q80.\n",
    "암호는 서로 다른 L개의 알파벳 소문자들로 구성되며 최소 한 개의 모음(a, e, i, o, u)과 최소 두 개의 자음으로 구성되어 있다고 알려져 있다. 또한 정렬된 문자열을 선호하는 직원들의 성향으로 미루어 보아 암호를 이루는 알파벳이 암호에서 증가하는 순서로 배열되었을 것이라고 추측된다. 즉, abc는 가능성이 있는 암호이지만 bac는 그렇지 않다. 새 보안 시스템에서 직원들이 암호로 사용했을 법한 문자의 종류는 C가지가 있다고 한다. 이 알파벳을 입수한 james, kevin 형제는 직원들의 방에 침투하기 위해 암호를 추측해 보려고 한다. C개의 문자들이 모두 주어졌을 때, 가능성 있는 암호들을 모두 구하는 프로그램을 다음 사항에 유의하여 작성하시오.\n",
    " - 첫째 줄에 두 정수 L, C가 주어진다. (3 ≤ L ≤ C ≤ 15) 다음 줄에는 C개의 문자들이 공백으로 구분되어 주어진다. 주어지는 문자들은 알파벳 소문자이며, 중복되는 것은 없다.\n",
    " - 각 줄에 하나씩, 사전식으로 가능성 있는 암호를 모두 출력한다.\n"
   ]
  },
  {
   "cell_type": "code",
   "execution_count": null,
   "id": "6aefb7ae",
   "metadata": {},
   "outputs": [],
   "source": []
  },
  {
   "cell_type": "code",
   "execution_count": null,
   "id": "9b1e19b9",
   "metadata": {},
   "outputs": [],
   "source": []
  },
  {
   "cell_type": "markdown",
   "id": "ee50fe52",
   "metadata": {},
   "source": [
    "- Q81.\n",
    "파이썬의 itertools 라이브러리를 활용하여 리스트 data = ['A','B','C']로 부터 아래 문제를 풀어보세요.\n",
    "- 3개를 뽑아 나열하는 모든 경우를 출력하세요(중복 허용안됨)\n",
    "- 3개를 뽑아 나열하는 모든 경우를 출력하세요(중복 허용)\n",
    "- 3개를 뽑아 순서에 상관없이 나열하는 모든 경우를 출력하세요(중복 허용안됨)\n",
    "- 3개를 뽑아 순서에 상관없이 나열하는 모든 경우를 출력하세요(중복 허용)"
   ]
  },
  {
   "cell_type": "code",
   "execution_count": 42,
   "id": "a41171d2",
   "metadata": {},
   "outputs": [],
   "source": [
    "# n = 고정변수, r = 변인변수\n",
    "# 1, 2 순열 : n! / (n-r)!      (0<=r<=n)\n",
    "# 순열 : 서로 다른 n개에서 중복됨이 없이 r개를 택하여 일렬로 배열\n",
    "\n",
    "# 3, 4 조합 : n! / (n-r)!*r!   (0<=r<=n)\n",
    "# 조합 : 순서를 생각하지 않고 r개를 뽑는 것"
   ]
  },
  {
   "cell_type": "markdown",
   "id": "3b40ab02",
   "metadata": {},
   "source": [
    "- 중복조합 : 서로 다른 n개에서 중복을 허락하여 r개 택하기\n",
    "- 중복조합은 n<r일 수도 있다.\n",
    "- 조합은 순서에 관계없이 원소가 같으면 같은 경우로 본다.\n",
    "- $_{n}\\mathrm{C}_{r}$ = $_{n}\\mathrm{C}_{n-r}$\n",
    "- 중복조합의 수 : $_{n+r-1}\\mathrm{C}_{r}$ = $_{n}\\mathrm{H}_{r}$"
   ]
  },
  {
   "cell_type": "markdown",
   "id": "58608bb6",
   "metadata": {},
   "source": [
    "- permutations(반복 가능한 객체, r) : 중복 허용 안되는 순열. 순서가 다르면 다른 경우의 수\n",
    "- product(반복 가능한 객체, repeat=2) : 중복 순열. repeat에 맞물리는 숫자는 한묶음에 들어갈 개수\n",
    "- combinations(반복 가능한 객체, r) : 중복 허용 안되는 조합. 순서 고려 x\n",
    "- combinations_with_replacement(반복 가능한 객체, r) : 중복 조합"
   ]
  },
  {
   "cell_type": "code",
   "execution_count": 34,
   "id": "a23fc9c0",
   "metadata": {},
   "outputs": [
    {
     "name": "stdout",
     "output_type": "stream",
     "text": [
      "('A', 'B', 'C')\n",
      "('A', 'C', 'B')\n",
      "('B', 'A', 'C')\n",
      "('B', 'C', 'A')\n",
      "('C', 'A', 'B')\n",
      "('C', 'B', 'A')\n"
     ]
    }
   ],
   "source": [
    "# (1) 3개를 뽑아 나열하는 모든 경우 (중복 허용 안됨). 순열\n",
    "from itertools import permutations # 원소 개수가 r개인 순열 뽑기\n",
    "\n",
    "data = ['A','B','C']\n",
    "\n",
    "for i in permutations(data) : # 두번째 인자값을 지정하지 않으면 최대 길이의 순열 리턴\n",
    "    print(i)                  # 중복 허용하지 않음 (같은 값도 순서가 다르면 다른 경우의 수)\n",
    "# 경우의 수 : 3! / (3-3)! = 6"
   ]
  },
  {
   "cell_type": "code",
   "execution_count": 41,
   "id": "d22ee7a2",
   "metadata": {},
   "outputs": [
    {
     "name": "stdout",
     "output_type": "stream",
     "text": [
      "[('A', 'A', 'A'), ('A', 'A', 'B'), ('A', 'A', 'C'), ('A', 'B', 'A'), ('A', 'B', 'B'), ('A', 'B', 'C'), ('A', 'C', 'A'), ('A', 'C', 'B'), ('A', 'C', 'C'), ('B', 'A', 'A'), ('B', 'A', 'B'), ('B', 'A', 'C'), ('B', 'B', 'A'), ('B', 'B', 'B'), ('B', 'B', 'C'), ('B', 'C', 'A'), ('B', 'C', 'B'), ('B', 'C', 'C'), ('C', 'A', 'A'), ('C', 'A', 'B'), ('C', 'A', 'C'), ('C', 'B', 'A'), ('C', 'B', 'B'), ('C', 'B', 'C'), ('C', 'C', 'A'), ('C', 'C', 'B'), ('C', 'C', 'C')]\n",
      "경우의 수 : 27개\n"
     ]
    }
   ],
   "source": [
    "# (2) 3개를 뽑아 나열하는 모든 경우 (중복 허용). 순열\n",
    "from itertools import product\n",
    "\n",
    "data = ['A','B','C']\n",
    "\n",
    "res = list(product(data, repeat=3)) # 두번째 인자(repeat=n)는 한 세트에 들어갈 개수를 정함(n개)\n",
    "print(res)\n",
    "print(f'경우의 수 : {len(res)}개')"
   ]
  },
  {
   "cell_type": "code",
   "execution_count": 37,
   "id": "4a59c575",
   "metadata": {},
   "outputs": [
    {
     "name": "stdout",
     "output_type": "stream",
     "text": [
      "[('A', 'B', 'C')]\n"
     ]
    }
   ],
   "source": [
    "# (3) 3개를 뽑아 순서에 상관없이 나열하는 경우 (중복 허용 안됨). 조합\n",
    "from itertools import combinations\n",
    "\n",
    "data = ['A','B','C']\n",
    "\n",
    "res = list(combinations(data, 3)) # 순서에 상관없다 함은 위치가 바뀐다 해도 같은 것으로 취급\n",
    "print(res)\n",
    "# 경우의 수 : 3! / ((3-3)! * 3!) = 1"
   ]
  },
  {
   "cell_type": "code",
   "execution_count": 38,
   "id": "a95cad68",
   "metadata": {},
   "outputs": [
    {
     "name": "stdout",
     "output_type": "stream",
     "text": [
      "[('A', 'A', 'A'), ('A', 'A', 'B'), ('A', 'A', 'C'), ('A', 'B', 'B'), ('A', 'B', 'C'), ('A', 'C', 'C'), ('B', 'B', 'B'), ('B', 'B', 'C'), ('B', 'C', 'C'), ('C', 'C', 'C')]\n",
      "경우의 수 : 10개\n"
     ]
    }
   ],
   "source": [
    "# (4) 3개를 뽑아 순서에 상관없이 나열하는 경우 (중복 허용). 조합\n",
    "from itertools import combinations_with_replacement\n",
    "\n",
    "data = ['A','B','C']\n",
    "\n",
    "res = list(combinations_with_replacement(data, 3))\n",
    "print(res)\n",
    "print(f'경우의 수 : {len(res)}개')"
   ]
  },
  {
   "cell_type": "markdown",
   "id": "c7038ed5",
   "metadata": {},
   "source": [
    "- Q82.\n",
    "아래사항을 참조, 파이썬의 heapq 라이브러리를 활용하여 주어진 리스트 iterable = [1,3,5,7,9,2,4,6,8,0]을 힙 정렬하여 출력하세요.\n",
    "- 최소 힙 : heap 역할을 할 빈 리스트를 선언해주고, heappush 메소드의 매개변수로 해당 리스트와 추가하고자 하는 값을 넣어주면 리스트에 힙 정렬이 되게 원하는 값이 삽입된다.\n",
    "- 최대 힙 : heapq에서는 최대 힙을 제공하지 않는다. 따라서 부호를 변경하는 방법을 사용해서 최대 힙을 구현한다."
   ]
  },
  {
   "cell_type": "code",
   "execution_count": 1,
   "id": "a1a36c83",
   "metadata": {},
   "outputs": [],
   "source": [
    "# 오름,내림차순"
   ]
  },
  {
   "cell_type": "markdown",
   "id": "72b6211c",
   "metadata": {},
   "source": [
    "- Q83.\n",
    "파이썬 bisect 라이브러리를 활용하여 리스트 a = [1,2,3,3,3,4,4,8,9] 로 부터 아래 문제들을 풀어보세요.\n",
    "- 값이 4인 데이터 개수 출력\n",
    "- 값이 [-1,3] 범위에 있는 데이터 개수 출력\n"
   ]
  },
  {
   "cell_type": "code",
   "execution_count": 9,
   "id": "634f2164",
   "metadata": {},
   "outputs": [
    {
     "name": "stdout",
     "output_type": "stream",
     "text": [
      "2\n"
     ]
    },
    {
     "data": {
      "text/plain": [
       "5"
      ]
     },
     "execution_count": 9,
     "metadata": {},
     "output_type": "execute_result"
    }
   ],
   "source": [
    "from bisect import bisect_left, bisect_right\n",
    "# bisect_left(리스트, value) : 왼쪽 인덱스값 구하기\n",
    "a = [1,2,3,3,3,4,4,8,9]\n",
    "le = bisect_left(a,4)\n",
    "ri = bisect_right(a,4)\n",
    "le, ri\n",
    "# 값이 4인 데이터 개수 출력\n",
    "print(ri - le)\n",
    "\n",
    "# 값이 [-1,3] 범위에 있는 데이터 개수 출력\n",
    "# 정렬되어 있으므로 3 이하만 구하면됨\n",
    "bisect_left(a,4) # bisect_right(a,3)"
   ]
  },
  {
   "cell_type": "code",
   "execution_count": null,
   "id": "4c2789e3",
   "metadata": {},
   "outputs": [],
   "source": []
  }
 ],
 "metadata": {
  "kernelspec": {
   "display_name": "Python 3 (ipykernel)",
   "language": "python",
   "name": "python3"
  },
  "language_info": {
   "codemirror_mode": {
    "name": "ipython",
    "version": 3
   },
   "file_extension": ".py",
   "mimetype": "text/x-python",
   "name": "python",
   "nbconvert_exporter": "python",
   "pygments_lexer": "ipython3",
   "version": "3.8.13"
  },
  "toc": {
   "base_numbering": 1,
   "nav_menu": {},
   "number_sections": true,
   "sideBar": true,
   "skip_h1_title": false,
   "title_cell": "Table of Contents",
   "title_sidebar": "Contents",
   "toc_cell": false,
   "toc_position": {},
   "toc_section_display": true,
   "toc_window_display": false
  }
 },
 "nbformat": 4,
 "nbformat_minor": 5
}
