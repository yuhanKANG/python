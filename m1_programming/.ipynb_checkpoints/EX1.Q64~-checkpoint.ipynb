{
 "cells": [
  {
   "cell_type": "markdown",
   "id": "6592dc2a",
   "metadata": {},
   "source": []
  },
  {
   "cell_type": "code",
   "execution_count": null,
   "id": "97337399",
   "metadata": {},
   "outputs": [],
   "source": [
    "# N , K 입력\n"
   ]
  },
  {
   "cell_type": "code",
   "execution_count": null,
   "id": "a0fdcc2a",
   "metadata": {},
   "outputs": [],
   "source": []
  }
 ],
 "metadata": {
  "kernelspec": {
   "display_name": "Python 3 (ipykernel)",
   "language": "python",
   "name": "python3"
  },
  "language_info": {
   "codemirror_mode": {
    "name": "ipython",
    "version": 3
   },
   "file_extension": ".py",
   "mimetype": "text/x-python",
   "name": "python",
   "nbconvert_exporter": "python",
   "pygments_lexer": "ipython3",
   "version": "3.8.13"
  }
 },
 "nbformat": 4,
 "nbformat_minor": 5
}
