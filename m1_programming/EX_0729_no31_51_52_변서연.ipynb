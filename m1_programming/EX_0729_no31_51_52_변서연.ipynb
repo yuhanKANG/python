{
 "cells": [
  {
   "cell_type": "markdown",
   "id": "90b24154",
   "metadata": {},
   "source": [
    "# 0729"
   ]
  },
  {
   "cell_type": "markdown",
   "id": "b46dcf89",
   "metadata": {},
   "source": [
    "## Q31. 문자열 리스트 states를 정형화하여 아래와 같이 출력하세요.\n",
    "```\n",
    "states = ['   Alabama ', 'Georgia!', 'Georgia', 'georgia', 'FlOrIda',\n",
    "          'south   carolina##', 'West virginia?']\n",
    "[출력]\n",
    "['Alabama',\n",
    " 'Georgia',\n",
    " 'Georgia',\n",
    " 'Georgia',\n",
    " 'Florida',\n",
    " 'South   Carolina',\n",
    " 'West Virginia']\n",
    "\n",
    "``` \n"
   ]
  },
  {
   "cell_type": "code",
   "execution_count": 6,
   "id": "d88d2c60",
   "metadata": {},
   "outputs": [],
   "source": [
    "import re"
   ]
  },
  {
   "cell_type": "markdown",
   "id": "df0aa1cc",
   "metadata": {},
   "source": [
    "- ver 1"
   ]
  },
  {
   "cell_type": "code",
   "execution_count": 7,
   "id": "602e70da",
   "metadata": {},
   "outputs": [],
   "source": [
    "states = ['   Alabama ', 'Georgia!', 'Georgia', 'georgia', 'FlOrIda',\n",
    "          'south   carolina##', 'West virginia?']"
   ]
  },
  {
   "cell_type": "code",
   "execution_count": 8,
   "id": "042892be",
   "metadata": {},
   "outputs": [
    {
     "data": {
      "text/plain": [
       "['Alabama',\n",
       " 'Georgia',\n",
       " 'Georgia',\n",
       " 'Georgia',\n",
       " 'Florida',\n",
       " 'South Carolina',\n",
       " 'West Virginia']"
      ]
     },
     "execution_count": 8,
     "metadata": {},
     "output_type": "execute_result"
    }
   ],
   "source": [
    "def form(word):\n",
    "    word = word.strip()\n",
    "    word = re.sub('[^\\s*\\w*]+', \"\", word) # 특수기호 삭제\n",
    "    word = re.sub('\\s+', \" \", word) # 공백 문자는 space 1칸으로\n",
    "    word = word.title()\n",
    "    return word\n",
    "list(map(form, states))"
   ]
  },
  {
   "cell_type": "markdown",
   "id": "3dadaf57",
   "metadata": {},
   "source": [
    "- ver 2"
   ]
  },
  {
   "cell_type": "code",
   "execution_count": 9,
   "id": "dae1a08c",
   "metadata": {},
   "outputs": [],
   "source": [
    "states = ['   Alabama ', 'Georgia!', 'Georgia', 'georgia', 'FlOrIda',\n",
    "          'south   carolina##', 'West virginia?']"
   ]
  },
  {
   "cell_type": "code",
   "execution_count": 10,
   "id": "0e512d6e",
   "metadata": {},
   "outputs": [
    {
     "data": {
      "text/plain": [
       "['Alabama',\n",
       " 'Georgia',\n",
       " 'Georgia',\n",
       " 'Georgia',\n",
       " 'Florida',\n",
       " 'South   Carolina',\n",
       " 'West Virginia']"
      ]
     },
     "execution_count": 10,
     "metadata": {},
     "output_type": "execute_result"
    }
   ],
   "source": [
    "def form(word):\n",
    "    word = word.strip()\n",
    "    word = re.sub('[#!?]+', \"\", word)\n",
    "    word = word.title()\n",
    "    return word\n",
    "list(map(form, states))"
   ]
  },
  {
   "cell_type": "markdown",
   "id": "41761bb2",
   "metadata": {},
   "source": [
    "## Q51. 게시물의 총 건수와 한 페이지에 보여 줄 게시물 수를 입력시 총 페이지 수를 출력하는 프로그램\n"
   ]
  },
  {
   "cell_type": "code",
   "execution_count": 11,
   "id": "c1bda645",
   "metadata": {},
   "outputs": [],
   "source": [
    "def get_num_of_pages(total_post, per_page):\n",
    "    if total_post%per_page == 0:\n",
    "        return total_post//per_page\n",
    "    else:\n",
    "        return total_post//per_page + 1 "
   ]
  },
  {
   "cell_type": "code",
   "execution_count": 12,
   "id": "e0488bf5",
   "metadata": {},
   "outputs": [],
   "source": [
    "def get_nn_by_keybrd(inputMsg):\n",
    "    num = None\n",
    "    while type(num) !=  int:\n",
    "        num = input(inputMsg)\n",
    "        try:\n",
    "            num = int(num)\n",
    "        except ValueError:\n",
    "            print(\"자연수를 입력하세요.\")\n",
    "    return num"
   ]
  },
  {
   "cell_type": "code",
   "execution_count": 13,
   "id": "2b6b91de",
   "metadata": {},
   "outputs": [
    {
     "name": "stdout",
     "output_type": "stream",
     "text": [
      "총 게시물 수 입력>50\n",
      "페이지 당 게시물 수 입력>10\n",
      "총 페이지 수는 5입니다.\n"
     ]
    }
   ],
   "source": [
    "total_post = get_nn_by_keybrd(\"총 게시물 수 입력>\")\n",
    "per_page = get_nn_by_keybrd(\"페이지 당 게시물 수 입력>\")\n",
    "num_page = get_num_of_pages(total_post, per_page)\n",
    "print(f\"총 페이지 수는 {num_page}입니다.\")"
   ]
  }
 ],
 "metadata": {
  "kernelspec": {
   "display_name": "Python 3 (ipykernel)",
   "language": "python",
   "name": "python3"
  },
  "language_info": {
   "codemirror_mode": {
    "name": "ipython",
    "version": 3
   },
   "file_extension": ".py",
   "mimetype": "text/x-python",
   "name": "python",
   "nbconvert_exporter": "python",
   "pygments_lexer": "ipython3",
   "version": "3.8.13"
  },
  "toc": {
   "base_numbering": 1,
   "nav_menu": {},
   "number_sections": true,
   "sideBar": true,
   "skip_h1_title": false,
   "title_cell": "Table of Contents",
   "title_sidebar": "Contents",
   "toc_cell": false,
   "toc_position": {
    "height": "calc(100% - 180px)",
    "left": "10px",
    "top": "150px",
    "width": "298.991px"
   },
   "toc_section_display": true,
   "toc_window_display": true
  }
 },
 "nbformat": 4,
 "nbformat_minor": 5
}
