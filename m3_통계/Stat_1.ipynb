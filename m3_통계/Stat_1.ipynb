{
 "cells": [
  {
   "cell_type": "code",
   "execution_count": 33,
   "id": "39f36a5c",
   "metadata": {},
   "outputs": [
    {
     "data": {
      "text/plain": [
       "'%.3f'"
      ]
     },
     "execution_count": 33,
     "metadata": {},
     "output_type": "execute_result"
    }
   ],
   "source": [
    "%precision 3"
   ]
  },
  {
   "cell_type": "markdown",
   "id": "7d3ff33f",
   "metadata": {},
   "source": [
    "## 1차원 데이터\n",
    "\n",
    "- 평균값(기댓값), 표본분산, 불편분산(ddof=1), 표준편차\n",
    "- 표본분산은 표본의 평균을 사용해서 분산을 계산한 값으로 분산을 과소 추정하는 경향이 있으며 그 경향을 없애기 위한 것이 불편분산임. 표본분산 보다 조금 큰 값이 된다.\n",
    "- 표준화 : 평균값이 큰 변수와 작은 변수가 섞여 있으면 다루기 어려우므로 표준화로 데이터를 비교하기 쉽게 한다.\n",
    "- 최댓값, 최솟값, 중앙값, 사분위수\n",
    "- 표본분산과 비편향 분산\n",
    " - 분산은 표본 분산과 불편분산(unbiased variance)의 두 종류가 존재\n",
    " - 표본 분산은 표본에서 계산된 분산이며 모집단에 비해 표본수가 적을 때는 표본 분산이 모분산보다 작아진다.\n",
    " - 즉 표본 분산이 모집단 분산에 맞춰서 동일하게 보정한 것을 비편향 분산이라 한다.\n",
    " - 통계학에서는 이 비편향분산을 사용하는 경우가 많다.\n",
    " - 불편분산은 n대신 n-1로 나누어 구할 수 있다.\n",
    "\n",
    "[표분분산이 분산을 과소 평가하는 이유]\n",
    "\n",
    "- 호수안에 물고기가 7마리가 있다. 몸길이 {1,2,3,4,5,6,7}, 모평균 4, 샘플링1 3마리{1,2,3} 표본평균 2, 샘플링2 {5,6,7} 표본평균 6\n",
    "- 이때 분산은 모평균을 모르기 때문에 표본평균과의 거리를 계산하며 분산을 과소평가 하게된다.\n",
    "- 표본 분산 보다 조금 더 큰 값이 되도록 보정하기 위하여 N대신 N-1로 나누어 불편분산을 구할 수 있다."
   ]
  },
  {
   "cell_type": "code",
   "execution_count": 70,
   "id": "2eed62c7",
   "metadata": {},
   "outputs": [
    {
     "data": {
      "text/html": [
       "<div>\n",
       "<style scoped>\n",
       "    .dataframe tbody tr th:only-of-type {\n",
       "        vertical-align: middle;\n",
       "    }\n",
       "\n",
       "    .dataframe tbody tr th {\n",
       "        vertical-align: top;\n",
       "    }\n",
       "\n",
       "    .dataframe thead th {\n",
       "        text-align: right;\n",
       "    }\n",
       "</style>\n",
       "<table border=\"1\" class=\"dataframe\">\n",
       "  <thead>\n",
       "    <tr style=\"text-align: right;\">\n",
       "      <th></th>\n",
       "      <th>english</th>\n",
       "      <th>mathematics</th>\n",
       "    </tr>\n",
       "    <tr>\n",
       "      <th>student number</th>\n",
       "      <th></th>\n",
       "      <th></th>\n",
       "    </tr>\n",
       "  </thead>\n",
       "  <tbody>\n",
       "    <tr>\n",
       "      <th>1</th>\n",
       "      <td>42</td>\n",
       "      <td>65</td>\n",
       "    </tr>\n",
       "    <tr>\n",
       "      <th>2</th>\n",
       "      <td>69</td>\n",
       "      <td>80</td>\n",
       "    </tr>\n",
       "    <tr>\n",
       "      <th>3</th>\n",
       "      <td>56</td>\n",
       "      <td>63</td>\n",
       "    </tr>\n",
       "    <tr>\n",
       "      <th>4</th>\n",
       "      <td>41</td>\n",
       "      <td>63</td>\n",
       "    </tr>\n",
       "    <tr>\n",
       "      <th>5</th>\n",
       "      <td>57</td>\n",
       "      <td>76</td>\n",
       "    </tr>\n",
       "  </tbody>\n",
       "</table>\n",
       "</div>"
      ],
      "text/plain": [
       "                english  mathematics\n",
       "student number                      \n",
       "1                    42           65\n",
       "2                    69           80\n",
       "3                    56           63\n",
       "4                    41           63\n",
       "5                    57           76"
      ]
     },
     "execution_count": 70,
     "metadata": {},
     "output_type": "execute_result"
    }
   ],
   "source": [
    "import pandas as pd\n",
    "import numpy as np\n",
    "\n",
    "df = pd.read_csv('dataset/ch2_scores_em.csv', index_col=\"student number\")\n",
    "df.head()"
   ]
  },
  {
   "cell_type": "code",
   "execution_count": 71,
   "id": "8e3452a3",
   "metadata": {},
   "outputs": [
    {
     "data": {
      "text/plain": [
       "array([42, 69, 56, 41, 57, 48, 65, 49, 65, 58], dtype=int64)"
      ]
     },
     "execution_count": 71,
     "metadata": {},
     "output_type": "execute_result"
    }
   ],
   "source": [
    "scores = np.array(df['english'])[:10]\n",
    "scores"
   ]
  },
  {
   "cell_type": "code",
   "execution_count": 74,
   "id": "0e451f57",
   "metadata": {},
   "outputs": [
    {
     "data": {
      "text/html": [
       "<div>\n",
       "<style scoped>\n",
       "    .dataframe tbody tr th:only-of-type {\n",
       "        vertical-align: middle;\n",
       "    }\n",
       "\n",
       "    .dataframe tbody tr th {\n",
       "        vertical-align: top;\n",
       "    }\n",
       "\n",
       "    .dataframe thead th {\n",
       "        text-align: right;\n",
       "    }\n",
       "</style>\n",
       "<table border=\"1\" class=\"dataframe\">\n",
       "  <thead>\n",
       "    <tr style=\"text-align: right;\">\n",
       "      <th></th>\n",
       "      <th>score</th>\n",
       "    </tr>\n",
       "    <tr>\n",
       "      <th>student</th>\n",
       "      <th></th>\n",
       "    </tr>\n",
       "  </thead>\n",
       "  <tbody>\n",
       "    <tr>\n",
       "      <th>A</th>\n",
       "      <td>42</td>\n",
       "    </tr>\n",
       "    <tr>\n",
       "      <th>B</th>\n",
       "      <td>69</td>\n",
       "    </tr>\n",
       "    <tr>\n",
       "      <th>C</th>\n",
       "      <td>56</td>\n",
       "    </tr>\n",
       "    <tr>\n",
       "      <th>D</th>\n",
       "      <td>41</td>\n",
       "    </tr>\n",
       "    <tr>\n",
       "      <th>E</th>\n",
       "      <td>57</td>\n",
       "    </tr>\n",
       "    <tr>\n",
       "      <th>F</th>\n",
       "      <td>48</td>\n",
       "    </tr>\n",
       "    <tr>\n",
       "      <th>G</th>\n",
       "      <td>65</td>\n",
       "    </tr>\n",
       "    <tr>\n",
       "      <th>H</th>\n",
       "      <td>49</td>\n",
       "    </tr>\n",
       "    <tr>\n",
       "      <th>I</th>\n",
       "      <td>65</td>\n",
       "    </tr>\n",
       "    <tr>\n",
       "      <th>J</th>\n",
       "      <td>58</td>\n",
       "    </tr>\n",
       "  </tbody>\n",
       "</table>\n",
       "</div>"
      ],
      "text/plain": [
       "         score\n",
       "student       \n",
       "A           42\n",
       "B           69\n",
       "C           56\n",
       "D           41\n",
       "E           57\n",
       "F           48\n",
       "G           65\n",
       "H           49\n",
       "I           65\n",
       "J           58"
      ]
     },
     "execution_count": 74,
     "metadata": {},
     "output_type": "execute_result"
    }
   ],
   "source": [
    "# p.32\n",
    "scores_df = pd.DataFrame({'score':scores},\n",
    "                        index=pd.Index(['A','B','C','D','E','F','G','H','I','J'], name = 'student'))\n",
    "scores_df"
   ]
  },
  {
   "cell_type": "code",
   "execution_count": 76,
   "id": "62017078",
   "metadata": {},
   "outputs": [
    {
     "name": "stdout",
     "output_type": "stream",
     "text": [
      "55.0\n",
      "55.0\n",
      "score    55.0\n",
      "dtype: float64\n"
     ]
    }
   ],
   "source": [
    "# p.33 평균값\n",
    "print(sum(scores) / len(scores))\n",
    "print(np.mean(scores))\n",
    "# 데이터프레임에선 mean\n",
    "print(scores_df.mean())"
   ]
  },
  {
   "cell_type": "code",
   "execution_count": 77,
   "id": "bee51291",
   "metadata": {},
   "outputs": [
    {
     "data": {
      "text/plain": [
       "array([41, 42, 48, 49, 56, 57, 58, 65, 65, 69], dtype=int64)"
      ]
     },
     "execution_count": 77,
     "metadata": {},
     "output_type": "execute_result"
    }
   ],
   "source": [
    "# 중앙값 p.36\n",
    "sorted_scores = np.sort(scores)\n",
    "sorted_scores"
   ]
  },
  {
   "cell_type": "code",
   "execution_count": 79,
   "id": "d15b9c6f",
   "metadata": {},
   "outputs": [
    {
     "data": {
      "text/plain": [
       "56.5"
      ]
     },
     "execution_count": 79,
     "metadata": {},
     "output_type": "execute_result"
    }
   ],
   "source": [
    "# 인덱스로 계산. 인덱스 0부터 시작하기때문에 1 높이나옴\n",
    "n = len(sorted_scores)\n",
    "if n % 2 == 0 :\n",
    "    m0 = sorted_scores[n//2 - 1]\n",
    "    m1 = sorted_scores[n//2]\n",
    "    median = (m0 + m1) / 2\n",
    "else :\n",
    "    median = sorted_scores[(n+1)//2 - 1]\n",
    "median"
   ]
  },
  {
   "cell_type": "code",
   "execution_count": 80,
   "id": "0962bfd3",
   "metadata": {},
   "outputs": [
    {
     "data": {
      "text/plain": [
       "56.5"
      ]
     },
     "execution_count": 80,
     "metadata": {},
     "output_type": "execute_result"
    }
   ],
   "source": [
    "# 중앙값\n",
    "np.median(scores)"
   ]
  },
  {
   "cell_type": "code",
   "execution_count": 81,
   "id": "eb05f8df",
   "metadata": {},
   "outputs": [
    {
     "data": {
      "text/plain": [
       "score    56.5\n",
       "dtype: float64"
      ]
     },
     "execution_count": 81,
     "metadata": {},
     "output_type": "execute_result"
    }
   ],
   "source": [
    "scores_df.median()"
   ]
  },
  {
   "cell_type": "code",
   "execution_count": 82,
   "id": "7b14593e",
   "metadata": {},
   "outputs": [
    {
     "data": {
      "text/plain": [
       "0    1\n",
       "dtype: int64"
      ]
     },
     "execution_count": 82,
     "metadata": {},
     "output_type": "execute_result"
    }
   ],
   "source": [
    "# mode() : 최빈값 (질적데이터 구할 때 사용)\n",
    "pd.Series([1,1,1,2,2,3]).mode()"
   ]
  },
  {
   "cell_type": "code",
   "execution_count": 83,
   "id": "b56a674e",
   "metadata": {},
   "outputs": [
    {
     "data": {
      "text/plain": [
       "0    1\n",
       "1    2\n",
       "2    3\n",
       "3    4\n",
       "4    5\n",
       "dtype: int64"
      ]
     },
     "execution_count": 83,
     "metadata": {},
     "output_type": "execute_result"
    }
   ],
   "source": [
    "pd.Series([1,2,3,4,5]).mode()"
   ]
  },
  {
   "cell_type": "code",
   "execution_count": 85,
   "id": "e2955aa1",
   "metadata": {},
   "outputs": [
    {
     "data": {
      "text/plain": [
       "array([-13.,  14.,   1., -14.,   2.,  -7.,  10.,  -6.,  10.,   3.])"
      ]
     },
     "execution_count": 85,
     "metadata": {},
     "output_type": "execute_result"
    }
   ],
   "source": [
    "# 편차\n",
    "mean = np.mean(scores)\n",
    "deviation = scores - mean\n",
    "deviation"
   ]
  },
  {
   "cell_type": "code",
   "execution_count": 86,
   "id": "8886cea5",
   "metadata": {},
   "outputs": [
    {
     "data": {
      "text/plain": [
       "array([-5.,  5.,  3., -1., -4.,  1.,  2., -2., -3.,  4.])"
      ]
     },
     "execution_count": 86,
     "metadata": {},
     "output_type": "execute_result"
    }
   ],
   "source": [
    "another_scores = [50, 60, 58, 54, 51, 56, 57, 53, 52, 59]\n",
    "another_mean = np.mean(another_scores)\n",
    "another_deviation = another_scores - another_mean\n",
    "another_deviation"
   ]
  },
  {
   "cell_type": "code",
   "execution_count": 88,
   "id": "09b0a0ef",
   "metadata": {},
   "outputs": [
    {
     "name": "stdout",
     "output_type": "stream",
     "text": [
      "0.0\n",
      "0.0\n"
     ]
    }
   ],
   "source": [
    "print(np.mean(deviation))\n",
    "print(np.mean(another_deviation))"
   ]
  },
  {
   "cell_type": "code",
   "execution_count": 89,
   "id": "adf4bd01",
   "metadata": {},
   "outputs": [
    {
     "data": {
      "text/html": [
       "<div>\n",
       "<style scoped>\n",
       "    .dataframe tbody tr th:only-of-type {\n",
       "        vertical-align: middle;\n",
       "    }\n",
       "\n",
       "    .dataframe tbody tr th {\n",
       "        vertical-align: top;\n",
       "    }\n",
       "\n",
       "    .dataframe thead th {\n",
       "        text-align: right;\n",
       "    }\n",
       "</style>\n",
       "<table border=\"1\" class=\"dataframe\">\n",
       "  <thead>\n",
       "    <tr style=\"text-align: right;\">\n",
       "      <th></th>\n",
       "      <th>score</th>\n",
       "      <th>deviation</th>\n",
       "    </tr>\n",
       "    <tr>\n",
       "      <th>student</th>\n",
       "      <th></th>\n",
       "      <th></th>\n",
       "    </tr>\n",
       "  </thead>\n",
       "  <tbody>\n",
       "    <tr>\n",
       "      <th>A</th>\n",
       "      <td>42</td>\n",
       "      <td>-13.0</td>\n",
       "    </tr>\n",
       "    <tr>\n",
       "      <th>B</th>\n",
       "      <td>69</td>\n",
       "      <td>14.0</td>\n",
       "    </tr>\n",
       "    <tr>\n",
       "      <th>C</th>\n",
       "      <td>56</td>\n",
       "      <td>1.0</td>\n",
       "    </tr>\n",
       "    <tr>\n",
       "      <th>D</th>\n",
       "      <td>41</td>\n",
       "      <td>-14.0</td>\n",
       "    </tr>\n",
       "    <tr>\n",
       "      <th>E</th>\n",
       "      <td>57</td>\n",
       "      <td>2.0</td>\n",
       "    </tr>\n",
       "    <tr>\n",
       "      <th>F</th>\n",
       "      <td>48</td>\n",
       "      <td>-7.0</td>\n",
       "    </tr>\n",
       "    <tr>\n",
       "      <th>G</th>\n",
       "      <td>65</td>\n",
       "      <td>10.0</td>\n",
       "    </tr>\n",
       "    <tr>\n",
       "      <th>H</th>\n",
       "      <td>49</td>\n",
       "      <td>-6.0</td>\n",
       "    </tr>\n",
       "    <tr>\n",
       "      <th>I</th>\n",
       "      <td>65</td>\n",
       "      <td>10.0</td>\n",
       "    </tr>\n",
       "    <tr>\n",
       "      <th>J</th>\n",
       "      <td>58</td>\n",
       "      <td>3.0</td>\n",
       "    </tr>\n",
       "  </tbody>\n",
       "</table>\n",
       "</div>"
      ],
      "text/plain": [
       "         score  deviation\n",
       "student                  \n",
       "A           42      -13.0\n",
       "B           69       14.0\n",
       "C           56        1.0\n",
       "D           41      -14.0\n",
       "E           57        2.0\n",
       "F           48       -7.0\n",
       "G           65       10.0\n",
       "H           49       -6.0\n",
       "I           65       10.0\n",
       "J           58        3.0"
      ]
     },
     "execution_count": 89,
     "metadata": {},
     "output_type": "execute_result"
    }
   ],
   "source": [
    "summary_df = scores_df.copy()\n",
    "summary_df['deviation'] = deviation\n",
    "summary_df"
   ]
  },
  {
   "cell_type": "code",
   "execution_count": 90,
   "id": "714665db",
   "metadata": {},
   "outputs": [
    {
     "data": {
      "text/plain": [
       "score        55.0\n",
       "deviation     0.0\n",
       "dtype: float64"
      ]
     },
     "execution_count": 90,
     "metadata": {},
     "output_type": "execute_result"
    }
   ],
   "source": [
    "summary_df.mean()"
   ]
  },
  {
   "cell_type": "code",
   "execution_count": 92,
   "id": "e55b7731",
   "metadata": {},
   "outputs": [
    {
     "data": {
      "text/plain": [
       "86.0"
      ]
     },
     "execution_count": 92,
     "metadata": {},
     "output_type": "execute_result"
    }
   ],
   "source": [
    "# 분산 p.44\n",
    "np.mean(deviation ** 2)"
   ]
  },
  {
   "cell_type": "code",
   "execution_count": 94,
   "id": "7170557f",
   "metadata": {},
   "outputs": [
    {
     "data": {
      "text/plain": [
       "86.0"
      ]
     },
     "execution_count": 94,
     "metadata": {},
     "output_type": "execute_result"
    }
   ],
   "source": [
    "# 분산 : np.var()\n",
    "np.var(scores)"
   ]
  },
  {
   "cell_type": "code",
   "execution_count": 99,
   "id": "72adefb1",
   "metadata": {},
   "outputs": [
    {
     "name": "stdout",
     "output_type": "stream",
     "text": [
      "score    95.555556\n",
      "dtype: float64\n",
      "score    86.0\n",
      "dtype: float64\n"
     ]
    }
   ],
   "source": [
    "# 판다스는 불편분산(ddof=1)이 디폴트.\n",
    "print(scores_df.var())\n",
    "print(scores_df.var(ddof=0)) # 표본분산"
   ]
  },
  {
   "cell_type": "code",
   "execution_count": 100,
   "id": "34fdbfbe",
   "metadata": {},
   "outputs": [
    {
     "data": {
      "text/html": [
       "<div>\n",
       "<style scoped>\n",
       "    .dataframe tbody tr th:only-of-type {\n",
       "        vertical-align: middle;\n",
       "    }\n",
       "\n",
       "    .dataframe tbody tr th {\n",
       "        vertical-align: top;\n",
       "    }\n",
       "\n",
       "    .dataframe thead th {\n",
       "        text-align: right;\n",
       "    }\n",
       "</style>\n",
       "<table border=\"1\" class=\"dataframe\">\n",
       "  <thead>\n",
       "    <tr style=\"text-align: right;\">\n",
       "      <th></th>\n",
       "      <th>score</th>\n",
       "      <th>deviation</th>\n",
       "      <th>square of deviation</th>\n",
       "    </tr>\n",
       "    <tr>\n",
       "      <th>student</th>\n",
       "      <th></th>\n",
       "      <th></th>\n",
       "      <th></th>\n",
       "    </tr>\n",
       "  </thead>\n",
       "  <tbody>\n",
       "    <tr>\n",
       "      <th>A</th>\n",
       "      <td>42</td>\n",
       "      <td>-13.0</td>\n",
       "      <td>169.0</td>\n",
       "    </tr>\n",
       "    <tr>\n",
       "      <th>B</th>\n",
       "      <td>69</td>\n",
       "      <td>14.0</td>\n",
       "      <td>196.0</td>\n",
       "    </tr>\n",
       "    <tr>\n",
       "      <th>C</th>\n",
       "      <td>56</td>\n",
       "      <td>1.0</td>\n",
       "      <td>1.0</td>\n",
       "    </tr>\n",
       "    <tr>\n",
       "      <th>D</th>\n",
       "      <td>41</td>\n",
       "      <td>-14.0</td>\n",
       "      <td>196.0</td>\n",
       "    </tr>\n",
       "    <tr>\n",
       "      <th>E</th>\n",
       "      <td>57</td>\n",
       "      <td>2.0</td>\n",
       "      <td>4.0</td>\n",
       "    </tr>\n",
       "    <tr>\n",
       "      <th>F</th>\n",
       "      <td>48</td>\n",
       "      <td>-7.0</td>\n",
       "      <td>49.0</td>\n",
       "    </tr>\n",
       "    <tr>\n",
       "      <th>G</th>\n",
       "      <td>65</td>\n",
       "      <td>10.0</td>\n",
       "      <td>100.0</td>\n",
       "    </tr>\n",
       "    <tr>\n",
       "      <th>H</th>\n",
       "      <td>49</td>\n",
       "      <td>-6.0</td>\n",
       "      <td>36.0</td>\n",
       "    </tr>\n",
       "    <tr>\n",
       "      <th>I</th>\n",
       "      <td>65</td>\n",
       "      <td>10.0</td>\n",
       "      <td>100.0</td>\n",
       "    </tr>\n",
       "    <tr>\n",
       "      <th>J</th>\n",
       "      <td>58</td>\n",
       "      <td>3.0</td>\n",
       "      <td>9.0</td>\n",
       "    </tr>\n",
       "  </tbody>\n",
       "</table>\n",
       "</div>"
      ],
      "text/plain": [
       "         score  deviation  square of deviation\n",
       "student                                       \n",
       "A           42      -13.0                169.0\n",
       "B           69       14.0                196.0\n",
       "C           56        1.0                  1.0\n",
       "D           41      -14.0                196.0\n",
       "E           57        2.0                  4.0\n",
       "F           48       -7.0                 49.0\n",
       "G           65       10.0                100.0\n",
       "H           49       -6.0                 36.0\n",
       "I           65       10.0                100.0\n",
       "J           58        3.0                  9.0"
      ]
     },
     "execution_count": 100,
     "metadata": {},
     "output_type": "execute_result"
    }
   ],
   "source": [
    "summary_df['square of deviation'] = np.square(deviation)\n",
    "summary_df"
   ]
  },
  {
   "cell_type": "code",
   "execution_count": 102,
   "id": "dce61113",
   "metadata": {},
   "outputs": [
    {
     "data": {
      "text/plain": [
       "score                  55.0\n",
       "deviation               0.0\n",
       "square of deviation    86.0\n",
       "dtype: float64"
      ]
     },
     "execution_count": 102,
     "metadata": {},
     "output_type": "execute_result"
    }
   ],
   "source": [
    "summary_df.mean()"
   ]
  },
  {
   "cell_type": "code",
   "execution_count": 110,
   "id": "014ea3e3",
   "metadata": {},
   "outputs": [
    {
     "name": "stdout",
     "output_type": "stream",
     "text": [
      "9.273618495495704\n",
      "9.273618495495704\n"
     ]
    }
   ],
   "source": [
    "# 표준편차 p.48. 분산의 루트는 표준편차\n",
    "print(np.sqrt(np.var(scores, ddof = 0)))\n",
    "print(np.std(scores, ddof=0))"
   ]
  },
  {
   "cell_type": "code",
   "execution_count": 111,
   "id": "c9536255",
   "metadata": {},
   "outputs": [
    {
     "data": {
      "text/plain": [
       "28"
      ]
     },
     "execution_count": 111,
     "metadata": {},
     "output_type": "execute_result"
    }
   ],
   "source": [
    "# 범위 p.49\n",
    "np.max(scores) - np.min(scores)"
   ]
  },
  {
   "cell_type": "code",
   "execution_count": 112,
   "id": "eb7e3fd0",
   "metadata": {},
   "outputs": [
    {
     "data": {
      "text/plain": [
       "15.0"
      ]
     },
     "execution_count": 112,
     "metadata": {},
     "output_type": "execute_result"
    }
   ],
   "source": [
    "scores_Q1 = np.percentile(scores, 25)\n",
    "scores_Q3 = np.percentile(scores, 75)\n",
    "scores_IQR = scores_Q3 - scores_Q1\n",
    "scores_IQR"
   ]
  },
  {
   "cell_type": "code",
   "execution_count": 113,
   "id": "ef572b9c",
   "metadata": {},
   "outputs": [
    {
     "data": {
      "text/plain": [
       "count    10.000000\n",
       "mean     55.000000\n",
       "std       9.775252\n",
       "min      41.000000\n",
       "25%      48.250000\n",
       "50%      56.500000\n",
       "75%      63.250000\n",
       "max      69.000000\n",
       "dtype: float64"
      ]
     },
     "execution_count": 113,
     "metadata": {},
     "output_type": "execute_result"
    }
   ],
   "source": [
    "pd.Series(scores).describe()"
   ]
  },
  {
   "cell_type": "markdown",
   "id": "3a676ed4",
   "metadata": {},
   "source": [
    "- 과제 08/22 (2)\n",
    "\n",
    "20개의 원소로 구성되는 배열을 만든 후 평균, 편차 및 편차의 합을 구하세요."
   ]
  },
  {
   "cell_type": "code",
   "execution_count": 17,
   "id": "299c8af4",
   "metadata": {},
   "outputs": [
    {
     "name": "stdout",
     "output_type": "stream",
     "text": [
      "배열 : [ 0  1  2  3  4  5  6  7  8  9 10 11 12 13 14 15 16 17 18 19]\n",
      "평균 : 9.5\n",
      "편차 : [-9.5 -8.5 -7.5 -6.5 -5.5 -4.5 -3.5 -2.5 -1.5 -0.5  0.5  1.5  2.5  3.5\n",
      "  4.5  5.5  6.5  7.5  8.5  9.5]\n",
      "편차의 합 : 0.0\n"
     ]
    }
   ],
   "source": [
    "# np.array, sum()/len(), 편차 39p, 편차의 합,평균=0(p40,41)\n",
    "import numpy as np\n",
    "# 배열\n",
    "ar = np.array(range(20))\n",
    "print(f'배열 : {ar}')\n",
    "# 평균\n",
    "mean = sum(ar)/len(ar) # np.mean(ar)\n",
    "print(f'평균 : {mean}')\n",
    "# 편차\n",
    "deviation = ar - mean\n",
    "print(f'편차 : {deviation}')\n",
    "# 편차의 합\n",
    "print(f'편차의 합 : {sum(deviation)}')"
   ]
  },
  {
   "cell_type": "markdown",
   "id": "36aed872",
   "metadata": {},
   "source": [
    "- 과제 08/22 (3)\n",
    "\n",
    "중앙값 > 평균값 인 경우와 중앙값 < 평균값인 두가지 집합에서 나타나는 가능성있는 특징을 사례로 설명하세요."
   ]
  },
  {
   "cell_type": "code",
   "execution_count": null,
   "id": "06626e53",
   "metadata": {},
   "outputs": [],
   "source": [
    "# p.35. 큰 이상치가 있으면(1,2,3,4,990) 평균이 너무 커짐 (중앙값:3, 평균값:200)\n",
    "# (3000,3500,4000, 100) : 작은 이상치가 있으면 중앙값:3250, 평균값 2650\n",
    "# 중앙값 np.median()\n",
    "\n"
   ]
  },
  {
   "cell_type": "markdown",
   "id": "d88e10f0",
   "metadata": {},
   "source": [
    "- 과제 08/22 (4)\n",
    "\n",
    "4분위를 이용하여 이상치를 구하는 사례를 생성하고 시각화 및 이상치 산출하는 과정을 설명하세요."
   ]
  },
  {
   "cell_type": "code",
   "execution_count": 61,
   "id": "858f18c6",
   "metadata": {},
   "outputs": [
    {
     "data": {
      "text/html": [
       "<div>\n",
       "<style scoped>\n",
       "    .dataframe tbody tr th:only-of-type {\n",
       "        vertical-align: middle;\n",
       "    }\n",
       "\n",
       "    .dataframe tbody tr th {\n",
       "        vertical-align: top;\n",
       "    }\n",
       "\n",
       "    .dataframe thead th {\n",
       "        text-align: right;\n",
       "    }\n",
       "</style>\n",
       "<table border=\"1\" class=\"dataframe\">\n",
       "  <thead>\n",
       "    <tr style=\"text-align: right;\">\n",
       "      <th></th>\n",
       "      <th>Date</th>\n",
       "      <th>Close</th>\n",
       "      <th>Start</th>\n",
       "      <th>High</th>\n",
       "      <th>Low</th>\n",
       "      <th>Volume</th>\n",
       "    </tr>\n",
       "  </thead>\n",
       "  <tbody>\n",
       "    <tr>\n",
       "      <th>0</th>\n",
       "      <td>2018-07-02</td>\n",
       "      <td>10100</td>\n",
       "      <td>10850</td>\n",
       "      <td>10900</td>\n",
       "      <td>10000</td>\n",
       "      <td>137977</td>\n",
       "    </tr>\n",
       "    <tr>\n",
       "      <th>1</th>\n",
       "      <td>2018-06-29</td>\n",
       "      <td>10700</td>\n",
       "      <td>10550</td>\n",
       "      <td>10900</td>\n",
       "      <td>9990</td>\n",
       "      <td>170253</td>\n",
       "    </tr>\n",
       "    <tr>\n",
       "      <th>2</th>\n",
       "      <td>2018-06-28</td>\n",
       "      <td>10400</td>\n",
       "      <td>10900</td>\n",
       "      <td>10950</td>\n",
       "      <td>10150</td>\n",
       "      <td>155769</td>\n",
       "    </tr>\n",
       "    <tr>\n",
       "      <th>3</th>\n",
       "      <td>2018-06-27</td>\n",
       "      <td>10900</td>\n",
       "      <td>10800</td>\n",
       "      <td>11050</td>\n",
       "      <td>10500</td>\n",
       "      <td>133548</td>\n",
       "    </tr>\n",
       "    <tr>\n",
       "      <th>4</th>\n",
       "      <td>2018-06-26</td>\n",
       "      <td>10800</td>\n",
       "      <td>10900</td>\n",
       "      <td>11000</td>\n",
       "      <td>10700</td>\n",
       "      <td>63039</td>\n",
       "    </tr>\n",
       "  </tbody>\n",
       "</table>\n",
       "</div>"
      ],
      "text/plain": [
       "         Date  Close  Start   High    Low  Volume\n",
       "0  2018-07-02  10100  10850  10900  10000  137977\n",
       "1  2018-06-29  10700  10550  10900   9990  170253\n",
       "2  2018-06-28  10400  10900  10950  10150  155769\n",
       "3  2018-06-27  10900  10800  11050  10500  133548\n",
       "4  2018-06-26  10800  10900  11000  10700   63039"
      ]
     },
     "execution_count": 61,
     "metadata": {},
     "output_type": "execute_result"
    }
   ],
   "source": [
    "# p.50 사분위 설명\n",
    "import pandas as pd\n",
    "import numpy as np\n",
    "\n",
    "df = pd.read_csv('dataset/주가데이터.csv')\n",
    "df.head()"
   ]
  },
  {
   "cell_type": "code",
   "execution_count": 62,
   "id": "d1b969bb",
   "metadata": {},
   "outputs": [
    {
     "data": {
      "text/plain": [
       "count       20.000000\n",
       "mean     11755.000000\n",
       "std        865.250192\n",
       "min      10550.000000\n",
       "25%      11125.000000\n",
       "50%      11800.000000\n",
       "75%      12050.000000\n",
       "max      13600.000000\n",
       "Name: Start, dtype: float64"
      ]
     },
     "execution_count": 62,
     "metadata": {},
     "output_type": "execute_result"
    }
   ],
   "source": [
    "# 시가 확인\n",
    "df.Start.describe()"
   ]
  },
  {
   "cell_type": "code",
   "execution_count": 63,
   "id": "6422f88e",
   "metadata": {},
   "outputs": [
    {
     "data": {
      "image/png": "[encoded data removed]",
      "text/plain": [
       "<Figure size 432x288 with 1 Axes>"
      ]
     },
     "metadata": {
      "needs_background": "light"
     },
     "output_type": "display_data"
    }
   ],
   "source": [
    "import matplotlib.pyplot as plt\n",
    "\n",
    "df.Start.plot(kind='box')\n",
    "plt.show() # 맨 위에 이상치 확인"
   ]
  },
  {
   "cell_type": "code",
   "execution_count": 64,
   "id": "a783bc33",
   "metadata": {},
   "outputs": [
    {
     "name": "stdout",
     "output_type": "stream",
     "text": [
      "Q1 : 11125.0\n",
      "Q3 : 12050.0\n",
      "13437.5를 초과하는 값은 이상치이다.\n"
     ]
    }
   ],
   "source": [
    "# IQR(InterQuartile Range): 제 3사분위수 - 제1사분위수. p50\n",
    "# upper whisker: Q3 + 1.5 x IQR 이내인 값중에서 최댓값\n",
    "# 이상치: upper whisker를 벗어나는 값\n",
    "\n",
    "Q1 = np.percentile(df.Start, 25)   #df.Start.describe()['25%'] 도 표기상 같음\n",
    "Q3 = np.percentile(df.Start, 75)\n",
    "print(f'Q1 : {Q1}')\n",
    "print(f'Q3 : {Q3}')\n",
    "\n",
    "IQR = Q3-Q1\n",
    "uw = Q3 + IQR*1.5   # 이 수치 이내의 값 중 최댓값이 upper whisker\n",
    "print(f'{uw}를 초과하는 값은 이상치이다.')"
   ]
  },
  {
   "cell_type": "code",
   "execution_count": 68,
   "id": "0973aa2e",
   "metadata": {},
   "outputs": [
    {
     "data": {
      "text/html": [
       "<div>\n",
       "<style scoped>\n",
       "    .dataframe tbody tr th:only-of-type {\n",
       "        vertical-align: middle;\n",
       "    }\n",
       "\n",
       "    .dataframe tbody tr th {\n",
       "        vertical-align: top;\n",
       "    }\n",
       "\n",
       "    .dataframe thead th {\n",
       "        text-align: right;\n",
       "    }\n",
       "</style>\n",
       "<table border=\"1\" class=\"dataframe\">\n",
       "  <thead>\n",
       "    <tr style=\"text-align: right;\">\n",
       "      <th></th>\n",
       "      <th>Date</th>\n",
       "      <th>Close</th>\n",
       "      <th>Start</th>\n",
       "      <th>High</th>\n",
       "      <th>Low</th>\n",
       "      <th>Volume</th>\n",
       "    </tr>\n",
       "  </thead>\n",
       "  <tbody>\n",
       "    <tr>\n",
       "      <th>11</th>\n",
       "      <td>2018-06-15</td>\n",
       "      <td>13400</td>\n",
       "      <td>13600</td>\n",
       "      <td>13600</td>\n",
       "      <td>12900</td>\n",
       "      <td>201376</td>\n",
       "    </tr>\n",
       "  </tbody>\n",
       "</table>\n",
       "</div>"
      ],
      "text/plain": [
       "          Date  Close  Start   High    Low  Volume\n",
       "11  2018-06-15  13400  13600  13600  12900  201376"
      ]
     },
     "execution_count": 68,
     "metadata": {},
     "output_type": "execute_result"
    }
   ],
   "source": [
    "# Start컬럼의 이상치 추출 : df1\n",
    "df1 = df[df['Start'] > uw]\n",
    "df1"
   ]
  },
  {
   "cell_type": "code",
   "execution_count": 69,
   "id": "48f424a0",
   "metadata": {},
   "outputs": [
    {
     "data": {
      "text/html": [
       "<div>\n",
       "<style scoped>\n",
       "    .dataframe tbody tr th:only-of-type {\n",
       "        vertical-align: middle;\n",
       "    }\n",
       "\n",
       "    .dataframe tbody tr th {\n",
       "        vertical-align: top;\n",
       "    }\n",
       "\n",
       "    .dataframe thead th {\n",
       "        text-align: right;\n",
       "    }\n",
       "</style>\n",
       "<table border=\"1\" class=\"dataframe\">\n",
       "  <thead>\n",
       "    <tr style=\"text-align: right;\">\n",
       "      <th></th>\n",
       "      <th>Date</th>\n",
       "      <th>Close</th>\n",
       "      <th>Start</th>\n",
       "      <th>High</th>\n",
       "      <th>Low</th>\n",
       "      <th>Volume</th>\n",
       "    </tr>\n",
       "  </thead>\n",
       "  <tbody>\n",
       "    <tr>\n",
       "      <th>0</th>\n",
       "      <td>2018-07-02</td>\n",
       "      <td>10100</td>\n",
       "      <td>10850</td>\n",
       "      <td>10900</td>\n",
       "      <td>10000</td>\n",
       "      <td>137977</td>\n",
       "    </tr>\n",
       "    <tr>\n",
       "      <th>1</th>\n",
       "      <td>2018-06-29</td>\n",
       "      <td>10700</td>\n",
       "      <td>10550</td>\n",
       "      <td>10900</td>\n",
       "      <td>9990</td>\n",
       "      <td>170253</td>\n",
       "    </tr>\n",
       "    <tr>\n",
       "      <th>2</th>\n",
       "      <td>2018-06-28</td>\n",
       "      <td>10400</td>\n",
       "      <td>10900</td>\n",
       "      <td>10950</td>\n",
       "      <td>10150</td>\n",
       "      <td>155769</td>\n",
       "    </tr>\n",
       "    <tr>\n",
       "      <th>3</th>\n",
       "      <td>2018-06-27</td>\n",
       "      <td>10900</td>\n",
       "      <td>10800</td>\n",
       "      <td>11050</td>\n",
       "      <td>10500</td>\n",
       "      <td>133548</td>\n",
       "    </tr>\n",
       "    <tr>\n",
       "      <th>4</th>\n",
       "      <td>2018-06-26</td>\n",
       "      <td>10800</td>\n",
       "      <td>10900</td>\n",
       "      <td>11000</td>\n",
       "      <td>10700</td>\n",
       "      <td>63039</td>\n",
       "    </tr>\n",
       "    <tr>\n",
       "      <th>5</th>\n",
       "      <td>2018-06-25</td>\n",
       "      <td>11150</td>\n",
       "      <td>11400</td>\n",
       "      <td>11450</td>\n",
       "      <td>11000</td>\n",
       "      <td>55519</td>\n",
       "    </tr>\n",
       "    <tr>\n",
       "      <th>6</th>\n",
       "      <td>2018-06-22</td>\n",
       "      <td>11300</td>\n",
       "      <td>11250</td>\n",
       "      <td>11450</td>\n",
       "      <td>10750</td>\n",
       "      <td>134805</td>\n",
       "    </tr>\n",
       "    <tr>\n",
       "      <th>7</th>\n",
       "      <td>2018-06-21</td>\n",
       "      <td>11200</td>\n",
       "      <td>11350</td>\n",
       "      <td>11750</td>\n",
       "      <td>11200</td>\n",
       "      <td>133002</td>\n",
       "    </tr>\n",
       "    <tr>\n",
       "      <th>8</th>\n",
       "      <td>2018-06-20</td>\n",
       "      <td>11550</td>\n",
       "      <td>11200</td>\n",
       "      <td>11600</td>\n",
       "      <td>10900</td>\n",
       "      <td>308596</td>\n",
       "    </tr>\n",
       "    <tr>\n",
       "      <th>9</th>\n",
       "      <td>2018-06-19</td>\n",
       "      <td>11300</td>\n",
       "      <td>11850</td>\n",
       "      <td>11950</td>\n",
       "      <td>11300</td>\n",
       "      <td>180656</td>\n",
       "    </tr>\n",
       "    <tr>\n",
       "      <th>10</th>\n",
       "      <td>2018-06-18</td>\n",
       "      <td>12000</td>\n",
       "      <td>13400</td>\n",
       "      <td>13400</td>\n",
       "      <td>12000</td>\n",
       "      <td>309787</td>\n",
       "    </tr>\n",
       "    <tr>\n",
       "      <th>12</th>\n",
       "      <td>2018-06-14</td>\n",
       "      <td>13450</td>\n",
       "      <td>13200</td>\n",
       "      <td>13700</td>\n",
       "      <td>13150</td>\n",
       "      <td>347451</td>\n",
       "    </tr>\n",
       "    <tr>\n",
       "      <th>13</th>\n",
       "      <td>2018-06-12</td>\n",
       "      <td>13200</td>\n",
       "      <td>12200</td>\n",
       "      <td>13300</td>\n",
       "      <td>12050</td>\n",
       "      <td>558148</td>\n",
       "    </tr>\n",
       "    <tr>\n",
       "      <th>14</th>\n",
       "      <td>2018-06-11</td>\n",
       "      <td>11950</td>\n",
       "      <td>12000</td>\n",
       "      <td>12250</td>\n",
       "      <td>11950</td>\n",
       "      <td>62293</td>\n",
       "    </tr>\n",
       "    <tr>\n",
       "      <th>15</th>\n",
       "      <td>2018-06-08</td>\n",
       "      <td>11950</td>\n",
       "      <td>11950</td>\n",
       "      <td>12200</td>\n",
       "      <td>11800</td>\n",
       "      <td>59258</td>\n",
       "    </tr>\n",
       "    <tr>\n",
       "      <th>16</th>\n",
       "      <td>2018-06-07</td>\n",
       "      <td>11950</td>\n",
       "      <td>12200</td>\n",
       "      <td>12300</td>\n",
       "      <td>11900</td>\n",
       "      <td>49088</td>\n",
       "    </tr>\n",
       "    <tr>\n",
       "      <th>17</th>\n",
       "      <td>2018-06-05</td>\n",
       "      <td>12150</td>\n",
       "      <td>11800</td>\n",
       "      <td>12250</td>\n",
       "      <td>11800</td>\n",
       "      <td>42485</td>\n",
       "    </tr>\n",
       "    <tr>\n",
       "      <th>18</th>\n",
       "      <td>2018-06-04</td>\n",
       "      <td>11900</td>\n",
       "      <td>11900</td>\n",
       "      <td>12200</td>\n",
       "      <td>11700</td>\n",
       "      <td>25171</td>\n",
       "    </tr>\n",
       "    <tr>\n",
       "      <th>19</th>\n",
       "      <td>2018-06-01</td>\n",
       "      <td>11900</td>\n",
       "      <td>11800</td>\n",
       "      <td>12100</td>\n",
       "      <td>11750</td>\n",
       "      <td>32062</td>\n",
       "    </tr>\n",
       "  </tbody>\n",
       "</table>\n",
       "</div>"
      ],
      "text/plain": [
       "          Date  Close  Start   High    Low  Volume\n",
       "0   2018-07-02  10100  10850  10900  10000  137977\n",
       "1   2018-06-29  10700  10550  10900   9990  170253\n",
       "2   2018-06-28  10400  10900  10950  10150  155769\n",
       "3   2018-06-27  10900  10800  11050  10500  133548\n",
       "4   2018-06-26  10800  10900  11000  10700   63039\n",
       "5   2018-06-25  11150  11400  11450  11000   55519\n",
       "6   2018-06-22  11300  11250  11450  10750  134805\n",
       "7   2018-06-21  11200  11350  11750  11200  133002\n",
       "8   2018-06-20  11550  11200  11600  10900  308596\n",
       "9   2018-06-19  11300  11850  11950  11300  180656\n",
       "10  2018-06-18  12000  13400  13400  12000  309787\n",
       "12  2018-06-14  13450  13200  13700  13150  347451\n",
       "13  2018-06-12  13200  12200  13300  12050  558148\n",
       "14  2018-06-11  11950  12000  12250  11950   62293\n",
       "15  2018-06-08  11950  11950  12200  11800   59258\n",
       "16  2018-06-07  11950  12200  12300  11900   49088\n",
       "17  2018-06-05  12150  11800  12250  11800   42485\n",
       "18  2018-06-04  11900  11900  12200  11700   25171\n",
       "19  2018-06-01  11900  11800  12100  11750   32062"
      ]
     },
     "execution_count": 69,
     "metadata": {},
     "output_type": "execute_result"
    }
   ],
   "source": [
    "# Start컬럼의 이상치 제거\n",
    "df2 = df.drop(df1.index)\n",
    "df2"
   ]
  },
  {
   "cell_type": "markdown",
   "id": "cf485a0e",
   "metadata": {},
   "source": [
    "- 과제 08/22 (5)\n",
    "\n",
    "표본분산과 불편분산의 차이의 사례를 들어 설명하세요."
   ]
  },
  {
   "cell_type": "code",
   "execution_count": null,
   "id": "84b539f5",
   "metadata": {},
   "outputs": [],
   "source": [
    "# 표본분산\n",
    "표본분산은 모분산과 동등하지 않기 때문에 공정하지 않을 수 있음>분산을 과소추정\n",
    "# 불편분산\n",
    "분산을 계산할때 n(개수)이 아닌 n-1로 나눈 분산. 통계에서 보통 사용하는것"
   ]
  },
  {
   "cell_type": "markdown",
   "id": "c29ce2a5",
   "metadata": {},
   "source": [
    "### 함수\n",
    "\n",
    "- 중앙값 : np.median()\n",
    "- 평균 : np.mean()\n",
    "- 합 : sum()\n",
    "- 최빈값 : pd.Series().mode()    (DataFrame,Series 사용)\n",
    "- 퍼센트 : np.percentile(대상(df.Start), 퍼센트(25))\n"
   ]
  },
  {
   "cell_type": "code",
   "execution_count": 36,
   "id": "8c8e2e8b",
   "metadata": {},
   "outputs": [
    {
     "data": {
      "text/html": [
       "<div>\n",
       "<style scoped>\n",
       "    .dataframe tbody tr th:only-of-type {\n",
       "        vertical-align: middle;\n",
       "    }\n",
       "\n",
       "    .dataframe tbody tr th {\n",
       "        vertical-align: top;\n",
       "    }\n",
       "\n",
       "    .dataframe thead th {\n",
       "        text-align: right;\n",
       "    }\n",
       "</style>\n",
       "<table border=\"1\" class=\"dataframe\">\n",
       "  <thead>\n",
       "    <tr style=\"text-align: right;\">\n",
       "      <th></th>\n",
       "      <th>student number</th>\n",
       "      <th>english</th>\n",
       "      <th>mathematics</th>\n",
       "    </tr>\n",
       "  </thead>\n",
       "  <tbody>\n",
       "    <tr>\n",
       "      <th>0</th>\n",
       "      <td>1</td>\n",
       "      <td>42</td>\n",
       "      <td>65</td>\n",
       "    </tr>\n",
       "    <tr>\n",
       "      <th>1</th>\n",
       "      <td>2</td>\n",
       "      <td>69</td>\n",
       "      <td>80</td>\n",
       "    </tr>\n",
       "    <tr>\n",
       "      <th>2</th>\n",
       "      <td>3</td>\n",
       "      <td>56</td>\n",
       "      <td>63</td>\n",
       "    </tr>\n",
       "    <tr>\n",
       "      <th>3</th>\n",
       "      <td>4</td>\n",
       "      <td>41</td>\n",
       "      <td>63</td>\n",
       "    </tr>\n",
       "    <tr>\n",
       "      <th>4</th>\n",
       "      <td>5</td>\n",
       "      <td>57</td>\n",
       "      <td>76</td>\n",
       "    </tr>\n",
       "  </tbody>\n",
       "</table>\n",
       "</div>"
      ],
      "text/plain": [
       "   student number  english  mathematics\n",
       "0               1       42           65\n",
       "1               2       69           80\n",
       "2               3       56           63\n",
       "3               4       41           63\n",
       "4               5       57           76"
      ]
     },
     "execution_count": 36,
     "metadata": {},
     "output_type": "execute_result"
    }
   ],
   "source": [
    "import pandas as pd\n",
    "import numpy as np\n",
    "\n",
    "df = pd.read_csv('dataset/ch2_scores_em.csv')\n",
    "# , index_col=\"student number\")\n",
    "df.head()"
   ]
  },
  {
   "cell_type": "code",
   "execution_count": 37,
   "id": "4463c4a0",
   "metadata": {},
   "outputs": [],
   "source": [
    "scores = np.array(df.english)[:10]"
   ]
  },
  {
   "cell_type": "code",
   "execution_count": 38,
   "id": "66fc222a",
   "metadata": {},
   "outputs": [
    {
     "data": {
      "text/html": [
       "<div>\n",
       "<style scoped>\n",
       "    .dataframe tbody tr th:only-of-type {\n",
       "        vertical-align: middle;\n",
       "    }\n",
       "\n",
       "    .dataframe tbody tr th {\n",
       "        vertical-align: top;\n",
       "    }\n",
       "\n",
       "    .dataframe thead th {\n",
       "        text-align: right;\n",
       "    }\n",
       "</style>\n",
       "<table border=\"1\" class=\"dataframe\">\n",
       "  <thead>\n",
       "    <tr style=\"text-align: right;\">\n",
       "      <th></th>\n",
       "      <th>score</th>\n",
       "    </tr>\n",
       "    <tr>\n",
       "      <th>student</th>\n",
       "      <th></th>\n",
       "    </tr>\n",
       "  </thead>\n",
       "  <tbody>\n",
       "    <tr>\n",
       "      <th>A</th>\n",
       "      <td>42</td>\n",
       "    </tr>\n",
       "    <tr>\n",
       "      <th>B</th>\n",
       "      <td>69</td>\n",
       "    </tr>\n",
       "    <tr>\n",
       "      <th>C</th>\n",
       "      <td>56</td>\n",
       "    </tr>\n",
       "    <tr>\n",
       "      <th>D</th>\n",
       "      <td>41</td>\n",
       "    </tr>\n",
       "    <tr>\n",
       "      <th>E</th>\n",
       "      <td>57</td>\n",
       "    </tr>\n",
       "    <tr>\n",
       "      <th>F</th>\n",
       "      <td>48</td>\n",
       "    </tr>\n",
       "    <tr>\n",
       "      <th>G</th>\n",
       "      <td>65</td>\n",
       "    </tr>\n",
       "    <tr>\n",
       "      <th>H</th>\n",
       "      <td>49</td>\n",
       "    </tr>\n",
       "    <tr>\n",
       "      <th>I</th>\n",
       "      <td>65</td>\n",
       "    </tr>\n",
       "    <tr>\n",
       "      <th>J</th>\n",
       "      <td>58</td>\n",
       "    </tr>\n",
       "  </tbody>\n",
       "</table>\n",
       "</div>"
      ],
      "text/plain": [
       "         score\n",
       "student       \n",
       "A           42\n",
       "B           69\n",
       "C           56\n",
       "D           41\n",
       "E           57\n",
       "F           48\n",
       "G           65\n",
       "H           49\n",
       "I           65\n",
       "J           58"
      ]
     },
     "execution_count": 38,
     "metadata": {},
     "output_type": "execute_result"
    }
   ],
   "source": [
    "scores_df = pd.DataFrame({'score':scores},\n",
    "                        index=pd.Index(['A','B','C','D','E',\n",
    "                                       'F','G','H','I','J'], name='student'))\n",
    "scores_df"
   ]
  },
  {
   "cell_type": "code",
   "execution_count": 39,
   "id": "db4b521d",
   "metadata": {},
   "outputs": [
    {
     "data": {
      "text/plain": [
       "array([-1.402,  1.51 ,  0.108, -1.51 ,  0.216, -0.755,  1.078, -0.647,\n",
       "        1.078,  0.323])"
      ]
     },
     "execution_count": 39,
     "metadata": {},
     "output_type": "execute_result"
    }
   ],
   "source": [
    "# 표준화\n",
    "z = (scores - np.mean(scores)) / np.std(scores)\n",
    "z"
   ]
  },
  {
   "cell_type": "code",
   "execution_count": 40,
   "id": "a61ebb5e",
   "metadata": {},
   "outputs": [
    {
     "data": {
      "text/html": [
       "<div>\n",
       "<style scoped>\n",
       "    .dataframe tbody tr th:only-of-type {\n",
       "        vertical-align: middle;\n",
       "    }\n",
       "\n",
       "    .dataframe tbody tr th {\n",
       "        vertical-align: top;\n",
       "    }\n",
       "\n",
       "    .dataframe thead th {\n",
       "        text-align: right;\n",
       "    }\n",
       "</style>\n",
       "<table border=\"1\" class=\"dataframe\">\n",
       "  <thead>\n",
       "    <tr style=\"text-align: right;\">\n",
       "      <th></th>\n",
       "      <th>score</th>\n",
       "      <th>deviation_value</th>\n",
       "    </tr>\n",
       "    <tr>\n",
       "      <th>student</th>\n",
       "      <th></th>\n",
       "      <th></th>\n",
       "    </tr>\n",
       "  </thead>\n",
       "  <tbody>\n",
       "    <tr>\n",
       "      <th>A</th>\n",
       "      <td>42</td>\n",
       "      <td>35.981739</td>\n",
       "    </tr>\n",
       "    <tr>\n",
       "      <th>B</th>\n",
       "      <td>69</td>\n",
       "      <td>65.096588</td>\n",
       "    </tr>\n",
       "    <tr>\n",
       "      <th>C</th>\n",
       "      <td>56</td>\n",
       "      <td>51.078328</td>\n",
       "    </tr>\n",
       "    <tr>\n",
       "      <th>D</th>\n",
       "      <td>41</td>\n",
       "      <td>34.903412</td>\n",
       "    </tr>\n",
       "    <tr>\n",
       "      <th>E</th>\n",
       "      <td>57</td>\n",
       "      <td>52.156655</td>\n",
       "    </tr>\n",
       "    <tr>\n",
       "      <th>F</th>\n",
       "      <td>48</td>\n",
       "      <td>42.451706</td>\n",
       "    </tr>\n",
       "    <tr>\n",
       "      <th>G</th>\n",
       "      <td>65</td>\n",
       "      <td>60.783277</td>\n",
       "    </tr>\n",
       "    <tr>\n",
       "      <th>H</th>\n",
       "      <td>49</td>\n",
       "      <td>43.530034</td>\n",
       "    </tr>\n",
       "    <tr>\n",
       "      <th>I</th>\n",
       "      <td>65</td>\n",
       "      <td>60.783277</td>\n",
       "    </tr>\n",
       "    <tr>\n",
       "      <th>J</th>\n",
       "      <td>58</td>\n",
       "      <td>53.234983</td>\n",
       "    </tr>\n",
       "  </tbody>\n",
       "</table>\n",
       "</div>"
      ],
      "text/plain": [
       "         score  deviation_value\n",
       "student                        \n",
       "A           42        35.981739\n",
       "B           69        65.096588\n",
       "C           56        51.078328\n",
       "D           41        34.903412\n",
       "E           57        52.156655\n",
       "F           48        42.451706\n",
       "G           65        60.783277\n",
       "H           49        43.530034\n",
       "I           65        60.783277\n",
       "J           58        53.234983"
      ]
     },
     "execution_count": 40,
     "metadata": {},
     "output_type": "execute_result"
    }
   ],
   "source": [
    "# 편찻값\n",
    "# 편차값 : 평균이 50, 표준편차가 10이 되도록 정규화한 값\n",
    "z = 50 + 10 * z\n",
    "scores_df['deviation_value'] = z\n",
    "scores_df"
   ]
  },
  {
   "cell_type": "markdown",
   "id": "94bfa724",
   "metadata": {},
   "source": [
    "-- Box plot 의미 해석\n",
    "* IQR(Inter Quartile Range): 제 3사분위수 - 제1사분위수\n",
    "* lower whisker: Q1 - 1.5 x IQR 이내인 값중에서 최솟값\n",
    "* upper whisker: Q3 + 1.5 x IQR 이내인 값중에서 최댓값\n",
    "* 이상치: lower whisker, upper whisker를 벗어나는 값"
   ]
  },
  {
   "cell_type": "code",
   "execution_count": 41,
   "id": "3f38120b",
   "metadata": {},
   "outputs": [
    {
     "data": {
      "text/plain": [
       "array([-1.402,  1.51 ,  0.108, -1.51 ,  0.216, -0.755,  1.078, -0.647,\n",
       "        1.078,  0.323])"
      ]
     },
     "execution_count": 41,
     "metadata": {},
     "output_type": "execute_result"
    }
   ],
   "source": [
    "# 표준화( (데이터-평균)/표준편차 )\n",
    "z = (scores - np.mean(scores)) / np.std(scores)\n",
    "z"
   ]
  },
  {
   "cell_type": "code",
   "execution_count": 42,
   "id": "85eaa097",
   "metadata": {},
   "outputs": [
    {
     "data": {
      "text/plain": [
       "(-0.000, 1.000)"
      ]
     },
     "execution_count": 42,
     "metadata": {},
     "output_type": "execute_result"
    }
   ],
   "source": [
    "# 표준화된 데이터는 평균이 0, 표준편차가 1\n",
    "np.mean(z), np.std(z, ddof=0)"
   ]
  },
  {
   "cell_type": "code",
   "execution_count": 43,
   "id": "ecb38350",
   "metadata": {},
   "outputs": [],
   "source": [
    "# 편찻값 : 평균이 50, 표준편차가 10이 되도록 정규화한값.(50+10*표준화)\n",
    "z = 50 + 10 * z"
   ]
  },
  {
   "cell_type": "code",
   "execution_count": 44,
   "id": "ed5b2f1c",
   "metadata": {},
   "outputs": [
    {
     "data": {
      "text/plain": [
       "array([35.982, 65.097, 51.078, 34.903, 52.157, 42.452, 60.783, 43.53 ,\n",
       "       60.783, 53.235])"
      ]
     },
     "execution_count": 44,
     "metadata": {},
     "output_type": "execute_result"
    }
   ],
   "source": [
    "z"
   ]
  },
  {
   "cell_type": "code",
   "execution_count": 45,
   "id": "273ddac0",
   "metadata": {},
   "outputs": [
    {
     "data": {
      "text/plain": [
       "count    50.000000\n",
       "mean     58.380000\n",
       "std       9.799813\n",
       "min      37.000000\n",
       "25%      54.000000\n",
       "50%      57.500000\n",
       "75%      65.000000\n",
       "max      79.000000\n",
       "dtype: float64"
      ]
     },
     "execution_count": 45,
     "metadata": {},
     "output_type": "execute_result"
    }
   ],
   "source": [
    "# 50명의 영어 점수 배열\n",
    "english_scores = np.array(df['english'])\n",
    "\n",
    "# 시리즈로 변환하고 describe\n",
    "pd.Series(english_scores).describe()"
   ]
  },
  {
   "cell_type": "code",
   "execution_count": 69,
   "id": "e6abec8f",
   "metadata": {},
   "outputs": [
    {
     "data": {
      "text/plain": [
       "array([ 0,  0,  0,  2,  8, 16, 18,  6,  0,  0], dtype=int64)"
      ]
     },
     "execution_count": 69,
     "metadata": {},
     "output_type": "execute_result"
    }
   ],
   "source": [
    "# 도수분포표\n",
    "# freq, _ = : 두번째는 계급값이 나와서 튜플형태로 두번째값 무시\n",
    "freq, _ = np.histogram(english_scores, bins=10, range=(0, 100))\n",
    "freq"
   ]
  },
  {
   "cell_type": "code",
   "execution_count": 54,
   "id": "8f4e0353",
   "metadata": {},
   "outputs": [
    {
     "data": {
      "text/html": [
       "<div>\n",
       "<style scoped>\n",
       "    .dataframe tbody tr th:only-of-type {\n",
       "        vertical-align: middle;\n",
       "    }\n",
       "\n",
       "    .dataframe tbody tr th {\n",
       "        vertical-align: top;\n",
       "    }\n",
       "\n",
       "    .dataframe thead th {\n",
       "        text-align: right;\n",
       "    }\n",
       "</style>\n",
       "<table border=\"1\" class=\"dataframe\">\n",
       "  <thead>\n",
       "    <tr style=\"text-align: right;\">\n",
       "      <th></th>\n",
       "      <th>frequency</th>\n",
       "    </tr>\n",
       "    <tr>\n",
       "      <th>class</th>\n",
       "      <th></th>\n",
       "    </tr>\n",
       "  </thead>\n",
       "  <tbody>\n",
       "    <tr>\n",
       "      <th>0~10</th>\n",
       "      <td>0</td>\n",
       "    </tr>\n",
       "    <tr>\n",
       "      <th>10~20</th>\n",
       "      <td>0</td>\n",
       "    </tr>\n",
       "    <tr>\n",
       "      <th>20~30</th>\n",
       "      <td>0</td>\n",
       "    </tr>\n",
       "    <tr>\n",
       "      <th>30~40</th>\n",
       "      <td>2</td>\n",
       "    </tr>\n",
       "    <tr>\n",
       "      <th>40~50</th>\n",
       "      <td>8</td>\n",
       "    </tr>\n",
       "    <tr>\n",
       "      <th>50~60</th>\n",
       "      <td>16</td>\n",
       "    </tr>\n",
       "    <tr>\n",
       "      <th>60~70</th>\n",
       "      <td>18</td>\n",
       "    </tr>\n",
       "    <tr>\n",
       "      <th>70~80</th>\n",
       "      <td>6</td>\n",
       "    </tr>\n",
       "    <tr>\n",
       "      <th>80~90</th>\n",
       "      <td>0</td>\n",
       "    </tr>\n",
       "    <tr>\n",
       "      <th>90~100</th>\n",
       "      <td>0</td>\n",
       "    </tr>\n",
       "  </tbody>\n",
       "</table>\n",
       "</div>"
      ],
      "text/plain": [
       "        frequency\n",
       "class            \n",
       "0~10            0\n",
       "10~20           0\n",
       "20~30           0\n",
       "30~40           2\n",
       "40~50           8\n",
       "50~60          16\n",
       "60~70          18\n",
       "70~80           6\n",
       "80~90           0\n",
       "90~100          0"
      ]
     },
     "execution_count": 54,
     "metadata": {},
     "output_type": "execute_result"
    }
   ],
   "source": [
    "# 0~10, 10~20, ... 이라는 문자열의 리스트를 작성\n",
    "freq_class = [f'{i}~{i+10}' for i in range(0, 100, 10)]\n",
    "# freq_class를 인덱스로 DataFrame을 작성\n",
    "freq_dist_df = pd.DataFrame({'frequency':freq},\n",
    "                            index=pd.Index(freq_class,\n",
    "                                           name='class'))\n",
    "freq_dist_df"
   ]
  },
  {
   "cell_type": "code",
   "execution_count": 61,
   "id": "848e23cf",
   "metadata": {},
   "outputs": [
    {
     "data": {
      "text/plain": [
       "[5, 15, 25, 35, 45, 55, 65, 75, 85, 95]"
      ]
     },
     "execution_count": 61,
     "metadata": {},
     "output_type": "execute_result"
    }
   ],
   "source": [
    "# 계급값. 각 계급을 대표하는값, 계급의 중앙값\n",
    "class_value = [(i+(i+10))//2 for i in range(0, 100, 10)]\n",
    "class_value"
   ]
  },
  {
   "cell_type": "code",
   "execution_count": 62,
   "id": "5b7718ac",
   "metadata": {},
   "outputs": [
    {
     "data": {
      "text/plain": [
       "array([0.  , 0.  , 0.  , 0.04, 0.16, 0.32, 0.36, 0.12, 0.  , 0.  ])"
      ]
     },
     "execution_count": 62,
     "metadata": {},
     "output_type": "execute_result"
    }
   ],
   "source": [
    "# 상대도수 : 전체 데이터에서 해당 계급의 데이터 비율\n",
    "rel_freq = freq / freq.sum()\n",
    "rel_freq"
   ]
  },
  {
   "cell_type": "code",
   "execution_count": 63,
   "id": "97b2eaa0",
   "metadata": {},
   "outputs": [
    {
     "data": {
      "text/plain": [
       "array([0.  , 0.  , 0.  , 0.04, 0.2 , 0.52, 0.88, 1.  , 1.  , 1.  ])"
      ]
     },
     "execution_count": 63,
     "metadata": {},
     "output_type": "execute_result"
    }
   ],
   "source": [
    "# 누적상대도수 : 해당 계급까지의 상대도수의 합. np.cumsum 사용\n",
    "cum_rel_freq = np.cumsum(rel_freq)\n",
    "cum_rel_freq"
   ]
  },
  {
   "cell_type": "code",
   "execution_count": 71,
   "id": "347c2dd4",
   "metadata": {},
   "outputs": [
    {
     "data": {
      "text/html": [
       "<div>\n",
       "<style scoped>\n",
       "    .dataframe tbody tr th:only-of-type {\n",
       "        vertical-align: middle;\n",
       "    }\n",
       "\n",
       "    .dataframe tbody tr th {\n",
       "        vertical-align: top;\n",
       "    }\n",
       "\n",
       "    .dataframe thead th {\n",
       "        text-align: right;\n",
       "    }\n",
       "</style>\n",
       "<table border=\"1\" class=\"dataframe\">\n",
       "  <thead>\n",
       "    <tr style=\"text-align: right;\">\n",
       "      <th></th>\n",
       "      <th>class_value</th>\n",
       "      <th>frequency</th>\n",
       "      <th>relative_frequency</th>\n",
       "      <th>cumulative_relative_frequency</th>\n",
       "    </tr>\n",
       "    <tr>\n",
       "      <th>class</th>\n",
       "      <th></th>\n",
       "      <th></th>\n",
       "      <th></th>\n",
       "      <th></th>\n",
       "    </tr>\n",
       "  </thead>\n",
       "  <tbody>\n",
       "    <tr>\n",
       "      <th>0~10</th>\n",
       "      <td>5</td>\n",
       "      <td>0</td>\n",
       "      <td>0.00</td>\n",
       "      <td>0.00</td>\n",
       "    </tr>\n",
       "    <tr>\n",
       "      <th>10~20</th>\n",
       "      <td>15</td>\n",
       "      <td>0</td>\n",
       "      <td>0.00</td>\n",
       "      <td>0.00</td>\n",
       "    </tr>\n",
       "    <tr>\n",
       "      <th>20~30</th>\n",
       "      <td>25</td>\n",
       "      <td>0</td>\n",
       "      <td>0.00</td>\n",
       "      <td>0.00</td>\n",
       "    </tr>\n",
       "    <tr>\n",
       "      <th>30~40</th>\n",
       "      <td>35</td>\n",
       "      <td>2</td>\n",
       "      <td>0.04</td>\n",
       "      <td>0.04</td>\n",
       "    </tr>\n",
       "    <tr>\n",
       "      <th>40~50</th>\n",
       "      <td>45</td>\n",
       "      <td>8</td>\n",
       "      <td>0.16</td>\n",
       "      <td>0.20</td>\n",
       "    </tr>\n",
       "    <tr>\n",
       "      <th>50~60</th>\n",
       "      <td>55</td>\n",
       "      <td>16</td>\n",
       "      <td>0.32</td>\n",
       "      <td>0.52</td>\n",
       "    </tr>\n",
       "    <tr>\n",
       "      <th>60~70</th>\n",
       "      <td>65</td>\n",
       "      <td>18</td>\n",
       "      <td>0.36</td>\n",
       "      <td>0.88</td>\n",
       "    </tr>\n",
       "    <tr>\n",
       "      <th>70~80</th>\n",
       "      <td>75</td>\n",
       "      <td>6</td>\n",
       "      <td>0.12</td>\n",
       "      <td>1.00</td>\n",
       "    </tr>\n",
       "    <tr>\n",
       "      <th>80~90</th>\n",
       "      <td>85</td>\n",
       "      <td>0</td>\n",
       "      <td>0.00</td>\n",
       "      <td>1.00</td>\n",
       "    </tr>\n",
       "    <tr>\n",
       "      <th>90~100</th>\n",
       "      <td>95</td>\n",
       "      <td>0</td>\n",
       "      <td>0.00</td>\n",
       "      <td>1.00</td>\n",
       "    </tr>\n",
       "  </tbody>\n",
       "</table>\n",
       "</div>"
      ],
      "text/plain": [
       "        class_value  frequency  relative_frequency  \\\n",
       "class                                                \n",
       "0~10              5          0                0.00   \n",
       "10~20            15          0                0.00   \n",
       "20~30            25          0                0.00   \n",
       "30~40            35          2                0.04   \n",
       "40~50            45          8                0.16   \n",
       "50~60            55         16                0.32   \n",
       "60~70            65         18                0.36   \n",
       "70~80            75          6                0.12   \n",
       "80~90            85          0                0.00   \n",
       "90~100           95          0                0.00   \n",
       "\n",
       "        cumulative_relative_frequency  \n",
       "class                                  \n",
       "0~10                             0.00  \n",
       "10~20                            0.00  \n",
       "20~30                            0.00  \n",
       "30~40                            0.04  \n",
       "40~50                            0.20  \n",
       "50~60                            0.52  \n",
       "60~70                            0.88  \n",
       "70~80                            1.00  \n",
       "80~90                            1.00  \n",
       "90~100                           1.00  "
      ]
     },
     "execution_count": 71,
     "metadata": {},
     "output_type": "execute_result"
    }
   ],
   "source": [
    "freq_dist_df['class_value'] = class_value\n",
    "freq_dist_df['relative_frequency'] = rel_freq\n",
    "freq_dist_df['cumulative_relative_frequency'] = cum_rel_freq\n",
    "freq_dist_df = freq_dist_df[['class_value', 'frequency',\n",
    "                             'relative_frequency', 'cumulative_relative_frequency']]\n",
    "freq_dist_df"
   ]
  },
  {
   "cell_type": "code",
   "execution_count": 72,
   "id": "b46896f4",
   "metadata": {},
   "outputs": [
    {
     "data": {
      "text/plain": [
       "65"
      ]
     },
     "execution_count": 72,
     "metadata": {},
     "output_type": "execute_result"
    }
   ],
   "source": [
    "freq_dist_df.loc[freq_dist_df['frequency'].idxmax(), 'class_value']"
   ]
  },
  {
   "cell_type": "code",
   "execution_count": 75,
   "id": "c5e839d7",
   "metadata": {},
   "outputs": [],
   "source": [
    "import matplotlib.pyplot as plt\n",
    "\n",
    "%matplotlib inline"
   ]
  },
  {
   "cell_type": "code",
   "execution_count": 77,
   "id": "3d70805f",
   "metadata": {},
   "outputs": [
    {
     "data": {
      "image/png": "[encoded data removed]",
      "text/plain": [
       "<Figure size 720x432 with 1 Axes>"
      ]
     },
     "metadata": {
      "needs_background": "light"
     },
     "output_type": "display_data"
    }
   ],
   "source": [
    "# 히스토그램\n",
    "\n",
    "# 캔버스 생성, figsize로 가로, 세로 크기 지정\n",
    "fig = plt.figure(figsize=(10,6))\n",
    "# 그래프 그리기 위한 영역 지정\n",
    "# 인수는 영역을 1x1개 지정, 하나의 영역에 그림을 의미\n",
    "ax = fig.add_subplot(111)\n",
    "\n",
    "# 계급수를 10으로 히스토그램\n",
    "freq, _, _ = ax.hist(english_scores, bins=10, range=(0,100))\n",
    "# X축 레이블 부여\n",
    "ax.set_xlabel('score')\n",
    "# Y축 레이블 부여\n",
    "ax.set_ylabel('person number')\n",
    "# X축을 0, 10, 20, ... 100 눈금으로 구분\n",
    "ax.set_xticks(np.linspace(0,100,10+1))\n",
    "# Y축을 0, 1, 2, ...의 눈금으로 구분\n",
    "ax.set_yticks(np.arange(0, freq.max()+1))\n",
    "\n",
    "plt.show() # 계급폭이 10점"
   ]
  },
  {
   "cell_type": "code",
   "execution_count": 79,
   "id": "c13db995",
   "metadata": {},
   "outputs": [
    {
     "data": {
      "image/png": "[encoded data removed]",
      "text/plain": [
       "<Figure size 720x432 with 1 Axes>"
      ]
     },
     "metadata": {
      "needs_background": "light"
     },
     "output_type": "display_data"
    }
   ],
   "source": [
    "fig = plt.figure(figsize=(10,6))\n",
    "ax = fig.add_subplot(111)\n",
    "\n",
    "# 계급폭을 4점으로 한다면?\n",
    "freq, _ , _ = ax.hist(english_scores, bins=25, range=(0,100))\n",
    "ax.set_xlabel('score')\n",
    "ax.set_ylabel('person number')\n",
    "ax.set_xticks(np.linspace(0,100,25+1))\n",
    "ax.set_yticks(np.arange(0, freq.max()+1))\n",
    "plt.show()"
   ]
  },
  {
   "cell_type": "code",
   "execution_count": 102,
   "id": "3981cb28",
   "metadata": {},
   "outputs": [
    {
     "data": {
      "image/png": "[encoded data removed]",
      "text/plain": [
       "<Figure size 720x432 with 2 Axes>"
      ]
     },
     "metadata": {
      "needs_background": "light"
     },
     "output_type": "display_data"
    }
   ],
   "source": [
    "fig = plt.figure(figsize=(10,6))\n",
    "# 111의 의미는, 1행째의 1열의 첫 번째라는 의미로, subplot(1, 1, 1) 로 작성해도 동일하게 작동한다.\n",
    "ax1 = fig.add_subplot(111)\n",
    "# Y축의 스케일이 다른 그래프를 ax1과 동일한 영역에 생성\n",
    "ax2 = ax1.twinx()\n",
    "\n",
    "# 상대도수의 히스토그램으로 하기 위해서는, 도수를 데이터의 수로 나눌 필요가 있음\n",
    "# 이것은 hist의 인수 weight를 지정하면 실현 가능\n",
    "weights = np.ones_like(english_scores) / len(english_scores)\n",
    "rel_freq, _, _ = ax1.hist(english_scores, bins=25, range=(0,100), weights=weights)\n",
    "\n",
    "cum_rel_freq = np.cumsum(rel_freq)\n",
    "class_value = [(i+(i+4))//2 for i in range(0,100,4)]\n",
    "# 꺾은선 그래프 그림\n",
    "# 인수 ls(엘에스)를 '--'로 하면 점선이 그려짐\n",
    "# 인수 marker를 'o'로 하면 데이터 점을 그림\n",
    "# color인수로 색상\n",
    "ax2.plot(class_value, cum_rel_freq, ls='--', marker='o', color='gray')\n",
    "#꺾은선 그래프의 눈금선을 제거\n",
    "ax2.grid(visible=False)\n",
    "\n",
    "ax1.set_xlabel('score')\n",
    "ax1.set_ylabel('relative_frequency')\n",
    "ax2.set_ylabel('cumulative_relative_frequency') # 점선 : 누적상대도수\n",
    "ax1.set_xticks(np.linspace(0,100,25+1))\n",
    "\n",
    "plt.show() # 히스토그램과 누적상대도수"
   ]
  },
  {
   "cell_type": "code",
   "execution_count": 81,
   "id": "58837327",
   "metadata": {},
   "outputs": [
    {
     "data": {
      "image/png": "[encoded data removed]",
      "text/plain": [
       "<Figure size 360x432 with 1 Axes>"
      ]
     },
     "metadata": {
      "needs_background": "light"
     },
     "output_type": "display_data"
    }
   ],
   "source": [
    "fig = plt.figure(figsize=(5,6))\n",
    "ax = fig.add_subplot(111)\n",
    "ax.boxplot(english_scores, labels=['english'])\n",
    "\n",
    "plt.show() # 색깔 있는 선이 Q2, 중앙값."
   ]
  },
  {
   "cell_type": "markdown",
   "id": "55315070",
   "metadata": {},
   "source": [
    "## 2차원데이터 정리"
   ]
  },
  {
   "cell_type": "code",
   "execution_count": 82,
   "id": "c43486af",
   "metadata": {},
   "outputs": [
    {
     "data": {
      "text/plain": [
       "'%.3f'"
      ]
     },
     "execution_count": 82,
     "metadata": {},
     "output_type": "execute_result"
    }
   ],
   "source": [
    "import numpy as np\n",
    "import pandas as pd\n",
    "\n",
    "%precision 3"
   ]
  },
  {
   "cell_type": "code",
   "execution_count": 86,
   "id": "fb26ffb4",
   "metadata": {},
   "outputs": [
    {
     "data": {
      "text/html": [
       "<div>\n",
       "<style scoped>\n",
       "    .dataframe tbody tr th:only-of-type {\n",
       "        vertical-align: middle;\n",
       "    }\n",
       "\n",
       "    .dataframe tbody tr th {\n",
       "        vertical-align: top;\n",
       "    }\n",
       "\n",
       "    .dataframe thead th {\n",
       "        text-align: right;\n",
       "    }\n",
       "</style>\n",
       "<table border=\"1\" class=\"dataframe\">\n",
       "  <thead>\n",
       "    <tr style=\"text-align: right;\">\n",
       "      <th></th>\n",
       "      <th>english</th>\n",
       "      <th>mathematics</th>\n",
       "    </tr>\n",
       "    <tr>\n",
       "      <th>student number</th>\n",
       "      <th></th>\n",
       "      <th></th>\n",
       "    </tr>\n",
       "  </thead>\n",
       "  <tbody>\n",
       "    <tr>\n",
       "      <th>1</th>\n",
       "      <td>42</td>\n",
       "      <td>65</td>\n",
       "    </tr>\n",
       "    <tr>\n",
       "      <th>2</th>\n",
       "      <td>69</td>\n",
       "      <td>80</td>\n",
       "    </tr>\n",
       "    <tr>\n",
       "      <th>3</th>\n",
       "      <td>56</td>\n",
       "      <td>63</td>\n",
       "    </tr>\n",
       "  </tbody>\n",
       "</table>\n",
       "</div>"
      ],
      "text/plain": [
       "                english  mathematics\n",
       "student number                      \n",
       "1                    42           65\n",
       "2                    69           80\n",
       "3                    56           63"
      ]
     },
     "execution_count": 86,
     "metadata": {},
     "output_type": "execute_result"
    }
   ],
   "source": [
    "df = pd.read_csv('dataset/ch2_scores_em.csv', index_col='student number')\n",
    "df.head(3)"
   ]
  },
  {
   "cell_type": "code",
   "execution_count": 104,
   "id": "c8903615",
   "metadata": {},
   "outputs": [
    {
     "data": {
      "text/html": [
       "<div>\n",
       "<style scoped>\n",
       "    .dataframe tbody tr th:only-of-type {\n",
       "        vertical-align: middle;\n",
       "    }\n",
       "\n",
       "    .dataframe tbody tr th {\n",
       "        vertical-align: top;\n",
       "    }\n",
       "\n",
       "    .dataframe thead th {\n",
       "        text-align: right;\n",
       "    }\n",
       "</style>\n",
       "<table border=\"1\" class=\"dataframe\">\n",
       "  <thead>\n",
       "    <tr style=\"text-align: right;\">\n",
       "      <th></th>\n",
       "      <th>english</th>\n",
       "      <th>mathematics</th>\n",
       "    </tr>\n",
       "    <tr>\n",
       "      <th>student</th>\n",
       "      <th></th>\n",
       "      <th></th>\n",
       "    </tr>\n",
       "  </thead>\n",
       "  <tbody>\n",
       "    <tr>\n",
       "      <th>A</th>\n",
       "      <td>42</td>\n",
       "      <td>65</td>\n",
       "    </tr>\n",
       "    <tr>\n",
       "      <th>B</th>\n",
       "      <td>69</td>\n",
       "      <td>80</td>\n",
       "    </tr>\n",
       "    <tr>\n",
       "      <th>C</th>\n",
       "      <td>56</td>\n",
       "      <td>63</td>\n",
       "    </tr>\n",
       "    <tr>\n",
       "      <th>D</th>\n",
       "      <td>41</td>\n",
       "      <td>63</td>\n",
       "    </tr>\n",
       "    <tr>\n",
       "      <th>E</th>\n",
       "      <td>57</td>\n",
       "      <td>76</td>\n",
       "    </tr>\n",
       "    <tr>\n",
       "      <th>F</th>\n",
       "      <td>48</td>\n",
       "      <td>60</td>\n",
       "    </tr>\n",
       "    <tr>\n",
       "      <th>G</th>\n",
       "      <td>65</td>\n",
       "      <td>81</td>\n",
       "    </tr>\n",
       "    <tr>\n",
       "      <th>H</th>\n",
       "      <td>49</td>\n",
       "      <td>66</td>\n",
       "    </tr>\n",
       "    <tr>\n",
       "      <th>I</th>\n",
       "      <td>65</td>\n",
       "      <td>78</td>\n",
       "    </tr>\n",
       "    <tr>\n",
       "      <th>J</th>\n",
       "      <td>58</td>\n",
       "      <td>82</td>\n",
       "    </tr>\n",
       "  </tbody>\n",
       "</table>\n",
       "</div>"
      ],
      "text/plain": [
       "         english  mathematics\n",
       "student                      \n",
       "A             42           65\n",
       "B             69           80\n",
       "C             56           63\n",
       "D             41           63\n",
       "E             57           76\n",
       "F             48           60\n",
       "G             65           81\n",
       "H             49           66\n",
       "I             65           78\n",
       "J             58           82"
      ]
     },
     "execution_count": 104,
     "metadata": {},
     "output_type": "execute_result"
    }
   ],
   "source": [
    "en_scores = np.array(df['english'])[:10]\n",
    "ma_scores = np.array(df['mathematics'])[:10]\n",
    "\n",
    "scores_df = pd.DataFrame({'english':en_scores,\n",
    "                         'mathematics':ma_scores},\n",
    "                        index=pd.Index(['A','B','C','D','E','F','G','H','I','J'],\n",
    "                                      name='student'))\n",
    "scores_df"
   ]
  },
  {
   "cell_type": "code",
   "execution_count": 105,
   "id": "7bfb1d31",
   "metadata": {},
   "outputs": [
    {
     "data": {
      "text/html": [
       "<div>\n",
       "<style scoped>\n",
       "    .dataframe tbody tr th:only-of-type {\n",
       "        vertical-align: middle;\n",
       "    }\n",
       "\n",
       "    .dataframe tbody tr th {\n",
       "        vertical-align: top;\n",
       "    }\n",
       "\n",
       "    .dataframe thead th {\n",
       "        text-align: right;\n",
       "    }\n",
       "</style>\n",
       "<table border=\"1\" class=\"dataframe\">\n",
       "  <thead>\n",
       "    <tr style=\"text-align: right;\">\n",
       "      <th></th>\n",
       "      <th>english</th>\n",
       "      <th>mathematics</th>\n",
       "      <th>english_deviation</th>\n",
       "      <th>mathematics_deviation</th>\n",
       "      <th>product of deviations</th>\n",
       "    </tr>\n",
       "    <tr>\n",
       "      <th>student</th>\n",
       "      <th></th>\n",
       "      <th></th>\n",
       "      <th></th>\n",
       "      <th></th>\n",
       "      <th></th>\n",
       "    </tr>\n",
       "  </thead>\n",
       "  <tbody>\n",
       "    <tr>\n",
       "      <th>A</th>\n",
       "      <td>42</td>\n",
       "      <td>65</td>\n",
       "      <td>-13.0</td>\n",
       "      <td>-6.4</td>\n",
       "      <td>83.2</td>\n",
       "    </tr>\n",
       "    <tr>\n",
       "      <th>B</th>\n",
       "      <td>69</td>\n",
       "      <td>80</td>\n",
       "      <td>14.0</td>\n",
       "      <td>8.6</td>\n",
       "      <td>120.4</td>\n",
       "    </tr>\n",
       "    <tr>\n",
       "      <th>C</th>\n",
       "      <td>56</td>\n",
       "      <td>63</td>\n",
       "      <td>1.0</td>\n",
       "      <td>-8.4</td>\n",
       "      <td>-8.4</td>\n",
       "    </tr>\n",
       "    <tr>\n",
       "      <th>D</th>\n",
       "      <td>41</td>\n",
       "      <td>63</td>\n",
       "      <td>-14.0</td>\n",
       "      <td>-8.4</td>\n",
       "      <td>117.6</td>\n",
       "    </tr>\n",
       "    <tr>\n",
       "      <th>E</th>\n",
       "      <td>57</td>\n",
       "      <td>76</td>\n",
       "      <td>2.0</td>\n",
       "      <td>4.6</td>\n",
       "      <td>9.2</td>\n",
       "    </tr>\n",
       "    <tr>\n",
       "      <th>F</th>\n",
       "      <td>48</td>\n",
       "      <td>60</td>\n",
       "      <td>-7.0</td>\n",
       "      <td>-11.4</td>\n",
       "      <td>79.8</td>\n",
       "    </tr>\n",
       "    <tr>\n",
       "      <th>G</th>\n",
       "      <td>65</td>\n",
       "      <td>81</td>\n",
       "      <td>10.0</td>\n",
       "      <td>9.6</td>\n",
       "      <td>96.0</td>\n",
       "    </tr>\n",
       "    <tr>\n",
       "      <th>H</th>\n",
       "      <td>49</td>\n",
       "      <td>66</td>\n",
       "      <td>-6.0</td>\n",
       "      <td>-5.4</td>\n",
       "      <td>32.4</td>\n",
       "    </tr>\n",
       "    <tr>\n",
       "      <th>I</th>\n",
       "      <td>65</td>\n",
       "      <td>78</td>\n",
       "      <td>10.0</td>\n",
       "      <td>6.6</td>\n",
       "      <td>66.0</td>\n",
       "    </tr>\n",
       "    <tr>\n",
       "      <th>J</th>\n",
       "      <td>58</td>\n",
       "      <td>82</td>\n",
       "      <td>3.0</td>\n",
       "      <td>10.6</td>\n",
       "      <td>31.8</td>\n",
       "    </tr>\n",
       "  </tbody>\n",
       "</table>\n",
       "</div>"
      ],
      "text/plain": [
       "         english  mathematics  english_deviation  mathematics_deviation  \\\n",
       "student                                                                   \n",
       "A             42           65              -13.0                   -6.4   \n",
       "B             69           80               14.0                    8.6   \n",
       "C             56           63                1.0                   -8.4   \n",
       "D             41           63              -14.0                   -8.4   \n",
       "E             57           76                2.0                    4.6   \n",
       "F             48           60               -7.0                  -11.4   \n",
       "G             65           81               10.0                    9.6   \n",
       "H             49           66               -6.0                   -5.4   \n",
       "I             65           78               10.0                    6.6   \n",
       "J             58           82                3.0                   10.6   \n",
       "\n",
       "         product of deviations  \n",
       "student                         \n",
       "A                         83.2  \n",
       "B                        120.4  \n",
       "C                         -8.4  \n",
       "D                        117.6  \n",
       "E                          9.2  \n",
       "F                         79.8  \n",
       "G                         96.0  \n",
       "H                         32.4  \n",
       "I                         66.0  \n",
       "J                         31.8  "
      ]
     },
     "execution_count": 105,
     "metadata": {},
     "output_type": "execute_result"
    }
   ],
   "source": [
    "# 공분산 : 부호를 붙인 면적의 평균\n",
    "summary_df = scores_df.copy()\n",
    "summary_df['english_deviation'] =\\\n",
    "    summary_df['english'] - summary_df['english'].mean()\n",
    "summary_df['mathematics_deviation'] =\\\n",
    "    summary_df['mathematics'] - summary_df['mathematics'].mean()\n",
    "summary_df['product of deviations'] =\\\n",
    "    summary_df['english_deviation'] * summary_df['mathematics_deviation']\n",
    "summary_df"
   ]
  },
  {
   "cell_type": "code",
   "execution_count": 107,
   "id": "bcd163fc",
   "metadata": {},
   "outputs": [
    {
     "data": {
      "text/plain": [
       "62.800"
      ]
     },
     "execution_count": 107,
     "metadata": {},
     "output_type": "execute_result"
    }
   ],
   "source": [
    "summary_df['product of deviations'].mean()"
   ]
  },
  {
   "cell_type": "code",
   "execution_count": 108,
   "id": "4c375fac",
   "metadata": {},
   "outputs": [
    {
     "data": {
      "text/plain": [
       "array([[86.  , 62.8 ],\n",
       "       [62.8 , 68.44]])"
      ]
     },
     "execution_count": 108,
     "metadata": {},
     "output_type": "execute_result"
    }
   ],
   "source": [
    "# 공분산 행렬(분산공분산 행렬)\n",
    "cov_mat = np.cov(en_scores, ma_scores, ddof=0)\n",
    "cov_mat"
   ]
  },
  {
   "cell_type": "code",
   "execution_count": 109,
   "id": "321e172a",
   "metadata": {},
   "outputs": [
    {
     "data": {
      "text/plain": [
       "(62.800, 62.800)"
      ]
     },
     "execution_count": 109,
     "metadata": {},
     "output_type": "execute_result"
    }
   ],
   "source": [
    "# 파이썬 인덱스 0부터 시작해서 0,1 , 1,0 성분이 공분산\n",
    "cov_mat[0,1], cov_mat[1,0]"
   ]
  },
  {
   "cell_type": "code",
   "execution_count": 110,
   "id": "c07598d1",
   "metadata": {},
   "outputs": [
    {
     "data": {
      "text/plain": [
       "(86.000, 68.440)"
      ]
     },
     "execution_count": 110,
     "metadata": {},
     "output_type": "execute_result"
    }
   ],
   "source": [
    "# 0,0 : 영어의 분산, 1,1 : 수학의 분산\n",
    "cov_mat[0,0], cov_mat[1,1]"
   ]
  },
  {
   "cell_type": "code",
   "execution_count": 111,
   "id": "2906c8cf",
   "metadata": {},
   "outputs": [
    {
     "data": {
      "text/plain": [
       "(86.000, 68.440)"
      ]
     },
     "execution_count": 111,
     "metadata": {},
     "output_type": "execute_result"
    }
   ],
   "source": [
    "np.var(en_scores, ddof=0), np.var(ma_scores, ddof=0)"
   ]
  },
  {
   "cell_type": "code",
   "execution_count": 113,
   "id": "ed8e538d",
   "metadata": {},
   "outputs": [
    {
     "data": {
      "text/plain": [
       "0.819"
      ]
     },
     "execution_count": 113,
     "metadata": {},
     "output_type": "execute_result"
    }
   ],
   "source": [
    "# 상관계수 : 단위에 의존하지 않는 상관을 나타내는 지표\n",
    "# 영어와 수학 점수의 상관계수\n",
    "np.cov(en_scores, ma_scores, ddof=0)[0,1] /\\\n",
    "    (np.std(en_scores) * np.std(ma_scores))"
   ]
  },
  {
   "cell_type": "code",
   "execution_count": 114,
   "id": "42b64245",
   "metadata": {},
   "outputs": [
    {
     "data": {
      "text/plain": [
       "array([[1.   , 0.819],\n",
       "       [0.819, 1.   ]])"
      ]
     },
     "execution_count": 114,
     "metadata": {},
     "output_type": "execute_result"
    }
   ],
   "source": [
    "# 상관행렬\n",
    "np.corrcoef(en_scores, ma_scores)"
   ]
  },
  {
   "cell_type": "code",
   "execution_count": 115,
   "id": "327b0e34",
   "metadata": {},
   "outputs": [
    {
     "data": {
      "text/html": [
       "<div>\n",
       "<style scoped>\n",
       "    .dataframe tbody tr th:only-of-type {\n",
       "        vertical-align: middle;\n",
       "    }\n",
       "\n",
       "    .dataframe tbody tr th {\n",
       "        vertical-align: top;\n",
       "    }\n",
       "\n",
       "    .dataframe thead th {\n",
       "        text-align: right;\n",
       "    }\n",
       "</style>\n",
       "<table border=\"1\" class=\"dataframe\">\n",
       "  <thead>\n",
       "    <tr style=\"text-align: right;\">\n",
       "      <th></th>\n",
       "      <th>english</th>\n",
       "      <th>mathematics</th>\n",
       "    </tr>\n",
       "  </thead>\n",
       "  <tbody>\n",
       "    <tr>\n",
       "      <th>english</th>\n",
       "      <td>1.000000</td>\n",
       "      <td>0.818569</td>\n",
       "    </tr>\n",
       "    <tr>\n",
       "      <th>mathematics</th>\n",
       "      <td>0.818569</td>\n",
       "      <td>1.000000</td>\n",
       "    </tr>\n",
       "  </tbody>\n",
       "</table>\n",
       "</div>"
      ],
      "text/plain": [
       "              english  mathematics\n",
       "english      1.000000     0.818569\n",
       "mathematics  0.818569     1.000000"
      ]
     },
     "execution_count": 115,
     "metadata": {},
     "output_type": "execute_result"
    }
   ],
   "source": [
    "scores_df.corr()"
   ]
  },
  {
   "cell_type": "code",
   "execution_count": 116,
   "id": "d0c8a0ba",
   "metadata": {},
   "outputs": [],
   "source": [
    "import matplotlib.pyplot as plt\n",
    "%matplotlib inline"
   ]
  },
  {
   "cell_type": "code",
   "execution_count": 117,
   "id": "289e463b",
   "metadata": {},
   "outputs": [
    {
     "data": {
      "image/png": "[encoded data removed]",
      "text/plain": [
       "<Figure size 576x576 with 1 Axes>"
      ]
     },
     "metadata": {
      "needs_background": "light"
     },
     "output_type": "display_data"
    }
   ],
   "source": [
    "english_scores = np.array(df['english'])\n",
    "math_scores = np.array(df['mathematics'])\n",
    "\n",
    "fig = plt.figure(figsize=(8,8))\n",
    "ax = fig.add_subplot(111)\n",
    "# 산점도\n",
    "ax.scatter(english_scores, math_scores)\n",
    "ax.set_xlabel('english')\n",
    "ax.set_ylabel('mathematics')\n",
    "\n",
    "plt.show()"
   ]
  },
  {
   "cell_type": "code",
   "execution_count": 120,
   "id": "ca1c76f1",
   "metadata": {},
   "outputs": [
    {
     "data": {
      "image/png": "[encoded data removed]",
      "text/plain": [
       "<Figure size 576x576 with 1 Axes>"
      ]
     },
     "metadata": {
      "needs_background": "light"
     },
     "output_type": "display_data"
    }
   ],
   "source": [
    "# 회귀직선 : np.polyfit, np.poly1d 사용\n",
    "# 계수 B_0과 B_1을 구한다\n",
    "poly_fit = np.polyfit(english_scores, math_scores, 1)\n",
    "# B_0+B_1 x를 반환하는 함수 작성\n",
    "poly_1d = np.poly1d(poly_fit)\n",
    "# 직선을 그리기 위해 x좌표 생성\n",
    "xs = np.linspace(english_scores.min(), english_scores.max())\n",
    "# xs에 대응하는 y좌표를 구한다\n",
    "ys = poly_1d(xs)\n",
    "\n",
    "fig = plt.figure(figsize=(8,8))\n",
    "ax = fig.add_subplot(111)\n",
    "ax.scatter(english_scores, math_scores, label='score')\n",
    "ax.plot(xs, ys, color='gray',\n",
    "       label=f'{poly_fit[1]:.2f}+{poly_fit[0]:.2f}x')\n",
    "ax.set_xlabel('english')\n",
    "ax.set_ylabel('mathematics')\n",
    "# 범례 표시\n",
    "ax.legend(loc='upper left')\n",
    "\n",
    "plt.show() # 산점도와 회귀직선"
   ]
  },
  {
   "cell_type": "code",
   "execution_count": 183,
   "id": "1b96d87f",
   "metadata": {},
   "outputs": [
    {
     "data": {
      "image/png": "[encoded data removed]",
      "text/plain": [
       "<Figure size 720x576 with 2 Axes>"
      ]
     },
     "metadata": {
      "needs_background": "light"
     },
     "output_type": "display_data"
    }
   ],
   "source": [
    "# 히트맵\n",
    "fig = plt.figure(figsize=(10,8))\n",
    "ax = fig.add_subplot(111)\n",
    "\n",
    "c = ax.hist2d(english_scores, math_scores, bins=[9,8], range=[(35,80),(55,95)])\n",
    "ax.set_xlabel('english')\n",
    "ax.set_ylabel('mathematics')\n",
    "ax.set_xticks(c[1])\n",
    "ax.set_yticks(c[2])\n",
    "# 컬러 바 표시\n",
    "fig.colorbar(c[3], ax=ax)\n",
    "plt.show()"
   ]
  },
  {
   "cell_type": "markdown",
   "id": "10bc6db9",
   "metadata": {},
   "source": [
    "- 과제 08/23 (2)\n",
    "-일차원 데이터를 생성하여 다음을 수행하세요.\n",
    "\n",
    "도수분포표를 만들고 히스토그램으로 시각화하세요.(계급을 변경하여 2개를 작성)(#11)\n",
    "\n",
    "상대도수 및 누적상대도수를 도수분포표에 추가(#9)하고 히스토그램과 누적상대도수를 시각화(#12)하세요."
   ]
  },
  {
   "cell_type": "code",
   "execution_count": 3,
   "id": "aac97d2a",
   "metadata": {},
   "outputs": [],
   "source": [
    "import matplotlib.pyplot as plt\n",
    "%matplotlib inline"
   ]
  },
  {
   "cell_type": "code",
   "execution_count": 4,
   "id": "fe608318",
   "metadata": {},
   "outputs": [
    {
     "data": {
      "text/html": [
       "<div>\n",
       "<style scoped>\n",
       "    .dataframe tbody tr th:only-of-type {\n",
       "        vertical-align: middle;\n",
       "    }\n",
       "\n",
       "    .dataframe tbody tr th {\n",
       "        vertical-align: top;\n",
       "    }\n",
       "\n",
       "    .dataframe thead th {\n",
       "        text-align: right;\n",
       "    }\n",
       "</style>\n",
       "<table border=\"1\" class=\"dataframe\">\n",
       "  <thead>\n",
       "    <tr style=\"text-align: right;\">\n",
       "      <th></th>\n",
       "      <th>extra_charges</th>\n",
       "    </tr>\n",
       "  </thead>\n",
       "  <tbody>\n",
       "    <tr>\n",
       "      <th>철수</th>\n",
       "      <td>3732</td>\n",
       "    </tr>\n",
       "    <tr>\n",
       "      <th>민수</th>\n",
       "      <td>4264</td>\n",
       "    </tr>\n",
       "    <tr>\n",
       "      <th>진수</th>\n",
       "      <td>5859</td>\n",
       "    </tr>\n",
       "    <tr>\n",
       "      <th>만수</th>\n",
       "      <td>8891</td>\n",
       "    </tr>\n",
       "    <tr>\n",
       "      <th>승수</th>\n",
       "      <td>5373</td>\n",
       "    </tr>\n",
       "  </tbody>\n",
       "</table>\n",
       "</div>"
      ],
      "text/plain": [
       "    extra_charges\n",
       "철수           3732\n",
       "민수           4264\n",
       "진수           5859\n",
       "만수           8891\n",
       "승수           5373"
      ]
     },
     "execution_count": 4,
     "metadata": {},
     "output_type": "execute_result"
    }
   ],
   "source": [
    "import pandas as pd\n",
    "import numpy as np\n",
    "\n",
    "np.random.seed(0)\n",
    "sr = pd.Series(np.random.randint(1000,10000,size=(20)),\n",
    "                        index=['철수', '민수', '진수', '만수', '승수', '현수', '예수', '식수', '소수', '국수',\n",
    "                              '은서','민서','연서','경서','줄서','지연','유연','주연','연연','조커'])\n",
    "df = pd.DataFrame(sr)\n",
    "df.columns = ['extra_charges']\n",
    "df.head()"
   ]
  },
  {
   "cell_type": "code",
   "execution_count": 5,
   "id": "a1efc3de",
   "metadata": {},
   "outputs": [
    {
     "data": {
      "text/plain": [
       "count      20.000000\n",
       "mean     5359.600000\n",
       "std      2213.935087\n",
       "min      1537.000000\n",
       "25%      3698.750000\n",
       "50%      5612.000000\n",
       "75%      7081.000000\n",
       "max      8891.000000\n",
       "dtype: float64"
      ]
     },
     "execution_count": 5,
     "metadata": {},
     "output_type": "execute_result"
    }
   ],
   "source": [
    "# 1. 잔액 array\n",
    "extra = np.array(df['extra_charges'])\n",
    "# 2. 시리즈로 변환, describe\n",
    "pd.Series(extra).describe()"
   ]
  },
  {
   "cell_type": "code",
   "execution_count": 6,
   "id": "70192fc9",
   "metadata": {},
   "outputs": [
    {
     "data": {
      "text/plain": [
       "array([2, 0, 3, 4, 1, 3, 3, 2, 2, 0], dtype=int64)"
      ]
     },
     "execution_count": 6,
     "metadata": {},
     "output_type": "execute_result"
    }
   ],
   "source": [
    "# 3. array로 도수분포표\n",
    "freq, _ = np.histogram(extra, bins=10, range=(1000, 10000))\n",
    "freq"
   ]
  },
  {
   "cell_type": "code",
   "execution_count": 7,
   "id": "f4dc7622",
   "metadata": {},
   "outputs": [
    {
     "data": {
      "text/html": [
       "<div>\n",
       "<style scoped>\n",
       "    .dataframe tbody tr th:only-of-type {\n",
       "        vertical-align: middle;\n",
       "    }\n",
       "\n",
       "    .dataframe tbody tr th {\n",
       "        vertical-align: top;\n",
       "    }\n",
       "\n",
       "    .dataframe thead th {\n",
       "        text-align: right;\n",
       "    }\n",
       "</style>\n",
       "<table border=\"1\" class=\"dataframe\">\n",
       "  <thead>\n",
       "    <tr style=\"text-align: right;\">\n",
       "      <th></th>\n",
       "      <th>frequency</th>\n",
       "    </tr>\n",
       "    <tr>\n",
       "      <th>class</th>\n",
       "      <th></th>\n",
       "    </tr>\n",
       "  </thead>\n",
       "  <tbody>\n",
       "    <tr>\n",
       "      <th>0~1000</th>\n",
       "      <td>2</td>\n",
       "    </tr>\n",
       "    <tr>\n",
       "      <th>1000~2000</th>\n",
       "      <td>0</td>\n",
       "    </tr>\n",
       "    <tr>\n",
       "      <th>2000~3000</th>\n",
       "      <td>3</td>\n",
       "    </tr>\n",
       "    <tr>\n",
       "      <th>3000~4000</th>\n",
       "      <td>4</td>\n",
       "    </tr>\n",
       "    <tr>\n",
       "      <th>4000~5000</th>\n",
       "      <td>1</td>\n",
       "    </tr>\n",
       "    <tr>\n",
       "      <th>5000~6000</th>\n",
       "      <td>3</td>\n",
       "    </tr>\n",
       "    <tr>\n",
       "      <th>6000~7000</th>\n",
       "      <td>3</td>\n",
       "    </tr>\n",
       "    <tr>\n",
       "      <th>7000~8000</th>\n",
       "      <td>2</td>\n",
       "    </tr>\n",
       "    <tr>\n",
       "      <th>8000~9000</th>\n",
       "      <td>2</td>\n",
       "    </tr>\n",
       "    <tr>\n",
       "      <th>9000~10000</th>\n",
       "      <td>0</td>\n",
       "    </tr>\n",
       "  </tbody>\n",
       "</table>\n",
       "</div>"
      ],
      "text/plain": [
       "            frequency\n",
       "class                \n",
       "0~1000              2\n",
       "1000~2000           0\n",
       "2000~3000           3\n",
       "3000~4000           4\n",
       "4000~5000           1\n",
       "5000~6000           3\n",
       "6000~7000           3\n",
       "7000~8000           2\n",
       "8000~9000           2\n",
       "9000~10000          0"
      ]
     },
     "execution_count": 7,
     "metadata": {},
     "output_type": "execute_result"
    }
   ],
   "source": [
    "# 4. DF로 결과 정리. 계급 1000단위로 1만까지\n",
    "freq_class = [f'{i}~{i+1000}' for i in range(0,10000,1000)]   # class : 계급\n",
    "\n",
    "# 5. freq_class를 인덱스로 DF만들기 >> 도수분포표 완성\n",
    "freq_dist_df = pd.DataFrame({'frequency':freq}, index=pd.Index(freq_class, name='class'))\n",
    "freq_dist_df"
   ]
  },
  {
   "cell_type": "code",
   "execution_count": 8,
   "id": "9c2a80da",
   "metadata": {},
   "outputs": [
    {
     "data": {
      "text/plain": [
       "[500, 1500, 2500, 3500, 4500, 5500, 6500, 7500, 8500, 9500]"
      ]
     },
     "execution_count": 8,
     "metadata": {},
     "output_type": "execute_result"
    }
   ],
   "source": [
    "# 6. 계급값. 계급의 중앙값\n",
    "class_value = [(i+(i+1000))//2 for i in range(0,10000,1000)]\n",
    "class_value"
   ]
  },
  {
   "cell_type": "code",
   "execution_count": 9,
   "id": "0dfcde7c",
   "metadata": {},
   "outputs": [
    {
     "data": {
      "text/plain": [
       "array([0.1 , 0.  , 0.15, 0.2 , 0.05, 0.15, 0.15, 0.1 , 0.1 , 0.  ])"
      ]
     },
     "execution_count": 9,
     "metadata": {},
     "output_type": "execute_result"
    }
   ],
   "source": [
    "# 7. 상대도수 추출\n",
    "rel_freq = freq / freq.sum()\n",
    "rel_freq"
   ]
  },
  {
   "cell_type": "code",
   "execution_count": 10,
   "id": "1bf6ee33",
   "metadata": {},
   "outputs": [
    {
     "data": {
      "text/plain": [
       "array([0.1 , 0.1 , 0.25, 0.45, 0.5 , 0.65, 0.8 , 0.9 , 1.  , 1.  ])"
      ]
     },
     "execution_count": 10,
     "metadata": {},
     "output_type": "execute_result"
    }
   ],
   "source": [
    "# 8. 누적상대도수 추출\n",
    "cum_rel_freq = np.cumsum(rel_freq)\n",
    "cum_rel_freq"
   ]
  },
  {
   "cell_type": "code",
   "execution_count": 11,
   "id": "0f7883c0",
   "metadata": {},
   "outputs": [
    {
     "data": {
      "text/html": [
       "<div>\n",
       "<style scoped>\n",
       "    .dataframe tbody tr th:only-of-type {\n",
       "        vertical-align: middle;\n",
       "    }\n",
       "\n",
       "    .dataframe tbody tr th {\n",
       "        vertical-align: top;\n",
       "    }\n",
       "\n",
       "    .dataframe thead th {\n",
       "        text-align: right;\n",
       "    }\n",
       "</style>\n",
       "<table border=\"1\" class=\"dataframe\">\n",
       "  <thead>\n",
       "    <tr style=\"text-align: right;\">\n",
       "      <th></th>\n",
       "      <th>계급값</th>\n",
       "      <th>frequency</th>\n",
       "      <th>상대도수</th>\n",
       "      <th>누적상대도수</th>\n",
       "    </tr>\n",
       "    <tr>\n",
       "      <th>class</th>\n",
       "      <th></th>\n",
       "      <th></th>\n",
       "      <th></th>\n",
       "      <th></th>\n",
       "    </tr>\n",
       "  </thead>\n",
       "  <tbody>\n",
       "    <tr>\n",
       "      <th>0~1000</th>\n",
       "      <td>500</td>\n",
       "      <td>2</td>\n",
       "      <td>0.10</td>\n",
       "      <td>0.10</td>\n",
       "    </tr>\n",
       "    <tr>\n",
       "      <th>1000~2000</th>\n",
       "      <td>1500</td>\n",
       "      <td>0</td>\n",
       "      <td>0.00</td>\n",
       "      <td>0.10</td>\n",
       "    </tr>\n",
       "    <tr>\n",
       "      <th>2000~3000</th>\n",
       "      <td>2500</td>\n",
       "      <td>3</td>\n",
       "      <td>0.15</td>\n",
       "      <td>0.25</td>\n",
       "    </tr>\n",
       "    <tr>\n",
       "      <th>3000~4000</th>\n",
       "      <td>3500</td>\n",
       "      <td>4</td>\n",
       "      <td>0.20</td>\n",
       "      <td>0.45</td>\n",
       "    </tr>\n",
       "    <tr>\n",
       "      <th>4000~5000</th>\n",
       "      <td>4500</td>\n",
       "      <td>1</td>\n",
       "      <td>0.05</td>\n",
       "      <td>0.50</td>\n",
       "    </tr>\n",
       "    <tr>\n",
       "      <th>5000~6000</th>\n",
       "      <td>5500</td>\n",
       "      <td>3</td>\n",
       "      <td>0.15</td>\n",
       "      <td>0.65</td>\n",
       "    </tr>\n",
       "    <tr>\n",
       "      <th>6000~7000</th>\n",
       "      <td>6500</td>\n",
       "      <td>3</td>\n",
       "      <td>0.15</td>\n",
       "      <td>0.80</td>\n",
       "    </tr>\n",
       "    <tr>\n",
       "      <th>7000~8000</th>\n",
       "      <td>7500</td>\n",
       "      <td>2</td>\n",
       "      <td>0.10</td>\n",
       "      <td>0.90</td>\n",
       "    </tr>\n",
       "    <tr>\n",
       "      <th>8000~9000</th>\n",
       "      <td>8500</td>\n",
       "      <td>2</td>\n",
       "      <td>0.10</td>\n",
       "      <td>1.00</td>\n",
       "    </tr>\n",
       "    <tr>\n",
       "      <th>9000~10000</th>\n",
       "      <td>9500</td>\n",
       "      <td>0</td>\n",
       "      <td>0.00</td>\n",
       "      <td>1.00</td>\n",
       "    </tr>\n",
       "  </tbody>\n",
       "</table>\n",
       "</div>"
      ],
      "text/plain": [
       "             계급값  frequency  상대도수  누적상대도수\n",
       "class                                    \n",
       "0~1000       500          2  0.10    0.10\n",
       "1000~2000   1500          0  0.00    0.10\n",
       "2000~3000   2500          3  0.15    0.25\n",
       "3000~4000   3500          4  0.20    0.45\n",
       "4000~5000   4500          1  0.05    0.50\n",
       "5000~6000   5500          3  0.15    0.65\n",
       "6000~7000   6500          3  0.15    0.80\n",
       "7000~8000   7500          2  0.10    0.90\n",
       "8000~9000   8500          2  0.10    1.00\n",
       "9000~10000  9500          0  0.00    1.00"
      ]
     },
     "execution_count": 11,
     "metadata": {},
     "output_type": "execute_result"
    }
   ],
   "source": [
    "import warnings\n",
    "warnings.filterwarnings('ignore')\n",
    "# 9. 도수분포표에 계급값, 상대도수, 누적상대도수 추가하기\n",
    "freq_dist_df['계급값'] = class_value\n",
    "freq_dist_df['상대도수'] = rel_freq\n",
    "freq_dist_df['누적상대도수'] = cum_rel_freq\n",
    "freq_dist_df = freq_dist_df[['계급값', 'frequency', '상대도수', '누적상대도수']]\n",
    "freq_dist_df"
   ]
  },
  {
   "cell_type": "code",
   "execution_count": 12,
   "id": "bc728147",
   "metadata": {},
   "outputs": [
    {
     "data": {
      "text/plain": [
       "3500"
      ]
     },
     "execution_count": 12,
     "metadata": {},
     "output_type": "execute_result"
    }
   ],
   "source": [
    "# 10. 최빈값 확인\n",
    "freq_dist_df.loc[freq_dist_df['frequency'].idxmax(), '계급값']"
   ]
  },
  {
   "cell_type": "code",
   "execution_count": 13,
   "id": "49f06bd7",
   "metadata": {},
   "outputs": [],
   "source": [
    "import matplotlib.pyplot as plt\n",
    "\n",
    "%matplotlib inline"
   ]
  },
  {
   "cell_type": "code",
   "execution_count": 14,
   "id": "e8b3d00c",
   "metadata": {},
   "outputs": [
    {
     "data": {
      "image/png": "[encoded data removed]",
      "text/plain": [
       "<Figure size 1080x432 with 1 Axes>"
      ]
     },
     "metadata": {
      "needs_background": "light"
     },
     "output_type": "display_data"
    }
   ],
   "source": [
    "# 11-1. 히스토그램(bins=25)\n",
    "font_path = 'dataset/malgun.ttf'\n",
    "font_name = font_manager.FontProperties(fname=font_path).get_name()\n",
    "rc('font',family=font_name)\n",
    "plt.rcParams['axes.unicode_minus'] = False # 마이너스 부호 출력\n",
    "\n",
    "fig = plt.figure(figsize=(15,6))\n",
    "ax = fig.add_subplot(111)\n",
    "# 계급수 10으로 히스토그램그리기\n",
    "freq, _, _ = ax.hist(extra, bins=25, range=(0,10000))\n",
    "ax.set_xlabel('잔액')\n",
    "ax.set_ylabel('인원수')\n",
    "ax.set_xticks(np.linspace(0,10000,25+1))\n",
    "ax.set_yticks(np.arange(0, freq.max()+1))\n",
    "plt.show()"
   ]
  },
  {
   "cell_type": "code",
   "execution_count": 15,
   "id": "5c01c2d4",
   "metadata": {},
   "outputs": [
    {
     "data": {
      "image/png": "[encoded data removed]",
      "text/plain": [
       "<Figure size 720x432 with 1 Axes>"
      ]
     },
     "metadata": {
      "needs_background": "light"
     },
     "output_type": "display_data"
    }
   ],
   "source": [
    "# 11-2. 히스토그램(bins=10)\n",
    "from matplotlib import font_manager, rc # 한글넣기\n",
    "\n",
    "font_path = 'dataset/malgun.ttf'\n",
    "font_name = font_manager.FontProperties(fname=font_path).get_name()\n",
    "rc('font',family=font_name)\n",
    "plt.rcParams['axes.unicode_minus'] = False # 마이너스 부호 출력\n",
    "\n",
    "fig = plt.figure(figsize=(10,6))\n",
    "ax = fig.add_subplot(111)\n",
    "# 계급수 10으로 히스토그램그리기\n",
    "freq, _, _ = ax.hist(extra, bins=10, range=(0,10000))\n",
    "ax.set_xlabel('잔액')\n",
    "ax.set_ylabel('인원수')\n",
    "ax.set_xticks(np.linspace(0,10000,10+1))\n",
    "ax.set_yticks(np.arange(0, freq.max()+1))\n",
    "plt.show()"
   ]
  },
  {
   "cell_type": "code",
   "execution_count": 25,
   "id": "e94ef59c",
   "metadata": {},
   "outputs": [
    {
     "ename": "ValueError",
     "evalue": "x and y must have same first dimension, but have shapes (1000,) and (10,)",
     "output_type": "error",
     "traceback": [
      "\u001b[1;31m---------------------------------------------------------------------------\u001b[0m",
      "\u001b[1;31mValueError\u001b[0m                                Traceback (most recent call last)",
      "Input \u001b[1;32mIn [25]\u001b[0m, in \u001b[0;36m<cell line: 29>\u001b[1;34m()\u001b[0m\n\u001b[0;32m     24\u001b[0m class_value \u001b[38;5;241m=\u001b[39m [(i\u001b[38;5;241m+\u001b[39m(i\u001b[38;5;241m+\u001b[39m\u001b[38;5;241m1000\u001b[39m))\u001b[38;5;241m/\u001b[39m\u001b[38;5;241m/\u001b[39m\u001b[38;5;241m2\u001b[39m \u001b[38;5;28;01mfor\u001b[39;00m i \u001b[38;5;129;01min\u001b[39;00m \u001b[38;5;28mrange\u001b[39m(\u001b[38;5;241m0\u001b[39m,\u001b[38;5;241m10000\u001b[39m,\u001b[38;5;241m10\u001b[39m)]\n\u001b[0;32m     25\u001b[0m \u001b[38;5;66;03m# 꺾은선 그래프 그림\u001b[39;00m\n\u001b[0;32m     26\u001b[0m \u001b[38;5;66;03m# 인수 ls(엘에스)를 '--'로 하면 점선이 그려짐\u001b[39;00m\n\u001b[0;32m     27\u001b[0m \u001b[38;5;66;03m# 인수 marker를 'o'로 하면 데이터 점을 그림\u001b[39;00m\n\u001b[0;32m     28\u001b[0m \u001b[38;5;66;03m# color인수로 색상\u001b[39;00m\n\u001b[1;32m---> 29\u001b[0m \u001b[43max2\u001b[49m\u001b[38;5;241;43m.\u001b[39;49m\u001b[43mplot\u001b[49m\u001b[43m(\u001b[49m\u001b[43mclass_value\u001b[49m\u001b[43m,\u001b[49m\u001b[43m \u001b[49m\u001b[43mcum_rel_freq\u001b[49m\u001b[43m,\u001b[49m\u001b[43m \u001b[49m\u001b[43mls\u001b[49m\u001b[38;5;241;43m=\u001b[39;49m\u001b[38;5;124;43m'\u001b[39;49m\u001b[38;5;124;43m--\u001b[39;49m\u001b[38;5;124;43m'\u001b[39;49m\u001b[43m,\u001b[49m\u001b[43m \u001b[49m\u001b[43mmarker\u001b[49m\u001b[38;5;241;43m=\u001b[39;49m\u001b[38;5;124;43m'\u001b[39;49m\u001b[38;5;124;43mo\u001b[39;49m\u001b[38;5;124;43m'\u001b[39;49m\u001b[43m,\u001b[49m\u001b[43m \u001b[49m\u001b[43mcolor\u001b[49m\u001b[38;5;241;43m=\u001b[39;49m\u001b[38;5;124;43m'\u001b[39;49m\u001b[38;5;124;43mgray\u001b[39;49m\u001b[38;5;124;43m'\u001b[39;49m\u001b[43m)\u001b[49m\n\u001b[0;32m     30\u001b[0m \u001b[38;5;66;03m#꺾은선 그래프의 눈금선을 제거\u001b[39;00m\n\u001b[0;32m     31\u001b[0m ax2\u001b[38;5;241m.\u001b[39mgrid(visible\u001b[38;5;241m=\u001b[39m\u001b[38;5;28;01mFalse\u001b[39;00m)\n",
      "File \u001b[1;32m~\\Anaconda3\\envs\\cakd7\\lib\\site-packages\\matplotlib\\axes\\_axes.py:1632\u001b[0m, in \u001b[0;36mAxes.plot\u001b[1;34m(self, scalex, scaley, data, *args, **kwargs)\u001b[0m\n\u001b[0;32m   1390\u001b[0m \u001b[38;5;124;03m\"\"\"\u001b[39;00m\n\u001b[0;32m   1391\u001b[0m \u001b[38;5;124;03mPlot y versus x as lines and/or markers.\u001b[39;00m\n\u001b[0;32m   1392\u001b[0m \n\u001b[1;32m   (...)\u001b[0m\n\u001b[0;32m   1629\u001b[0m \u001b[38;5;124;03m(``'green'``) or hex strings (``'#008000'``).\u001b[39;00m\n\u001b[0;32m   1630\u001b[0m \u001b[38;5;124;03m\"\"\"\u001b[39;00m\n\u001b[0;32m   1631\u001b[0m kwargs \u001b[38;5;241m=\u001b[39m cbook\u001b[38;5;241m.\u001b[39mnormalize_kwargs(kwargs, mlines\u001b[38;5;241m.\u001b[39mLine2D)\n\u001b[1;32m-> 1632\u001b[0m lines \u001b[38;5;241m=\u001b[39m [\u001b[38;5;241m*\u001b[39m\u001b[38;5;28mself\u001b[39m\u001b[38;5;241m.\u001b[39m_get_lines(\u001b[38;5;241m*\u001b[39margs, data\u001b[38;5;241m=\u001b[39mdata, \u001b[38;5;241m*\u001b[39m\u001b[38;5;241m*\u001b[39mkwargs)]\n\u001b[0;32m   1633\u001b[0m \u001b[38;5;28;01mfor\u001b[39;00m line \u001b[38;5;129;01min\u001b[39;00m lines:\n\u001b[0;32m   1634\u001b[0m     \u001b[38;5;28mself\u001b[39m\u001b[38;5;241m.\u001b[39madd_line(line)\n",
      "File \u001b[1;32m~\\Anaconda3\\envs\\cakd7\\lib\\site-packages\\matplotlib\\axes\\_base.py:312\u001b[0m, in \u001b[0;36m_process_plot_var_args.__call__\u001b[1;34m(self, data, *args, **kwargs)\u001b[0m\n\u001b[0;32m    310\u001b[0m     this \u001b[38;5;241m+\u001b[39m\u001b[38;5;241m=\u001b[39m args[\u001b[38;5;241m0\u001b[39m],\n\u001b[0;32m    311\u001b[0m     args \u001b[38;5;241m=\u001b[39m args[\u001b[38;5;241m1\u001b[39m:]\n\u001b[1;32m--> 312\u001b[0m \u001b[38;5;28;01myield from\u001b[39;00m \u001b[38;5;28;43mself\u001b[39;49m\u001b[38;5;241;43m.\u001b[39;49m\u001b[43m_plot_args\u001b[49m\u001b[43m(\u001b[49m\u001b[43mthis\u001b[49m\u001b[43m,\u001b[49m\u001b[43m \u001b[49m\u001b[43mkwargs\u001b[49m\u001b[43m)\u001b[49m\n",
      "File \u001b[1;32m~\\Anaconda3\\envs\\cakd7\\lib\\site-packages\\matplotlib\\axes\\_base.py:498\u001b[0m, in \u001b[0;36m_process_plot_var_args._plot_args\u001b[1;34m(self, tup, kwargs, return_kwargs)\u001b[0m\n\u001b[0;32m    495\u001b[0m     \u001b[38;5;28mself\u001b[39m\u001b[38;5;241m.\u001b[39maxes\u001b[38;5;241m.\u001b[39myaxis\u001b[38;5;241m.\u001b[39mupdate_units(y)\n\u001b[0;32m    497\u001b[0m \u001b[38;5;28;01mif\u001b[39;00m x\u001b[38;5;241m.\u001b[39mshape[\u001b[38;5;241m0\u001b[39m] \u001b[38;5;241m!=\u001b[39m y\u001b[38;5;241m.\u001b[39mshape[\u001b[38;5;241m0\u001b[39m]:\n\u001b[1;32m--> 498\u001b[0m     \u001b[38;5;28;01mraise\u001b[39;00m \u001b[38;5;167;01mValueError\u001b[39;00m(\u001b[38;5;124mf\u001b[39m\u001b[38;5;124m\"\u001b[39m\u001b[38;5;124mx and y must have same first dimension, but \u001b[39m\u001b[38;5;124m\"\u001b[39m\n\u001b[0;32m    499\u001b[0m                      \u001b[38;5;124mf\u001b[39m\u001b[38;5;124m\"\u001b[39m\u001b[38;5;124mhave shapes \u001b[39m\u001b[38;5;132;01m{\u001b[39;00mx\u001b[38;5;241m.\u001b[39mshape\u001b[38;5;132;01m}\u001b[39;00m\u001b[38;5;124m and \u001b[39m\u001b[38;5;132;01m{\u001b[39;00my\u001b[38;5;241m.\u001b[39mshape\u001b[38;5;132;01m}\u001b[39;00m\u001b[38;5;124m\"\u001b[39m)\n\u001b[0;32m    500\u001b[0m \u001b[38;5;28;01mif\u001b[39;00m x\u001b[38;5;241m.\u001b[39mndim \u001b[38;5;241m>\u001b[39m \u001b[38;5;241m2\u001b[39m \u001b[38;5;129;01mor\u001b[39;00m y\u001b[38;5;241m.\u001b[39mndim \u001b[38;5;241m>\u001b[39m \u001b[38;5;241m2\u001b[39m:\n\u001b[0;32m    501\u001b[0m     \u001b[38;5;28;01mraise\u001b[39;00m \u001b[38;5;167;01mValueError\u001b[39;00m(\u001b[38;5;124mf\u001b[39m\u001b[38;5;124m\"\u001b[39m\u001b[38;5;124mx and y can be no greater than 2D, but have \u001b[39m\u001b[38;5;124m\"\u001b[39m\n\u001b[0;32m    502\u001b[0m                      \u001b[38;5;124mf\u001b[39m\u001b[38;5;124m\"\u001b[39m\u001b[38;5;124mshapes \u001b[39m\u001b[38;5;132;01m{\u001b[39;00mx\u001b[38;5;241m.\u001b[39mshape\u001b[38;5;132;01m}\u001b[39;00m\u001b[38;5;124m and \u001b[39m\u001b[38;5;132;01m{\u001b[39;00my\u001b[38;5;241m.\u001b[39mshape\u001b[38;5;132;01m}\u001b[39;00m\u001b[38;5;124m\"\u001b[39m)\n",
      "\u001b[1;31mValueError\u001b[0m: x and y must have same first dimension, but have shapes (1000,) and (10,)"
     ]
    },
    {
     "data": {
      "image/png": "[encoded data removed]",
      "text/plain": [
       "<Figure size 720x432 with 2 Axes>"
      ]
     },
     "metadata": {
      "needs_background": "light"
     },
     "output_type": "display_data"
    }
   ],
   "source": [
    "# 12. 히스토그램+누적상대도수\n",
    "from matplotlib import font_manager, rc # 한글넣기\n",
    "import warnings\n",
    "\n",
    "warnings.filterwarnings('ignore')\n",
    "\n",
    "font_path = 'dataset/malgun.ttf'\n",
    "font_name = font_manager.FontProperties(fname=font_path).get_name()\n",
    "rc('font',family=font_name)\n",
    "plt.rcParams['axes.unicode_minus'] = False # 마이너스 부호 출력\n",
    "\n",
    "fig = plt.figure(figsize=(10,6))\n",
    "# 111의 의미는, 1행째의 1열의 첫 번째라는 의미로, subplot(1, 1, 1) 로 작성해도 동일하게 작동한다.\n",
    "ax1 = fig.add_subplot(111)\n",
    "# Y축의 스케일이 다른 그래프를 ax1과 동일한 영역에 생성\n",
    "ax2 = ax1.twinx()\n",
    "\n",
    "# 상대도수의 히스토그램으로 하기 위해서는, 도수를 데이터의 수로 나눌 필요가 있음\n",
    "# 이것은 hist의 인수 weight를 지정하면 실현 가능\n",
    "weights = np.ones_like(extra) / len(extra)\n",
    "rel_freq, _, _ = ax1.hist(extra, bins=10, range=(0,10000), weights=weights)\n",
    "\n",
    "cum_rel_freq = np.cumsum(rel_freq)\n",
    "class_value = [(i+(i+1000))//2 for i in range(0,10000,10)]\n",
    "# 꺾은선 그래프 그림\n",
    "# 인수 ls(엘에스)를 '--'로 하면 점선이 그려짐\n",
    "# 인수 marker를 'o'로 하면 데이터 점을 그림\n",
    "# color인수로 색상\n",
    "ax2.plot(class_value, cum_rel_freq, ls='--', marker='o', color='gray')\n",
    "#꺾은선 그래프의 눈금선을 제거\n",
    "ax2.grid(visible=False)\n",
    "\n",
    "ax1.set_xlabel('extra_charges')\n",
    "ax1.set_ylabel('상대도수')\n",
    "ax2.set_ylabel('누적상대도수') # 점선 : 누적상대도수\n",
    "ax1.set_xticks(np.linspace(0,10000,10+1))\n",
    "\n",
    "plt.show()"
   ]
  },
  {
   "cell_type": "markdown",
   "id": "019b5755",
   "metadata": {},
   "source": [
    "- 앤스컴의 예"
   ]
  },
  {
   "cell_type": "code",
   "execution_count": 30,
   "id": "ef705c11",
   "metadata": {},
   "outputs": [
    {
     "name": "stdout",
     "output_type": "stream",
     "text": [
      "(4, 11, 2)\n"
     ]
    },
    {
     "data": {
      "text/plain": [
       "array([[10.  ,  8.04],\n",
       "       [ 8.  ,  6.95],\n",
       "       [13.  ,  7.58],\n",
       "       [ 9.  ,  8.81],\n",
       "       [11.  ,  8.33],\n",
       "       [14.  ,  9.96],\n",
       "       [ 6.  ,  7.24],\n",
       "       [ 4.  ,  4.26],\n",
       "       [12.  , 10.84],\n",
       "       [ 7.  ,  4.82],\n",
       "       [ 5.  ,  5.68]])"
      ]
     },
     "execution_count": 30,
     "metadata": {},
     "output_type": "execute_result"
    }
   ],
   "source": [
    "import pandas as pd\n",
    "anscombe_data = np.load('./dataset/ch3_anscombe.npy')\n",
    "print(anscombe_data.shape) # 11행2열이 4개\n",
    "anscombe_data[0]"
   ]
  },
  {
   "cell_type": "code",
   "execution_count": 32,
   "id": "188056ea",
   "metadata": {},
   "outputs": [
    {
     "data": {
      "text/html": [
       "<div>\n",
       "<style scoped>\n",
       "    .dataframe tbody tr th:only-of-type {\n",
       "        vertical-align: middle;\n",
       "    }\n",
       "\n",
       "    .dataframe tbody tr th {\n",
       "        vertical-align: top;\n",
       "    }\n",
       "\n",
       "    .dataframe thead th {\n",
       "        text-align: right;\n",
       "    }\n",
       "</style>\n",
       "<table border=\"1\" class=\"dataframe\">\n",
       "  <thead>\n",
       "    <tr style=\"text-align: right;\">\n",
       "      <th></th>\n",
       "      <th>data1</th>\n",
       "      <th>data2</th>\n",
       "      <th>data3</th>\n",
       "      <th>data4</th>\n",
       "    </tr>\n",
       "  </thead>\n",
       "  <tbody>\n",
       "    <tr>\n",
       "      <th>X_mean</th>\n",
       "      <td>9.00</td>\n",
       "      <td>9.00</td>\n",
       "      <td>9.00</td>\n",
       "      <td>9.00</td>\n",
       "    </tr>\n",
       "    <tr>\n",
       "      <th>X_variance</th>\n",
       "      <td>10.00</td>\n",
       "      <td>10.00</td>\n",
       "      <td>10.00</td>\n",
       "      <td>10.00</td>\n",
       "    </tr>\n",
       "    <tr>\n",
       "      <th>Y_mean</th>\n",
       "      <td>7.50</td>\n",
       "      <td>7.50</td>\n",
       "      <td>7.50</td>\n",
       "      <td>7.50</td>\n",
       "    </tr>\n",
       "    <tr>\n",
       "      <th>Y_variance</th>\n",
       "      <td>3.75</td>\n",
       "      <td>3.75</td>\n",
       "      <td>3.75</td>\n",
       "      <td>3.75</td>\n",
       "    </tr>\n",
       "    <tr>\n",
       "      <th>X&amp;Y_correlation</th>\n",
       "      <td>0.82</td>\n",
       "      <td>0.82</td>\n",
       "      <td>0.82</td>\n",
       "      <td>0.82</td>\n",
       "    </tr>\n",
       "    <tr>\n",
       "      <th>X&amp;Y_regression line</th>\n",
       "      <td>3.00+0.50x</td>\n",
       "      <td>3.00+0.50x</td>\n",
       "      <td>3.00+0.50x</td>\n",
       "      <td>3.00+0.50x</td>\n",
       "    </tr>\n",
       "  </tbody>\n",
       "</table>\n",
       "</div>"
      ],
      "text/plain": [
       "                          data1       data2       data3       data4\n",
       "X_mean                     9.00        9.00        9.00        9.00\n",
       "X_variance                10.00       10.00       10.00       10.00\n",
       "Y_mean                     7.50        7.50        7.50        7.50\n",
       "Y_variance                 3.75        3.75        3.75        3.75\n",
       "X&Y_correlation            0.82        0.82        0.82        0.82\n",
       "X&Y_regression line  3.00+0.50x  3.00+0.50x  3.00+0.50x  3.00+0.50x"
      ]
     },
     "execution_count": 32,
     "metadata": {},
     "output_type": "execute_result"
    }
   ],
   "source": [
    "import pandas as pd\n",
    "\n",
    "# correlation : 상관계수, regression line : 회귀직선\n",
    "stats_df = pd.DataFrame(index=['X_mean','X_variance','Y_mean','Y_variance',\n",
    "                              'X&Y_correlation','X&Y_regression line'])\n",
    "for i, data in enumerate(anscombe_data):\n",
    "    dataX = data[:,0] \n",
    "    dataY = data[:,1] # 두번째 열을 y에\n",
    "    poly_fit = np.polyfit(dataX, dataY, 1)\n",
    "    stats_df[f'data{i+1}'] =\\\n",
    "        [f'{np.mean(dataX):.2f}',\n",
    "        f'{np.var(dataX):.2f}',\n",
    "        f'{np.mean(dataY):.2f}',\n",
    "        f'{np.var(dataY):.2f}',\n",
    "        f'{np.corrcoef(dataX,dataY)[0,1]:.2f}',\n",
    "        f'{poly_fit[1]:.2f}+{poly_fit[0]:.2f}x']\n",
    "stats_df"
   ]
  },
  {
   "cell_type": "code",
   "execution_count": 34,
   "id": "492104f4",
   "metadata": {},
   "outputs": [
    {
     "data": {
      "image/png": "[encoded data removed]",
      "text/plain": [
       "<Figure size 720x720 with 4 Axes>"
      ]
     },
     "metadata": {
      "needs_background": "light"
     },
     "output_type": "display_data"
    }
   ],
   "source": [
    "# 2x2개의 그래프 영역 생성\n",
    "import matplotlib.pyplot as plt\n",
    "# sharex/sharey : 4개그래프에 x,y축 공유\n",
    "fig, axes = plt.subplots(nrows=2, ncols=2, figsize=(10,10),\n",
    "                       sharex=True, sharey=True) \n",
    "xs = np.linspace(0,30,100)\n",
    "for i, data in enumerate(anscombe_data):\n",
    "    poly_fit = np.polyfit(data[:,0], data[:,1],1)\n",
    "    poly_1d = np.poly1d(poly_fit)\n",
    "    ys = poly_1d(xs)\n",
    "    # 그리는 영역 선택\n",
    "    ax = axes[i//2, i%2]\n",
    "    ax.set_xlim([4,20])\n",
    "    ax.set_ylim([3,13])\n",
    "    # 타이틀 부여\n",
    "    ax.set_title(f'data{i+1}')\n",
    "    ax.scatter(data[:,0], data[:,1])\n",
    "    ax.plot(xs, ys, color='gray')\n",
    "    \n",
    "# 그래프 사이 간격좁히기\n",
    "plt.tight_layout()\n",
    "plt.show()"
   ]
  },
  {
   "cell_type": "markdown",
   "id": "748fe93e",
   "metadata": {},
   "source": [
    "#### polyfit 함수 사용법\n",
    "\n",
    "poly(x,y차수) 형태로 매우 간단하게 이용이 가능"
   ]
  },
  {
   "cell_type": "code",
   "execution_count": 36,
   "id": "242f8253",
   "metadata": {},
   "outputs": [
    {
     "name": "stdout",
     "output_type": "stream",
     "text": [
      "[ 3.31428571 -3.6       ]\n"
     ]
    }
   ],
   "source": [
    "x = [1,2,3,4,5,6]\n",
    "y = [1,3,6,8,11,19]\n",
    "\n",
    "print(np.polyfit(x,y,1)) # y = 3.314x - 3.6"
   ]
  },
  {
   "cell_type": "code",
   "execution_count": 38,
   "id": "5b991a02",
   "metadata": {},
   "outputs": [
    {
     "data": {
      "image/png": "[encoded data removed]",
      "text/plain": [
       "<Figure size 432x288 with 1 Axes>"
      ]
     },
     "metadata": {
      "needs_background": "light"
     },
     "output_type": "display_data"
    }
   ],
   "source": [
    "poly = np.polyfit(x,y,1) # x값, y값, 1차원\n",
    "y_pred = np.array(x)*poly[0] + poly[1]\n",
    "\n",
    "plt.plot(x, y_pred, color = 'b')\n",
    "plt.scatter(x,y,color='r')\n",
    "plt.show()"
   ]
  },
  {
   "cell_type": "markdown",
   "id": "b24f81a6",
   "metadata": {},
   "source": [
    "#### 2차 회귀식 및 시각화"
   ]
  },
  {
   "cell_type": "code",
   "execution_count": 39,
   "id": "cae71d4f",
   "metadata": {},
   "outputs": [
    {
     "name": "stdout",
     "output_type": "stream",
     "text": [
      "[ 0.53571429 -0.43571429  1.4       ]\n"
     ]
    }
   ],
   "source": [
    "print(np.polyfit(x,y,2))"
   ]
  },
  {
   "cell_type": "code",
   "execution_count": 40,
   "id": "6d258733",
   "metadata": {},
   "outputs": [
    {
     "data": {
      "image/png": "[encoded data removed]",
      "text/plain": [
       "<Figure size 432x288 with 1 Axes>"
      ]
     },
     "metadata": {
      "needs_background": "light"
     },
     "output_type": "display_data"
    }
   ],
   "source": [
    "poly = np.polyfit(x,y,2)\n",
    "x_line = np.linspace(1,6,100) # 곡선을 완만하게 그리기 위한 linspace 객체 선언\n",
    "y_pred = x_line**2*poly[0] + x_line*poly[1] + poly[2]\n",
    "\n",
    "plt.plot(x_line, y_pred, color='b')\n",
    "plt.scatter(x,y,color='r')\n",
    "plt.show()"
   ]
  },
  {
   "cell_type": "code",
   "execution_count": 42,
   "id": "0772680d",
   "metadata": {},
   "outputs": [
    {
     "data": {
      "image/png": "[encoded data removed]",
      "text/plain": [
       "<Figure size 432x288 with 1 Axes>"
      ]
     },
     "metadata": {
      "needs_background": "light"
     },
     "output_type": "display_data"
    }
   ],
   "source": [
    "# 5차\n",
    "poly = np.polyfit(x,y,5)\n",
    "x_line = np.linspace(1,6,100)\n",
    "y_pred = np.zeros_like(x_line) # 예측값을 담을 그릇(모든 값이 0인 배열)\n",
    "for i in range(6):\n",
    "    y_pred += x_line**(5-i)*poly[i]\n",
    "plt.plot(x_line,y_pred,color='b')\n",
    "plt.scatter(x,y,color='r')\n",
    "plt.show()"
   ]
  },
  {
   "cell_type": "markdown",
   "id": "d7c0c698",
   "metadata": {},
   "source": [
    "- 과제 08/24 (1)\n",
    "p.84~p.112"
   ]
  },
  {
   "cell_type": "code",
   "execution_count": 46,
   "id": "5d8b1a01",
   "metadata": {},
   "outputs": [],
   "source": [
    "import numpy as np\n",
    "import pandas as pd\n",
    "import matplotlib.pyplot as plt\n",
    "\n",
    "%matplotlib inline"
   ]
  },
  {
   "cell_type": "code",
   "execution_count": 49,
   "id": "61617f51",
   "metadata": {},
   "outputs": [
    {
     "data": {
      "text/plain": [
       "array([76, 55, 80, 80, 74, 61, 81, 76, 23, 80], dtype=int64)"
      ]
     },
     "execution_count": 49,
     "metadata": {},
     "output_type": "execute_result"
    }
   ],
   "source": [
    "df = pd.read_csv('./python_stat_sample-master/data/ch4_scores400.csv')\n",
    "scores = np.array(df['score'])\n",
    "scores[:10]"
   ]
  },
  {
   "cell_type": "markdown",
   "id": "1e1878a0",
   "metadata": {},
   "source": [
    "- 복원추출 (여러차례 동일한 표본을 선택하는 추출)"
   ]
  },
  {
   "cell_type": "code",
   "execution_count": 54,
   "id": "98d5f4b9",
   "metadata": {},
   "outputs": [
    {
     "data": {
      "text/plain": [
       "array([1, 3, 1])"
      ]
     },
     "execution_count": 54,
     "metadata": {},
     "output_type": "execute_result"
    }
   ],
   "source": [
    "np.random.choice([1,2,3],3) # np.random.choice(a,b,replace=) :\n",
    "                            # 0이상 a미만 b개 뽑기, True=중복허용,default"
   ]
  },
  {
   "cell_type": "markdown",
   "id": "5d69e26e",
   "metadata": {},
   "source": [
    "- 비복원추출 (동일한 표본은 한번만)"
   ]
  },
  {
   "cell_type": "code",
   "execution_count": 55,
   "id": "6611a326",
   "metadata": {},
   "outputs": [
    {
     "data": {
      "text/plain": [
       "array([1, 2, 3])"
      ]
     },
     "execution_count": 55,
     "metadata": {},
     "output_type": "execute_result"
    }
   ],
   "source": [
    "np.random.choice([1,2,3],3,replace=False)\n",
    "# np.random.choice([1,2,3],3,False)"
   ]
  },
  {
   "cell_type": "code",
   "execution_count": 56,
   "id": "bfbfae01",
   "metadata": {},
   "outputs": [
    {
     "data": {
      "text/plain": [
       "array([1, 2, 1])"
      ]
     },
     "execution_count": 56,
     "metadata": {},
     "output_type": "execute_result"
    }
   ],
   "source": [
    "np.random.seed(0)\n",
    "np.random.choice([1,2,3],3)"
   ]
  },
  {
   "cell_type": "code",
   "execution_count": 57,
   "id": "c09edc83",
   "metadata": {},
   "outputs": [
    {
     "data": {
      "text/plain": [
       "70.4"
      ]
     },
     "execution_count": 57,
     "metadata": {},
     "output_type": "execute_result"
    }
   ],
   "source": [
    "# 샘플A. 표본크기 20, 표본평균 계산하기\n",
    "np.random.seed(0)\n",
    "sample = np.random.choice(scores, 20)\n",
    "sample.mean()"
   ]
  },
  {
   "cell_type": "code",
   "execution_count": 59,
   "id": "af5054d0",
   "metadata": {},
   "outputs": [
    {
     "data": {
      "text/plain": [
       "69.53"
      ]
     },
     "execution_count": 59,
     "metadata": {},
     "output_type": "execute_result"
    }
   ],
   "source": [
    "# 모평균\n",
    "scores.mean()\n",
    "# A의 점수는 평균보다 조금높다고 추측"
   ]
  },
  {
   "cell_type": "code",
   "execution_count": 63,
   "id": "84aeab42",
   "metadata": {},
   "outputs": [
    {
     "name": "stdout",
     "output_type": "stream",
     "text": [
      "1번째 무작위추출로 얻은 표본평균 70.65\n",
      "2번째 무작위추출로 얻은 표본평균 69.95\n",
      "3번째 무작위추출로 얻은 표본평균 68.8\n",
      "4번째 무작위추출로 얻은 표본평균 69.15\n",
      "5번째 무작위추출로 얻은 표본평균 71.25\n"
     ]
    }
   ],
   "source": [
    "# 무작위추출 표본평균 p.96\n",
    "for i in range(5):\n",
    "    sample = np.random.choice(scores, 20)\n",
    "    print(f'{i+1}번째 무작위추출로 얻은 표본평균', sample.mean())"
   ]
  },
  {
   "cell_type": "markdown",
   "id": "f9d69f9a",
   "metadata": {},
   "source": [
    "## 확률 모형"
   ]
  },
  {
   "cell_type": "markdown",
   "id": "cf56f503",
   "metadata": {},
   "source": [
    "### 확률분포"
   ]
  },
  {
   "cell_type": "code",
   "execution_count": 89,
   "id": "4fb4f692",
   "metadata": {},
   "outputs": [
    {
     "data": {
      "text/plain": [
       "6"
      ]
     },
     "execution_count": 89,
     "metadata": {},
     "output_type": "execute_result"
    }
   ],
   "source": [
    "dice = [1,2,3,4,5,6]\n",
    "prob = [1/21, 2/21, 3/21, 4/21, 5/21, 6/21]\n",
    "\n",
    "np.random.choice(dice, p=prob)"
   ]
  },
  {
   "cell_type": "code",
   "execution_count": 90,
   "id": "4e97a730",
   "metadata": {},
   "outputs": [
    {
     "data": {
      "text/plain": [
       "array([6, 3, 4, 5, 5, 4, 4, 3, 6, 2, 2, 5, 6, 5, 1, 4, 6, 5, 6, 1, 5, 3,\n",
       "       6, 2, 4, 6, 5, 4, 3, 1, 2, 5, 4, 6, 3, 3, 6, 6, 5, 6, 4, 6, 6, 5,\n",
       "       4, 6, 6, 2, 5, 2, 4, 5, 3, 4, 5, 6, 4, 5, 5, 5, 6, 3, 6, 5, 6, 3,\n",
       "       6, 4, 6, 5, 3, 4, 2, 6, 4, 6, 6, 4, 5, 3, 3, 6, 3, 1, 2, 4, 6, 5,\n",
       "       1, 4, 6, 5, 5, 4, 5, 4, 3, 6, 1, 4])"
      ]
     },
     "execution_count": 90,
     "metadata": {},
     "output_type": "execute_result"
    }
   ],
   "source": [
    "# https://jimmy-ai.tistory.com/60 np.random.choice 참조\n",
    "# np.random.choice(sample 집단, sample 개수, 복원 추출 여부(True/False), 확률 리스트)\n",
    "# sample 집단은 원하는 sampling되기 원하는 값들을 지정해주면 되는데,\n",
    "# 정수로 지정시 0 ~ 해당 숫자 - 1 범위에서 정수 sampling이 됩니다.\n",
    "num_trial = 100\n",
    "sample = np.random.choice(dice, num_trial, p=prob)\n",
    "# dice : 샘플집단, num_trial : 샘플개수, p=prob : 확률리스트\n",
    "sample"
   ]
  },
  {
   "cell_type": "code",
   "execution_count": 66,
   "id": "77397d4d",
   "metadata": {},
   "outputs": [
    {
     "data": {
      "text/html": [
       "<div>\n",
       "<style scoped>\n",
       "    .dataframe tbody tr th:only-of-type {\n",
       "        vertical-align: middle;\n",
       "    }\n",
       "\n",
       "    .dataframe tbody tr th {\n",
       "        vertical-align: top;\n",
       "    }\n",
       "\n",
       "    .dataframe thead th {\n",
       "        text-align: right;\n",
       "    }\n",
       "</style>\n",
       "<table border=\"1\" class=\"dataframe\">\n",
       "  <thead>\n",
       "    <tr style=\"text-align: right;\">\n",
       "      <th></th>\n",
       "      <th>frequency</th>\n",
       "      <th>relative frequency</th>\n",
       "    </tr>\n",
       "    <tr>\n",
       "      <th>dice</th>\n",
       "      <th></th>\n",
       "      <th></th>\n",
       "    </tr>\n",
       "  </thead>\n",
       "  <tbody>\n",
       "    <tr>\n",
       "      <th>1</th>\n",
       "      <td>4</td>\n",
       "      <td>0.04</td>\n",
       "    </tr>\n",
       "    <tr>\n",
       "      <th>2</th>\n",
       "      <td>13</td>\n",
       "      <td>0.13</td>\n",
       "    </tr>\n",
       "    <tr>\n",
       "      <th>3</th>\n",
       "      <td>17</td>\n",
       "      <td>0.17</td>\n",
       "    </tr>\n",
       "    <tr>\n",
       "      <th>4</th>\n",
       "      <td>16</td>\n",
       "      <td>0.16</td>\n",
       "    </tr>\n",
       "    <tr>\n",
       "      <th>5</th>\n",
       "      <td>22</td>\n",
       "      <td>0.22</td>\n",
       "    </tr>\n",
       "    <tr>\n",
       "      <th>6</th>\n",
       "      <td>28</td>\n",
       "      <td>0.28</td>\n",
       "    </tr>\n",
       "  </tbody>\n",
       "</table>\n",
       "</div>"
      ],
      "text/plain": [
       "      frequency  relative frequency\n",
       "dice                               \n",
       "1             4                0.04\n",
       "2            13                0.13\n",
       "3            17                0.17\n",
       "4            16                0.16\n",
       "5            22                0.22\n",
       "6            28                0.28"
      ]
     },
     "execution_count": 66,
     "metadata": {},
     "output_type": "execute_result"
    }
   ],
   "source": [
    "# p.102 도수분포표\n",
    "freq, _ = np.histogram(sample, bins=6, range=(1,7))\n",
    "pd.DataFrame({'frequency':freq,\n",
    "             'relative frequency' :freq / num_trial},\n",
    "            index = pd.Index(np.arange(1,7), name='dice'))"
   ]
  },
  {
   "cell_type": "code",
   "execution_count": 68,
   "id": "475d3d1e",
   "metadata": {},
   "outputs": [
    {
     "data": {
      "image/png": "[encoded data removed]",
      "text/plain": [
       "<Figure size 720x432 with 1 Axes>"
      ]
     },
     "metadata": {
      "needs_background": "light"
     },
     "output_type": "display_data"
    }
   ],
   "source": [
    "# p.103 확률분포와 함꼐 히스토그램 그리기\n",
    "fig = plt.figure(figsize=(10,6))\n",
    "ax = fig.add_subplot(111)\n",
    "# density : 밀도\n",
    "ax.hist(sample, bins=6, range=(1,7), density=True, rwidth=0.8)\n",
    "# 실제의 확률분포를 가로선으로 표시\n",
    "ax.hlines(prob, np.arange(1,7), np.arange(2,8), colors='gray')\n",
    "# 막대그래프의 [1.5, 2.5, ... 6.5]에 눈금 표시\n",
    "ax.set_xticks(np.linspace(1.5, 6.5, 6))\n",
    "# 주사위 눈의 값은 [1,2,3,4,5,6]\n",
    "ax.set_xticklabels(np.arange(1,7))\n",
    "ax.set_xlabel('dice')\n",
    "ax.set_ylabel('relative frequency')\n",
    "plt.show() # 100번 시행시 주사위 눈에 대한 히스토그램"
   ]
  },
  {
   "cell_type": "code",
   "execution_count": 69,
   "id": "5ff99c2a",
   "metadata": {},
   "outputs": [
    {
     "data": {
      "image/png": "[encoded data removed]",
      "text/plain": [
       "<Figure size 720x432 with 1 Axes>"
      ]
     },
     "metadata": {
      "needs_background": "light"
     },
     "output_type": "display_data"
    }
   ],
   "source": [
    "# 차이가 큰것같아 10000회 시행\n",
    "num_trial = 10000\n",
    "sample = np.random.choice(dice, size=num_trial, p=prob)\n",
    "\n",
    "fig = plt.figure(figsize=(10,6))\n",
    "ax = fig.add_subplot(111)\n",
    "ax.hist(sample, bins=6, range=(1,7), density=True, rwidth=0.8)\n",
    "ax.hlines(prob, np.arange(1,7), np.arange(2,8), colors='gray')\n",
    "ax.set_xticks(np.linspace(1.5, 6.5, 6))\n",
    "ax.set_xticklabels(np.arange(1,7))\n",
    "ax.set_xlabel('dice')\n",
    "ax.set_ylabel('relative frequency')\n",
    "plt.show() # 1만번 시행시 주사위 눈의 히스토그램.\n",
    "#상대도수가 실제 확률분포에 가까워짐"
   ]
  },
  {
   "cell_type": "markdown",
   "id": "328413ac",
   "metadata": {},
   "source": [
    "## 추측통계의 확률"
   ]
  },
  {
   "cell_type": "code",
   "execution_count": 93,
   "id": "fa1d8d41",
   "metadata": {},
   "outputs": [
    {
     "data": {
      "text/plain": [
       "array([76, 55, 80, 80, 74, 61, 81, 76, 23, 80], dtype=int64)"
      ]
     },
     "execution_count": 93,
     "metadata": {},
     "output_type": "execute_result"
    }
   ],
   "source": [
    "import pandas as pd\n",
    "\n",
    "df = pd.read_csv('./python_stat_sample-master/data/ch4_scores400.csv')\n",
    "scores = np.array(df['score'])\n",
    "scores[:10]"
   ]
  },
  {
   "cell_type": "code",
   "execution_count": 94,
   "id": "36f22fb0",
   "metadata": {},
   "outputs": [
    {
     "data": {
      "image/png": "[encoded data removed]",
      "text/plain": [
       "<Figure size 720x432 with 1 Axes>"
      ]
     },
     "metadata": {
      "needs_background": "light"
     },
     "output_type": "display_data"
    }
   ],
   "source": [
    "# p.106 전교생 시험점수 분포확인, 계급폭 1점, 히스토그램.\n",
    "fig = plt.figure(figsize=(10,6))\n",
    "ax = fig.add_subplot(111)\n",
    "ax.hist(scores, bins=100, range=(0,100), density=True) # 100까지의 범위를 100구간으로 쪼갰으니 계급폭 : 1\n",
    "ax.set_xlim(20,100) # 축의 제한 설정\n",
    "ax.set_ylim(0, 0.042)\n",
    "ax.set_xlabel('score')\n",
    "ax.set_ylabel('relative frequency')\n",
    "plt.show() # 전교생 시험점수에 대한 히스토그램"
   ]
  },
  {
   "cell_type": "code",
   "execution_count": 72,
   "id": "29856f31",
   "metadata": {},
   "outputs": [
    {
     "data": {
      "text/plain": [
       "76"
      ]
     },
     "execution_count": 72,
     "metadata": {},
     "output_type": "execute_result"
    }
   ],
   "source": [
    "np.random.choice(scores)"
   ]
  },
  {
   "cell_type": "code",
   "execution_count": 95,
   "id": "38fedb0a",
   "metadata": {},
   "outputs": [
    {
     "data": {
      "image/png": "[encoded data removed]",
      "text/plain": [
       "<Figure size 720x432 with 1 Axes>"
      ]
     },
     "metadata": {
      "needs_background": "light"
     },
     "output_type": "display_data"
    }
   ],
   "source": [
    "# p.108 무작위추출로 샘플사이즈10000인 표본 추출, 히스토그램.\n",
    "sample = np.random.choice(scores, 10000)\n",
    "\n",
    "fig = plt.figure(figsize=(10,6))\n",
    "ax = fig.add_subplot(111)\n",
    "ax.hist(sample, bins=100, range=(0,100), density=True)\n",
    "ax.set_xlim(20,100) # 축의 범위. 수치제한\n",
    "ax.set_ylim(0, 0.042)\n",
    "ax.set_xlabel('score')\n",
    "ax.set_ylabel('relative frequency')\n",
    "plt.show() # 표본의 크기가 커지면 실제 점수 분포에 매우 가까워짐"
   ]
  },
  {
   "cell_type": "code",
   "execution_count": 75,
   "id": "0df7b793",
   "metadata": {},
   "outputs": [
    {
     "data": {
      "image/png": "[encoded data removed]",
      "text/plain": [
       "<Figure size 720x432 with 1 Axes>"
      ]
     },
     "metadata": {
      "needs_background": "light"
     },
     "output_type": "display_data"
    }
   ],
   "source": [
    "# 무작위추출로 표본 크기가 20인 표본 추출\n",
    "# 표본평균 계산하는 작업 1만번 수행, 히스토그램\n",
    "# 표본평균의 분포 확인\n",
    "\n",
    "sample_means = [np.random.choice(scores, 20).mean()\n",
    "               for _ in range(10000)]\n",
    "\n",
    "fig = plt.figure(figsize=(10,6))\n",
    "ax = fig.add_subplot(111)\n",
    "ax.hist(sample_means, bins=100, range=(0,100), density=True)\n",
    "# 모평균 세로선으로 표시\n",
    "ax.vlines(np.mean(scores), 0, 1, 'gray')\n",
    "ax.set_xlim(50,90)\n",
    "ax.set_ylim(0, 0.13)\n",
    "ax.set_xlabel('score')\n",
    "ax.set_ylabel('relative frequency')\n",
    "plt.show()"
   ]
  },
  {
   "cell_type": "markdown",
   "id": "3fbc47de",
   "metadata": {},
   "source": [
    "- 과제 08/24 (2)\n",
    "\n",
    "적절한 데이터를 생성하고 polyfit을 이용하여 2,3차방정식을 만든 후 산점도 및 회귀식을 시각화하여 그 의미를 해석하세요\n",
    "\n",
    "자동차 제동거리?"
   ]
  },
  {
   "cell_type": "code",
   "execution_count": 108,
   "id": "aef23305",
   "metadata": {},
   "outputs": [
    {
     "data": {
      "image/png": "[encoded data removed]",
      "text/plain": [
       "<Figure size 432x576 with 1 Axes>"
      ]
     },
     "metadata": {
      "needs_background": "light"
     },
     "output_type": "display_data"
    }
   ],
   "source": [
    "x = [10,20,30,40,50,60,70,80,90,100]  # 속도(km/h)\n",
    "y = [3,6,10,16,22,30,38,47,58,69] # 제동거리(m)\n",
    "\n",
    "# 2차방정식, 산점도 및 회귀식\n",
    "poly = np.polyfit(x,y,2)\n",
    "x_line = np.linspace(10,100,1000) # 10~100 1000개로 쪼갬\n",
    "y_pred = x_line**2*poly[0] + x_line*poly[1] + poly[2]  # 2차방정식 생성\n",
    "\n",
    "\n",
    "fig = plt.figure(figsize=(6,8))\n",
    "ax = fig.add_subplot(111)\n",
    "ax.plot(x_line, y_pred, color='b')\n",
    "ax.scatter(x,y,color='r')\n",
    "plt.show()"
   ]
  },
  {
   "cell_type": "code",
   "execution_count": 102,
   "id": "7cf38e42",
   "metadata": {},
   "outputs": [
    {
     "name": "stdout",
     "output_type": "stream",
     "text": [
      "[0.00503788 0.18340909 0.41666667]\n"
     ]
    }
   ],
   "source": [
    "print(np.polyfit(x,y,2)) # 2차방정식 ax^2+bx+c 의 a,b,c"
   ]
  },
  {
   "cell_type": "code",
   "execution_count": 88,
   "id": "c75fe4ff",
   "metadata": {},
   "outputs": [
    {
     "data": {
      "image/png": "[encoded data removed]",
      "text/plain": [
       "<Figure size 432x288 with 1 Axes>"
      ]
     },
     "metadata": {
      "needs_background": "light"
     },
     "output_type": "display_data"
    }
   ],
   "source": [
    "# 3차방정식\n",
    "poly = np.polyfit(x,y,3)\n",
    "x_line = np.linspace(10,100,100)\n",
    "y_pred = np.zeros_like(x_line)\n",
    "# for구문 이용해서 방정식 만들기\n",
    "for i in range(4): # 3차라서 3+1\n",
    "    y_pred += x_line**(3-i)*poly[i]\n",
    "plt.plot(x_line, y_pred, color='b')\n",
    "plt.scatter(x,y,color='r')\n",
    "plt.show()"
   ]
  },
  {
   "cell_type": "code",
   "execution_count": 101,
   "id": "6c53ee89",
   "metadata": {},
   "outputs": [
    {
     "name": "stdout",
     "output_type": "stream",
     "text": [
      "[-5.63325563e-06  5.96736597e-03  1.40540016e-01  9.00000000e-01]\n"
     ]
    }
   ],
   "source": [
    "print(poly) # 2차로 보이지만 3차방정식. ax^3+bx^2+cx+d 에서 a,b,c,d이다."
   ]
  },
  {
   "cell_type": "markdown",
   "id": "9d19d435",
   "metadata": {},
   "source": [
    "- 속도가 빨라질수록 자동차 제동거리가 길어진다."
   ]
  },
  {
   "cell_type": "markdown",
   "id": "0020cc62",
   "metadata": {},
   "source": [
    "- 과제 08/24 (3)\n",
    "\n",
    "\"어떤 모집단에서 표본을 랜덤하게 추출하여 표본평균을 구하면 그 표본평균은 모평균을 중심으로 분포한다.\" 라는 주장을 사례를 만들어 설명하세요."
   ]
  },
  {
   "cell_type": "markdown",
   "id": "e0732f70",
   "metadata": {},
   "source": [
    "표본평균이 모평균을 중심으로 분포하는 이유\n",
    "\n",
    "표본평균의 평균이 모평균을 중심으로 분포하기 때문이다. 밑에 설명"
   ]
  },
  {
   "cell_type": "code",
   "execution_count": null,
   "id": "9f508206",
   "metadata": {},
   "outputs": [],
   "source": [
    "li = (a, b, c)\n",
    "# li의 모평균은 (a+b+c)/3\n",
    "\n",
    "# 표본평균 구하기. 표본의 크기는 2\n",
    "q1 = (a+b)/2 # 표본 q1 = a, b\n",
    "q2 = (b+c)/2 # 표본 q2 = b, c\n",
    "q3 = (c+a)/2 # 표본 q3 = c, a\n",
    "\n",
    "(q1+q2+q3)/3 # 표본평균들의 평균\n",
    " = (a,b,c)/3\n",
    "    \n",
    ">> 이것은 모평균과 같은 수치다\n",
    "표본을 랜덤으로 추출하는 행위가 반복되면 표본평균의 평균이 나오게 되고, 결국 모평균을 따라가게 된다."
   ]
  },
  {
   "cell_type": "markdown",
   "id": "9937b4b8",
   "metadata": {},
   "source": [
    "#  이산형 확률변수"
   ]
  },
  {
   "cell_type": "markdown",
   "id": "7f97e33a",
   "metadata": {},
   "source": [
    "## 1차원 이산형 확률변수"
   ]
  },
  {
   "cell_type": "markdown",
   "id": "10f18bcf",
   "metadata": {},
   "source": [
    "- 이산형 확률변수 : 취할 수 있는 값이 이산적인 확률변수"
   ]
  },
  {
   "cell_type": "markdown",
   "id": "86bbd888",
   "metadata": {},
   "source": [
    "- 확률질량함수(확률함수, probability mass function, PMF)"
   ]
  },
  {
   "cell_type": "markdown",
   "id": "7e1dfd3b",
   "metadata": {},
   "source": [
    "f(x) = P(X = x)"
   ]
  },
  {
   "cell_type": "markdown",
   "id": "547db549",
   "metadata": {},
   "source": [
    "- 확률분포 : 확률변수가 취할 수 있는 값과 그 확률의 구체적인 대응.\n",
    "\n",
    "확률변수의 확률분포가 결정되면 그 확률변수의 움직임이 정해짐\n",
    "\n",
    "확률 변수가 특정한 값을 가질 확률을 나타내는 함수"
   ]
  },
  {
   "cell_type": "code",
   "execution_count": 1,
   "id": "555dc4e3",
   "metadata": {},
   "outputs": [
    {
     "data": {
      "text/plain": [
       "'%.3f'"
      ]
     },
     "execution_count": 1,
     "metadata": {},
     "output_type": "execute_result"
    }
   ],
   "source": [
    "# 1차원\n",
    "import numpy as np\n",
    "import matplotlib.pyplot as plt\n",
    "\n",
    "%precision 3"
   ]
  },
  {
   "cell_type": "code",
   "execution_count": null,
   "id": "dee79124",
   "metadata": {},
   "outputs": [],
   "source": [
    "x_set = np.array([1,2,3,4,5,6])  # p.116.\n",
    "def f(x):    # 확률변수 f(x)\n",
    "    if x in x_set:  # x_set : 확률변수가 취할수 있는 값의 집합\n",
    "        return x/21\n",
    "    else :\n",
    "        return 0"
   ]
  },
  {
   "cell_type": "markdown",
   "id": "e5fe2ed2",
   "metadata": {},
   "source": [
    "- 확률변수 X"
   ]
  },
  {
   "cell_type": "code",
   "execution_count": 98,
   "id": "0f574e6a",
   "metadata": {},
   "outputs": [],
   "source": [
    "# 확률변수 X 정의. 집합(x_set)과 확률변수함수(f)를 요소로 하는 리스트로 구현\n",
    "# 이 확률분포에 의해 확률변수 X의 동작이 결정되기 때문\n",
    "X = [x_set, f] "
   ]
  },
  {
   "cell_type": "code",
   "execution_count": 8,
   "id": "806dc5d6",
   "metadata": {},
   "outputs": [
    {
     "name": "stdout",
     "output_type": "stream",
     "text": [
      "[0.048 0.095 0.143 0.19  0.238 0.286] \n",
      "\n"
     ]
    },
    {
     "data": {
      "text/plain": [
       "{1: 0.048, 2: 0.095, 3: 0.143, 4: 0.190, 5: 0.238, 6: 0.286}"
      ]
     },
     "execution_count": 8,
     "metadata": {},
     "output_type": "execute_result"
    }
   ],
   "source": [
    "# 확률 p_k를 구한다\n",
    "prob = np.array([f(x_k) for x_k in x_set]) # 확률\n",
    "print(prob, '\\n') # 각각 나올확률이 다르도록 부여. 위에 사용자함수로 지정한 확률변수 f(x)사용\n",
    "dict(zip(x_set, prob)) # 주사위 눈금마다 빈도가 다르게 나오는걸 확인 가능"
   ]
  },
  {
   "cell_type": "code",
   "execution_count": 14,
   "id": "4dfb4c28",
   "metadata": {},
   "outputs": [
    {
     "data": {
      "text/plain": [
       "Text(0.5, 1.0, 'Bar Graph')"
      ]
     },
     "execution_count": 14,
     "metadata": {},
     "output_type": "execute_result"
    },
    {
     "data": {
      "image/png": "[encoded data removed]",
      "text/plain": [
       "<Figure size 1440x720 with 1 Axes>"
      ]
     },
     "metadata": {
      "needs_background": "light"
     },
     "output_type": "display_data"
    }
   ],
   "source": [
    "import seaborn as sns\n",
    "import matplotlib.pyplot as plt\n",
    "import warnings\n",
    "warnings.filterwarnings('ignore')\n",
    "\n",
    "plt.figure(figsize=(20,10)) # 그래프사이즈\n",
    "sns.barplot(x_set,prob)\n",
    "plt.title('Bar Graph', fontsize=30)\n",
    "# f함수(사용자함수f(x))는 확률을 대응시켜줌"
   ]
  },
  {
   "cell_type": "markdown",
   "id": "c2855b1a",
   "metadata": {},
   "source": [
    "- 확률의 성질 \n",
    "\n",
    "확률은 절대적으로 0 이상으로, 모든 확률을 더하면 1이 된다."
   ]
  },
  {
   "cell_type": "code",
   "execution_count": 16,
   "id": "7cb7449a",
   "metadata": {},
   "outputs": [
    {
     "data": {
      "text/plain": [
       "True"
      ]
     },
     "execution_count": 16,
     "metadata": {},
     "output_type": "execute_result"
    }
   ],
   "source": [
    "np.all(prob >=0) #확률은 0보다크다?"
   ]
  },
  {
   "cell_type": "code",
   "execution_count": 18,
   "id": "eb642b67",
   "metadata": {},
   "outputs": [
    {
     "data": {
      "text/plain": [
       "1.000"
      ]
     },
     "execution_count": 18,
     "metadata": {},
     "output_type": "execute_result"
    }
   ],
   "source": [
    "np.sum(prob) # 확률의 합은 1"
   ]
  },
  {
   "cell_type": "markdown",
   "id": "3f3907a3",
   "metadata": {},
   "source": [
    "- 누적분포함수(분포함수. cumulative distribution function, CDF) p.120"
   ]
  },
  {
   "cell_type": "code",
   "execution_count": 99,
   "id": "06881a1f",
   "metadata": {},
   "outputs": [],
   "source": [
    "def F(x): # 누적분포함수. 특정값 이하가 되는 확률의 합을 구할 수 있음\n",
    "    return np.sum([f(x_k) for x_k in x_set if x_k <= x])\n",
    "                # f(x_k) : x의 확률변수\n",
    "                            # x_k : 확률\n",
    "                                   # x_set : 집합"
   ]
  },
  {
   "cell_type": "code",
   "execution_count": 100,
   "id": "6a163a19",
   "metadata": {},
   "outputs": [
    {
     "data": {
      "text/plain": [
       "0.286"
      ]
     },
     "execution_count": 100,
     "metadata": {},
     "output_type": "execute_result"
    }
   ],
   "source": [
    "F(3) # 눈이 3이하가 되는 확률. 1/21(0.048) + 2/21(0.095) + 3/21(0.143) = 2/7"
   ]
  },
  {
   "cell_type": "code",
   "execution_count": 22,
   "id": "8e9dcad5",
   "metadata": {},
   "outputs": [
    {
     "data": {
      "text/plain": [
       "1.000"
      ]
     },
     "execution_count": 22,
     "metadata": {},
     "output_type": "execute_result"
    }
   ],
   "source": [
    "F(6)"
   ]
  },
  {
   "cell_type": "markdown",
   "id": "fadef5db",
   "metadata": {},
   "source": [
    "- 확률변수의 변환 : 확률변수 X에 2를 곱하고 3을 더한 2X + 3도 확률변수가 된다. (p.121)"
   ]
  },
  {
   "cell_type": "code",
   "execution_count": 101,
   "id": "375e7cb6",
   "metadata": {},
   "outputs": [
    {
     "data": {
      "text/plain": [
       "{5: 0.048, 7: 0.095, 9: 0.143, 11: 0.190, 13: 0.238, 15: 0.286}"
      ]
     },
     "execution_count": 101,
     "metadata": {},
     "output_type": "execute_result"
    }
   ],
   "source": [
    "# 2X+3을 확률변수 Y라고 하자.\n",
    "y_set = np.array([2*x_k + 3 for x_k in x_set]) # y=2x+3 파이썬형식으로 쓴것\n",
    "prob = np.array([f(x_k) for x_k in x_set]) # f(x_k) : 확률변수 구하는 함수 위에서 정의함\n",
    "dict(zip(y_set, prob)) # Y의 확률분포"
   ]
  },
  {
   "cell_type": "markdown",
   "id": "616de818",
   "metadata": {},
   "source": [
    "### 1차원 이산형 확률변수의 지표 (p.122)"
   ]
  },
  {
   "cell_type": "code",
   "execution_count": 102,
   "id": "da72d126",
   "metadata": {},
   "outputs": [
    {
     "data": {
      "text/plain": [
       "4.333"
      ]
     },
     "execution_count": 102,
     "metadata": {},
     "output_type": "execute_result"
    }
   ],
   "source": [
    "# 불공정한 주사위의 기댓값\n",
    "np.sum([x_k * f(x_k) for x_k in x_set])\n",
    "# x_set은 확률변수.1~6, 각각의 나올 확률은 1/6.\n",
    "# 1*1/6 + 2*1/6 + ... + 6*1/6 ?"
   ]
  },
  {
   "cell_type": "markdown",
   "id": "e2d21c17",
   "metadata": {},
   "source": [
    " - 확률변수의 기댓값은 확률변수를 무제한 시행하여 얻은 실현값의 평균\n",
    " \n",
    "확률변수는 특정 사건에 대해 나올수 있는 변수들.\n",
    "\n",
    "ex> 동일한 규격의 동전 3개를 던져 앞면이 나온 개수만큼 100원을 획득하고 뒷면이 나온 개수만큼 100원을 지불하는 게임을 진행해보겠습니다.\n",
    "\n",
    "이때의 확률변수 X는 이 게임을 통해 얻는 수익으로 이야기 가능합니다.\n",
    "\n",
    "이때의 표본공간(S)에는 [{BBB}, {FBB}, {BFB} {BBF}, {FFB} {FBF} {BFF} {FFF}]의 원소가 구성됩니다.\n",
    "\n",
    "확률변수(X) = {-300, -100,100,300} \n",
    "\n",
    "확률분포는 각각의 확률변수들의 비중으로 이해하면 쉬울듯\n",
    "\n",
    "확률분포\n",
    "\n",
    "// *확률 질량 함수 f(x) = P(X = x)\n",
    "\n",
    "f(-300) = 1/8\n",
    "\n",
    "f(-100) = 3/8\n",
    "\n",
    "f(100)  = 3/8 \n",
    "\n",
    "f(300) = 1/8"
   ]
  },
  {
   "cell_type": "markdown",
   "id": "ceb185ab",
   "metadata": {},
   "source": [
    "기댓값 : 확률변수마다 분포된 확률(확률분포)을 각각 곱한것의 합. 기호는 E(X), 뮤(μ)사용"
   ]
  },
  {
   "cell_type": "markdown",
   "id": "3afe5b91",
   "metadata": {},
   "source": [
    "확률변수의 평균 : 확률변수를 몇 번이나(무제한) 시행하여 얻어진 실현값의 평균. 기댓값.\n",
    "\n",
    "표본평균의 평균이 모평균을 따라간다는 것과 비슷한 느낌"
   ]
  },
  {
   "cell_type": "code",
   "execution_count": 31,
   "id": "b19d9a95",
   "metadata": {},
   "outputs": [
    {
     "data": {
      "text/plain": [
       "4.333"
      ]
     },
     "execution_count": 31,
     "metadata": {},
     "output_type": "execute_result"
    }
   ],
   "source": [
    "sample = np.random.choice(x_set, int(1e6), p=prob)  # 1e6 = 10^6, p= : p에 해당하는 확률에 준해서 뽑음.\n",
    "# sample = np.random.choice(x_set, int(1e6)) 확률 따로 부여하지 않으면 각각 동일한 확률\n",
    "np.mean(sample)"
   ]
  },
  {
   "cell_type": "markdown",
   "id": "031cc4da",
   "metadata": {},
   "source": [
    "- 이산형 확률변수의 기댓값\n",
    "\n",
    "확률변수 E(X)가 있다고 치면\n",
    "\n",
    "E(Y) = E(2X+3)을 넣어도 확률변수가 됨.\n",
    "\n",
    "그럼 확률변수 E(Y)의 기댓값 성립"
   ]
  },
  {
   "cell_type": "code",
   "execution_count": 104,
   "id": "271cd8d0",
   "metadata": {},
   "outputs": [],
   "source": [
    "# 일반화\n",
    "# 이산형 확률변수의 기댓값\n",
    "# 인수 g가 확률변수에 대한 변환의 함수(2X+3같은거) \n",
    "def E(X, g=lambda x: x):\n",
    "    x_set, f = X\n",
    "# 집합, 확률함수 = 확률변수\n",
    "    return np.sum([g(x_k) * f(x_k) for x_k in x_set])\n",
    "  # return np.sum([g(i) * f(i) for i in x_set])\n",
    "                # x의확률을 각각 확률변수와 확률함수에 넣고 곱함\n",
    "    \n",
    "# g 에 아무것도 지정하지 않으면 확률변수 X의 기댓값이 구해짐"
   ]
  },
  {
   "cell_type": "code",
   "execution_count": 105,
   "id": "ad75effc",
   "metadata": {},
   "outputs": [
    {
     "data": {
      "text/plain": [
       "4.333"
      ]
     },
     "execution_count": 105,
     "metadata": {},
     "output_type": "execute_result"
    }
   ],
   "source": [
    "E(X)  # X = [x_set, f]라고 위에서 정의함"
   ]
  },
  {
   "cell_type": "code",
   "execution_count": null,
   "id": "d7986cf5",
   "metadata": {},
   "outputs": [],
   "source": []
  },
  {
   "cell_type": "markdown",
   "id": "41085309",
   "metadata": {},
   "source": [
    "- 기댓값의 선형성 (p.125)\n",
    "\n",
    "E(X)가 1차원이니깐 g(X)에 뭐가 들어가던 E(X)의 값을 기준으로 수치가 변경됨 >> 선형구조 유지\n",
    "\n",
    "E(2X+3) = 2E(X)+3 이 같음, 상수항은 따로 봐도됨\n",
    "\n",
    "E(aX+b) = aE(X)+b"
   ]
  },
  {
   "cell_type": "code",
   "execution_count": 106,
   "id": "52d02841",
   "metadata": {},
   "outputs": [
    {
     "data": {
      "text/plain": [
       "11.667"
      ]
     },
     "execution_count": 106,
     "metadata": {},
     "output_type": "execute_result"
    }
   ],
   "source": [
    "E(X, g=lambda x: 2*x + 3)"
   ]
  },
  {
   "cell_type": "code",
   "execution_count": 107,
   "id": "8639dda4",
   "metadata": {},
   "outputs": [
    {
     "data": {
      "text/plain": [
       "11.667"
      ]
     },
     "execution_count": 107,
     "metadata": {},
     "output_type": "execute_result"
    }
   ],
   "source": [
    "2 * E(X) + 3"
   ]
  },
  {
   "cell_type": "markdown",
   "id": "aa218423",
   "metadata": {},
   "source": [
    "- 확률변수의 분산(p.127~128)\n",
    "\n",
    "분산은 V(X)나 σ^2(시그마)로 사용. 표준편차의 제곱\n",
    "\n",
    "a, b는 실수, X를 확률변수라고 하면,\n",
    "\n",
    "V(aX+b) = a^2V(X) 가 성립"
   ]
  },
  {
   "cell_type": "markdown",
   "id": "c391133c",
   "metadata": {},
   "source": [
    "- 분산 V(X)\n",
    "\n",
    "https://m.blog.naver.com/PostView.naver?isHttpsRedirect=true&blogId=kjihoon0914&logNo=221207297959"
   ]
  },
  {
   "cell_type": "markdown",
   "id": "0f2e2594",
   "metadata": {},
   "source": [
    "Q1 > 주사위를 던져 나오는 수를 확률 변수 X로 하고 그 나오는 수에 200원 곱한 후 100원 더한 금액이 확률변수 Y라고 가정하겠습니다.\n",
    "\n",
    "이 두 가지 확률 실험을 확률변수 X만을 이용하여 Y의 기댓값과 분산을 산출해보겠습니다.\n",
    "\n",
    ".\n",
    "\n",
    "확률변수 X : 1,2,3,4,5,6\n",
    "\n",
    "확률질량함수 f(x) : 1/6 (모두 동일한 확률을 지님)\n",
    "\n",
    "기대값 E(X) ; 1/6*(1+2+3+4+5+6) = 7/2\n",
    "\n",
    "분산 Var(X) : 1/6*(1^2+2^2.....6^2)-(7/2)^2 = 35/12\n",
    "\n",
    ".\n",
    "\n",
    "확률변수 Y : 300,500,700,900,1100,1300\n",
    "\n",
    "확률질량함수 f(y) : 1/6\n",
    "\n",
    "기대값 E(Y) = E(200X+100) = 200E(X)+100 = 800\n",
    "\n",
    "분산 Var(X) = Var(200X+100) = 4000Var(X) = 11666.67"
   ]
  },
  {
   "cell_type": "code",
   "execution_count": 108,
   "id": "70aadf4a",
   "metadata": {},
   "outputs": [
    {
     "data": {
      "text/plain": [
       "2.222"
      ]
     },
     "execution_count": 108,
     "metadata": {},
     "output_type": "execute_result"
    }
   ],
   "source": [
    "mean = E(X) # 확률변수 X의 기댓값 : E(X), 기댓값은 확률변수의 중심위치를 나타냄\n",
    "            # 분산은 산포의 크기를 나타냄\n",
    "np.sum([(x_k - mean)**2 * f(x_k) for x_k in x_set]) # 편차의 제곱은 분산."
   ]
  },
  {
   "cell_type": "code",
   "execution_count": 53,
   "id": "5fc515ec",
   "metadata": {},
   "outputs": [],
   "source": [
    "def V(X, g=lambda x: x) : # 인수 g가 확률변수에 대한 변환의 함수\n",
    "    x_set, f = X\n",
    "    mean = E(X,g)\n",
    "    return np.sum([(g(x_k) - mean)**2 * f(x_k) for x_k in x_set])"
   ]
  },
  {
   "cell_type": "code",
   "execution_count": 54,
   "id": "7f413b74",
   "metadata": {},
   "outputs": [
    {
     "data": {
      "text/plain": [
       "2.222"
      ]
     },
     "execution_count": 54,
     "metadata": {},
     "output_type": "execute_result"
    }
   ],
   "source": [
    "# g를 지정하지 않으면 확률변수X의 분산을 계산함.\n",
    "V(X)"
   ]
  },
  {
   "cell_type": "code",
   "execution_count": 57,
   "id": "c137b161",
   "metadata": {},
   "outputs": [
    {
     "data": {
      "text/plain": [
       "8.889"
      ]
     },
     "execution_count": 57,
     "metadata": {},
     "output_type": "execute_result"
    }
   ],
   "source": [
    "V(X, lambda x: 2*x + 3) # 분산이기때문에 상수항 3은 필요없긴함"
   ]
  },
  {
   "cell_type": "code",
   "execution_count": 56,
   "id": "3b8fbcbf",
   "metadata": {},
   "outputs": [
    {
     "data": {
      "text/plain": [
       "8.889"
      ]
     },
     "execution_count": 56,
     "metadata": {},
     "output_type": "execute_result"
    }
   ],
   "source": [
    "2**2*V(X)"
   ]
  },
  {
   "cell_type": "markdown",
   "id": "1d6bfc4f",
   "metadata": {},
   "source": [
    "##  2차원 이산형 확률변수"
   ]
  },
  {
   "cell_type": "markdown",
   "id": "35f110c8",
   "metadata": {},
   "source": [
    "- 결합확률분포 (p.131)"
   ]
  },
  {
   "cell_type": "code",
   "execution_count": 58,
   "id": "4cdd8b2c",
   "metadata": {},
   "outputs": [],
   "source": [
    "# 확률의 성질\n",
    "x_set = np.arange(2,13)\n",
    "y_set = np.arange(1,7)"
   ]
  },
  {
   "cell_type": "code",
   "execution_count": 59,
   "id": "8439c61c",
   "metadata": {},
   "outputs": [],
   "source": [
    "def f_XY(x, y) :\n",
    "    if 1 <= y <=6 and 1 <= x-y <= 6:\n",
    "        return y * (x-y) / 441\n",
    "    else :\n",
    "        return 0"
   ]
  },
  {
   "cell_type": "code",
   "execution_count": 60,
   "id": "b0c7cfbc",
   "metadata": {},
   "outputs": [],
   "source": [
    "XY = [x_set, y_set, f_XY]"
   ]
  },
  {
   "cell_type": "code",
   "execution_count": 62,
   "id": "d3658d1a",
   "metadata": {},
   "outputs": [
    {
     "data": {
      "image/png": "[encoded data removed]",
      "text/plain": [
       "<Figure size 720x576 with 2 Axes>"
      ]
     },
     "metadata": {
      "needs_background": "light"
     },
     "output_type": "display_data"
    }
   ],
   "source": [
    "# 확률분포를 히트맵으로\n",
    "prob = np.array([[f_XY(x_i, y_j) for y_j in y_set] for x_i in x_set])\n",
    "\n",
    "fig = plt.figure(figsize=(10,8))\n",
    "ax = fig.add_subplot(111)\n",
    "\n",
    "c = ax.pcolor(prob)\n",
    "ax.set_xticks(np.arange(prob.shape[1]) + 0.5, minor=False)\n",
    "ax.set_yticks(np.arange(prob.shape[0]) + 0.5, minor=False)\n",
    "ax.set_xticklabels(np.arange(1,7), minor=False)\n",
    "ax.set_yticklabels(np.arange(2,13), minor=False)\n",
    "# y축을 내림차순의 숫자가 되게 하여, 위 아래를 역전시킨다\n",
    "ax.invert_yaxis()\n",
    "# x축 눈금을 그래프 위쪽에 표시\n",
    "ax.xaxis.tick_top()\n",
    "fig.colorbar(c, ax=ax)\n",
    "plt.show()"
   ]
  },
  {
   "cell_type": "code",
   "execution_count": 64,
   "id": "11d5234a",
   "metadata": {},
   "outputs": [
    {
     "data": {
      "text/plain": [
       "True"
      ]
     },
     "execution_count": 64,
     "metadata": {},
     "output_type": "execute_result"
    }
   ],
   "source": [
    "np.all(prob>=0) # 확률이 반드시 0이상 되는지 확인"
   ]
  },
  {
   "cell_type": "code",
   "execution_count": 65,
   "id": "6f39e68c",
   "metadata": {},
   "outputs": [
    {
     "data": {
      "text/plain": [
       "1.000"
      ]
     },
     "execution_count": 65,
     "metadata": {},
     "output_type": "execute_result"
    }
   ],
   "source": [
    "np.sum(prob) # 확률 총합 1인지도 확인"
   ]
  },
  {
   "cell_type": "markdown",
   "id": "5a56aefa",
   "metadata": {},
   "source": [
    "- 주변확률분포(=주변분포) p.134"
   ]
  },
  {
   "cell_type": "code",
   "execution_count": 68,
   "id": "20ca33fd",
   "metadata": {},
   "outputs": [],
   "source": [
    "# X의 주변분포와 Y의 주변분포\n",
    "def f_X(x):\n",
    "    return np.sum([f_XY(x, y_k) for y_k in y_set])  # f_XY 는 위에서 결합확률분포로 정의함(p.132)"
   ]
  },
  {
   "cell_type": "code",
   "execution_count": 69,
   "id": "fc736e0b",
   "metadata": {},
   "outputs": [],
   "source": [
    "def f_Y(y):\n",
    "    return np.sum([f_XY(x_k, y) for x_k in x_set])"
   ]
  },
  {
   "cell_type": "code",
   "execution_count": 70,
   "id": "55f6015f",
   "metadata": {},
   "outputs": [],
   "source": [
    "X = [x_set, f_X]\n",
    "Y = [y_set, f_Y]"
   ]
  },
  {
   "cell_type": "code",
   "execution_count": 71,
   "id": "2394f52d",
   "metadata": {},
   "outputs": [
    {
     "data": {
      "image/png": "[encoded data removed]",
      "text/plain": [
       "<Figure size 864x288 with 2 Axes>"
      ]
     },
     "metadata": {
      "needs_background": "light"
     },
     "output_type": "display_data"
    }
   ],
   "source": [
    "# X와 Y의 확률분포 그리기, prob_x와 prob_y가 확률로서의 성질을 만족하는것 확인\n",
    "prob_x = np.array([f_X(x_k) for x_k in x_set])\n",
    "prob_y = np.array([f_Y(y_k) for y_k in y_set])\n",
    "\n",
    "fig = plt.figure(figsize=(12,4))\n",
    "ax1 = fig.add_subplot(121)\n",
    "ax2 = fig.add_subplot(122)\n",
    "\n",
    "ax1.bar(x_set, prob_x)\n",
    "ax1.set_title('X_marginal probability distribution')\n",
    "ax1.set_xlabel('X_value')\n",
    "ax1.set_ylabel('probability')\n",
    "ax1.set_xticks(x_set)\n",
    "\n",
    "ax2.bar(y_set, prob_y)\n",
    "ax2.set_title('Y_marginal probability distribution')\n",
    "ax2.set_xlabel('Y_value')\n",
    "ax2.set_ylabel('probability')\n",
    "\n",
    "plt.show() # 주변분포"
   ]
  },
  {
   "cell_type": "markdown",
   "id": "90b21f6d",
   "metadata": {},
   "source": [
    "### 2차원 이산형 확률변수의 지표"
   ]
  },
  {
   "cell_type": "markdown",
   "id": "6161b286",
   "metadata": {},
   "source": [
    "- 기댓값(p.136)"
   ]
  },
  {
   "cell_type": "code",
   "execution_count": 72,
   "id": "aa98076e",
   "metadata": {},
   "outputs": [
    {
     "data": {
      "text/plain": [
       "8.667"
      ]
     },
     "execution_count": 72,
     "metadata": {},
     "output_type": "execute_result"
    }
   ],
   "source": [
    "np.sum(x_i * f_XY(x_i, y_j) for x_i in x_set for y_j in y_set)"
   ]
  },
  {
   "cell_type": "markdown",
   "id": "311f03f1",
   "metadata": {},
   "source": [
    "- 기댓값의 선형성 (p.138)\n",
    "\n",
    "a, b는 실수, X,Y는 확률변수\n",
    "\n",
    "E(aX+bY) = aE(X) + bE(Y)"
   ]
  },
  {
   "cell_type": "code",
   "execution_count": 73,
   "id": "d43e95dd",
   "metadata": {},
   "outputs": [],
   "source": [
    "def E(XY, g):\n",
    "    x_set, y_set, f_XY = XY\n",
    "    return np.sum([g(x_i, y_j) * f_XY(x_i, y_j) for x_i in x_set for y_j in y_set])"
   ]
  },
  {
   "cell_type": "code",
   "execution_count": 74,
   "id": "c87133c1",
   "metadata": {},
   "outputs": [
    {
     "data": {
      "text/plain": [
       "8.667"
      ]
     },
     "execution_count": 74,
     "metadata": {},
     "output_type": "execute_result"
    }
   ],
   "source": [
    "# X와 Y의 기댓값\n",
    "mean_X = E(XY, lambda x, y: x)\n",
    "mean_X"
   ]
  },
  {
   "cell_type": "code",
   "execution_count": 75,
   "id": "d33a9b21",
   "metadata": {},
   "outputs": [
    {
     "data": {
      "text/plain": [
       "4.333"
      ]
     },
     "execution_count": 75,
     "metadata": {},
     "output_type": "execute_result"
    }
   ],
   "source": [
    "mean_Y = E(XY, lambda x, y: y)\n",
    "mean_Y # 기댓값에는 선형성이 있음. 확률변수가 2차원이 되어도 마찬가지"
   ]
  },
  {
   "cell_type": "code",
   "execution_count": 76,
   "id": "ed18d49e",
   "metadata": {},
   "outputs": [],
   "source": [
    "a, b = 2, 3"
   ]
  },
  {
   "cell_type": "code",
   "execution_count": 77,
   "id": "013707cd",
   "metadata": {},
   "outputs": [
    {
     "data": {
      "text/plain": [
       "30.333"
      ]
     },
     "execution_count": 77,
     "metadata": {},
     "output_type": "execute_result"
    }
   ],
   "source": [
    "E(XY, lambda x, y: a*x + b*y)"
   ]
  },
  {
   "cell_type": "code",
   "execution_count": 78,
   "id": "36f49f57",
   "metadata": {},
   "outputs": [
    {
     "data": {
      "text/plain": [
       "30.333"
      ]
     },
     "execution_count": 78,
     "metadata": {},
     "output_type": "execute_result"
    }
   ],
   "source": [
    "a * mean_X + b*mean_Y"
   ]
  },
  {
   "cell_type": "markdown",
   "id": "7a30013e",
   "metadata": {},
   "source": [
    "- 분산 (p.139)"
   ]
  },
  {
   "cell_type": "code",
   "execution_count": 79,
   "id": "0e065609",
   "metadata": {},
   "outputs": [
    {
     "data": {
      "text/plain": [
       "4.444"
      ]
     },
     "execution_count": 79,
     "metadata": {},
     "output_type": "execute_result"
    }
   ],
   "source": [
    "np.sum([(x_i-mean_X)**2 * f_XY(x_i, y_j) for x_i in x_set for y_j in y_set])"
   ]
  },
  {
   "cell_type": "code",
   "execution_count": 80,
   "id": "a2980f02",
   "metadata": {},
   "outputs": [],
   "source": [
    "def V(XY, g):\n",
    "    x_set, y_set, f_XY = XY\n",
    "    mean = E(XY, g)\n",
    "    return np.sum([(g(x_i, y_j)-mean)**2 * f_XY(x_i, y_j) for x_i in x_set for y_j in y_set])"
   ]
  },
  {
   "cell_type": "code",
   "execution_count": 81,
   "id": "ac05e9c2",
   "metadata": {},
   "outputs": [
    {
     "data": {
      "text/plain": [
       "4.444"
      ]
     },
     "execution_count": 81,
     "metadata": {},
     "output_type": "execute_result"
    }
   ],
   "source": [
    "# X,Y의 분산\n",
    "var_X = V(XY, g=lambda x, y: x)\n",
    "var_X"
   ]
  },
  {
   "cell_type": "code",
   "execution_count": 82,
   "id": "072b7de4",
   "metadata": {},
   "outputs": [
    {
     "data": {
      "text/plain": [
       "2.222"
      ]
     },
     "execution_count": 82,
     "metadata": {},
     "output_type": "execute_result"
    }
   ],
   "source": [
    "var_Y = V(XY, g=lambda x, y: y)\n",
    "var_Y"
   ]
  },
  {
   "cell_type": "markdown",
   "id": "dec75bfe",
   "metadata": {},
   "source": [
    "- 공분산 (p.140)"
   ]
  },
  {
   "cell_type": "code",
   "execution_count": 83,
   "id": "8a2ac05e",
   "metadata": {},
   "outputs": [],
   "source": [
    "# 두개의 확률변수 X,Y 사이의 상관정도 확인\n",
    "def Cov(XY):\n",
    "    x_set, y_set, f_XY = XY\n",
    "    mean_X = E(XY, lambda x, y: x)\n",
    "    mean_Y = E(XY, lambda x, y: y)\n",
    "    return np.sum([(x_i - mean_X) * (y_j - mean_Y) * f_XY(x_i, y_j) for x_i in x_set for y_j in y_set])"
   ]
  },
  {
   "cell_type": "code",
   "execution_count": 84,
   "id": "0301c5b1",
   "metadata": {},
   "outputs": [
    {
     "data": {
      "text/plain": [
       "2.222"
      ]
     },
     "execution_count": 84,
     "metadata": {},
     "output_type": "execute_result"
    }
   ],
   "source": [
    "cov_xy = Cov(XY)\n",
    "cov_xy"
   ]
  },
  {
   "cell_type": "markdown",
   "id": "c82c2637",
   "metadata": {},
   "source": [
    "- 분산과 공분산의 공식 (p.141)\n",
    "\n",
    "a,b를 실수, X,Y를 확률변수로 할때 \n",
    "\n",
    ".\n",
    "\n",
    "\n",
    "V(aX+bY) = a^2 * V(X) + b^2 * V(Y)  +  2abCov(X, Y)"
   ]
  },
  {
   "cell_type": "code",
   "execution_count": 85,
   "id": "33be321b",
   "metadata": {},
   "outputs": [
    {
     "data": {
      "text/plain": [
       "64.444"
      ]
     },
     "execution_count": 85,
     "metadata": {},
     "output_type": "execute_result"
    }
   ],
   "source": [
    "V(XY, lambda x, y: a*x + b*y)"
   ]
  },
  {
   "cell_type": "code",
   "execution_count": 86,
   "id": "79ee7d50",
   "metadata": {},
   "outputs": [
    {
     "data": {
      "text/plain": [
       "64.444"
      ]
     },
     "execution_count": 86,
     "metadata": {},
     "output_type": "execute_result"
    }
   ],
   "source": [
    "a**2 * var_X + b**2 * var_Y + 2*a*b * cov_xy"
   ]
  },
  {
   "cell_type": "markdown",
   "id": "8a6f3a21",
   "metadata": {},
   "source": [
    "- 상관계수"
   ]
  },
  {
   "cell_type": "code",
   "execution_count": 87,
   "id": "52ab4ac1",
   "metadata": {},
   "outputs": [
    {
     "data": {
      "text/plain": [
       "0.707"
      ]
     },
     "execution_count": 87,
     "metadata": {},
     "output_type": "execute_result"
    }
   ],
   "source": [
    "# 확률변수의 상관계수는 공분산을 각각의 표준편차로 나누어 구함\n",
    "cov_xy / np.sqrt(var_X * var_Y)"
   ]
  },
  {
   "cell_type": "markdown",
   "id": "2f0bb901",
   "metadata": {},
   "source": [
    "- 과제 08/25 (2)\n",
    "\n",
    "1차원 이산형 확률변수의 변환 사례를 생성하여 기댓값의 선형성과 분산의 공식을 입증하세요."
   ]
  },
  {
   "cell_type": "markdown",
   "id": "e83a543f",
   "metadata": {},
   "source": [
    "- 과제 08/26 (3)\n",
    "\n",
    "2차원 이산형 확률변수의 변환 사례를 생성하여 기댓값의 선형성, 분산과 공분산의 공식을 입증하세요."
   ]
  },
  {
   "cell_type": "code",
   "execution_count": null,
   "id": "c6bc9482",
   "metadata": {},
   "outputs": [],
   "source": [
    "선형성은 계수를 가지고 얘기하는것. 곡선도 가능하니 주의할 것"
   ]
  },
  {
   "cell_type": "markdown",
   "id": "db9f134e",
   "metadata": {},
   "source": [
    "#  대표적인 이산형 확률분포"
   ]
  },
  {
   "cell_type": "code",
   "execution_count": 2,
   "id": "d6cb2054",
   "metadata": {},
   "outputs": [],
   "source": [
    "import numpy as np\n",
    "import matplotlib.pyplot as plt\n",
    "from scipy import stats\n",
    "\n",
    "%precision 3\n",
    "%matplotlib inline"
   ]
  },
  {
   "cell_type": "code",
   "execution_count": 3,
   "id": "3cb12324",
   "metadata": {},
   "outputs": [],
   "source": [
    "# 그래프에서 선의 종류\n",
    "linestyles = ['-', '--', ':']\n",
    "\n",
    "def E(X, g=lambda x: x):\n",
    "    x_set, f = X # 확률함수지만 확률로 생각해도됨\n",
    "    return np.sum([g(x_k) * f(x_k) for x_k in x_set])\n",
    "\n",
    "def V(X, g=lambda x: x):\n",
    "    x_set, f = X\n",
    "    mean = E(X, g)\n",
    "    return np.sum([(g(x_k)-mean)**2 * f(x_k) for x_k in x_set])\n",
    "\n",
    "def check_prob(X): # 확률변수를 인수로 가지며 기댓값과 분산 계산 결과를 반환\n",
    "    x_set, f = X\n",
    "    prob = np.array([f(x_k) for x_k in x_set])\n",
    "    assert np.all(prob >= 0), 'minus probability'\n",
    "    prob_sum = np.round(np.sum(prob), 6)\n",
    "    assert prob_sum == 1, f'sum of probability{prob_sum}'\n",
    "    print(f'expected value {E(X):.4}')\n",
    "    print(f'variance {(V(X)):.4}')\n",
    "# assert : 해당 조건을 확신한다는 뜻\n",
    "# assert는 이 조건이 참일때 코드는 내가 보장한다. 이 조건은 올바르다!\n",
    "# 하지만 이 조건이 거짓이라는 것은 내가 보증하지 않은 동작이다.\n",
    "# 그러니 AssertionError를 발생해라.\n",
    "    \n",
    "def plot_prob(X): # 확률변수를 인수로 가지며 그 확률변수의 확률함수와 기댓값을 그리기 위한 함수\n",
    "    x_set, f = X\n",
    "    prob = np.array([f(x_k) for x_k in x_set])\n",
    "    \n",
    "    fig = plt.figure(figsize=(6, 4))\n",
    "    ax = fig.add_subplot(111)\n",
    "    ax.bar(x_set, prob, label='prob')\n",
    "    ax.vlines(E(X), 0, 1, label='mean')\n",
    "    ax.set_xticks(np.append(x_set, E(X)))\n",
    "    ax.set_ylim(0, prob.max()*1.2)\n",
    "    ax.legend()\n",
    "    \n",
    "    plt.show()"
   ]
  },
  {
   "cell_type": "markdown",
   "id": "ebcd4aa6",
   "metadata": {},
   "source": [
    "## 베르누이 분포"
   ]
  },
  {
   "cell_type": "markdown",
   "id": "37570f63",
   "metadata": {},
   "source": [
    "- 확률변수가 취할 수 있는 값이 두가지 밖에 없음\n",
    "\n",
    "1이 나올확률 p, 0이 나올확률 1-p"
   ]
  },
  {
   "cell_type": "markdown",
   "id": "a62f1638",
   "metadata": {},
   "source": [
    "- 가장 기본적인 이산형 확률분포로 확률변수가 취할 수 있는 값이 0과 1밖에 없는 분포이다.\n",
    "- 베르누이 분포를 따르는 확률변수의 시행을 베르누이 시행이라하며 1이 나오면 성공 0이 나오면 실패라고 함\n",
    "- 동전을 던져 앞면이 나올 확률, 주사위를 한 번 굴려 6이 나오지 않을 확률"
   ]
  },
  {
   "cell_type": "markdown",
   "id": "89076ad2",
   "metadata": {},
   "source": [
    "- 베르누이 분포의 기댓값과 분산"
   ]
  },
  {
   "cell_type": "markdown",
   "id": "d75f0454",
   "metadata": {},
   "source": [
    "X ~ Bern(p)일때,\n",
    "\n",
    "E(X) = p,  V(X) = p(1-p)"
   ]
  },
  {
   "cell_type": "code",
   "execution_count": 11,
   "id": "cee4d7e6",
   "metadata": {},
   "outputs": [],
   "source": [
    "x_set = np.array([1,2,3,4,5,6])  # p.116.\n",
    "\n",
    "# p.149\n",
    "def Bern(p):\n",
    "    x_set = np.array([0,1])\n",
    "    def f(x):\n",
    "        if x in x_set :\n",
    "            return p**x*(1-p)**(1-x)\n",
    "        else :\n",
    "            return 0\n",
    "    return x_set, f\n",
    "\n",
    "p = 0.3\n",
    "X = Bern(p)"
   ]
  },
  {
   "cell_type": "code",
   "execution_count": 12,
   "id": "a586463b",
   "metadata": {},
   "outputs": [
    {
     "name": "stdout",
     "output_type": "stream",
     "text": [
      "expected value 0.3\n",
      "variance 0.21\n"
     ]
    }
   ],
   "source": [
    "check_prob(X)"
   ]
  },
  {
   "cell_type": "code",
   "execution_count": 13,
   "id": "06463506",
   "metadata": {},
   "outputs": [
    {
     "data": {
      "image/png": "[encoded data removed]",
      "text/plain": [
       "<Figure size 432x288 with 1 Axes>"
      ]
     },
     "metadata": {
      "needs_background": "light"
     },
     "output_type": "display_data"
    }
   ],
   "source": [
    "plot_prob(X) # 베르누이 분포"
   ]
  },
  {
   "cell_type": "markdown",
   "id": "f69f59d9",
   "metadata": {},
   "source": [
    "- pmf : 확률함수 계산. 0과 1을 넘겨주면 그 값을 취하는 확률이 반환"
   ]
  },
  {
   "cell_type": "code",
   "execution_count": 15,
   "id": "152064d2",
   "metadata": {},
   "outputs": [],
   "source": [
    "# bernoulli : 베르누이 분포를 따르는 확률변수를 생성. 인수로 파라미터 p를 취함\n",
    "rv = stats.bernoulli(p)"
   ]
  },
  {
   "cell_type": "code",
   "execution_count": 17,
   "id": "a383f7e6",
   "metadata": {},
   "outputs": [
    {
     "data": {
      "text/plain": [
       "(0.700, 0.300)"
      ]
     },
     "execution_count": 17,
     "metadata": {},
     "output_type": "execute_result"
    }
   ],
   "source": [
    "rv.pmf(0), rv.pmf(1)"
   ]
  },
  {
   "cell_type": "code",
   "execution_count": 32,
   "id": "33f2ccad",
   "metadata": {},
   "outputs": [
    {
     "data": {
      "text/plain": [
       "array([0.7, 0.3])"
      ]
     },
     "execution_count": 32,
     "metadata": {},
     "output_type": "execute_result"
    }
   ],
   "source": [
    "# pmf메서드는 인수로 리스트를 넘길 수 있음 각각의 확률 반환\n",
    "rv.pmf([0,1])"
   ]
  },
  {
   "cell_type": "code",
   "execution_count": 33,
   "id": "f7451f63",
   "metadata": {},
   "outputs": [
    {
     "data": {
      "text/plain": [
       "array([0.7, 1. ])"
      ]
     },
     "execution_count": 33,
     "metadata": {},
     "output_type": "execute_result"
    }
   ],
   "source": [
    "# cdf 메서드 사용하면 누적밀도함수(누적분포함수) 계산\n",
    "rv.cdf([0,1])"
   ]
  },
  {
   "cell_type": "code",
   "execution_count": 35,
   "id": "35348a53",
   "metadata": {},
   "outputs": [
    {
     "data": {
      "text/plain": [
       "(0.300, 0.210)"
      ]
     },
     "execution_count": 35,
     "metadata": {},
     "output_type": "execute_result"
    }
   ],
   "source": [
    "# mean > 기댓값, var > 분산\n",
    "rv.mean(), rv.var()"
   ]
  },
  {
   "cell_type": "markdown",
   "id": "c788d93b",
   "metadata": {},
   "source": [
    "##  이항분포"
   ]
  },
  {
   "cell_type": "markdown",
   "id": "c36cacf1",
   "metadata": {},
   "source": [
    "- 성공 확률이 p인 베르누이 시행을 n번 했을 때의 성공 횟수가 따르는 분포\n",
    "- n=1인 이항분포는 베르누이 분포이다."
   ]
  },
  {
   "cell_type": "markdown",
   "id": "7ce78be2",
   "metadata": {},
   "source": [
    "f(x) = $_{n}\\mathrm{C}_{x}p^x(1-p)^{n-x}$ $(x \\in \\{0,1,..,n\\}$)\n",
    "       \n",
    "       0                     (otherwise)\n"
   ]
  },
  {
   "cell_type": "code",
   "execution_count": 36,
   "id": "840db274",
   "metadata": {},
   "outputs": [],
   "source": [
    "from scipy.special import comb\n",
    "\n",
    "def Bin(n,p):\n",
    "    x_set = np.arange(n+1)\n",
    "    def f(x):\n",
    "        if x in x_set :\n",
    "            return comb(n,x) * p**x *(1-p)**(n-x)\n",
    "        else :\n",
    "            return 0\n",
    "    return x_set, f"
   ]
  },
  {
   "cell_type": "code",
   "execution_count": 37,
   "id": "a32b6952",
   "metadata": {},
   "outputs": [],
   "source": [
    "# 동전을 10번 던져 앞면이 3번 나오는 확률의 이항분포\n",
    "n = 10\n",
    "p = 0.3\n",
    "X = Bin(n,p) # 여기서 \"=\"은 같다는 뜻이 아니라 베르누이 시행에서 n, p를 **따른다**는 뜻"
   ]
  },
  {
   "cell_type": "code",
   "execution_count": 38,
   "id": "ee02f342",
   "metadata": {},
   "outputs": [
    {
     "name": "stdout",
     "output_type": "stream",
     "text": [
      "expected value 3.0\n",
      "variance 2.1\n"
     ]
    }
   ],
   "source": [
    "check_prob(X)  # 기댓값, 분산.\n",
    "# 기댓값은 10x0.3 = 3,\n",
    "# 분산은 10x0.3x0.7 = 2.1"
   ]
  },
  {
   "cell_type": "code",
   "execution_count": 40,
   "id": "70d645ad",
   "metadata": {},
   "outputs": [
    {
     "data": {
      "image/png": "[encoded data removed]",
      "text/plain": [
       "<Figure size 432x288 with 1 Axes>"
      ]
     },
     "metadata": {
      "needs_background": "light"
     },
     "output_type": "display_data"
    }
   ],
   "source": [
    "plot_prob(X) # 이항분포는 기댓값이 정상이 되는 산 모양의 분포"
   ]
  },
  {
   "cell_type": "code",
   "execution_count": 42,
   "id": "6ad8f05e",
   "metadata": {},
   "outputs": [
    {
     "data": {
      "image/png": "[encoded data removed]",
      "text/plain": [
       "<Figure size 720x432 with 1 Axes>"
      ]
     },
     "metadata": {
      "needs_background": "light"
     },
     "output_type": "display_data"
    }
   ],
   "source": [
    "# n=10으로 고정하고 p=0.3, 0.5, 0.7로 변화\n",
    "fig = plt.figure(figsize=(10,6))\n",
    "ax = fig.add_subplot(111)\n",
    "\n",
    "x_set = np.arange(n+1)\n",
    "for p, ls in zip([0.3, 0.5, 0.7], linestyles):\n",
    "    rv = stats.binom(n,p)\n",
    "    ax.plot(x_set, rv.pmf(x_set), label=f'p:{p}', ls=ls, color='gray')\n",
    "ax.set_xticks(x_set)\n",
    "ax.legend()\n",
    "\n",
    "plt.show()\n",
    "# p가 커질수록 정상이 되는 값이 커짐.\n",
    "# p = 0.5일때는 좌우대칭, 0.3과 0.7은 서로 대칭관계"
   ]
  },
  {
   "cell_type": "markdown",
   "id": "31a5851e",
   "metadata": {},
   "source": [
    "## 기하분포"
   ]
  },
  {
   "cell_type": "markdown",
   "id": "dac92433",
   "metadata": {},
   "source": [
    "- 베르누이 시행에서 처음 성공할 때까지 반복한 시행 횟수가 따르는 분포"
   ]
  },
  {
   "cell_type": "markdown",
   "id": "146d401e",
   "metadata": {},
   "source": [
    "- 기하분포의 파라미터는 베르누이 시행의 성공 확률 파라미터 p가 되며 파라미터 p의 기하분포를 Ge(p)로 표기\n",
    "\n",
    "f(x) = $(1-p)^{x-1}p$ $(x \\in \\{0,1,2,3,..\\})$\n",
    "\n",
    "       0              (otherwise) \n",
    "       \n",
    "- 기하분포의 기댓값과 분산 : E(X) = 1/p, V(X) = (1-p)/$p^2$"
   ]
  },
  {
   "cell_type": "code",
   "execution_count": 43,
   "id": "603faee3",
   "metadata": {},
   "outputs": [],
   "source": [
    "def Ge(p):  # Geometry\n",
    "    x_set = np.arange(1,30) # 편의상 1~29로 설정. 원래는 1 이상 정수전체\n",
    "    def f(x):\n",
    "        if x in x_set:\n",
    "            return p*(1-p)**(x-1)\n",
    "        else :\n",
    "            return 0\n",
    "    return x_set, f"
   ]
  },
  {
   "cell_type": "code",
   "execution_count": 44,
   "id": "ab705516",
   "metadata": {},
   "outputs": [],
   "source": [
    "p = 0.5\n",
    "X = Ge(p)"
   ]
  },
  {
   "cell_type": "code",
   "execution_count": 45,
   "id": "05c10dc3",
   "metadata": {},
   "outputs": [
    {
     "name": "stdout",
     "output_type": "stream",
     "text": [
      "expected value 2.0\n",
      "variance 2.0\n"
     ]
    }
   ],
   "source": [
    "check_prob(X)\n",
    "# 기댓값 : 1 * (1/2) = 2\n",
    "# 분산 : (1 - (1/2)) / (1/2)^2  =  2"
   ]
  },
  {
   "cell_type": "code",
   "execution_count": 46,
   "id": "3e7e22b5",
   "metadata": {},
   "outputs": [
    {
     "data": {
      "image/png": "[encoded data removed]",
      "text/plain": [
       "<Figure size 432x288 with 1 Axes>"
      ]
     },
     "metadata": {
      "needs_background": "light"
     },
     "output_type": "display_data"
    }
   ],
   "source": [
    "plot_prob(X)"
   ]
  },
  {
   "cell_type": "markdown",
   "id": "ff942a5e",
   "metadata": {},
   "source": [
    "- scipy.stats에서 기하분포는 geom함수로 생성 가능"
   ]
  },
  {
   "cell_type": "code",
   "execution_count": 47,
   "id": "28beca0e",
   "metadata": {},
   "outputs": [
    {
     "data": {
      "image/png": "[encoded data removed]",
      "text/plain": [
       "<Figure size 720x432 with 1 Axes>"
      ]
     },
     "metadata": {
      "needs_background": "light"
     },
     "output_type": "display_data"
    }
   ],
   "source": [
    "fig = plt.figure(figsize=(10,6))\n",
    "ax = fig.add_subplot(111)\n",
    "\n",
    "x_set = np.arange(1,15)\n",
    "for p, ls in zip([0.2, 0.5, 0.8], linestyles):\n",
    "    rv = stats.geom(p)\n",
    "    ax.plot(x_set, rv.pmf(x_set), label=f'p:{p}', ls=ls, color='gray')\n",
    "ax.set_xticks(x_set)\n",
    "ax.legend()\n",
    "\n",
    "plt.show()\n",
    "# p 값이 커질수록 확률이 지수적으로 감소하는 분포가 됨"
   ]
  },
  {
   "cell_type": "markdown",
   "id": "e8810e70",
   "metadata": {},
   "source": [
    "## 포아송 분포"
   ]
  },
  {
   "cell_type": "markdown",
   "id": "3ed493b8",
   "metadata": {},
   "source": [
    "- 임의의 사건이 단위 시간당 발생하는 건수가 따르는 확률분포"
   ]
  },
  {
   "cell_type": "markdown",
   "id": "dc12ba8b",
   "metadata": {},
   "source": [
    "- 포아송 분포의 파라미터는 $\\lambda$로 나타낸다.\n",
    "- 하루에 평균 2건의 교통사고가 발생하는 지역에서\n",
    "- 하루 교통사고 발생 건수는 Poi(2)를 따른다.  \n",
    "P(X=0) = 2!/0! * $e^{-2}$ = 0.135\n",
    "\n",
    "- 포아송 분포의 기댓값과 분산을 모두 $\\lambda$ 가 된다.\n",
    "\n",
    "f(x) = $\\lambda^x/x!*e^{-\\lambda}$ $(x \\in \\{0,1,2,...\\})$\n",
    "\n",
    "       0               (otherwise)\n"
   ]
  },
  {
   "cell_type": "code",
   "execution_count": 48,
   "id": "492c992e",
   "metadata": {},
   "outputs": [],
   "source": [
    "from scipy.special import factorial\n",
    "\n",
    "def Poi(lam):\n",
    "    x_set = np.arange(20)\n",
    "    def f(x):\n",
    "        if x in x_set :\n",
    "            return np.power(lam,x) / factorial(x) * np.exp(-lam)\n",
    "        else :\n",
    "            return 0\n",
    "    return x_set, f"
   ]
  },
  {
   "cell_type": "code",
   "execution_count": 49,
   "id": "53eaf557",
   "metadata": {},
   "outputs": [],
   "source": [
    "lam = 3\n",
    "X = Poi(lam)"
   ]
  },
  {
   "cell_type": "code",
   "execution_count": 50,
   "id": "aea39fdf",
   "metadata": {},
   "outputs": [
    {
     "name": "stdout",
     "output_type": "stream",
     "text": [
      "expected value 3.0\n",
      "variance 3.0\n"
     ]
    }
   ],
   "source": [
    "check_prob(X)"
   ]
  },
  {
   "cell_type": "code",
   "execution_count": 52,
   "id": "3de0693b",
   "metadata": {},
   "outputs": [
    {
     "data": {
      "image/png": "[encoded data removed]",
      "text/plain": [
       "<Figure size 432x288 with 1 Axes>"
      ]
     },
     "metadata": {
      "needs_background": "light"
     },
     "output_type": "display_data"
    }
   ],
   "source": [
    "plot_prob(X)"
   ]
  },
  {
   "cell_type": "code",
   "execution_count": 55,
   "id": "d45c985c",
   "metadata": {},
   "outputs": [
    {
     "data": {
      "image/png": "[encoded data removed]",
      "text/plain": [
       "<Figure size 720x432 with 1 Axes>"
      ]
     },
     "metadata": {
      "needs_background": "light"
     },
     "output_type": "display_data"
    }
   ],
   "source": [
    "# 파라미터 람다를 3,5,8로 변화시키면?\n",
    "fig = plt.figure(figsize=(10,6))\n",
    "ax = fig.add_subplot(111)\n",
    "\n",
    "x_set = np.arange(20)\n",
    "for lam, ls in zip([3,5,8], linestyles):\n",
    "    rv = stats.poisson(lam)\n",
    "    ax.plot(x_set, rv.pmf(x_set), label=f'lam:{lam}', ls=ls, color='gray')\n",
    "ax.set_xticks(x_set)\n",
    "ax.legend()\n",
    "\n",
    "plt.show() # 어떤 파라미터라도 분포의 정상에는 람다가 있고, 람다가 커질수록 경사면이 완만해짐\n",
    "# >> 람다 커질수록 정규분포에 가까워짐"
   ]
  },
  {
   "cell_type": "code",
   "execution_count": null,
   "id": "5104b152",
   "metadata": {},
   "outputs": [],
   "source": []
  },
  {
   "cell_type": "code",
   "execution_count": null,
   "id": "02e61857",
   "metadata": {},
   "outputs": [],
   "source": []
  },
  {
   "cell_type": "markdown",
   "id": "31c42c29",
   "metadata": {},
   "source": [
    "- 1차원 이산형 확률변수\n",
    " - 확률질량함수(PMF)\n",
    " - 누적분포함수(CDF)\n",
    "- 2차원 이산형 확률변수\n",
    " - 결합확률함수(p.131) - 확률분포 히트맵 사용\n",
    " - 주변확률분포.."
   ]
  },
  {
   "cell_type": "markdown",
   "id": "ce8b8bbc",
   "metadata": {},
   "source": [
    "- rv = stats.bernoulli(p) 처럼 변수를 설정하고 확률함수 등 계산\n",
    "- rv.pmf([0,1]), rv.cdf(~ 등"
   ]
  },
  {
   "cell_type": "markdown",
   "id": "19933c78",
   "metadata": {},
   "source": [
    "- 기하분포(파라미터:p)\n",
    "\n",
    "기댓값 : 1/p\n",
    "\n",
    "분산 : (1-p)/(p**2)"
   ]
  },
  {
   "cell_type": "markdown",
   "id": "ab652224",
   "metadata": {},
   "source": [
    "- 포아송 분포(파라미터:lam)\n",
    "\n",
    "기댓값 = 분산 : lam"
   ]
  },
  {
   "cell_type": "markdown",
   "id": "b3dae3fd",
   "metadata": {},
   "source": [
    "- 1차원 연속형 확률변수\n",
    " - 확률밀도함수(PDF)\n",
    " - 누적분포함수(CDF)\n",
    "- 2차원 연속형 확률변수\n",
    " - 결합확률밀도함수\n",
    " - "
   ]
  },
  {
   "cell_type": "code",
   "execution_count": null,
   "id": "3ac5b259",
   "metadata": {},
   "outputs": [],
   "source": [
    "불린인덱싱\n",
    "df5[(df5['pclass'] == 3)]"
   ]
  }
 ],
 "metadata": {
  "kernelspec": {
   "display_name": "Python 3 (ipykernel)",
   "language": "python",
   "name": "python3"
  },
  "language_info": {
   "codemirror_mode": {
    "name": "ipython",
    "version": 3
   },
   "file_extension": ".py",
   "mimetype": "text/x-python",
   "name": "python",
   "nbconvert_exporter": "python",
   "pygments_lexer": "ipython3",
   "version": "3.8.13"
  },
  "toc": {
   "base_numbering": 1,
   "nav_menu": {},
   "number_sections": true,
   "sideBar": true,
   "skip_h1_title": false,
   "title_cell": "Table of Contents",
   "title_sidebar": "Contents",
   "toc_cell": false,
   "toc_position": {
    "height": "calc(100% - 180px)",
    "left": "10px",
    "top": "150px",
    "width": "201.188px"
   },
   "toc_section_display": true,
   "toc_window_display": true
  }
 },
 "nbformat": 4,
 "nbformat_minor": 5
}
