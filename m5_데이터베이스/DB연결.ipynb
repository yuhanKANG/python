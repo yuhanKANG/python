{
 "cells": [
  {
   "cell_type": "code",
   "execution_count": 4,
   "id": "2cc5652e",
   "metadata": {},
   "outputs": [],
   "source": [
    "# !pip install cx_oracle\n",
    "# 설치완료"
   ]
  },
  {
   "cell_type": "code",
   "execution_count": 1,
   "id": "e6bbceaf",
   "metadata": {},
   "outputs": [
    {
     "data": {
      "text/html": [
       "<div>\n",
       "<style scoped>\n",
       "    .dataframe tbody tr th:only-of-type {\n",
       "        vertical-align: middle;\n",
       "    }\n",
       "\n",
       "    .dataframe tbody tr th {\n",
       "        vertical-align: top;\n",
       "    }\n",
       "\n",
       "    .dataframe thead th {\n",
       "        text-align: right;\n",
       "    }\n",
       "</style>\n",
       "<table border=\"1\" class=\"dataframe\">\n",
       "  <thead>\n",
       "    <tr style=\"text-align: right;\">\n",
       "      <th></th>\n",
       "      <th>0</th>\n",
       "      <th>1</th>\n",
       "      <th>2</th>\n",
       "      <th>3</th>\n",
       "    </tr>\n",
       "  </thead>\n",
       "  <tbody>\n",
       "    <tr>\n",
       "      <th>0</th>\n",
       "      <td>1</td>\n",
       "      <td>축구의 역사</td>\n",
       "      <td>굿스포츠</td>\n",
       "      <td>7000</td>\n",
       "    </tr>\n",
       "    <tr>\n",
       "      <th>1</th>\n",
       "      <td>2</td>\n",
       "      <td>축구아는 여자</td>\n",
       "      <td>나무수</td>\n",
       "      <td>13000</td>\n",
       "    </tr>\n",
       "    <tr>\n",
       "      <th>2</th>\n",
       "      <td>3</td>\n",
       "      <td>축구의 이해</td>\n",
       "      <td>대한미디어</td>\n",
       "      <td>22000</td>\n",
       "    </tr>\n",
       "    <tr>\n",
       "      <th>3</th>\n",
       "      <td>4</td>\n",
       "      <td>골프 바이블</td>\n",
       "      <td>대한미디어</td>\n",
       "      <td>35000</td>\n",
       "    </tr>\n",
       "    <tr>\n",
       "      <th>4</th>\n",
       "      <td>5</td>\n",
       "      <td>피겨 교본</td>\n",
       "      <td>굿스포츠</td>\n",
       "      <td>8000</td>\n",
       "    </tr>\n",
       "    <tr>\n",
       "      <th>5</th>\n",
       "      <td>6</td>\n",
       "      <td>역도 단계별기술</td>\n",
       "      <td>굿스포츠</td>\n",
       "      <td>6000</td>\n",
       "    </tr>\n",
       "    <tr>\n",
       "      <th>6</th>\n",
       "      <td>7</td>\n",
       "      <td>야구의 추억</td>\n",
       "      <td>이상미디어</td>\n",
       "      <td>20000</td>\n",
       "    </tr>\n",
       "    <tr>\n",
       "      <th>7</th>\n",
       "      <td>8</td>\n",
       "      <td>야구를 부탁해</td>\n",
       "      <td>이상미디어</td>\n",
       "      <td>13000</td>\n",
       "    </tr>\n",
       "    <tr>\n",
       "      <th>8</th>\n",
       "      <td>9</td>\n",
       "      <td>올림픽 이야기</td>\n",
       "      <td>삼성당</td>\n",
       "      <td>7500</td>\n",
       "    </tr>\n",
       "    <tr>\n",
       "      <th>9</th>\n",
       "      <td>10</td>\n",
       "      <td>Olympic Champions</td>\n",
       "      <td>Pearson</td>\n",
       "      <td>13000</td>\n",
       "    </tr>\n",
       "  </tbody>\n",
       "</table>\n",
       "</div>"
      ],
      "text/plain": [
       "    0                  1        2      3\n",
       "0   1             축구의 역사     굿스포츠   7000\n",
       "1   2            축구아는 여자      나무수  13000\n",
       "2   3             축구의 이해    대한미디어  22000\n",
       "3   4             골프 바이블    대한미디어  35000\n",
       "4   5              피겨 교본     굿스포츠   8000\n",
       "5   6           역도 단계별기술     굿스포츠   6000\n",
       "6   7             야구의 추억    이상미디어  20000\n",
       "7   8            야구를 부탁해    이상미디어  13000\n",
       "8   9            올림픽 이야기      삼성당   7500\n",
       "9  10  Olympic Champions  Pearson  13000"
      ]
     },
     "execution_count": 1,
     "metadata": {},
     "output_type": "execute_result"
    }
   ],
   "source": [
    "import cx_Oracle\n",
    "import pandas as pd\n",
    "# .connect(id, 비번, \"호스트이름:포트/SID\")\n",
    "# 데이터베이스 속성에서 확인 가능\n",
    "# SID : 서비스이름\n",
    "db = cx_Oracle.connect(\"c##madang\", \"madang\", \"localhost:1521/xe\")\n",
    "cursor = db.cursor()\n",
    "cursor.execute(\"select * from BOOK\") # execute(\"쿼리문\") : 실행\n",
    "# 패치시켜주어야함\n",
    "x = cursor.fetchall()\n",
    "df = pd.DataFrame(x) # 데이터만 넣어주니깐 컬럼 정보가 없음\n",
    "df"
   ]
  },
  {
   "cell_type": "code",
   "execution_count": 2,
   "id": "6f577651",
   "metadata": {},
   "outputs": [
    {
     "data": {
      "text/html": [
       "<div>\n",
       "<style scoped>\n",
       "    .dataframe tbody tr th:only-of-type {\n",
       "        vertical-align: middle;\n",
       "    }\n",
       "\n",
       "    .dataframe tbody tr th {\n",
       "        vertical-align: top;\n",
       "    }\n",
       "\n",
       "    .dataframe thead th {\n",
       "        text-align: right;\n",
       "    }\n",
       "</style>\n",
       "<table border=\"1\" class=\"dataframe\">\n",
       "  <thead>\n",
       "    <tr style=\"text-align: right;\">\n",
       "      <th></th>\n",
       "      <th>BOOKID</th>\n",
       "      <th>BOOKNAME</th>\n",
       "      <th>PUBLISHER</th>\n",
       "      <th>PRICE</th>\n",
       "    </tr>\n",
       "  </thead>\n",
       "  <tbody>\n",
       "    <tr>\n",
       "      <th>0</th>\n",
       "      <td>1</td>\n",
       "      <td>축구의 역사</td>\n",
       "      <td>굿스포츠</td>\n",
       "      <td>7000</td>\n",
       "    </tr>\n",
       "    <tr>\n",
       "      <th>1</th>\n",
       "      <td>2</td>\n",
       "      <td>축구아는 여자</td>\n",
       "      <td>나무수</td>\n",
       "      <td>13000</td>\n",
       "    </tr>\n",
       "    <tr>\n",
       "      <th>2</th>\n",
       "      <td>3</td>\n",
       "      <td>축구의 이해</td>\n",
       "      <td>대한미디어</td>\n",
       "      <td>22000</td>\n",
       "    </tr>\n",
       "    <tr>\n",
       "      <th>3</th>\n",
       "      <td>4</td>\n",
       "      <td>골프 바이블</td>\n",
       "      <td>대한미디어</td>\n",
       "      <td>35000</td>\n",
       "    </tr>\n",
       "    <tr>\n",
       "      <th>4</th>\n",
       "      <td>5</td>\n",
       "      <td>피겨 교본</td>\n",
       "      <td>굿스포츠</td>\n",
       "      <td>8000</td>\n",
       "    </tr>\n",
       "  </tbody>\n",
       "</table>\n",
       "</div>"
      ],
      "text/plain": [
       "   BOOKID BOOKNAME PUBLISHER  PRICE\n",
       "0       1   축구의 역사      굿스포츠   7000\n",
       "1       2  축구아는 여자       나무수  13000\n",
       "2       3   축구의 이해     대한미디어  22000\n",
       "3       4   골프 바이블     대한미디어  35000\n",
       "4       5    피겨 교본      굿스포츠   8000"
      ]
     },
     "execution_count": 2,
     "metadata": {},
     "output_type": "execute_result"
    }
   ],
   "source": [
    "# 연결\n",
    "db = cx_Oracle.connect(\"c##madang\", \"madang\", \"localhost:1521/xe\")\n",
    "cursor = db.cursor()\n",
    "cursor.execute(\"select * from BOOK\") # execute(\"쿼리문\") : 실행\n",
    "# 패치시켜주어야함\n",
    "x = cursor.fetchall()\n",
    "df = pd.DataFrame(x)\n",
    "# 컬럼 가져오기. 여기서 where이하 table_name은 원래 형식에 맞게 넣어주여야함(대문자면 대문자)\n",
    "cursor.execute(\"\"\"select column_name from user_tab_columns where table_name = 'BOOK'\"\"\")\n",
    "col = cursor.fetchall()\n",
    "col_new = [j for i in col for j in i]\n",
    "df.columns = col_new\n",
    "df.head()"
   ]
  },
  {
   "cell_type": "code",
   "execution_count": 3,
   "id": "fb58d6b9",
   "metadata": {},
   "outputs": [
    {
     "data": {
      "text/plain": [
       "['BOOKID', 'BOOKNAME', 'PUBLISHER', 'PRICE']"
      ]
     },
     "execution_count": 3,
     "metadata": {},
     "output_type": "execute_result"
    }
   ],
   "source": [
    "# 위에 for문 풀어쓰면?\n",
    "col_new = []\n",
    "\n",
    "for i in col :\n",
    "    for j in i :\n",
    "        col_new.append(j)\n",
    "col_new"
   ]
  },
  {
   "cell_type": "code",
   "execution_count": 4,
   "id": "b5449d63",
   "metadata": {},
   "outputs": [],
   "source": [
    "# 순서대로 닫아주어야함\n",
    "cursor.close()\n",
    "db.close()"
   ]
  },
  {
   "cell_type": "code",
   "execution_count": 5,
   "id": "cbf2ab46",
   "metadata": {},
   "outputs": [
    {
     "ename": "SyntaxError",
     "evalue": "invalid syntax (492257428.py, line 1)",
     "output_type": "error",
     "traceback": [
      "\u001b[1;36m  Input \u001b[1;32mIn [5]\u001b[1;36m\u001b[0m\n\u001b[1;33m    Q. hr 사용자를 적용하여 원하는 테이블을 가져와서 df로 출력하세요(컬럼명 포함)\u001b[0m\n\u001b[1;37m          ^\u001b[0m\n\u001b[1;31mSyntaxError\u001b[0m\u001b[1;31m:\u001b[0m invalid syntax\n"
     ]
    }
   ],
   "source": [
    "Q. hr 사용자를 적용하여 원하는 테이블을 가져와서 df로 출력하세요(컬럼명 포함)"
   ]
  },
  {
   "cell_type": "code",
   "execution_count": null,
   "id": "ff69a7d9",
   "metadata": {},
   "outputs": [],
   "source": [
    "import cx_Oracle\n",
    "import pandas as pd\n",
    "# 연결\n",
    "db = cx_Oracle.connect(\"c##hr\", \"hr\", \"localhost:1521/xe\")\n",
    "cursor = db.cursor()\n",
    "# 테이블 가져오기\n",
    "cursor.execute(\"select * from employees\")\n",
    "# 패치\n",
    "x = cursor.fetchall()\n",
    "df = pd.DataFrame(x)\n",
    "# 컬럼 가져오기. 여기서 where이하 table_name은 원래 형식에 맞게 넣어주여야함(대문자면 대문자)\n",
    "cursor.execute(\"\"\"select column_name from user_tab_columns where table_name = 'EMPLOYEES'\"\"\")\n",
    "col = cursor.fetchall()\n",
    "col_new = [j for i in col for j in i]\n",
    "df.columns = col_new\n",
    "df"
   ]
  },
  {
   "cell_type": "code",
   "execution_count": null,
   "id": "46ef1f97",
   "metadata": {},
   "outputs": [],
   "source": [
    "# 마지막에 닫아주어야함\n",
    "cursor.close()\n",
    "db.close()"
   ]
  },
  {
   "cell_type": "code",
   "execution_count": 7,
   "id": "5d5ace93",
   "metadata": {},
   "outputs": [],
   "source": [
    "# create\n",
    "db = cx_Oracle.connect(\"c##madang\", \"madang\", \"localhost:1521/xe\")\n",
    "cs = db.cursor()\n",
    "sql = \"create table sample1(id varchar2(10), score number)\"\n",
    "cs.execute(sql)\n",
    "cs.close()\n",
    "db.commit()\n",
    "db.close()"
   ]
  },
  {
   "cell_type": "code",
   "execution_count": null,
   "id": "0b164488",
   "metadata": {},
   "outputs": [],
   "source": [
    "# insert\n",
    "def insert(t):\n",
    "    db = cx_Oracle.connect(\"c##madang\", \"madang\", \"localhost:1521/xe\")\n",
    "    cs = db.cursor()\n",
    "    sql = \"insert into sample1 (id, score) values (:1,:2)\"\n",
    "    cs.execute(sql,t)\n",
    "    cs.close()\n",
    "    db.commit()\n",
    "    db.close()\n",
    "    \n",
    "insert(('9','1')) # db에 sample1 테이블이 생성되고 id에 값이 9, score에 값이 1 들어가 있는것을 확인할수있음"
   ]
  },
  {
   "cell_type": "code",
   "execution_count": null,
   "id": "173a474a",
   "metadata": {},
   "outputs": [],
   "source": [
    "import cx_Oracle\n",
    "db = cx_Oracle.connect(\"c##madang\",\"madang\",\"localhost:1521/xe\")\n",
    "cursor = db.cursor()\n",
    "cursor.execute(\"create table sample2(id number)\")\n",
    "cursor.execute(\"insert into sample2(id) values(1)\")\n",
    "db.commit()\n",
    "db.close()"
   ]
  },
  {
   "cell_type": "code",
   "execution_count": 13,
   "id": "f391ae73",
   "metadata": {},
   "outputs": [
    {
     "data": {
      "text/html": [
       "<div>\n",
       "<style scoped>\n",
       "    .dataframe tbody tr th:only-of-type {\n",
       "        vertical-align: middle;\n",
       "    }\n",
       "\n",
       "    .dataframe tbody tr th {\n",
       "        vertical-align: top;\n",
       "    }\n",
       "\n",
       "    .dataframe thead th {\n",
       "        text-align: right;\n",
       "    }\n",
       "</style>\n",
       "<table border=\"1\" class=\"dataframe\">\n",
       "  <thead>\n",
       "    <tr style=\"text-align: right;\">\n",
       "      <th></th>\n",
       "      <th>CUSTNO</th>\n",
       "      <th>GENDER</th>\n",
       "      <th>AGE</th>\n",
       "      <th>AREA</th>\n",
       "    </tr>\n",
       "  </thead>\n",
       "  <tbody>\n",
       "    <tr>\n",
       "      <th>0</th>\n",
       "      <td>00501</td>\n",
       "      <td>F</td>\n",
       "      <td>60세이상</td>\n",
       "      <td>460</td>\n",
       "    </tr>\n",
       "    <tr>\n",
       "      <th>1</th>\n",
       "      <td>00502</td>\n",
       "      <td>F</td>\n",
       "      <td>60세이상</td>\n",
       "      <td>060</td>\n",
       "    </tr>\n",
       "    <tr>\n",
       "      <th>2</th>\n",
       "      <td>00503</td>\n",
       "      <td>F</td>\n",
       "      <td>60세이상</td>\n",
       "      <td>055</td>\n",
       "    </tr>\n",
       "    <tr>\n",
       "      <th>3</th>\n",
       "      <td>00504</td>\n",
       "      <td>F</td>\n",
       "      <td>60세이상</td>\n",
       "      <td>049</td>\n",
       "    </tr>\n",
       "    <tr>\n",
       "      <th>4</th>\n",
       "      <td>00505</td>\n",
       "      <td>F</td>\n",
       "      <td>60세이상</td>\n",
       "      <td>055</td>\n",
       "    </tr>\n",
       "    <tr>\n",
       "      <th>...</th>\n",
       "      <td>...</td>\n",
       "      <td>...</td>\n",
       "      <td>...</td>\n",
       "      <td>...</td>\n",
       "    </tr>\n",
       "    <tr>\n",
       "      <th>19378</th>\n",
       "      <td>19261</td>\n",
       "      <td>F</td>\n",
       "      <td>60세이상</td>\n",
       "      <td>072</td>\n",
       "    </tr>\n",
       "    <tr>\n",
       "      <th>19379</th>\n",
       "      <td>19262</td>\n",
       "      <td>F</td>\n",
       "      <td>20세~24세</td>\n",
       "      <td>052</td>\n",
       "    </tr>\n",
       "    <tr>\n",
       "      <th>19380</th>\n",
       "      <td>19263</td>\n",
       "      <td>F</td>\n",
       "      <td>60세이상</td>\n",
       "      <td>460</td>\n",
       "    </tr>\n",
       "    <tr>\n",
       "      <th>19381</th>\n",
       "      <td>19264</td>\n",
       "      <td>F</td>\n",
       "      <td>45세~49세</td>\n",
       "      <td>100</td>\n",
       "    </tr>\n",
       "    <tr>\n",
       "      <th>19382</th>\n",
       "      <td>19265</td>\n",
       "      <td>M</td>\n",
       "      <td>60세이상</td>\n",
       "      <td>410</td>\n",
       "    </tr>\n",
       "  </tbody>\n",
       "</table>\n",
       "<p>19383 rows × 4 columns</p>\n",
       "</div>"
      ],
      "text/plain": [
       "      CUSTNO GENDER      AGE AREA\n",
       "0      00501      F    60세이상  460\n",
       "1      00502      F    60세이상  060\n",
       "2      00503      F    60세이상  055\n",
       "3      00504      F    60세이상  049\n",
       "4      00505      F    60세이상  055\n",
       "...      ...    ...      ...  ...\n",
       "19378  19261      F    60세이상  072\n",
       "19379  19262      F  20세~24세  052\n",
       "19380  19263      F    60세이상  460\n",
       "19381  19264      F  45세~49세  100\n",
       "19382  19265      M    60세이상  410\n",
       "\n",
       "[19383 rows x 4 columns]"
      ]
     },
     "execution_count": 13,
     "metadata": {},
     "output_type": "execute_result"
    }
   ],
   "source": [
    "# 고객DEMO\n",
    "# 연결\n",
    "db = cx_Oracle.connect(\"c##cakd7\", \"cakd7\", \"localhost:1521/xe\")\n",
    "cursor = db.cursor()\n",
    "# 테이블 가져오기\n",
    "cursor.execute(\"select * from demo\")\n",
    "# 패치\n",
    "x = cursor.fetchall()\n",
    "df = pd.DataFrame(x)\n",
    "# 컬럼 가져오기. 여기서 where이하 table_name은 원래 형식에 맞게 넣어주여야함(대문자면 대문자)\n",
    "cursor.execute(\"\"\"select column_name from user_tab_columns where table_name = 'DEMO'\"\"\")\n",
    "col = cursor.fetchall()\n",
    "col_new = [j for i in col for j in i]\n",
    "df.columns = col_new\n",
    "df"
   ]
  },
  {
   "cell_type": "code",
   "execution_count": 14,
   "id": "702e1aad",
   "metadata": {},
   "outputs": [
    {
     "data": {
      "text/plain": [
       "(19383, 4)"
      ]
     },
     "execution_count": 14,
     "metadata": {},
     "output_type": "execute_result"
    }
   ],
   "source": [
    "df.shape"
   ]
  },
  {
   "cell_type": "code",
   "execution_count": 15,
   "id": "acb2a673",
   "metadata": {},
   "outputs": [
    {
     "data": {
      "text/plain": [
       "45세~49세    4082\n",
       "40세~44세    3677\n",
       "50세~54세    3114\n",
       "35세~39세    2769\n",
       "55세~59세    1774\n",
       "30세~34세    1679\n",
       "60세이상      1303\n",
       "25세~29세     685\n",
       "20세~24세     283\n",
       "19세이하        17\n",
       "Name: AGE, dtype: int64"
      ]
     },
     "execution_count": 15,
     "metadata": {},
     "output_type": "execute_result"
    }
   ],
   "source": [
    "df.AGE.value_counts()"
   ]
  },
  {
   "cell_type": "code",
   "execution_count": 16,
   "id": "2cd004bc",
   "metadata": {},
   "outputs": [
    {
     "data": {
      "text/plain": [
       "array(['60세이상', '55세~59세', '50세~54세', '45세~49세', '40세~44세', '35세~39세',\n",
       "       '30세~34세', '25세~29세', '20세~24세', '19세이하'], dtype=object)"
      ]
     },
     "execution_count": 16,
     "metadata": {},
     "output_type": "execute_result"
    }
   ],
   "source": [
    "df.AGE.unique()"
   ]
  },
  {
   "cell_type": "code",
   "execution_count": 18,
   "id": "147ccf7c",
   "metadata": {},
   "outputs": [
    {
     "data": {
      "text/html": [
       "<div>\n",
       "<style scoped>\n",
       "    .dataframe tbody tr th:only-of-type {\n",
       "        vertical-align: middle;\n",
       "    }\n",
       "\n",
       "    .dataframe tbody tr th {\n",
       "        vertical-align: top;\n",
       "    }\n",
       "\n",
       "    .dataframe thead th {\n",
       "        text-align: right;\n",
       "    }\n",
       "</style>\n",
       "<table border=\"1\" class=\"dataframe\">\n",
       "  <thead>\n",
       "    <tr style=\"text-align: right;\">\n",
       "      <th></th>\n",
       "      <th>ASSO</th>\n",
       "      <th>BCODE</th>\n",
       "      <th>MCODE</th>\n",
       "      <th>SCODE</th>\n",
       "      <th>MCL</th>\n",
       "      <th>SCL</th>\n",
       "    </tr>\n",
       "  </thead>\n",
       "  <tbody>\n",
       "    <tr>\n",
       "      <th>0</th>\n",
       "      <td>A</td>\n",
       "      <td>4</td>\n",
       "      <td>0409</td>\n",
       "      <td>A040902</td>\n",
       "      <td>디자이너</td>\n",
       "      <td>디자이너부틱</td>\n",
       "    </tr>\n",
       "    <tr>\n",
       "      <th>1</th>\n",
       "      <td>A</td>\n",
       "      <td>4</td>\n",
       "      <td>0409</td>\n",
       "      <td>A040903</td>\n",
       "      <td>디자이너</td>\n",
       "      <td>디자이너캐릭터</td>\n",
       "    </tr>\n",
       "    <tr>\n",
       "      <th>2</th>\n",
       "      <td>A</td>\n",
       "      <td>4</td>\n",
       "      <td>0410</td>\n",
       "      <td>A041001</td>\n",
       "      <td>모피/피혁</td>\n",
       "      <td>모피</td>\n",
       "    </tr>\n",
       "    <tr>\n",
       "      <th>3</th>\n",
       "      <td>A</td>\n",
       "      <td>4</td>\n",
       "      <td>0410</td>\n",
       "      <td>A041002</td>\n",
       "      <td>모피/피혁</td>\n",
       "      <td>피혁</td>\n",
       "    </tr>\n",
       "    <tr>\n",
       "      <th>4</th>\n",
       "      <td>A</td>\n",
       "      <td>4</td>\n",
       "      <td>0410</td>\n",
       "      <td>A041003</td>\n",
       "      <td>모피/피혁</td>\n",
       "      <td>숙녀고정행사</td>\n",
       "    </tr>\n",
       "  </tbody>\n",
       "</table>\n",
       "</div>"
      ],
      "text/plain": [
       "  ASSO  BCODE MCODE    SCODE    MCL      SCL\n",
       "0    A      4  0409  A040902   디자이너   디자이너부틱\n",
       "1    A      4  0409  A040903   디자이너  디자이너캐릭터\n",
       "2    A      4  0410  A041001  모피/피혁       모피\n",
       "3    A      4  0410  A041002  모피/피혁       피혁\n",
       "4    A      4  0410  A041003  모피/피혁   숙녀고정행사"
      ]
     },
     "execution_count": 18,
     "metadata": {},
     "output_type": "execute_result"
    }
   ],
   "source": [
    "# PRODCL. 상품분류\n",
    "db = cx_Oracle.connect(\"c##cakd7\", \"cakd7\", \"localhost:1521/xe\")\n",
    "cursor = db.cursor()\n",
    "cursor.execute(\"select * from PRODCL\")\n",
    "x = cursor.fetchall()\n",
    "df = pd.DataFrame(x)\n",
    "cursor.execute(\"\"\"select column_name from user_tab_columns where table_name = 'PRODCL'\"\"\")\n",
    "col = cursor.fetchall()\n",
    "col_new = [j for i in col for j in i]\n",
    "df.columns = col_new\n",
    "df.head()"
   ]
  },
  {
   "cell_type": "code",
   "execution_count": 19,
   "id": "43fe7fbd",
   "metadata": {},
   "outputs": [
    {
     "data": {
      "text/plain": [
       "B    2624\n",
       "C     987\n",
       "A     630\n",
       "D     145\n",
       "Name: ASSO, dtype: int64"
      ]
     },
     "execution_count": 19,
     "metadata": {},
     "output_type": "execute_result"
    }
   ],
   "source": [
    "df.ASSO.value_counts()"
   ]
  },
  {
   "cell_type": "code",
   "execution_count": 20,
   "id": "6bebe968",
   "metadata": {},
   "outputs": [
    {
     "data": {
      "text/plain": [
       "array([ 4,  5,  6,  7,  8,  9,  1,  2,  3, 28, 29, 30, 31, 32, 33, 34, 10,\n",
       "       11, 12, 13, 14, 15, 16, 17, 18, 19, 20, 21, 22, 23, 24, 25, 26, 27,\n",
       "       52, 53, 54, 55, 56, 57, 58, 59, 60, 61, 62, 63, 64, 65, 66, 67, 68,\n",
       "       69, 70, 71, 72, 73, 35, 36, 37, 38, 39, 40, 41, 42, 43, 44, 45, 46,\n",
       "       47, 48, 49, 50, 51, 74, 75, 76, 77, 78, 79, 80, 81, 82, 83, 84, 85,\n",
       "       86, 87, 88, 89, 90, 91, 92], dtype=int64)"
      ]
     },
     "execution_count": 20,
     "metadata": {},
     "output_type": "execute_result"
    }
   ],
   "source": [
    "df.BCODE.unique()"
   ]
  },
  {
   "cell_type": "markdown",
   "id": "cd591bd2",
   "metadata": {},
   "source": [
    "- 과제 10/12 (1)<br>- PURPRD 테이블을 가져와서 다음사항을 수행하세요.\n",
    " - pivot_table을 이용해서 고객번호별 대분류별 구매금액을 도출\n",
    " - 고객별 구매관련 의미있는 인사이트를 뽑아낼 수 있는 데이터 셋을 출력(2개 이상)"
   ]
  },
  {
   "cell_type": "code",
   "execution_count": null,
   "id": "0272cd63",
   "metadata": {},
   "outputs": [],
   "source": [
    "# PURPRD. 구매상품TR\n",
    "# 연결\n",
    "db = cx_Oracle.connect(\"c##cakd7\", \"cakd7\", \"localhost:1521/xe\")\n",
    "cursor = db.cursor()\n",
    "# 테이블 가져오기\n",
    "cursor.execute(\"select * from purprd\")\n",
    "# 패치\n",
    "x = cursor.fetchall()\n",
    "df = pd.DataFrame(x)\n",
    "# 컬럼 가져오기. 여기서 where이하 table_name은 원래 형식에 맞게 넣어주여야함(대문자면 대문자)\n",
    "cursor.execute(\"\"\"select column_name from user_tab_columns where table_name = 'PURPRD'\"\"\")\n",
    "col = cursor.fetchall()\n",
    "col_new = [j for i in col for j in i]\n",
    "df.columns = col_new\n",
    "df\n",
    "### 이거 한시간걸림 ###"
   ]
  },
  {
   "cell_type": "code",
   "execution_count": null,
   "id": "e6da3c75",
   "metadata": {},
   "outputs": [],
   "source": []
  }
 ],
 "metadata": {
  "kernelspec": {
   "display_name": "Python 3 (ipykernel)",
   "language": "python",
   "name": "python3"
  },
  "language_info": {
   "codemirror_mode": {
    "name": "ipython",
    "version": 3
   },
   "file_extension": ".py",
   "mimetype": "text/x-python",
   "name": "python",
   "nbconvert_exporter": "python",
   "pygments_lexer": "ipython3",
   "version": "3.8.13"
  },
  "toc": {
   "base_numbering": 1,
   "nav_menu": {},
   "number_sections": true,
   "sideBar": true,
   "skip_h1_title": false,
   "title_cell": "Table of Contents",
   "title_sidebar": "Contents",
   "toc_cell": false,
   "toc_position": {},
   "toc_section_display": true,
   "toc_window_display": false
  }
 },
 "nbformat": 4,
 "nbformat_minor": 5
}
