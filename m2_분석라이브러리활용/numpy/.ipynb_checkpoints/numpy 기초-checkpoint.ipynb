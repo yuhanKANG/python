{
 "cells": [
  {
   "cell_type": "markdown",
   "id": "92682657",
   "metadata": {},
   "source": [
    "#### NumPy는 “Numerical Python“의 약자로 '대규모 다차원 배열과 행렬 연산'에 필요한 다양한 함수를 제공\n",
    "* Numerical Python을 의미하는 NumPy는 파이썬에서 선형대수 기반의 프로그램을 쉽게 만들 수 있도록 지원하는 대표적인 패키지\n",
    "* 많은 머신러닝 알고리즘이 넘파이 기반으로 작성돼 있으며 알고리즘의 입출력 데이터를 넘파이 배열 타입으로 사용함\n",
    "* 넘파이의 기본 데이터 타입은 ndarray. ndarray를 이용해 넘파이에서 다차원 배열을 쉽게 생성하고 다양한 연산 수행\n",
    "\n",
    "NumPy 특징\n",
    "\n",
    "- 강력한 N 차원 배열 객체\n",
    "- 정교한 브로드케스팅(Broadcast) 기능\n",
    "- C/C ++ 및 포트란 코드 통합 도구\n",
    "- 유용한 선형 대수학, 푸리에 변환 및 난수 기능\n",
    "- 푸리에 변환(Fourier transform, FT)은 시간이나 공간에 대한 함수를 시간 또는 공간 주파수 성분으로 분해하는 변환\n",
    "- 범용적 데이터 처리에 사용 가능한 다차원 컨테이너\n",
    "\n",
    "Numpy Documentation  \n",
    "\n",
    "https://numpy.org/doc/1.21/index.html\n"
   ]
  },
  {
   "cell_type": "code",
   "execution_count": 3,
   "id": "0e88b3b7",
   "metadata": {},
   "outputs": [
    {
     "name": "stdout",
     "output_type": "stream",
     "text": [
      "40 bytes\n"
     ]
    }
   ],
   "source": [
    "import numpy as np\n",
    "\n",
    "z = np.arange(10)\n",
    "print(f'{z.size*z.itemsize} bytes')"
   ]
  },
  {
   "cell_type": "code",
   "execution_count": 4,
   "id": "4107f18b",
   "metadata": {},
   "outputs": [],
   "source": [
    "# Numpy는 내부적으로 데이터를 다른 내장 파이썬 객체와 구분된 연속된 메모리 블록에 저장한다.\n",
    "#  = 메모리를 적게먹음"
   ]
  },
  {
   "cell_type": "code",
   "execution_count": 5,
   "id": "72dfd4c8",
   "metadata": {},
   "outputs": [],
   "source": [
    "import pandas as pd\n",
    "\n",
    "my_arr = np.arange(1000000)\n",
    "my_list = list(range(1000000))"
   ]
  },
  {
   "cell_type": "code",
   "execution_count": 9,
   "id": "615819ec",
   "metadata": {},
   "outputs": [
    {
     "name": "stdout",
     "output_type": "stream",
     "text": [
      "CPU times: total: 15.6 ms\n",
      "Wall time: 14 ms\n"
     ]
    }
   ],
   "source": [
    "# _ 은 값을 무시하고 싶은 경우 사용. 여기선 인덱스 무시\n",
    "%time for _ in range(10) : my_array2 = my_arr*2    # 10번 돌리는것 시간재기"
   ]
  },
  {
   "cell_type": "code",
   "execution_count": 10,
   "id": "cbd3e62b",
   "metadata": {},
   "outputs": [
    {
     "name": "stdout",
     "output_type": "stream",
     "text": [
      "CPU times: total: 609 ms\n",
      "Wall time: 620 ms\n"
     ]
    }
   ],
   "source": [
    "%time for _ in range(10) : my_list2 = [x*2 for x in my_list]  #리스트라서 이렇게씀"
   ]
  },
  {
   "cell_type": "markdown",
   "id": "09dda696",
   "metadata": {},
   "source": [
    "- 배열 연산"
   ]
  },
  {
   "cell_type": "code",
   "execution_count": 11,
   "id": "d3313c25",
   "metadata": {},
   "outputs": [
    {
     "name": "stdout",
     "output_type": "stream",
     "text": [
      "[[-0.94726177  2.30903521  0.11217228]\n",
      " [ 0.54656501 -0.14457208 -0.31993432]] \n",
      "\n",
      "[[-9.47261766 23.09035214  1.12172275]\n",
      " [ 5.46565011 -1.44572079 -3.19934317]] \n",
      "\n",
      "[[-1.89452353  4.61807043  0.22434455]\n",
      " [ 1.09313002 -0.28914416 -0.63986863]]\n"
     ]
    }
   ],
   "source": [
    "data = np.random.randn(2,3)   # np.random.randn : 정규분포를 이루는 수들로 2행 3열 뽑은것\n",
    "                              # 평균 0, 0기준 양옆으로 +-값나올수있음\n",
    "print(data, '\\n')\n",
    "print(data* 10, '\\n')\n",
    "print(data + data)"
   ]
  },
  {
   "cell_type": "code",
   "execution_count": 12,
   "id": "37ac6a6d",
   "metadata": {},
   "outputs": [
    {
     "name": "stdout",
     "output_type": "stream",
     "text": [
      "(2, 3)\n",
      "float64\n",
      "2\n"
     ]
    }
   ],
   "source": [
    "print(data.shape) # shape : 크기\n",
    "print(data.dtype) # dtype : 자료형\n",
    "print(data.ndim)  # ndim : 차원"
   ]
  },
  {
   "cell_type": "markdown",
   "id": "16390269",
   "metadata": {},
   "source": [
    "### 다차원 배열\n",
    "\n",
    "<img src = 'numpy차원.jpg' STYLE = 'width:500px;'>"
   ]
  },
  {
   "cell_type": "code",
   "execution_count": 16,
   "id": "64901b14",
   "metadata": {},
   "outputs": [
    {
     "data": {
      "text/plain": [
       "array([[1, 2, 3, 4],\n",
       "       [5, 6, 7, 8]])"
      ]
     },
     "execution_count": 16,
     "metadata": {},
     "output_type": "execute_result"
    }
   ],
   "source": [
    "# 다차원 배열\n",
    "data2 = [[1,2,3,4],[5,6,7,8]] #대괄호에 리스트\n",
    "\n",
    "arr2 = np.array(data2) #리스트 집어넣기\n",
    "arr2"
   ]
  },
  {
   "cell_type": "code",
   "execution_count": 18,
   "id": "13cfe011",
   "metadata": {},
   "outputs": [
    {
     "name": "stdout",
     "output_type": "stream",
     "text": [
      "2 \n",
      "\n",
      "(2, 4)\n"
     ]
    }
   ],
   "source": [
    "print(arr2.ndim, '\\n')\n",
    "print(arr2.shape)"
   ]
  },
  {
   "cell_type": "code",
   "execution_count": 19,
   "id": "6570c52f",
   "metadata": {},
   "outputs": [
    {
     "name": "stdout",
     "output_type": "stream",
     "text": [
      "[1 2 3] <class 'numpy.ndarray'>\n",
      "(3,)\n"
     ]
    }
   ],
   "source": [
    "# 1차원 배열로 3개의 데이터\n",
    "arr1 = np.array([1,2,3])\n",
    "print(arr1, type(arr1))\n",
    "print(arr1.shape) # 1차원인 경우에는 원소의 개수를 콤마로 나타냄. "
   ]
  },
  {
   "cell_type": "markdown",
   "id": "067eca61",
   "metadata": {},
   "source": [
    "### 배열 생성 및 초기화\n",
    "- Numpy는 원하는 shape로 배열을 설정하고 각 요소를 특정 값으로 초기화하는 zeros, ones, full, eye함수 제공\n",
    "- 파라미터로 입력한 배열과 같은 shape의 배열을 만드는 zeros_like, ones_like, full_like 함수도 제공"
   ]
  },
  {
   "cell_type": "code",
   "execution_count": 21,
   "id": "2bc087bb",
   "metadata": {},
   "outputs": [
    {
     "name": "stdout",
     "output_type": "stream",
     "text": [
      "[0. 0. 0. 0. 0. 0. 0. 0. 0. 0.] \n",
      "\n",
      "[[0. 0. 0. 0. 0. 0.]\n",
      " [0. 0. 0. 0. 0. 0.]\n",
      " [0. 0. 0. 0. 0. 0.]] \n",
      "\n",
      "[[[0. 0.]\n",
      "  [0. 0.]\n",
      "  [0. 0.]]\n",
      "\n",
      " [[0. 0.]\n",
      "  [0. 0.]\n",
      "  [0. 0.]]]\n"
     ]
    }
   ],
   "source": [
    "import numpy as np\n",
    "\n",
    "print(np.zeros(10), '\\n')\n",
    "print(np.zeros((3,6)), '\\n')\n",
    "print(np.zeros((2,3,2))) # 차원, 행, 열"
   ]
  },
  {
   "cell_type": "code",
   "execution_count": 22,
   "id": "eb82c483",
   "metadata": {},
   "outputs": [
    {
     "data": {
      "text/plain": [
       "array([[[1., 1., 1., 1.],\n",
       "        [1., 1., 1., 1.],\n",
       "        [1., 1., 1., 1.]],\n",
       "\n",
       "       [[1., 1., 1., 1.],\n",
       "        [1., 1., 1., 1.],\n",
       "        [1., 1., 1., 1.]]])"
      ]
     },
     "execution_count": 22,
     "metadata": {},
     "output_type": "execute_result"
    }
   ],
   "source": [
    "np.ones((2,3,4))"
   ]
  },
  {
   "cell_type": "markdown",
   "id": "c17187b4",
   "metadata": {},
   "source": [
    "- np.zeros_like(a)"
   ]
  },
  {
   "cell_type": "code",
   "execution_count": 29,
   "id": "b3ec967a",
   "metadata": {},
   "outputs": [
    {
     "name": "stdout",
     "output_type": "stream",
     "text": [
      "[[0 0 0 0 0]\n",
      " [0 0 0 0 0]] \n",
      "\n",
      "[[1 1 1 1 1]\n",
      " [1 1 1 1 1]] \n",
      "\n",
      "[[5 5 5 5 5]\n",
      " [5 5 5 5 5]]\n"
     ]
    }
   ],
   "source": [
    "a = np.arange(10).reshape(2,5)\n",
    "z = np.zeros_like(a)      # a와 같은 틀을 다옴, a가 2행5열이라 그 틀만 가져와서 o으로 채움\n",
    "o = np.ones_like(a)\n",
    "f = np.full_like(a,5) #특정 수를 만들고 싶을때 : (따올형태의 값, 넣을 수치)\n",
    "print(z, '\\n')\n",
    "print(o, '\\n')\n",
    "print(f)"
   ]
  },
  {
   "cell_type": "code",
   "execution_count": 30,
   "id": "8e59b231",
   "metadata": {},
   "outputs": [
    {
     "name": "stdout",
     "output_type": "stream",
     "text": [
      "[ 0  1  2  3  4  5  6  7  8  9 10 11 12 13 14 15 16 17 18 19 20 21 22 23\n",
      " 24 25 26 27 28 29] \n",
      "\n"
     ]
    }
   ],
   "source": [
    "ar = np.arange(30) # 1차원\n",
    "ar1 = ar\n",
    "print(ar1, '\\n')"
   ]
  },
  {
   "cell_type": "code",
   "execution_count": 32,
   "id": "b04abd9c",
   "metadata": {},
   "outputs": [
    {
     "name": "stdout",
     "output_type": "stream",
     "text": [
      "[[ 0  1  2  3  4  5]\n",
      " [ 6  7  8  9 10 11]\n",
      " [12 13 14 15 16 17]\n",
      " [18 19 20 21 22 23]\n",
      " [24 25 26 27 28 29]] \n",
      "\n",
      "[[[ 0  1  2  3  4]\n",
      "  [ 5  6  7  8  9]\n",
      "  [10 11 12 13 14]]\n",
      "\n",
      " [[15 16 17 18 19]\n",
      "  [20 21 22 23 24]\n",
      "  [25 26 27 28 29]]]\n"
     ]
    }
   ],
   "source": [
    "ar2 = ar.reshape(5,6)\n",
    "ar3 = ar.reshape(2,3,5)\n",
    "\n",
    "print(ar2, '\\n')\n",
    "print(ar3)"
   ]
  },
  {
   "cell_type": "markdown",
   "id": "c0432752",
   "metadata": {},
   "source": [
    "### reshape(-1, -1) 이용, 차원 변경"
   ]
  },
  {
   "cell_type": "code",
   "execution_count": 38,
   "id": "21327e4a",
   "metadata": {},
   "outputs": [
    {
     "name": "stdout",
     "output_type": "stream",
     "text": [
      "[ 0  1  2  3  4  5  6  7  8  9 10 11 12 13 14 15 16 17 18 19 20 21 22 23\n",
      " 24 25 26 27 28 29]\n",
      "[[ 0  1  2  3  4  5  6  7  8  9 10 11 12 13 14 15 16 17 18 19 20 21 22 23\n",
      "  24 25 26 27 28 29]] \n",
      "\n",
      "[[[ 0  1  2  3  4  5  6  7  8  9]\n",
      "  [10 11 12 13 14 15 16 17 18 19]\n",
      "  [20 21 22 23 24 25 26 27 28 29]]]\n"
     ]
    }
   ],
   "source": [
    "# 이는 열의 값은 특정 정수로 지정이 되어있을 때, 남은 배열의 길이와 남은 차원으로부터 추정해서\n",
    "# 알아서 지정하라는 의미\n",
    "print(ar1) # 1차원\n",
    "ar2 = ar1.reshape(-1,30) \n",
    "ar3 = ar2.reshape(-1,3,10)\n",
    "\n",
    "print(ar2, '\\n') # 2차원\n",
    "print(ar3) # 3차원"
   ]
  },
  {
   "cell_type": "markdown",
   "id": "8ee4c8cf",
   "metadata": {},
   "source": [
    "###  과제(7/5)\n",
    "- 2차원을 1,3차원으로 변경하여 출력하세요.(데이터는 자율적으로 생성)\n",
    "- 3차원을 1,2차원으로 변경하여 출력하세요."
   ]
  },
  {
   "cell_type": "code",
   "execution_count": 198,
   "id": "0f64a05d",
   "metadata": {},
   "outputs": [
    {
     "name": "stdout",
     "output_type": "stream",
     "text": [
      "[ 0  1  2  3  4  5  6  7  8  9 10 11 12 13 14 15 16 17 18 19 20 21 22 23\n",
      " 24 25 26 27 28 29 30 31 32 33 34 35 36 37 38 39 40 41 42 43 44] \n",
      "\n",
      "[[ 0  1  2  3  4  5  6  7  8]\n",
      " [ 9 10 11 12 13 14 15 16 17]\n",
      " [18 19 20 21 22 23 24 25 26]\n",
      " [27 28 29 30 31 32 33 34 35]\n",
      " [36 37 38 39 40 41 42 43 44]] \n",
      "\n"
     ]
    }
   ],
   "source": [
    "ar1 = np.arange(45)\n",
    "print(ar1, '\\n')  # 1차원\n",
    "ar2 = ar1.reshape(-1,9)\n",
    "print(ar2, '\\n') # 2차원\n",
    "ar3 = ar2.reshape(-1,5,3) # 3차원"
   ]
  },
  {
   "cell_type": "markdown",
   "id": "8479fec0",
   "metadata": {},
   "source": [
    "### 행렬의 종류\n",
    "- 링크참조해서 행렬 숙지\n",
    "\n",
    "https://math-development-geometry.tistory.com/52\n",
    "\n",
    "- 정방행렬은 행과 열의 수가 같은 행렬\n",
    "- 대각행렬은 주대각선 원소를 제외한 모든 원소들이 0인 정방행렬  1 0 / 0 1\n",
    "- 삼각행렬은 주대각선 원소를 기준으로 위 또는 아래에 있는 성분이 모두 0인 정방행렬\n",
    "- 항등행렬은 행렬 곱셈 연산에 항등원으로 작용하는 행렬\n",
    "\n",
    " : 대각선만 전부 1인 행렬\n",
    "- 영행렬은 모든 원소가 0인 행렬로 곱셈 연산에서 영원으로 작용하는 행렬\n",
    "- 전치행렬은 주대각선 원소를 기준으로 행과 열을 바꿔주는 행렬\n",
    "- 직교행렬은 행렬 A의 역행렬이 A의 전치행렬이고 A의 전치행렬과 A 행렬을 곱하였을때 항등행렬이 나오는 행렬"
   ]
  },
  {
   "cell_type": "markdown",
   "id": "6804dd6d",
   "metadata": {},
   "source": [
    "- 정방행렬"
   ]
  },
  {
   "cell_type": "code",
   "execution_count": 5,
   "id": "fad541cc",
   "metadata": {},
   "outputs": [
    {
     "data": {
      "text/plain": [
       "array([[7, 7],\n",
       "       [7, 7]])"
      ]
     },
     "execution_count": 5,
     "metadata": {},
     "output_type": "execute_result"
    }
   ],
   "source": [
    "a = np.full((2,2), 7)  # np.full로 2행2열에 7을 채움\n",
    "a"
   ]
  },
  {
   "cell_type": "markdown",
   "id": "3dd81f7c",
   "metadata": {},
   "source": [
    "- 항등행렬, 단위행렬"
   ]
  },
  {
   "cell_type": "code",
   "execution_count": 43,
   "id": "1f7c6600",
   "metadata": {},
   "outputs": [
    {
     "data": {
      "text/plain": [
       "array([[1., 0., 0.],\n",
       "       [0., 1., 0.],\n",
       "       [0., 0., 1.]])"
      ]
     },
     "execution_count": 43,
     "metadata": {},
     "output_type": "execute_result"
    }
   ],
   "source": [
    "arr = np.eye(3)  # 대각선에 있는 숫자를 합해준 수를 기입. n x n행렬이 됨\n",
    "arr              # 항등행렬이라 대각선 수만 1로 채우고 나머지 0"
   ]
  },
  {
   "cell_type": "code",
   "execution_count": 45,
   "id": "1f1cd05b",
   "metadata": {},
   "outputs": [
    {
     "data": {
      "text/plain": [
       "array([ 0.        ,  0.20408163,  0.40816327,  0.6122449 ,  0.81632653,\n",
       "        1.02040816,  1.2244898 ,  1.42857143,  1.63265306,  1.83673469,\n",
       "        2.04081633,  2.24489796,  2.44897959,  2.65306122,  2.85714286,\n",
       "        3.06122449,  3.26530612,  3.46938776,  3.67346939,  3.87755102,\n",
       "        4.08163265,  4.28571429,  4.48979592,  4.69387755,  4.89795918,\n",
       "        5.10204082,  5.30612245,  5.51020408,  5.71428571,  5.91836735,\n",
       "        6.12244898,  6.32653061,  6.53061224,  6.73469388,  6.93877551,\n",
       "        7.14285714,  7.34693878,  7.55102041,  7.75510204,  7.95918367,\n",
       "        8.16326531,  8.36734694,  8.57142857,  8.7755102 ,  8.97959184,\n",
       "        9.18367347,  9.3877551 ,  9.59183673,  9.79591837, 10.        ])"
      ]
     },
     "execution_count": 45,
     "metadata": {},
     "output_type": "execute_result"
    }
   ],
   "source": [
    "# 0~10을 균등하게 50개로 나누어줌\n",
    "np.linspace(0,10) # 디폴트값 50"
   ]
  },
  {
   "cell_type": "markdown",
   "id": "0af2a4d2",
   "metadata": {},
   "source": [
    "- np.linspace(시작수, 끝수, 나눌횟수, 간격표시)"
   ]
  },
  {
   "cell_type": "code",
   "execution_count": 50,
   "id": "7e2485e7",
   "metadata": {},
   "outputs": [
    {
     "data": {
      "text/plain": [
       "(array([0.  , 0.25, 0.5 , 0.75, 1.  ]), 0.25)"
      ]
     },
     "execution_count": 50,
     "metadata": {},
     "output_type": "execute_result"
    }
   ],
   "source": [
    "np.linspace(0,1,5,retstep=True) # retstep : 간격이 얼마나되는지도 출력"
   ]
  },
  {
   "cell_type": "code",
   "execution_count": 51,
   "id": "27aaf740",
   "metadata": {},
   "outputs": [
    {
     "data": {
      "text/plain": [
       "[<matplotlib.lines.Line2D at 0x191840e2220>]"
      ]
     },
     "execution_count": 51,
     "metadata": {},
     "output_type": "execute_result"
    },
    {
     "data": {
      "image/png": "[encoded data removed]",
      "text/plain": [
       "<Figure size 432x288 with 1 Axes>"
      ]
     },
     "metadata": {
      "needs_background": "light"
     },
     "output_type": "display_data"
    }
   ],
   "source": [
    "import matplotlib.pyplot as plt\n",
    "\n",
    "x = np.linspace(0,1)\n",
    "y = np.linspace(0,50)\n",
    "\n",
    "plt.plot(x,y,'o') #마크할 표시 o"
   ]
  },
  {
   "cell_type": "code",
   "execution_count": 52,
   "id": "06c8db3e",
   "metadata": {},
   "outputs": [
    {
     "data": {
      "text/plain": [
       "[<matplotlib.lines.Line2D at 0x19184abd040>]"
      ]
     },
     "execution_count": 52,
     "metadata": {},
     "output_type": "execute_result"
    },
    {
     "data": {
      "image/png": "[encoded data removed]",
      "text/plain": [
       "<Figure size 432x288 with 1 Axes>"
      ]
     },
     "metadata": {
      "needs_background": "light"
     },
     "output_type": "display_data"
    }
   ],
   "source": [
    "x = np.linspace(0,20,20)\n",
    "y = np.linspace(0.1,1,20)\n",
    "plt.plot(x,y,'o')"
   ]
  },
  {
   "cell_type": "code",
   "execution_count": 53,
   "id": "cd038873",
   "metadata": {},
   "outputs": [
    {
     "name": "stdout",
     "output_type": "stream",
     "text": [
      "0.0999999993810619\n",
      "1.0\n"
     ]
    },
    {
     "data": {
      "text/plain": [
       "array([ 1.25892541,  1.40400425,  1.565802  ,  1.74624535,  1.94748304,\n",
       "        2.1719114 ,  2.42220294,  2.70133812,  3.0126409 ,  3.35981829,\n",
       "        3.74700446,  4.17881006,  4.66037703,  5.19743987,  5.79639395,\n",
       "        6.46437163,  7.2093272 ,  8.04013161,  8.9666781 , 10.        ])"
      ]
     },
     "execution_count": 53,
     "metadata": {},
     "output_type": "execute_result"
    }
   ],
   "source": [
    "print(np.log10(1.25892541))\n",
    "print(np.log10(10))\n",
    "np.logspace(0.1,1,20)"
   ]
  },
  {
   "cell_type": "code",
   "execution_count": 54,
   "id": "5425f0cb",
   "metadata": {},
   "outputs": [
    {
     "data": {
      "text/plain": [
       "[<matplotlib.lines.Line2D at 0x19184b2c370>]"
      ]
     },
     "execution_count": 54,
     "metadata": {},
     "output_type": "execute_result"
    },
    {
     "data": {
      "image/png": "[encoded data removed]",
      "text/plain": [
       "<Figure size 432x288 with 1 Axes>"
      ]
     },
     "metadata": {
      "needs_background": "light"
     },
     "output_type": "display_data"
    }
   ],
   "source": [
    "x = np.linspace(0,20,20)\n",
    "y = np.logspace(0.1,1,20)\n",
    "plt.plot(x,y,'o')"
   ]
  },
  {
   "cell_type": "markdown",
   "id": "ff3bd7ca",
   "metadata": {},
   "source": [
    "### ndarray 데이터 형태 지정 및 변경\n",
    "<img src = '데이터형태.jpg' STYLE = 'width:700px;'>"
   ]
  },
  {
   "cell_type": "code",
   "execution_count": 63,
   "id": "ff212767",
   "metadata": {},
   "outputs": [
    {
     "name": "stdout",
     "output_type": "stream",
     "text": [
      "int32\n"
     ]
    },
    {
     "data": {
      "text/plain": [
       "dtype('float64')"
      ]
     },
     "execution_count": 63,
     "metadata": {},
     "output_type": "execute_result"
    }
   ],
   "source": [
    "arr = np.array([1,2,3,4,5],)\n",
    "print(arr.dtype)\n",
    "float_arr = arr.astype(np.float64) # 데이터 타입 바꾸기\n",
    "float_arr.dtype"
   ]
  },
  {
   "cell_type": "code",
   "execution_count": 64,
   "id": "934cf508",
   "metadata": {},
   "outputs": [
    {
     "name": "stdout",
     "output_type": "stream",
     "text": [
      "[b'1' b'2' b'3' b'4' b'5'] |S1\n"
     ]
    }
   ],
   "source": [
    "numeric_string = np.array([1,2,3,4,5], dtype='S') # S : 바이트 문자열\n",
    "print(numeric_string, numeric_string.dtype) # 그래서 출력값에 b(바이트)가 나옴"
   ]
  },
  {
   "cell_type": "code",
   "execution_count": 68,
   "id": "b52fbbae",
   "metadata": {},
   "outputs": [
    {
     "name": "stdout",
     "output_type": "stream",
     "text": [
      "[1. 2. 3. 4. 5.] float64\n"
     ]
    }
   ],
   "source": [
    "num = numeric_string.astype(float) # 실수로 바꾸기\n",
    "print(num,num.dtype)"
   ]
  },
  {
   "cell_type": "markdown",
   "id": "fe00c23f",
   "metadata": {},
   "source": [
    "### 과제(7/5)\n",
    "- 두개의 배열을 생성하여 사칙연산을 수행하세요."
   ]
  },
  {
   "cell_type": "code",
   "execution_count": 6,
   "id": "9d30f675",
   "metadata": {},
   "outputs": [
    {
     "name": "stdout",
     "output_type": "stream",
     "text": [
      "[[1 2 3 8]\n",
      " [4 5 6 7]] \n",
      "\n",
      "[[0 1 2 3]\n",
      " [4 5 6 7]] \n",
      "\n",
      "[[ 1  3  5 11]\n",
      " [ 8 10 12 14]]\n",
      "[[-1 -1 -1 -5]\n",
      " [ 0  0  0  0]]\n",
      "[[ 0  2  6 24]\n",
      " [16 25 36 49]]\n",
      "[[0.         0.5        0.66666667 0.375     ]\n",
      " [1.         1.         1.         1.        ]]\n"
     ]
    }
   ],
   "source": [
    "import numpy as np\n",
    "\n",
    "li = [[1,2,3,8],[4,5,6,7]]\n",
    "ar = np.array(li)\n",
    "print(ar, '\\n')\n",
    "\n",
    "li2 = np.arange(8).reshape(2,-1)\n",
    "print(li2, '\\n')\n",
    "\n",
    "print(li2+ar) # 덧셈\n",
    "print(li2-ar) # 뺄셈\n",
    "print(li2*ar) # 곱셈\n",
    "print(li2/ar) # 나눗셈\n"
   ]
  },
  {
   "cell_type": "markdown",
   "id": "7a76238c",
   "metadata": {},
   "source": [
    "뷰(view) : 넘파이의 ndarray(이하 배열)을 슬라이싱할 때 파이썬의 리스트(list)와 다르게 원본의 참조가 생성\n",
    "\n",
    "numpy는 대용량 데이터 처리를 염두에 두고 대용량 데이터의 슬라이싱이 빈번하게 일어나는 복잡한 코드를 실행시키는데 있어서 복사가 남발되면 메모리 문제를 일으킬 소지가 많기 때문에 이렇게 설계\n",
    "\n",
    "- 복사가 아니고 뷰(참조의 개념)이기 때문에 원본이 바뀌면 이 참조본도 따라서 바뀜\n",
    "- 리스트의 슬라이싱에서는 복사본이 생성되는 것과는 다른 동작이기 때문에 주의\n",
    "- 슬라이싱의 복사본을 생성하고 싶다면 copy() 속성을 이용\n",
    "\n",
    "http://taewan.kim/post/numpy_cheat_sheet/\n"
   ]
  },
  {
   "cell_type": "code",
   "execution_count": 104,
   "id": "7898a183",
   "metadata": {},
   "outputs": [
    {
     "name": "stdout",
     "output_type": "stream",
     "text": [
      "[1, 2, 3, 4, 5, 6, 7, 8, 9, 10] \n",
      "\n",
      "[1, 2, 3, 4, 5] \n",
      "\n",
      "[1, 0, 3, 4, 5] \n",
      "\n",
      "[1, 2, 3, 4, 5, 6, 7, 8, 9, 10]\n"
     ]
    }
   ],
   "source": [
    "li = list(np.arange(1,11))\n",
    "print(li,'\\n')\n",
    "\n",
    "li_slice = li[:5]\n",
    "print(li_slice, '\\n')\n",
    "\n",
    "li_slice[1] = 0 # 인덱스. 헷갈리지 않게 주의\n",
    "print(li_slice, '\\n')\n",
    "print(li)"
   ]
  },
  {
   "cell_type": "code",
   "execution_count": 71,
   "id": "8f493034",
   "metadata": {},
   "outputs": [
    {
     "name": "stdout",
     "output_type": "stream",
     "text": [
      "[0 1 2 3 4 5 6 7 8 9] \n",
      "\n",
      "[5 6 7] \n",
      "\n",
      "[12 12 12] \n",
      "\n",
      "[ 0  1  2  3  4 12 12 12  8  9]\n"
     ]
    }
   ],
   "source": [
    "# 뷰는 원본을 변경. 뷰 : 넘파이의 배열을 슬라이싱할때.\n",
    "arr= np.arange(10)\n",
    "print(arr, '\\n')\n",
    "li_slice = arr[5:8]\n",
    "print(li_slice, '\\n')\n",
    "li_slice[:] = 12\n",
    "print(li_slice, '\\n')\n",
    "print(arr)"
   ]
  },
  {
   "cell_type": "markdown",
   "id": "bd5364a6",
   "metadata": {},
   "source": [
    "### 과제(7/5)\n",
    "- Q. array2d에서 슬라이싱을 사용해서 아래와 같이 출력하세요."
   ]
  },
  {
   "cell_type": "code",
   "execution_count": 8,
   "id": "bfdbd536",
   "metadata": {},
   "outputs": [
    {
     "data": {
      "text/plain": [
       "array([[1, 2, 3],\n",
       "       [4, 5, 6],\n",
       "       [7, 8, 9]])"
      ]
     },
     "execution_count": 8,
     "metadata": {},
     "output_type": "execute_result"
    }
   ],
   "source": [
    "arr2d = np.arange(1,10).reshape(3,3)\n",
    "arr2d"
   ]
  },
  {
   "cell_type": "code",
   "execution_count": null,
   "id": "b53a5cb3",
   "metadata": {},
   "outputs": [],
   "source": [
    "# 출력\n",
    "[[1 2]\n",
    "[4 5]]\n",
    "\n",
    "(2가지 방법)\n",
    "[[4 5 6]\n",
    "[7 8 9]]\n",
    "\n",
    "[[1 2 3]\n",
    "[4 5 6]\n",
    "[7 8 9]]\n",
    "\n",
    "[[2 3]\n",
    "[5 6]]\n",
    "\n",
    "[1 4]\n"
   ]
  },
  {
   "cell_type": "code",
   "execution_count": 217,
   "id": "f2154756",
   "metadata": {},
   "outputs": [
    {
     "data": {
      "text/plain": [
       "array([[1, 2],\n",
       "       [4, 5]])"
      ]
     },
     "execution_count": 217,
     "metadata": {},
     "output_type": "execute_result"
    }
   ],
   "source": [
    "arr2d[:2,:2]"
   ]
  },
  {
   "cell_type": "code",
   "execution_count": 10,
   "id": "13ba907e",
   "metadata": {},
   "outputs": [
    {
     "name": "stdout",
     "output_type": "stream",
     "text": [
      "[[4 5 6]\n",
      " [7 8 9]]\n",
      "[[4 5 6]\n",
      " [7 8 9]]\n",
      "[[1 2 3]\n",
      " [4 5 6]\n",
      " [7 8 9]]\n",
      "[[4 5 6]\n",
      " [7 8 9]]\n"
     ]
    }
   ],
   "source": [
    "print(arr2d[1:,]) # 첫째방법\n",
    "print(arr2d[[1,2]]) # 둘째방법\n",
    "print(arr2d)\n",
    "#b = arr2d[1,:]\n",
    "#print(b) # 다른 첫째방법 값이 왜 다르게 나오지? [4,5,6]\n",
    "\n",
    "\n",
    "print(arr2d[arr2d > 3].reshape(-1,3)) # 불린인덱싱,,,"
   ]
  },
  {
   "cell_type": "code",
   "execution_count": 12,
   "id": "8298ccfe",
   "metadata": {},
   "outputs": [
    {
     "name": "stdout",
     "output_type": "stream",
     "text": [
      "[[1 2 3]\n",
      " [4 5 6]\n",
      " [7 8 9]]\n"
     ]
    }
   ],
   "source": [
    "print(arr2d[:]) # 첫째방법"
   ]
  },
  {
   "cell_type": "code",
   "execution_count": 11,
   "id": "3146942c",
   "metadata": {},
   "outputs": [
    {
     "name": "stdout",
     "output_type": "stream",
     "text": [
      "[[2 3]\n",
      " [5 6]]\n"
     ]
    }
   ],
   "source": [
    "print(arr2d[:2,1:])"
   ]
  },
  {
   "cell_type": "code",
   "execution_count": 271,
   "id": "4fecb9a4",
   "metadata": {},
   "outputs": [
    {
     "name": "stdout",
     "output_type": "stream",
     "text": [
      "[1 4]\n"
     ]
    }
   ],
   "source": [
    "print(arr2d[:2,0])\n",
    "# print([arr2d[0,0], arr2d[1,0]]) ?"
   ]
  },
  {
   "cell_type": "markdown",
   "id": "5ccee696",
   "metadata": {},
   "source": [
    "- 배열을 리스트로 변환"
   ]
  },
  {
   "cell_type": "code",
   "execution_count": 74,
   "id": "8d303f5b",
   "metadata": {},
   "outputs": [
    {
     "name": "stdout",
     "output_type": "stream",
     "text": [
      "[[1, 2, 3], [4, 5, 6], [7, 8, 9]] <class 'builtin_function_or_method'>\n"
     ]
    }
   ],
   "source": [
    "print(arr2d.tolist(),type(arr2d.tolist)) # tolist : 리스트로 변환"
   ]
  },
  {
   "cell_type": "markdown",
   "id": "ff51f31c",
   "metadata": {},
   "source": [
    "- boolean indexing"
   ]
  },
  {
   "cell_type": "code",
   "execution_count": 77,
   "id": "5a6f7a84",
   "metadata": {},
   "outputs": [
    {
     "name": "stdout",
     "output_type": "stream",
     "text": [
      "[1 2 3 4 5 6 7 8 9] \n",
      "\n",
      "[6 7 8 9] \n",
      "\n",
      "[False False False False False  True  True  True  True]\n"
     ]
    }
   ],
   "source": [
    "arr1d = np.arange(1,10)\n",
    "print(arr1d, '\\n')\n",
    "arr1 = arr1d[arr1d > 5] # 불린인덱싱\n",
    "print(arr1, '\\n')\n",
    "print(arr1d > 5) # 불린인덱싱 식을 바로 넣으면 참과 거짓을 출력해줌"
   ]
  },
  {
   "cell_type": "code",
   "execution_count": 80,
   "id": "d3a673e9",
   "metadata": {},
   "outputs": [
    {
     "data": {
      "text/plain": [
       "array([6, 7, 8, 9])"
      ]
     },
     "execution_count": 80,
     "metadata": {},
     "output_type": "execute_result"
    }
   ],
   "source": [
    "arr1d[5:] # 일반 인덱싱"
   ]
  },
  {
   "cell_type": "markdown",
   "id": "b4162460",
   "metadata": {},
   "source": [
    "- Q. 1~100까지 정수에서 3의 배수인 것만을 출력(for문과 배열 두가지 방식으로)"
   ]
  },
  {
   "cell_type": "code",
   "execution_count": 87,
   "id": "c8b4da04",
   "metadata": {},
   "outputs": [
    {
     "name": "stdout",
     "output_type": "stream",
     "text": [
      "[3, 6, 9, 12, 15, 18, 21, 24, 27, 30, 33, 36, 39, 42, 45, 48, 51, 54, 57, 60, 63, 66, 69, 72, 75, 78, 81, 84, 87, 90, 93, 96, 99] \n",
      "\n",
      "[ 3  6  9 12 15 18 21 24 27 30 33 36 39 42 45 48 51 54 57 60 63 66 69 72\n",
      " 75 78 81 84 87 90 93 96 99]\n"
     ]
    }
   ],
   "source": [
    "li = []\n",
    "for i in range(1,100+1) :\n",
    "    if i % 3 == 0 :\n",
    "        li.append(i)\n",
    "print(li, '\\n')\n",
    "\n",
    "arrr = np.arange(1,100+1)\n",
    "arrr1 = arrr[arrr % 3 == 0]\n",
    "print(arrr1)"
   ]
  },
  {
   "cell_type": "markdown",
   "id": "6a48d01c",
   "metadata": {},
   "source": [
    "### 과제(7/5)\n",
    "1. 1~100까지 정수에서 5의 배수이면서 2의 배수인 것만을 출력(for문과 배열 두가지 방식)\n",
    "2. 표준정규분포로 구성된 5행5열 다차원 배열을 생성하고 함수를 이용하여 평균과 표준편차를 구하세요.\n",
    "3. 인덱싱을 이용하여 np.arange(10)을 내림차순으로 정렬하세요.\n",
    "4. [1,2,0,0,4,0]에서 zero가 아닌 인덱스를 배열 형태로 출력하세요.\n",
    "5. np.arange(15).reshape(3,5) 배열을 전치하여 출력하세요."
   ]
  },
  {
   "cell_type": "code",
   "execution_count": 88,
   "id": "867af072",
   "metadata": {},
   "outputs": [
    {
     "data": {
      "text/plain": [
       "array([[9, 4, 4, 6, 3],\n",
       "       [8, 7, 1, 9, 6],\n",
       "       [8, 2, 7, 8, 9],\n",
       "       [4, 9, 7, 5, 5],\n",
       "       [7, 2, 5, 1, 5]])"
      ]
     },
     "execution_count": 88,
     "metadata": {},
     "output_type": "execute_result"
    }
   ],
   "source": [
    "arr = np.random.randint(1,10,size=(5,5)) # 정방행렬\n",
    "arr"
   ]
  },
  {
   "cell_type": "code",
   "execution_count": 289,
   "id": "114cfb43",
   "metadata": {},
   "outputs": [
    {
     "name": "stdout",
     "output_type": "stream",
     "text": [
      "[10, 20, 30, 40, 50, 60, 70, 80, 90, 100]\n",
      "[ 10  20  30  40  50  60  70  80  90 100]\n"
     ]
    }
   ],
   "source": [
    "# 1. 1~100까지 정수에서 5의 배수이면서 2의 배수인 것만을 출력(for문과 배열 두가지 방식)\n",
    "a = range(1,100+1)  # np.arange(1,100+1)\n",
    "li = []\n",
    "for i in a :\n",
    "    if i % 5 == 0 | i % 2 == 0 : # if i % 5 == 0 and i % 2 == 0 :\n",
    "        li.append(i)\n",
    "print(li)\n",
    "\n",
    "# 배열\n",
    "b = np.arange(1,100+1)\n",
    "print(b[(b % 5 == 0) & (b % 2 == 0)])\n",
    "\n",
    "# 의문점 : 위는 |고 아래는 &인 이유?"
   ]
  },
  {
   "cell_type": "code",
   "execution_count": 301,
   "id": "00ebc640",
   "metadata": {},
   "outputs": [
    {
     "name": "stdout",
     "output_type": "stream",
     "text": [
      "[ 0.31217418 -0.96534001 -0.00484202 -0.54867506 -0.15953254]\n",
      "[-0.48473164 -0.05270161 -0.14141927 -0.47087549 -0.21648743]\n",
      "[0.89157995 1.07976187 0.89925036 0.34280757 0.91483098]\n",
      "[1.47485808 0.77802798 0.58877904 0.97461951 0.69016441]\n"
     ]
    }
   ],
   "source": [
    "# 2. 표준정규분포로 구성된 5행5열 다차원 배열을 생성하고 함수를 이용하여 평균과 표준편차를 구하세요.\n",
    "data = np.random.randn(5,5)   # randn : 정규분포를 이루는 수들로 5행 5열 뽑은것\n",
    "                              # 평균 0, 0기준 양옆으로 +-값나올수있음\n",
    "# data.describe X. data.info X.\n",
    "\n",
    "data.mean()\n",
    "print(data.mean(axis=0))  # 행방향 평균\n",
    "print(data.mean(axis=1))  # 열방향 평균\n",
    "\n",
    "np.std(data)\n",
    "print(data.std(axis=0))   # 행방향 표준편차\n",
    "print(data.std(axis=1))   # 열방향 표준편차"
   ]
  },
  {
   "cell_type": "code",
   "execution_count": 312,
   "id": "15c6d58b",
   "metadata": {},
   "outputs": [
    {
     "name": "stdout",
     "output_type": "stream",
     "text": [
      "[9 8 7 6 5 4 3 2 1 0]\n"
     ]
    }
   ],
   "source": [
    "# 3. 인덱싱을 이용하여 np.arange(10)을 내림차순으로 정렬하세요.\n",
    "a = np.arange(10)\n",
    "# a.sort_index() : np에서 안됨. sorted(a)도 마찬가지\n",
    "\n",
    "b = np.argsort(a)     #  np에서 정렬\n",
    "print(a[b[::-1]])\n",
    "\n",
    "# https://codetorial.net/tips_and_examples/numpy_argsort.html 참고"
   ]
  },
  {
   "cell_type": "code",
   "execution_count": 14,
   "id": "e6238571",
   "metadata": {},
   "outputs": [
    {
     "name": "stdout",
     "output_type": "stream",
     "text": [
      "[1 2 4]\n",
      "[1 2 4]\n"
     ]
    }
   ],
   "source": [
    "# 4. [1,2,0,0,4,0]에서 zero가 아닌 인덱스를 배열 형태로 출력하세요.\n",
    "a = [1,2,0,0,4,0]\n",
    "li = []\n",
    "for i in a :\n",
    "    if i != 0 :\n",
    "        li.append(i)\n",
    "\n",
    "print(np.array(li))\n",
    "# print(np.zeros((2,3,2))) # 차원, 행, 열\n",
    "\n",
    "# 더 쉽게\n",
    "arr = np.array([1,2,0,0,4,0])\n",
    "print(arr[arr != 0])"
   ]
  },
  {
   "cell_type": "code",
   "execution_count": 327,
   "id": "7a8ecab8",
   "metadata": {},
   "outputs": [
    {
     "name": "stdout",
     "output_type": "stream",
     "text": [
      "[[ 0  1  2  3  4]\n",
      " [ 5  6  7  8  9]\n",
      " [10 11 12 13 14]] \n",
      "\n",
      "[[ 0  5 10]\n",
      " [ 1  6 11]\n",
      " [ 2  7 12]\n",
      " [ 3  8 13]\n",
      " [ 4  9 14]] \n",
      "\n",
      "[[ 0  5 10]\n",
      " [ 1  6 11]\n",
      " [ 2  7 12]\n",
      " [ 3  8 13]\n",
      " [ 4  9 14]]\n"
     ]
    }
   ],
   "source": [
    "# 5. np.arange(15).reshape(3,5) 배열을 전치하여 출력하세요.\n",
    "import numpy as np\n",
    "a = np.arange(15).reshape(3,5)\n",
    "print(a, '\\n')    # a 기본값\n",
    "\n",
    "print(a.T, '\\n')  # 전치 : 데이터프레임.T\n",
    "print(np.transpose(a)) # 다른방법: np.transpose(데이터프레임)"
   ]
  },
  {
   "cell_type": "markdown",
   "id": "29410337",
   "metadata": {},
   "source": [
    "- 전치행렬"
   ]
  },
  {
   "cell_type": "code",
   "execution_count": 90,
   "id": "faf2f3ef",
   "metadata": {},
   "outputs": [
    {
     "data": {
      "text/plain": [
       "array([[9, 8, 8, 4, 7],\n",
       "       [4, 7, 2, 9, 2],\n",
       "       [4, 1, 7, 7, 5],\n",
       "       [6, 9, 8, 5, 1],\n",
       "       [3, 6, 9, 5, 5]])"
      ]
     },
     "execution_count": 90,
     "metadata": {},
     "output_type": "execute_result"
    }
   ],
   "source": [
    "# 전치행렬 만들기\n",
    "# arr.T 같은방법\n",
    "np.transpose(arr)"
   ]
  },
  {
   "cell_type": "markdown",
   "id": "c13a9915",
   "metadata": {},
   "source": [
    "- np.dot(행렬1, 행렬2) : 행렬의 곱"
   ]
  },
  {
   "cell_type": "code",
   "execution_count": 91,
   "id": "ac6f850a",
   "metadata": {},
   "outputs": [
    {
     "data": {
      "text/plain": [
       "array([[158, 176, 183, 145, 112],\n",
       "       [176, 231, 211, 177, 114],\n",
       "       [183, 211, 262, 184, 148],\n",
       "       [145, 177, 184, 196, 111],\n",
       "       [112, 114, 148, 111, 104]])"
      ]
     },
     "execution_count": 91,
     "metadata": {},
     "output_type": "execute_result"
    }
   ],
   "source": [
    "np.dot(arr, arr.T) # 행렬의 곱"
   ]
  },
  {
   "cell_type": "code",
   "execution_count": 94,
   "id": "bb730dfa",
   "metadata": {},
   "outputs": [
    {
     "data": {
      "text/plain": [
       "array([[158, 176, 183, 145, 112],\n",
       "       [176, 231, 211, 177, 114],\n",
       "       [183, 211, 262, 184, 148],\n",
       "       [145, 177, 184, 196, 111],\n",
       "       [112, 114, 148, 111, 104]])"
      ]
     },
     "execution_count": 94,
     "metadata": {},
     "output_type": "execute_result"
    }
   ],
   "source": [
    "np.matmul(arr,arr.T) # 역시 곱하는 식"
   ]
  },
  {
   "cell_type": "code",
   "execution_count": 103,
   "id": "4694c506",
   "metadata": {},
   "outputs": [
    {
     "name": "stdout",
     "output_type": "stream",
     "text": [
      "[[0 1 2]\n",
      " [3 4 5]] (2, 3) \n",
      "\n",
      "[[0 3]\n",
      " [1 4]\n",
      " [2 5]] (3, 2) \n",
      "\n",
      "[[0 3]\n",
      " [1 4]\n",
      " [2 5]] (3, 2) \n",
      "\n",
      "[[0 3]\n",
      " [1 4]\n",
      " [2 5]] (3, 2)\n"
     ]
    }
   ],
   "source": [
    "a = np.arange(6).reshape(2,3)\n",
    "print(a,a.shape, '\\n')\n",
    "y = np.swapaxes(a,0,1) # 2행3열이던 a를 3행2열로 스왑해줌.\n",
    "print(y,y.shape, '\\n')\n",
    "y = np.transpose(a)   # 역시나 행과 열을 바꾸는 함수\n",
    "print(y, y.shape, '\\n')\n",
    "y = a.T               # 같음\n",
    "print(y,y.shape)"
   ]
  },
  {
   "cell_type": "code",
   "execution_count": 109,
   "id": "9ea66c5d",
   "metadata": {},
   "outputs": [
    {
     "data": {
      "text/plain": [
       "array([[[0, 1, 2],\n",
       "        [3, 4, 5]]])"
      ]
     },
     "execution_count": 109,
     "metadata": {},
     "output_type": "execute_result"
    }
   ],
   "source": [
    "# (0,1,2) \n",
    "a = np.arange(6).reshape(1,2,3) # 3차원.\n",
    "a"
   ]
  },
  {
   "cell_type": "code",
   "execution_count": 154,
   "id": "2043d17a",
   "metadata": {},
   "outputs": [
    {
     "name": "stdout",
     "output_type": "stream",
     "text": [
      "[[[0 1 2]]\n",
      "\n",
      " [[3 4 5]]] (2, 1, 3) \n",
      "\n",
      "[[[0 1 2]]\n",
      "\n",
      " [[3 4 5]]] (2, 1, 3)\n"
     ]
    }
   ],
   "source": [
    "# 3차원과 2차원을 바꾸라는 의미(1,2,3) -> (2,1,3)\n",
    "# https://jimmy-ai.tistory.com/207 참조\n",
    "\n",
    "# swapaxes : (0,1,2)  >> axis = 0은 3차원 축, axis = 1은 2차원 축, axis = 2는 1차원 축이다.\n",
    "\n",
    "y = np.transpose(a,(1,0,2)) # 위에 식에서 (0,1,2) 이므로 3차원과 2차원을 바꾸려면 (1,0,2)를 넣어주면됨\n",
    "print(y, y.shape, '\\n')     # np.transpose : 3차원 행렬 적용\n",
    "\n",
    "y = np.swapaxes(a,0,1)  # np.swapaxes : 행과 열을 바꿈. 2차원 행렬 적용.\n",
    "print(y, y.shape)       # 0은 가장 높은 차수의 축. 2차원, 1은 그다음 높은 차수의 축. 1차원"
   ]
  },
  {
   "cell_type": "markdown",
   "id": "cba9c7c0",
   "metadata": {},
   "source": [
    "### 과제(7/5)\n",
    "- (1,2,3)  ->  (2,3,1)로 차원을 변경하세요.(transpose, swapaxes)"
   ]
  },
  {
   "cell_type": "code",
   "execution_count": 161,
   "id": "92480fac",
   "metadata": {},
   "outputs": [
    {
     "name": "stdout",
     "output_type": "stream",
     "text": [
      "[[[0 1 2]\n",
      "  [3 4 5]]] (1, 2, 3) \n",
      "\n",
      "[[[0]\n",
      "  [1]\n",
      "  [2]]\n",
      "\n",
      " [[3]\n",
      "  [4]\n",
      "  [5]]] (2, 3, 1) \n",
      "\n",
      "[[[0]\n",
      "  [1]\n",
      "  [2]]\n",
      "\n",
      " [[3]\n",
      "  [4]\n",
      "  [5]]] (2, 3, 1)\n"
     ]
    }
   ],
   "source": [
    "a = np.arange(6).reshape(1,2,3)\n",
    "print(a,a.shape,'\\n')\n",
    "\n",
    "b = np.transpose(a,(1,2,0))\n",
    "print(b, b.shape, '\\n')\n",
    "\n",
    "c = np.swapaxes(a,0,1) # 두개 바꾸기\n",
    "d = np.swapaxes(c,1,2)\n",
    "print(d, d.shape)"
   ]
  },
  {
   "cell_type": "markdown",
   "id": "6759c711",
   "metadata": {},
   "source": [
    "- 역행렬 : 어떤 행렬 A와 곱했을 때 곱셈에 대한 항등원인 단위행렬(항등행렬)(1 0 / 0 1) E가 나오는 행렬을 행렬A의 역행렬이라 함(역행렬이 다있는건아님)"
   ]
  },
  {
   "cell_type": "code",
   "execution_count": 106,
   "id": "45d6aaa7",
   "metadata": {},
   "outputs": [
    {
     "name": "stdout",
     "output_type": "stream",
     "text": [
      "[[1 2 1]\n",
      " [2 2 3]\n",
      " [1 3 1]] \n",
      "\n",
      "[[ 7. -1. -4.]\n",
      " [-1.  0.  1.]\n",
      " [-4.  1.  2.]]\n"
     ]
    }
   ],
   "source": [
    "np.random.seed(0) # 랜덤값 고정\n",
    "\n",
    "mt1 = np.random.randint(1,4,size=(3,3))\n",
    "print(mt1, '\\n')\n",
    "\n",
    "mt2 = np.linalg.inv(mt1) # inv(erse) : 역\n",
    "print(mt2)"
   ]
  },
  {
   "cell_type": "markdown",
   "id": "fa5359f3",
   "metadata": {},
   "source": [
    "- 항등행렬"
   ]
  },
  {
   "cell_type": "code",
   "execution_count": 107,
   "id": "98a63704",
   "metadata": {},
   "outputs": [
    {
     "data": {
      "text/plain": [
       "array([[1., 0., 0.],\n",
       "       [0., 1., 0.],\n",
       "       [0., 0., 1.]])"
      ]
     },
     "execution_count": 107,
     "metadata": {},
     "output_type": "execute_result"
    }
   ],
   "source": [
    "np.dot(mt1,mt2) # 행렬, 역행렬의 곱 = 항등행렬"
   ]
  },
  {
   "cell_type": "markdown",
   "id": "5e5cf06a",
   "metadata": {},
   "source": [
    "###  numpy  제공 함수"
   ]
  },
  {
   "cell_type": "code",
   "execution_count": 117,
   "id": "44f50e4b",
   "metadata": {},
   "outputs": [
    {
     "name": "stdout",
     "output_type": "stream",
     "text": [
      "[[1 2 3]\n",
      " [4 5 6]\n",
      " [7 8 9]] \n",
      "\n",
      "[ 1  3  6 10 15 21 28 36 45] \n",
      "\n"
     ]
    }
   ],
   "source": [
    "arr = np.arange(1,10).reshape(3,3)\n",
    "print(arr,'\\n')\n",
    "print(arr.cumsum(), '\\n') # cumsum : 누적합계"
   ]
  },
  {
   "cell_type": "code",
   "execution_count": 119,
   "id": "4baca397",
   "metadata": {},
   "outputs": [
    {
     "name": "stdout",
     "output_type": "stream",
     "text": [
      "[[ 1  2  3]\n",
      " [ 5  7  9]\n",
      " [12 15 18]]\n"
     ]
    }
   ],
   "source": [
    "print(arr.cumsum(axis=0)) # 행의 방향으로 누적합계"
   ]
  },
  {
   "cell_type": "code",
   "execution_count": 120,
   "id": "5aeb94b0",
   "metadata": {},
   "outputs": [
    {
     "name": "stdout",
     "output_type": "stream",
     "text": [
      "[  6 120 504]\n"
     ]
    }
   ],
   "source": [
    "print(arr.prod(axis=1)) # prod : "
   ]
  },
  {
   "cell_type": "code",
   "execution_count": 121,
   "id": "f2835822",
   "metadata": {},
   "outputs": [
    {
     "name": "stdout",
     "output_type": "stream",
     "text": [
      "[[  1   2   6]\n",
      " [  4  20 120]\n",
      " [  7  56 504]]\n"
     ]
    }
   ],
   "source": [
    "print(arr.cumprod(axis=1)) # 누적곱"
   ]
  },
  {
   "cell_type": "markdown",
   "id": "2b3b4bc3",
   "metadata": {},
   "source": [
    "- 나머지 구하기"
   ]
  },
  {
   "cell_type": "code",
   "execution_count": 123,
   "id": "ae95ce09",
   "metadata": {},
   "outputs": [
    {
     "name": "stdout",
     "output_type": "stream",
     "text": [
      "[1 2 0] \n",
      "\n",
      "[1 2 0]\n"
     ]
    }
   ],
   "source": [
    "v1 = np.array([15,30,45])\n",
    "v2 = np.array([2,7,9])\n",
    "print(np.mod(v1,v2),'\\n')\n",
    "print(np.remainder(v1,v2))"
   ]
  },
  {
   "cell_type": "markdown",
   "id": "00660115",
   "metadata": {},
   "source": [
    "- 역수"
   ]
  },
  {
   "cell_type": "code",
   "execution_count": 124,
   "id": "7631cece",
   "metadata": {},
   "outputs": [
    {
     "name": "stdout",
     "output_type": "stream",
     "text": [
      "[1.17647059 0.54054054 1.         0.01      ]\n"
     ]
    }
   ],
   "source": [
    "value = np.array([0.85,1.85,1,100])\n",
    "print(np.reciprocal(value)) # 넣은값의 역수를 반환"
   ]
  },
  {
   "cell_type": "markdown",
   "id": "2d191455",
   "metadata": {},
   "source": [
    "- 승수"
   ]
  },
  {
   "cell_type": "code",
   "execution_count": 126,
   "id": "0012241d",
   "metadata": {},
   "outputs": [
    {
     "name": "stdout",
     "output_type": "stream",
     "text": [
      "[  4 100 225] \n",
      "\n",
      "[   2  100 3375]\n"
     ]
    }
   ],
   "source": [
    "v1 = np.array([2,10,15])\n",
    "v2 = np.array([1,2,3])\n",
    "print(np.power(v1,2), '\\n') # 배열의 제곱\n",
    "print(np.power(v1,v2))"
   ]
  },
  {
   "cell_type": "code",
   "execution_count": 127,
   "id": "2a868ecb",
   "metadata": {},
   "outputs": [
    {
     "data": {
      "text/plain": [
       "array([-0.10321885,  0.4105985 ,  0.14404357,  1.45427351,  0.76103773,\n",
       "        0.12167502,  0.44386323,  0.33367433,  1.49407907, -0.20515826])"
      ]
     },
     "execution_count": 127,
     "metadata": {},
     "output_type": "execute_result"
    }
   ],
   "source": [
    "arr = np.random.randn(10) # 정규분포\n",
    "arr"
   ]
  },
  {
   "cell_type": "code",
   "execution_count": 129,
   "id": "f72ae7c6",
   "metadata": {},
   "outputs": [
    {
     "data": {
      "text/plain": [
       "8"
      ]
     },
     "execution_count": 129,
     "metadata": {},
     "output_type": "execute_result"
    }
   ],
   "source": [
    "# 양수인 원소의 개수\n",
    "(arr > 0).sum() # arr값중 0보다 큰값 개수"
   ]
  },
  {
   "cell_type": "markdown",
   "id": "7b6354b2",
   "metadata": {},
   "source": [
    "- any 메서드"
   ]
  },
  {
   "cell_type": "code",
   "execution_count": 130,
   "id": "619871df",
   "metadata": {},
   "outputs": [
    {
     "data": {
      "text/plain": [
       "True"
      ]
     },
     "execution_count": 130,
     "metadata": {},
     "output_type": "execute_result"
    }
   ],
   "source": [
    "bools = np.array([False, False, True, True])\n",
    "bools.any() # .any : 어떤값 하나라도 참이면 참을 줌"
   ]
  },
  {
   "cell_type": "code",
   "execution_count": 132,
   "id": "1180df32",
   "metadata": {},
   "outputs": [
    {
     "data": {
      "text/plain": [
       "False"
      ]
     },
     "execution_count": 132,
     "metadata": {},
     "output_type": "execute_result"
    }
   ],
   "source": [
    "bools.all() # all은 전부 참이어야함"
   ]
  },
  {
   "cell_type": "markdown",
   "id": "96e4444d",
   "metadata": {},
   "source": [
    "- numpy.where"
   ]
  },
  {
   "cell_type": "code",
   "execution_count": 134,
   "id": "b939c8fd",
   "metadata": {},
   "outputs": [
    {
     "name": "stdout",
     "output_type": "stream",
     "text": [
      "[[-0.34791215  0.15634897  1.23029068  1.20237985]\n",
      " [-0.38732682 -0.30230275 -1.04855297 -1.42001794]\n",
      " [-1.70627019  1.9507754  -0.50965218 -0.4380743 ]\n",
      " [-1.25279536  0.77749036 -1.61389785 -0.21274028]] \n",
      "\n"
     ]
    },
    {
     "data": {
      "text/plain": [
       "array([[-2,  2,  2,  2],\n",
       "       [-2, -2, -2, -2],\n",
       "       [-2,  2, -2, -2],\n",
       "       [-2,  2, -2, -2]])"
      ]
     },
     "execution_count": 134,
     "metadata": {},
     "output_type": "execute_result"
    }
   ],
   "source": [
    "# numpy.where 함수는 삼항식(=조건이3개)의 벡터화 버전\n",
    "arr = np.random.randn(4,4)\n",
    "print(arr, '\\n')\n",
    "np.where(arr>0, 2, -2) # 0보다 크면 2로 바꾸고 아니면 -2"
   ]
  },
  {
   "cell_type": "code",
   "execution_count": 136,
   "id": "f30b2c39",
   "metadata": {},
   "outputs": [
    {
     "data": {
      "text/plain": [
       "array([[-0.34791215,  2.        ,  2.        ,  2.        ],\n",
       "       [-0.38732682, -0.30230275, -1.04855297, -1.42001794],\n",
       "       [-1.70627019,  2.        , -0.50965218, -0.4380743 ],\n",
       "       [-1.25279536,  2.        , -1.61389785, -0.21274028]])"
      ]
     },
     "execution_count": 136,
     "metadata": {},
     "output_type": "execute_result"
    }
   ],
   "source": [
    "# Q. arr의 모든 양수를 2로 변경하세요.\n",
    "np.where(arr>0, 2, arr)"
   ]
  },
  {
   "cell_type": "markdown",
   "id": "72ea37ee",
   "metadata": {},
   "source": [
    "- meshgrid 함수 : 두개의 1차원 배열을 받아서 가능한 모든 (x,y) 짝을 만들 수 있는 2차원 배열 반환"
   ]
  },
  {
   "cell_type": "code",
   "execution_count": 137,
   "id": "5bdbf97e",
   "metadata": {},
   "outputs": [
    {
     "name": "stdout",
     "output_type": "stream",
     "text": [
      "[[1 2 3]\n",
      " [1 2 3]\n",
      " [1 2 3]] \n",
      "\n",
      "[[1 1 1]\n",
      " [2 2 2]\n",
      " [3 3 3]]\n"
     ]
    }
   ],
   "source": [
    "x = np.arange(1,4)\n",
    "y = np.arange(1,4)\n",
    "xs,ys = np.meshgrid(x,y)\n",
    "print(xs, '\\n')\n",
    "print(ys)"
   ]
  },
  {
   "cell_type": "markdown",
   "id": "7e7a247c",
   "metadata": {},
   "source": [
    "- np.sort() : 복사본을 반환"
   ]
  },
  {
   "cell_type": "code",
   "execution_count": 139,
   "id": "bf5819eb",
   "metadata": {},
   "outputs": [
    {
     "name": "stdout",
     "output_type": "stream",
     "text": [
      "[96 70 95  1 51 37 35 49 94  4] \n",
      "\n",
      "[ 1  4 35 37 49 51 70 94 95 96] \n",
      "\n",
      "[96 70 95  1 51 37 35 49 94  4]\n"
     ]
    }
   ],
   "source": [
    "arr = np.random.randint(1,100, size=10)\n",
    "print(arr,'\\n')\n",
    "print(np.sort(arr), '\\n')\n",
    "print(arr)                 # 원본은 바뀌지 않음"
   ]
  },
  {
   "cell_type": "code",
   "execution_count": 142,
   "id": "cce48918",
   "metadata": {},
   "outputs": [
    {
     "data": {
      "text/plain": [
       "array([ 1,  4, 35, 37, 49, 51, 70, 94, 95, 96])"
      ]
     },
     "execution_count": 142,
     "metadata": {},
     "output_type": "execute_result"
    }
   ],
   "source": [
    "sorted = np.sort(arr)\n",
    "sorted"
   ]
  },
  {
   "cell_type": "markdown",
   "id": "2cd59380",
   "metadata": {},
   "source": [
    "- np.sort : 원본에 반영 안됨"
   ]
  },
  {
   "cell_type": "code",
   "execution_count": 144,
   "id": "5bae29bd",
   "metadata": {},
   "outputs": [
    {
     "name": "stdout",
     "output_type": "stream",
     "text": [
      "[[ 7  1]\n",
      " [ 8 12]] \n",
      "\n",
      "[[ 8 12]\n",
      " [ 1  7]]\n"
     ]
    }
   ],
   "source": [
    "arr2d = np.array([[8,12], [7,1]]) # 2차원 배열\n",
    "sort_arr2d_s0 = np.sort(arr2d, axis=0) # 행방향\n",
    "print(sort_arr2d_s0, '\\n')\n",
    "\n",
    "sort_arr2d_s1 = np.sort(arr2d, axis=1) # 열방향\n",
    "print(sort_arr2d_s1)"
   ]
  },
  {
   "cell_type": "markdown",
   "id": "55ff251a",
   "metadata": {},
   "source": [
    "- ndarray.sort() : 원본 반영"
   ]
  },
  {
   "cell_type": "code",
   "execution_count": 146,
   "id": "581a0009",
   "metadata": {},
   "outputs": [
    {
     "name": "stdout",
     "output_type": "stream",
     "text": [
      "[-0.35362786 -0.74074747 -0.67502183 -0.13278426  0.61980106  1.79116846] \n",
      "\n"
     ]
    },
    {
     "data": {
      "text/plain": [
       "array([-0.74074747, -0.67502183, -0.35362786, -0.13278426,  0.61980106,\n",
       "        1.79116846])"
      ]
     },
     "execution_count": 146,
     "metadata": {},
     "output_type": "execute_result"
    }
   ],
   "source": [
    "arr = np.random.randn(6)\n",
    "print(arr, '\\n')\n",
    "arr.sort()\n",
    "arr"
   ]
  },
  {
   "cell_type": "code",
   "execution_count": 149,
   "id": "94cf9632",
   "metadata": {},
   "outputs": [
    {
     "name": "stdout",
     "output_type": "stream",
     "text": [
      "[[ 6.06389001e-01  1.76084071e-03 -9.90160143e-01]\n",
      " [ 1.87239408e+00 -2.41073590e-01  5.33449070e-02]\n",
      " [ 1.03081595e+00 -1.27698899e+00  8.37719765e-01]\n",
      " [-1.49011141e+00 -1.07021500e+00 -2.09128617e-01]\n",
      " [ 6.04572277e-01 -1.74305823e+00  1.52422681e+00]] \n",
      "\n"
     ]
    },
    {
     "data": {
      "text/plain": [
       "array([[-1.49011141e+00, -1.74305823e+00, -9.90160143e-01],\n",
       "       [ 6.04572277e-01, -1.27698899e+00, -2.09128617e-01],\n",
       "       [ 6.06389001e-01, -1.07021500e+00,  5.33449070e-02],\n",
       "       [ 1.03081595e+00, -2.41073590e-01,  8.37719765e-01],\n",
       "       [ 1.87239408e+00,  1.76084071e-03,  1.52422681e+00]])"
      ]
     },
     "execution_count": 149,
     "metadata": {},
     "output_type": "execute_result"
    }
   ],
   "source": [
    "# 디폴트는 열기준으로 정렬\n",
    "arr = np.random.randn(5,3)\n",
    "print(arr, '\\n')\n",
    "arr.sort(0)  # 행방향, 열방향: (1), 디폴트\n",
    "arr"
   ]
  },
  {
   "cell_type": "code",
   "execution_count": 152,
   "id": "a4d0d27e",
   "metadata": {},
   "outputs": [
    {
     "name": "stdout",
     "output_type": "stream",
     "text": [
      "[3 1 9 5] \n",
      "\n",
      "[1 0 3 2]\n"
     ]
    }
   ],
   "source": [
    "# 정렬된 행렬의 인덱스 반환 : 기존 원본 행렬의 원소에 대한 인덱스를 필요로 할 때\n",
    "org_array = np.array([3,1,9,5])\n",
    "sort_indices = np.argsort(org_array)\n",
    "print(org_array, '\\n')\n",
    "print(sort_indices)  # 원래 데이터 값에 상응하는 인덱스 번호를 보여줌"
   ]
  },
  {
   "cell_type": "markdown",
   "id": "66a360dd",
   "metadata": {},
   "source": [
    "### 과제(7/5)\n",
    "- Q21. Q20의 df에서 drop_duplicates() 메소드를 사용하여 c2, c3열을 기준으로 중복 행을 제거한 후 df3에 저장하고 출력하세요.\n",
    "- Q33. './dataset/stock-data.csv'를 데이터프레임으로 불러와서 datetime64 자료형으로 변환한 후에 년, 월, 일로 분리하고 year를 인덱스로 셋팅하여 출력하세요.\n",
    "- Q34. './dataset/stock-data.csv'를 데이터프레임으로 불러와서 datetime64 자료형으로 변환한 후에 Period로 변환하고 년월일을 표기 변경하여 년월로, 인덱스로 셋팅하여 출력하세요."
   ]
  },
  {
   "cell_type": "code",
   "execution_count": 1,
   "id": "1cf26da7",
   "metadata": {},
   "outputs": [
    {
     "data": {
      "text/html": [
       "<div>\n",
       "<style scoped>\n",
       "    .dataframe tbody tr th:only-of-type {\n",
       "        vertical-align: middle;\n",
       "    }\n",
       "\n",
       "    .dataframe tbody tr th {\n",
       "        vertical-align: top;\n",
       "    }\n",
       "\n",
       "    .dataframe thead th {\n",
       "        text-align: right;\n",
       "    }\n",
       "</style>\n",
       "<table border=\"1\" class=\"dataframe\">\n",
       "  <thead>\n",
       "    <tr style=\"text-align: right;\">\n",
       "      <th></th>\n",
       "      <th>c1</th>\n",
       "      <th>c2</th>\n",
       "      <th>c3</th>\n",
       "    </tr>\n",
       "  </thead>\n",
       "  <tbody>\n",
       "    <tr>\n",
       "      <th>0</th>\n",
       "      <td>a</td>\n",
       "      <td>1</td>\n",
       "      <td>1</td>\n",
       "    </tr>\n",
       "    <tr>\n",
       "      <th>1</th>\n",
       "      <td>a</td>\n",
       "      <td>1</td>\n",
       "      <td>1</td>\n",
       "    </tr>\n",
       "    <tr>\n",
       "      <th>2</th>\n",
       "      <td>b</td>\n",
       "      <td>1</td>\n",
       "      <td>2</td>\n",
       "    </tr>\n",
       "    <tr>\n",
       "      <th>3</th>\n",
       "      <td>a</td>\n",
       "      <td>2</td>\n",
       "      <td>2</td>\n",
       "    </tr>\n",
       "    <tr>\n",
       "      <th>4</th>\n",
       "      <td>b</td>\n",
       "      <td>2</td>\n",
       "      <td>2</td>\n",
       "    </tr>\n",
       "  </tbody>\n",
       "</table>\n",
       "</div>"
      ],
      "text/plain": [
       "  c1  c2  c3\n",
       "0  a   1   1\n",
       "1  a   1   1\n",
       "2  b   1   2\n",
       "3  a   2   2\n",
       "4  b   2   2"
      ]
     },
     "execution_count": 1,
     "metadata": {},
     "output_type": "execute_result"
    }
   ],
   "source": [
    "# Q21. Q20의 df\n",
    "import pandas as pd\n",
    "df = pd.DataFrame({'c1':['a', 'a', 'b', 'a', 'b'],\n",
    "                  'c2':[1, 1, 1, 2, 2],\n",
    "                  'c3':[1, 1, 2, 2, 2]})\n",
    "df"
   ]
  },
  {
   "cell_type": "code",
   "execution_count": 3,
   "id": "d0e37aef",
   "metadata": {},
   "outputs": [
    {
     "data": {
      "text/plain": [
       "0    False\n",
       "1     True\n",
       "2    False\n",
       "3    False\n",
       "4     True\n",
       "dtype: bool"
      ]
     },
     "execution_count": 3,
     "metadata": {},
     "output_type": "execute_result"
    }
   ],
   "source": [
    "df.duplicated(('c2','c3')) #중복행 찾기"
   ]
  },
  {
   "cell_type": "code",
   "execution_count": 4,
   "id": "3e8cb26f",
   "metadata": {},
   "outputs": [
    {
     "data": {
      "text/html": [
       "<div>\n",
       "<style scoped>\n",
       "    .dataframe tbody tr th:only-of-type {\n",
       "        vertical-align: middle;\n",
       "    }\n",
       "\n",
       "    .dataframe tbody tr th {\n",
       "        vertical-align: top;\n",
       "    }\n",
       "\n",
       "    .dataframe thead th {\n",
       "        text-align: right;\n",
       "    }\n",
       "</style>\n",
       "<table border=\"1\" class=\"dataframe\">\n",
       "  <thead>\n",
       "    <tr style=\"text-align: right;\">\n",
       "      <th></th>\n",
       "      <th>c1</th>\n",
       "      <th>c2</th>\n",
       "      <th>c3</th>\n",
       "    </tr>\n",
       "  </thead>\n",
       "  <tbody>\n",
       "    <tr>\n",
       "      <th>0</th>\n",
       "      <td>a</td>\n",
       "      <td>1</td>\n",
       "      <td>1</td>\n",
       "    </tr>\n",
       "    <tr>\n",
       "      <th>2</th>\n",
       "      <td>b</td>\n",
       "      <td>1</td>\n",
       "      <td>2</td>\n",
       "    </tr>\n",
       "    <tr>\n",
       "      <th>3</th>\n",
       "      <td>a</td>\n",
       "      <td>2</td>\n",
       "      <td>2</td>\n",
       "    </tr>\n",
       "  </tbody>\n",
       "</table>\n",
       "</div>"
      ],
      "text/plain": [
       "  c1  c2  c3\n",
       "0  a   1   1\n",
       "2  b   1   2\n",
       "3  a   2   2"
      ]
     },
     "execution_count": 4,
     "metadata": {},
     "output_type": "execute_result"
    }
   ],
   "source": [
    "df3 = df.drop_duplicates(['c2','c3'])   # 여러 열 지정하려면 그냥 리스트로 묶고 열이름 기입해주면됨\n",
    "# df3 = df.drop_duplicates(subset = 'c2','c3')\n",
    "df3"
   ]
  },
  {
   "cell_type": "code",
   "execution_count": 6,
   "id": "97bc7646",
   "metadata": {},
   "outputs": [
    {
     "data": {
      "text/html": [
       "<div>\n",
       "<style scoped>\n",
       "    .dataframe tbody tr th:only-of-type {\n",
       "        vertical-align: middle;\n",
       "    }\n",
       "\n",
       "    .dataframe tbody tr th {\n",
       "        vertical-align: top;\n",
       "    }\n",
       "\n",
       "    .dataframe thead th {\n",
       "        text-align: right;\n",
       "    }\n",
       "</style>\n",
       "<table border=\"1\" class=\"dataframe\">\n",
       "  <thead>\n",
       "    <tr style=\"text-align: right;\">\n",
       "      <th></th>\n",
       "      <th>Date</th>\n",
       "      <th>Close</th>\n",
       "      <th>Start</th>\n",
       "      <th>High</th>\n",
       "      <th>Low</th>\n",
       "      <th>Volume</th>\n",
       "    </tr>\n",
       "  </thead>\n",
       "  <tbody>\n",
       "    <tr>\n",
       "      <th>0</th>\n",
       "      <td>2018-07-02</td>\n",
       "      <td>10100</td>\n",
       "      <td>10850</td>\n",
       "      <td>10900</td>\n",
       "      <td>10000</td>\n",
       "      <td>137977</td>\n",
       "    </tr>\n",
       "    <tr>\n",
       "      <th>1</th>\n",
       "      <td>2018-06-29</td>\n",
       "      <td>10700</td>\n",
       "      <td>10550</td>\n",
       "      <td>10900</td>\n",
       "      <td>9990</td>\n",
       "      <td>170253</td>\n",
       "    </tr>\n",
       "    <tr>\n",
       "      <th>2</th>\n",
       "      <td>2018-06-28</td>\n",
       "      <td>10400</td>\n",
       "      <td>10900</td>\n",
       "      <td>10950</td>\n",
       "      <td>10150</td>\n",
       "      <td>155769</td>\n",
       "    </tr>\n",
       "    <tr>\n",
       "      <th>3</th>\n",
       "      <td>2018-06-27</td>\n",
       "      <td>10900</td>\n",
       "      <td>10800</td>\n",
       "      <td>11050</td>\n",
       "      <td>10500</td>\n",
       "      <td>133548</td>\n",
       "    </tr>\n",
       "    <tr>\n",
       "      <th>4</th>\n",
       "      <td>2018-06-26</td>\n",
       "      <td>10800</td>\n",
       "      <td>10900</td>\n",
       "      <td>11000</td>\n",
       "      <td>10700</td>\n",
       "      <td>63039</td>\n",
       "    </tr>\n",
       "    <tr>\n",
       "      <th>5</th>\n",
       "      <td>2018-06-25</td>\n",
       "      <td>11150</td>\n",
       "      <td>11400</td>\n",
       "      <td>11450</td>\n",
       "      <td>11000</td>\n",
       "      <td>55519</td>\n",
       "    </tr>\n",
       "    <tr>\n",
       "      <th>6</th>\n",
       "      <td>2018-06-22</td>\n",
       "      <td>11300</td>\n",
       "      <td>11250</td>\n",
       "      <td>11450</td>\n",
       "      <td>10750</td>\n",
       "      <td>134805</td>\n",
       "    </tr>\n",
       "    <tr>\n",
       "      <th>7</th>\n",
       "      <td>2018-06-21</td>\n",
       "      <td>11200</td>\n",
       "      <td>11350</td>\n",
       "      <td>11750</td>\n",
       "      <td>11200</td>\n",
       "      <td>133002</td>\n",
       "    </tr>\n",
       "    <tr>\n",
       "      <th>8</th>\n",
       "      <td>2018-06-20</td>\n",
       "      <td>11550</td>\n",
       "      <td>11200</td>\n",
       "      <td>11600</td>\n",
       "      <td>10900</td>\n",
       "      <td>308596</td>\n",
       "    </tr>\n",
       "    <tr>\n",
       "      <th>9</th>\n",
       "      <td>2018-06-19</td>\n",
       "      <td>11300</td>\n",
       "      <td>11850</td>\n",
       "      <td>11950</td>\n",
       "      <td>11300</td>\n",
       "      <td>180656</td>\n",
       "    </tr>\n",
       "    <tr>\n",
       "      <th>10</th>\n",
       "      <td>2018-06-18</td>\n",
       "      <td>12000</td>\n",
       "      <td>13400</td>\n",
       "      <td>13400</td>\n",
       "      <td>12000</td>\n",
       "      <td>309787</td>\n",
       "    </tr>\n",
       "    <tr>\n",
       "      <th>11</th>\n",
       "      <td>2018-06-15</td>\n",
       "      <td>13400</td>\n",
       "      <td>13600</td>\n",
       "      <td>13600</td>\n",
       "      <td>12900</td>\n",
       "      <td>201376</td>\n",
       "    </tr>\n",
       "    <tr>\n",
       "      <th>12</th>\n",
       "      <td>2018-06-14</td>\n",
       "      <td>13450</td>\n",
       "      <td>13200</td>\n",
       "      <td>13700</td>\n",
       "      <td>13150</td>\n",
       "      <td>347451</td>\n",
       "    </tr>\n",
       "    <tr>\n",
       "      <th>13</th>\n",
       "      <td>2018-06-12</td>\n",
       "      <td>13200</td>\n",
       "      <td>12200</td>\n",
       "      <td>13300</td>\n",
       "      <td>12050</td>\n",
       "      <td>558148</td>\n",
       "    </tr>\n",
       "    <tr>\n",
       "      <th>14</th>\n",
       "      <td>2018-06-11</td>\n",
       "      <td>11950</td>\n",
       "      <td>12000</td>\n",
       "      <td>12250</td>\n",
       "      <td>11950</td>\n",
       "      <td>62293</td>\n",
       "    </tr>\n",
       "    <tr>\n",
       "      <th>15</th>\n",
       "      <td>2018-06-08</td>\n",
       "      <td>11950</td>\n",
       "      <td>11950</td>\n",
       "      <td>12200</td>\n",
       "      <td>11800</td>\n",
       "      <td>59258</td>\n",
       "    </tr>\n",
       "    <tr>\n",
       "      <th>16</th>\n",
       "      <td>2018-06-07</td>\n",
       "      <td>11950</td>\n",
       "      <td>12200</td>\n",
       "      <td>12300</td>\n",
       "      <td>11900</td>\n",
       "      <td>49088</td>\n",
       "    </tr>\n",
       "    <tr>\n",
       "      <th>17</th>\n",
       "      <td>2018-06-05</td>\n",
       "      <td>12150</td>\n",
       "      <td>11800</td>\n",
       "      <td>12250</td>\n",
       "      <td>11800</td>\n",
       "      <td>42485</td>\n",
       "    </tr>\n",
       "    <tr>\n",
       "      <th>18</th>\n",
       "      <td>2018-06-04</td>\n",
       "      <td>11900</td>\n",
       "      <td>11900</td>\n",
       "      <td>12200</td>\n",
       "      <td>11700</td>\n",
       "      <td>25171</td>\n",
       "    </tr>\n",
       "    <tr>\n",
       "      <th>19</th>\n",
       "      <td>2018-06-01</td>\n",
       "      <td>11900</td>\n",
       "      <td>11800</td>\n",
       "      <td>12100</td>\n",
       "      <td>11750</td>\n",
       "      <td>32062</td>\n",
       "    </tr>\n",
       "  </tbody>\n",
       "</table>\n",
       "</div>"
      ],
      "text/plain": [
       "          Date  Close  Start   High    Low  Volume\n",
       "0   2018-07-02  10100  10850  10900  10000  137977\n",
       "1   2018-06-29  10700  10550  10900   9990  170253\n",
       "2   2018-06-28  10400  10900  10950  10150  155769\n",
       "3   2018-06-27  10900  10800  11050  10500  133548\n",
       "4   2018-06-26  10800  10900  11000  10700   63039\n",
       "5   2018-06-25  11150  11400  11450  11000   55519\n",
       "6   2018-06-22  11300  11250  11450  10750  134805\n",
       "7   2018-06-21  11200  11350  11750  11200  133002\n",
       "8   2018-06-20  11550  11200  11600  10900  308596\n",
       "9   2018-06-19  11300  11850  11950  11300  180656\n",
       "10  2018-06-18  12000  13400  13400  12000  309787\n",
       "11  2018-06-15  13400  13600  13600  12900  201376\n",
       "12  2018-06-14  13450  13200  13700  13150  347451\n",
       "13  2018-06-12  13200  12200  13300  12050  558148\n",
       "14  2018-06-11  11950  12000  12250  11950   62293\n",
       "15  2018-06-08  11950  11950  12200  11800   59258\n",
       "16  2018-06-07  11950  12200  12300  11900   49088\n",
       "17  2018-06-05  12150  11800  12250  11800   42485\n",
       "18  2018-06-04  11900  11900  12200  11700   25171\n",
       "19  2018-06-01  11900  11800  12100  11750   32062"
      ]
     },
     "execution_count": 6,
     "metadata": {},
     "output_type": "execute_result"
    }
   ],
   "source": [
    "# Q33. './dataset/stock-data.csv'를 데이터프레임으로 불러와서 datetime64 자료형으로 변환한 후에\n",
    "# 년, 월, 일로 분리하고 year를 인덱스로 셋팅하여 출력하세요.\n",
    "import pandas as pd\n",
    "df = pd.read_csv('C:\\cakd7\\m2_분석라이브러리활용\\dataset/stock-data.csv')\n",
    "df"
   ]
  },
  {
   "cell_type": "code",
   "execution_count": 15,
   "id": "38a149f4",
   "metadata": {},
   "outputs": [
    {
     "data": {
      "text/plain": [
       "Date      object\n",
       "Close      int64\n",
       "Start      int64\n",
       "High       int64\n",
       "Low        int64\n",
       "Volume     int64\n",
       "dtype: object"
      ]
     },
     "execution_count": 15,
     "metadata": {},
     "output_type": "execute_result"
    }
   ],
   "source": [
    "df.dtypes"
   ]
  },
  {
   "cell_type": "code",
   "execution_count": 25,
   "id": "9c5fe5ff",
   "metadata": {},
   "outputs": [],
   "source": [
    "df['Date']= df.Date.astype('datetime64')\n",
    "# 데이터변환을 하면 칼럼에 꼭 넣을것 df['Date']"
   ]
  },
  {
   "cell_type": "code",
   "execution_count": 26,
   "id": "18bb974a",
   "metadata": {},
   "outputs": [
    {
     "data": {
      "text/plain": [
       "Date      datetime64[ns]\n",
       "Close              int64\n",
       "Start              int64\n",
       "High               int64\n",
       "Low                int64\n",
       "Volume             int64\n",
       "dtype: object"
      ]
     },
     "execution_count": 26,
     "metadata": {},
     "output_type": "execute_result"
    }
   ],
   "source": [
    "df.dtypes"
   ]
  },
  {
   "cell_type": "code",
   "execution_count": null,
   "id": "e0741b8c",
   "metadata": {},
   "outputs": [],
   "source": []
  },
  {
   "cell_type": "code",
   "execution_count": 38,
   "id": "c64c8bbe",
   "metadata": {},
   "outputs": [
    {
     "ename": "AttributeError",
     "evalue": "'Series' object has no attribute 'split'",
     "output_type": "error",
     "traceback": [
      "\u001b[1;31m---------------------------------------------------------------------------\u001b[0m",
      "\u001b[1;31mAttributeError\u001b[0m                            Traceback (most recent call last)",
      "Input \u001b[1;32mIn [38]\u001b[0m, in \u001b[0;36m<cell line: 6>\u001b[1;34m()\u001b[0m\n\u001b[0;32m      1\u001b[0m \u001b[38;5;66;03m# 년월일 분리\u001b[39;00m\n\u001b[0;32m      2\u001b[0m \u001b[38;5;66;03m# import time\u001b[39;00m\n\u001b[0;32m      3\u001b[0m \u001b[38;5;66;03m# from datetime import datetime\u001b[39;00m\n\u001b[0;32m      4\u001b[0m \u001b[38;5;66;03m# s = df['Date']\u001b[39;00m\n\u001b[0;32m      5\u001b[0m \u001b[38;5;66;03m# sl = s.strftime('%Y-%m-%d')\u001b[39;00m\n\u001b[1;32m----> 6\u001b[0m df[\u001b[38;5;124m'\u001b[39m\u001b[38;5;124myear\u001b[39m\u001b[38;5;124m'\u001b[39m] \u001b[38;5;241m=\u001b[39m \u001b[43mdf\u001b[49m\u001b[38;5;241;43m.\u001b[39;49m\u001b[43mDate\u001b[49m\u001b[38;5;241;43m.\u001b[39;49m\u001b[43msplit\u001b[49m(\u001b[38;5;124m'\u001b[39m\u001b[38;5;124m-\u001b[39m\u001b[38;5;124m'\u001b[39m)\u001b[38;5;241m.\u001b[39mstr[\u001b[38;5;241m0\u001b[39m]\n\u001b[0;32m      7\u001b[0m df[\u001b[38;5;124m'\u001b[39m\u001b[38;5;124mmonth\u001b[39m\u001b[38;5;124m'\u001b[39m] \u001b[38;5;241m=\u001b[39m df\u001b[38;5;241m.\u001b[39mDate\u001b[38;5;241m.\u001b[39msplit(\u001b[38;5;124m'\u001b[39m\u001b[38;5;124m-\u001b[39m\u001b[38;5;124m'\u001b[39m)\u001b[38;5;241m.\u001b[39mstr[\u001b[38;5;241m1\u001b[39m]\n\u001b[0;32m      8\u001b[0m df[\u001b[38;5;124m'\u001b[39m\u001b[38;5;124mday\u001b[39m\u001b[38;5;124m'\u001b[39m] \u001b[38;5;241m=\u001b[39m df\u001b[38;5;241m.\u001b[39mDate\u001b[38;5;241m.\u001b[39msplit(\u001b[38;5;124m'\u001b[39m\u001b[38;5;124m-\u001b[39m\u001b[38;5;124m'\u001b[39m)\u001b[38;5;241m.\u001b[39mstr[\u001b[38;5;241m2\u001b[39m]\n",
      "File \u001b[1;32m~\\Anaconda3\\envs\\cakd7\\lib\\site-packages\\pandas\\core\\generic.py:5575\u001b[0m, in \u001b[0;36mNDFrame.__getattr__\u001b[1;34m(self, name)\u001b[0m\n\u001b[0;32m   5568\u001b[0m \u001b[38;5;28;01mif\u001b[39;00m (\n\u001b[0;32m   5569\u001b[0m     name \u001b[38;5;129;01mnot\u001b[39;00m \u001b[38;5;129;01min\u001b[39;00m \u001b[38;5;28mself\u001b[39m\u001b[38;5;241m.\u001b[39m_internal_names_set\n\u001b[0;32m   5570\u001b[0m     \u001b[38;5;129;01mand\u001b[39;00m name \u001b[38;5;129;01mnot\u001b[39;00m \u001b[38;5;129;01min\u001b[39;00m \u001b[38;5;28mself\u001b[39m\u001b[38;5;241m.\u001b[39m_metadata\n\u001b[0;32m   5571\u001b[0m     \u001b[38;5;129;01mand\u001b[39;00m name \u001b[38;5;129;01mnot\u001b[39;00m \u001b[38;5;129;01min\u001b[39;00m \u001b[38;5;28mself\u001b[39m\u001b[38;5;241m.\u001b[39m_accessors\n\u001b[0;32m   5572\u001b[0m     \u001b[38;5;129;01mand\u001b[39;00m \u001b[38;5;28mself\u001b[39m\u001b[38;5;241m.\u001b[39m_info_axis\u001b[38;5;241m.\u001b[39m_can_hold_identifiers_and_holds_name(name)\n\u001b[0;32m   5573\u001b[0m ):\n\u001b[0;32m   5574\u001b[0m     \u001b[38;5;28;01mreturn\u001b[39;00m \u001b[38;5;28mself\u001b[39m[name]\n\u001b[1;32m-> 5575\u001b[0m \u001b[38;5;28;01mreturn\u001b[39;00m \u001b[38;5;28;43mobject\u001b[39;49m\u001b[38;5;241;43m.\u001b[39;49m\u001b[38;5;21;43m__getattribute__\u001b[39;49m\u001b[43m(\u001b[49m\u001b[38;5;28;43mself\u001b[39;49m\u001b[43m,\u001b[49m\u001b[43m \u001b[49m\u001b[43mname\u001b[49m\u001b[43m)\u001b[49m\n",
      "\u001b[1;31mAttributeError\u001b[0m: 'Series' object has no attribute 'split'"
     ]
    }
   ],
   "source": [
    "# 년월일 분리\n",
    "# import time\n",
    "# from datetime import datetime\n",
    "# s = df['Date']\n",
    "# sl = s.strftime('%Y-%m-%d')\n",
    "df['year'] = df.Date.split('-').str[0]\n",
    "df['month'] = df.Date.split('-').str[1]\n",
    "df['day'] = df.Date.split('-').str[2]\n",
    "\n",
    "# 특정 열(year)로 인덱스 대체. 기존의 인덱스는 없어짐\n",
    "df2 = df.set_index('year')"
   ]
  },
  {
   "cell_type": "code",
   "execution_count": null,
   "id": "bb883823",
   "metadata": {},
   "outputs": [],
   "source": [
    "# 답?\n",
    "df['year'] = pd.DatetimeIndex(df['Date']).year\n",
    "df['month'] = pd.DatetimeIndex(df['Date']).month\n",
    "df.set_index('year', inplace= True)"
   ]
  },
  {
   "cell_type": "code",
   "execution_count": 46,
   "id": "e11879ee",
   "metadata": {},
   "outputs": [
    {
     "data": {
      "text/plain": [
       "Date      datetime64[ns]\n",
       "Close              int64\n",
       "Start              int64\n",
       "High               int64\n",
       "Low                int64\n",
       "Volume             int64\n",
       "dtype: object"
      ]
     },
     "execution_count": 46,
     "metadata": {},
     "output_type": "execute_result"
    }
   ],
   "source": [
    "# Q34. './dataset/stock-data.csv'를 데이터프레임으로 불러와서 datetime64 자료형으로 변환한 후에\n",
    "# Period로 변환하고 년월일을 표기 변경하여 년월로, 인덱스로 셋팅하여 출력하세요.\n",
    "import pandas as pd\n",
    "df = pd.read_csv('C:\\cakd7\\m2_분석라이브러리활용\\dataset/stock-data.csv')\n",
    "df['Date'] = df.Date.astype('datetime64')\n",
    "df.dtypes"
   ]
  },
  {
   "cell_type": "markdown",
   "id": "d1fc50cd",
   "metadata": {},
   "source": [
    "- Q. np.ones((10,10))을 아래와 같이 출력하세요."
   ]
  },
  {
   "cell_type": "code",
   "execution_count": null,
   "id": "62ceb28e",
   "metadata": {},
   "outputs": [],
   "source": [
    "# 인덱싱 사용? \n",
    "array([[1., 1., 1., 1., 1., 1., 1., 1., 1., 1.],\n",
    "       [1., 0., 0., 0., 0., 0., 0., 0., 0., 1.],\n",
    "       [1., 0., 0., 0., 0., 0., 0., 0., 0., 1.],\n",
    "       [1., 0., 0., 0., 0., 0., 0., 0., 0., 1.],\n",
    "       [1., 0., 0., 0., 0., 0., 0., 0., 0., 1.],\n",
    "       [1., 0., 0., 0., 0., 0., 0., 0., 0., 1.],\n",
    "       [1., 0., 0., 0., 0., 0., 0., 0., 0., 1.],\n",
    "       [1., 0., 0., 0., 0., 0., 0., 0., 0., 1.],\n",
    "       [1., 0., 0., 0., 0., 0., 0., 0., 0., 1.],\n",
    "       [1., 1., 1., 1., 1., 1., 1., 1., 1., 1.]])"
   ]
  },
  {
   "cell_type": "code",
   "execution_count": 51,
   "id": "caa8524d",
   "metadata": {},
   "outputs": [
    {
     "data": {
      "text/plain": [
       "array([[1., 1., 1., 1., 1., 1., 1., 1., 1., 1.],\n",
       "       [1., 1., 1., 1., 1., 1., 1., 1., 1., 1.],\n",
       "       [1., 1., 1., 1., 1., 1., 1., 1., 1., 1.],\n",
       "       [1., 1., 1., 1., 1., 1., 1., 1., 1., 1.],\n",
       "       [1., 1., 1., 1., 1., 1., 1., 1., 1., 1.],\n",
       "       [1., 1., 1., 1., 1., 1., 1., 1., 1., 1.],\n",
       "       [1., 1., 1., 1., 1., 1., 1., 1., 1., 1.],\n",
       "       [1., 1., 1., 1., 1., 1., 1., 1., 1., 1.],\n",
       "       [1., 1., 1., 1., 1., 1., 1., 1., 1., 1.],\n",
       "       [1., 1., 1., 1., 1., 1., 1., 1., 1., 1.]])"
      ]
     },
     "execution_count": 51,
     "metadata": {},
     "output_type": "execute_result"
    }
   ],
   "source": [
    "import numpy as np\n",
    "\n",
    "a = np.ones((10,10))\n",
    "a"
   ]
  },
  {
   "cell_type": "code",
   "execution_count": 66,
   "id": "34cd7849",
   "metadata": {},
   "outputs": [
    {
     "data": {
      "text/plain": [
       "array([[1., 1., 1., 1., 1., 1., 1., 1., 1., 1.],\n",
       "       [1., 0., 0., 0., 0., 0., 0., 0., 0., 1.],\n",
       "       [1., 0., 0., 0., 0., 0., 0., 0., 0., 1.],\n",
       "       [1., 0., 0., 0., 0., 0., 0., 0., 0., 1.],\n",
       "       [1., 0., 0., 0., 0., 0., 0., 0., 0., 1.],\n",
       "       [1., 0., 0., 0., 0., 0., 0., 0., 0., 1.],\n",
       "       [1., 0., 0., 0., 0., 0., 0., 0., 0., 1.],\n",
       "       [1., 0., 0., 0., 0., 0., 0., 0., 0., 1.],\n",
       "       [1., 0., 0., 0., 0., 0., 0., 0., 0., 1.],\n",
       "       [1., 1., 1., 1., 1., 1., 1., 1., 1., 1.]])"
      ]
     },
     "execution_count": 66,
     "metadata": {},
     "output_type": "execute_result"
    }
   ],
   "source": [
    "a = np.ones((10,10))\n",
    "a[1:-1,1:-1] = 0\n",
    "a"
   ]
  },
  {
   "cell_type": "code",
   "execution_count": null,
   "id": "cd2a9e1a",
   "metadata": {},
   "outputs": [],
   "source": [
    "np.zeros((8,8))을 이용해서 아래와 같이 출력하세요.\n",
    "array([[0, 1, 0, 1, 0, 1, 0, 1],\n",
    "       [1, 0, 1, 0, 1, 0, 1, 0],\n",
    "       [0, 1, 0, 1, 0, 1, 0, 1],\n",
    "       [1, 0, 1, 0, 1, 0, 1, 0],\n",
    "       [0, 1, 0, 1, 0, 1, 0, 1],\n",
    "       [1, 0, 1, 0, 1, 0, 1, 0],\n",
    "       [0, 1, 0, 1, 0, 1, 0, 1],\n",
    "       [1, 0, 1, 0, 1, 0, 1, 0]])"
   ]
  },
  {
   "cell_type": "code",
   "execution_count": 50,
   "id": "90c5adf4",
   "metadata": {},
   "outputs": [
    {
     "data": {
      "text/plain": [
       "array([[0., 1., 0., 1., 0., 1., 0., 1.],\n",
       "       [1., 0., 1., 0., 1., 0., 1., 0.],\n",
       "       [0., 1., 0., 1., 0., 1., 0., 1.],\n",
       "       [1., 0., 1., 0., 1., 0., 1., 0.],\n",
       "       [0., 1., 0., 1., 0., 1., 0., 1.],\n",
       "       [1., 0., 1., 0., 1., 0., 1., 0.],\n",
       "       [0., 1., 0., 1., 0., 1., 0., 1.],\n",
       "       [1., 0., 1., 0., 1., 0., 1., 0.]])"
      ]
     },
     "execution_count": 50,
     "metadata": {},
     "output_type": "execute_result"
    }
   ],
   "source": [
    "a = np.zeros((8,8))\n",
    "a[1::2,::2] = 1  # 행은 1행부터 2칸씩 건너뜀+열은 0열부터 2칸씩 건너뜀\n",
    "a[::2,1::2] = 1\n",
    "a"
   ]
  },
  {
   "cell_type": "code",
   "execution_count": 51,
   "id": "c451b421",
   "metadata": {},
   "outputs": [
    {
     "ename": "SyntaxError",
     "evalue": "unexpected EOF while parsing (2824021562.py, line 1)",
     "output_type": "error",
     "traceback": [
      "\u001b[1;36m  Input \u001b[1;32mIn [51]\u001b[1;36m\u001b[0m\n\u001b[1;33m    z = np.tile(np.array([[0,1],[1,0]]),(4,4)\u001b[0m\n\u001b[1;37m                                             ^\u001b[0m\n\u001b[1;31mSyntaxError\u001b[0m\u001b[1;31m:\u001b[0m unexpected EOF while parsing\n"
     ]
    }
   ],
   "source": [
    "z = np.tile(np.array([[0,1],[1,0]]),(4,4)"
   ]
  },
  {
   "cell_type": "markdown",
   "id": "214276d4",
   "metadata": {},
   "source": [
    "### 과제 7/6-(1)\n",
    "- 1~100을 아래와 같이 출력하세요."
   ]
  },
  {
   "cell_type": "code",
   "execution_count": null,
   "id": "408dc0e6",
   "metadata": {},
   "outputs": [],
   "source": [
    "[[  1   2   3   4   5   6   7   8   9  10]\n",
    " [ 20  19  18  17  16  15  14  13  12  11]\n",
    " [ 21  22  23  24  25  26  27  28  29  30]\n",
    " [ 40  39  38  37  36  35  34  33  32  31]\n",
    " [ 41  42  43  44  45  46  47  48  49  50]\n",
    " [ 60  59  58  57  56  55  54  53  52  51]\n",
    " [ 61  62  63  64  65  66  67  68  69  70]\n",
    " [ 80  79  78  77  76  75  74  73  72  71]\n",
    " [ 81  82  83  84  85  86  87  88  89  90]\n",
    " [100  99  98  97  96  95  94  93  92  91]] <class 'numpy.ndarray'>"
   ]
  },
  {
   "cell_type": "code",
   "execution_count": 17,
   "id": "023286cc",
   "metadata": {},
   "outputs": [
    {
     "name": "stdout",
     "output_type": "stream",
     "text": [
      "[[  1   2   3   4   5   6   7   8   9  10]\n",
      " [ 20  19  18  17  16  15  14  13  12  11]\n",
      " [ 21  22  23  24  25  26  27  28  29  30]\n",
      " [ 40  39  38  37  36  35  34  33  32  31]\n",
      " [ 41  42  43  44  45  46  47  48  49  50]\n",
      " [ 60  59  58  57  56  55  54  53  52  51]\n",
      " [ 61  62  63  64  65  66  67  68  69  70]\n",
      " [ 80  79  78  77  76  75  74  73  72  71]\n",
      " [ 81  82  83  84  85  86  87  88  89  90]\n",
      " [100  99  98  97  96  95  94  93  92  91]]\n"
     ]
    }
   ],
   "source": [
    "import numpy as np\n",
    "\n",
    "a = np.arange(1,100+1).reshape(10,10)\n",
    "\n",
    "for i in range(1,10) :\n",
    "    if i % 2 == 1 :\n",
    "        a[i] = np.flipud(a[i])  # np.flipud() : 배열의 요소를 거꾸로 뒤집음\n",
    "print(a)\n",
    "# print(a)\n",
    "#a[::2,b[::-1]]\n",
    "#a[1::2,::2] = 1  # 행은 1행부터 2칸씩 건너뜀+열은 0열부터 2칸씩 건너뜀\n",
    "#a[::2,1::2] = 1\n",
    "#a\n",
    "\n",
    "# a[::2] 는 기본값\n",
    "#a[1::2] = a[1::2][1::-1],"
   ]
  },
  {
   "cell_type": "code",
   "execution_count": 10,
   "id": "39adc9b8",
   "metadata": {},
   "outputs": [
    {
     "data": {
      "text/plain": [
       "array([[  1,   2,   3,   4,   5,   6,   7,   8,   9,  10],\n",
       "       [ 20,  19,  18,  17,  16,  15,  14,  13,  12,  11],\n",
       "       [ 21,  22,  23,  24,  25,  26,  27,  28,  29,  30],\n",
       "       [ 40,  39,  38,  37,  36,  35,  34,  33,  32,  31],\n",
       "       [ 41,  42,  43,  44,  45,  46,  47,  48,  49,  50],\n",
       "       [ 60,  59,  58,  57,  56,  55,  54,  53,  52,  51],\n",
       "       [ 61,  62,  63,  64,  65,  66,  67,  68,  69,  70],\n",
       "       [ 80,  79,  78,  77,  76,  75,  74,  73,  72,  71],\n",
       "       [ 81,  82,  83,  84,  85,  86,  87,  88,  89,  90],\n",
       "       [100,  99,  98,  97,  96,  95,  94,  93,  92,  91]])"
      ]
     },
     "execution_count": 10,
     "metadata": {},
     "output_type": "execute_result"
    }
   ],
   "source": [
    "# 다른풀이\n",
    "import numpy as np\n",
    "k = np.arange(1,101).reshape(10,10)\n",
    "k[[1,3,5,7,9]] = k[[1,3,5,7,9]][:,[9,8,7,6,5,4,3,2,1,0]]\n",
    "k"
   ]
  },
  {
   "cell_type": "code",
   "execution_count": 11,
   "id": "7c0417c3",
   "metadata": {},
   "outputs": [
    {
     "data": {
      "text/plain": [
       "array([[  1,   2,   3,   4,   5,   6,   7,   8,   9,  10],\n",
       "       [ 20,  19,  18,  17,  16,  15,  14,  13,  12,  11],\n",
       "       [ 21,  22,  23,  24,  25,  26,  27,  28,  29,  30],\n",
       "       [ 40,  39,  38,  37,  36,  35,  34,  33,  32,  31],\n",
       "       [ 41,  42,  43,  44,  45,  46,  47,  48,  49,  50],\n",
       "       [ 60,  59,  58,  57,  56,  55,  54,  53,  52,  51],\n",
       "       [ 61,  62,  63,  64,  65,  66,  67,  68,  69,  70],\n",
       "       [ 80,  79,  78,  77,  76,  75,  74,  73,  72,  71],\n",
       "       [ 81,  82,  83,  84,  85,  86,  87,  88,  89,  90],\n",
       "       [100,  99,  98,  97,  96,  95,  94,  93,  92,  91]])"
      ]
     },
     "execution_count": 11,
     "metadata": {},
     "output_type": "execute_result"
    }
   ],
   "source": [
    "# 다른풀이2. 이거 보기 좋음\n",
    "ar = np.arange(1,101).reshape(10,10)\n",
    "ar[1::2] = ar[1::2,9::-1]\n",
    "ar"
   ]
  },
  {
   "cell_type": "code",
   "execution_count": null,
   "id": "448ae29a",
   "metadata": {},
   "outputs": [],
   "source": []
  }
 ],
 "metadata": {
  "kernelspec": {
   "display_name": "Python 3 (ipykernel)",
   "language": "python",
   "name": "python3"
  },
  "language_info": {
   "codemirror_mode": {
    "name": "ipython",
    "version": 3
   },
   "file_extension": ".py",
   "mimetype": "text/x-python",
   "name": "python",
   "nbconvert_exporter": "python",
   "pygments_lexer": "ipython3",
   "version": "3.8.13"
  }
 },
 "nbformat": 4,
 "nbformat_minor": 5
}
