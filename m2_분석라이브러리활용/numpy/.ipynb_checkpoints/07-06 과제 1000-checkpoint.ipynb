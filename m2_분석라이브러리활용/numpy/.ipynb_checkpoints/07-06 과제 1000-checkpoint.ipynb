{
 "cells": [
  {
   "cell_type": "code",
   "execution_count": 1,
   "id": "GpMyOKUNyVZM",
   "metadata": {
    "colab": {
     "base_uri": "https://localhost:8080/"
    },
    "executionInfo": {
     "elapsed": 17685,
     "status": "ok",
     "timestamp": 1657249836031,
     "user": {
      "displayName": "kevin park",
      "userId": "02703084888761299921"
     },
     "user_tz": -540
    },
    "id": "GpMyOKUNyVZM",
    "outputId": "7b26a7e6-3cbf-4ad1-b8a7-47b3976a646a"
   },
   "outputs": [
    {
     "name": "stdout",
     "output_type": "stream",
     "text": [
      "Mounted at /content/drive\n"
     ]
    }
   ],
   "source": [
    "from google.colab import drive\n",
    "drive.mount('/content/drive')"
   ]
  },
  {
   "cell_type": "code",
   "execution_count": 1,
   "id": "076bfda3",
   "metadata": {
    "executionInfo": {
     "elapsed": 758,
     "status": "ok",
     "timestamp": 1657249850928,
     "user": {
      "displayName": "kevin park",
      "userId": "02703084888761299921"
     },
     "user_tz": -540
    },
    "id": "076bfda3"
   },
   "outputs": [],
   "source": [
    "import random\n",
    "import numpy as np\n",
    "import pandas as pd\n",
    "adr = np.random.randint(1,14000,(1000,14))\n",
    "df_cu = pd.DataFrame(adr,columns=['id','cusno','gender','age','region','product_19','product_20','price_19','price_20','quantity_19','quantity_20','amount_19','amount_20','sales'])"
   ]
  },
  {
   "cell_type": "code",
   "execution_count": 3,
   "id": "e8239049",
   "metadata": {},
   "outputs": [
    {
     "data": {
      "text/html": [
       "<div>\n",
       "<style scoped>\n",
       "    .dataframe tbody tr th:only-of-type {\n",
       "        vertical-align: middle;\n",
       "    }\n",
       "\n",
       "    .dataframe tbody tr th {\n",
       "        vertical-align: top;\n",
       "    }\n",
       "\n",
       "    .dataframe thead th {\n",
       "        text-align: right;\n",
       "    }\n",
       "</style>\n",
       "<table border=\"1\" class=\"dataframe\">\n",
       "  <thead>\n",
       "    <tr style=\"text-align: right;\">\n",
       "      <th></th>\n",
       "      <th>id</th>\n",
       "      <th>cusno</th>\n",
       "      <th>gender</th>\n",
       "      <th>age</th>\n",
       "      <th>region</th>\n",
       "      <th>product_19</th>\n",
       "      <th>product_20</th>\n",
       "      <th>price_19</th>\n",
       "      <th>price_20</th>\n",
       "      <th>quantity_19</th>\n",
       "      <th>quantity_20</th>\n",
       "      <th>amount_19</th>\n",
       "      <th>amount_20</th>\n",
       "      <th>sales</th>\n",
       "    </tr>\n",
       "  </thead>\n",
       "  <tbody>\n",
       "    <tr>\n",
       "      <th>0</th>\n",
       "      <td>10411</td>\n",
       "      <td>13137</td>\n",
       "      <td>5833</td>\n",
       "      <td>9282</td>\n",
       "      <td>11463</td>\n",
       "      <td>11914</td>\n",
       "      <td>6399</td>\n",
       "      <td>8174</td>\n",
       "      <td>3181</td>\n",
       "      <td>7705</td>\n",
       "      <td>7924</td>\n",
       "      <td>3448</td>\n",
       "      <td>12727</td>\n",
       "      <td>4231</td>\n",
       "    </tr>\n",
       "    <tr>\n",
       "      <th>1</th>\n",
       "      <td>9256</td>\n",
       "      <td>5141</td>\n",
       "      <td>718</td>\n",
       "      <td>10161</td>\n",
       "      <td>1968</td>\n",
       "      <td>2261</td>\n",
       "      <td>13997</td>\n",
       "      <td>3895</td>\n",
       "      <td>4183</td>\n",
       "      <td>5032</td>\n",
       "      <td>5735</td>\n",
       "      <td>6577</td>\n",
       "      <td>9875</td>\n",
       "      <td>4453</td>\n",
       "    </tr>\n",
       "    <tr>\n",
       "      <th>2</th>\n",
       "      <td>2380</td>\n",
       "      <td>5419</td>\n",
       "      <td>13833</td>\n",
       "      <td>5123</td>\n",
       "      <td>2173</td>\n",
       "      <td>10974</td>\n",
       "      <td>12128</td>\n",
       "      <td>13652</td>\n",
       "      <td>8119</td>\n",
       "      <td>1482</td>\n",
       "      <td>1376</td>\n",
       "      <td>12159</td>\n",
       "      <td>7832</td>\n",
       "      <td>1921</td>\n",
       "    </tr>\n",
       "    <tr>\n",
       "      <th>3</th>\n",
       "      <td>529</td>\n",
       "      <td>4977</td>\n",
       "      <td>2952</td>\n",
       "      <td>5756</td>\n",
       "      <td>9408</td>\n",
       "      <td>13896</td>\n",
       "      <td>13653</td>\n",
       "      <td>4470</td>\n",
       "      <td>3296</td>\n",
       "      <td>2007</td>\n",
       "      <td>11406</td>\n",
       "      <td>2569</td>\n",
       "      <td>12547</td>\n",
       "      <td>11068</td>\n",
       "    </tr>\n",
       "    <tr>\n",
       "      <th>4</th>\n",
       "      <td>1140</td>\n",
       "      <td>10102</td>\n",
       "      <td>979</td>\n",
       "      <td>5930</td>\n",
       "      <td>13206</td>\n",
       "      <td>5997</td>\n",
       "      <td>7998</td>\n",
       "      <td>2177</td>\n",
       "      <td>11185</td>\n",
       "      <td>3375</td>\n",
       "      <td>9111</td>\n",
       "      <td>6828</td>\n",
       "      <td>495</td>\n",
       "      <td>13119</td>\n",
       "    </tr>\n",
       "  </tbody>\n",
       "</table>\n",
       "</div>"
      ],
      "text/plain": [
       "      id  cusno  gender    age  region  product_19  product_20  price_19  \\\n",
       "0  10411  13137    5833   9282   11463       11914        6399      8174   \n",
       "1   9256   5141     718  10161    1968        2261       13997      3895   \n",
       "2   2380   5419   13833   5123    2173       10974       12128     13652   \n",
       "3    529   4977    2952   5756    9408       13896       13653      4470   \n",
       "4   1140  10102     979   5930   13206        5997        7998      2177   \n",
       "\n",
       "   price_20  quantity_19  quantity_20  amount_19  amount_20  sales  \n",
       "0      3181         7705         7924       3448      12727   4231  \n",
       "1      4183         5032         5735       6577       9875   4453  \n",
       "2      8119         1482         1376      12159       7832   1921  \n",
       "3      3296         2007        11406       2569      12547  11068  \n",
       "4     11185         3375         9111       6828        495  13119  "
      ]
     },
     "execution_count": 3,
     "metadata": {},
     "output_type": "execute_result"
    }
   ],
   "source": [
    "df_cu.head()"
   ]
  },
  {
   "cell_type": "code",
   "execution_count": 3,
   "id": "0ef67cb6",
   "metadata": {
    "executionInfo": {
     "elapsed": 292,
     "status": "ok",
     "timestamp": 1657249859057,
     "user": {
      "displayName": "kevin park",
      "userId": "02703084888761299921"
     },
     "user_tz": -540
    },
    "id": "0ef67cb6"
   },
   "outputs": [],
   "source": [
    "idcr = np.arange(1,1001)\n",
    "\n",
    "cusli = list(range(1111,10000))\n",
    "cusnocr = random.sample(cusli,1000)\n",
    "    \n",
    "gencr = np.random.randint(0,2,1000)\n",
    "\n",
    "agecr = np.random.randint(0,81,1000)\n",
    "\n",
    "regicr = np.random.randint(1,11,1000)\n",
    "\n",
    "prcr_19 = np.random.choice([10,20,30],1000)\n",
    "\n",
    "prcr_20 = np.random.choice([10,20,30],1000)\n",
    "\n",
    "picr_19 = np.random.uniform(1000,50000,1000)\n",
    "\n",
    "picr_20 = np.random.uniform(1000,50000,1000)\n",
    "\n",
    "quancr_19 = np.random.randint(1,100,1000)\n",
    "\n",
    "quancr_20 = np.random.randint(1,100,1000)\n",
    "\n",
    "amcr_19 = df_cu.price_19 * df_cu.quantity_19\n",
    "\n",
    "amcr_20 = df_cu.price_20 * df_cu.quantity_20\n",
    "\n",
    "sacr = np.where(df_cu.amount_19 <= df_cu.amount_20,1,0)"
   ]
  },
  {
   "cell_type": "code",
   "execution_count": 4,
   "id": "9e56e00a",
   "metadata": {
    "colab": {
     "base_uri": "https://localhost:8080/",
     "height": 250
    },
    "executionInfo": {
     "elapsed": 329,
     "status": "ok",
     "timestamp": 1657249860702,
     "user": {
      "displayName": "kevin park",
      "userId": "02703084888761299921"
     },
     "user_tz": -540
    },
    "id": "9e56e00a",
    "outputId": "550d71e1-5e0c-4b67-a79c-0963e05cc649"
   },
   "outputs": [
    {
     "data": {
      "text/html": [
       "\n",
       "  <div id=\"df-43dbf70c-74ae-4b6b-8424-883d1af1a21b\">\n",
       "    <div class=\"colab-df-container\">\n",
       "      <div>\n",
       "<style scoped>\n",
       "    .dataframe tbody tr th:only-of-type {\n",
       "        vertical-align: middle;\n",
       "    }\n",
       "\n",
       "    .dataframe tbody tr th {\n",
       "        vertical-align: top;\n",
       "    }\n",
       "\n",
       "    .dataframe thead th {\n",
       "        text-align: right;\n",
       "    }\n",
       "</style>\n",
       "<table border=\"1\" class=\"dataframe\">\n",
       "  <thead>\n",
       "    <tr style=\"text-align: right;\">\n",
       "      <th></th>\n",
       "      <th>id</th>\n",
       "      <th>cusno</th>\n",
       "      <th>gender</th>\n",
       "      <th>age</th>\n",
       "      <th>region</th>\n",
       "      <th>product_19</th>\n",
       "      <th>product_20</th>\n",
       "      <th>price_19</th>\n",
       "      <th>price_20</th>\n",
       "      <th>quantity_19</th>\n",
       "      <th>quantity_20</th>\n",
       "      <th>amount_19</th>\n",
       "      <th>amount_20</th>\n",
       "      <th>sales</th>\n",
       "    </tr>\n",
       "  </thead>\n",
       "  <tbody>\n",
       "    <tr>\n",
       "      <th>0</th>\n",
       "      <td>1</td>\n",
       "      <td>9833</td>\n",
       "      <td>0</td>\n",
       "      <td>79</td>\n",
       "      <td>5</td>\n",
       "      <td>10</td>\n",
       "      <td>30</td>\n",
       "      <td>3059.145668</td>\n",
       "      <td>34732.684268</td>\n",
       "      <td>98</td>\n",
       "      <td>61</td>\n",
       "      <td>167996933</td>\n",
       "      <td>17459575</td>\n",
       "      <td>1</td>\n",
       "    </tr>\n",
       "    <tr>\n",
       "      <th>1</th>\n",
       "      <td>2</td>\n",
       "      <td>8190</td>\n",
       "      <td>1</td>\n",
       "      <td>23</td>\n",
       "      <td>4</td>\n",
       "      <td>10</td>\n",
       "      <td>10</td>\n",
       "      <td>29973.788499</td>\n",
       "      <td>10859.539381</td>\n",
       "      <td>86</td>\n",
       "      <td>25</td>\n",
       "      <td>3935415</td>\n",
       "      <td>24729092</td>\n",
       "      <td>1</td>\n",
       "    </tr>\n",
       "    <tr>\n",
       "      <th>2</th>\n",
       "      <td>3</td>\n",
       "      <td>5096</td>\n",
       "      <td>1</td>\n",
       "      <td>12</td>\n",
       "      <td>1</td>\n",
       "      <td>30</td>\n",
       "      <td>10</td>\n",
       "      <td>32766.460997</td>\n",
       "      <td>49019.636473</td>\n",
       "      <td>66</td>\n",
       "      <td>23</td>\n",
       "      <td>8618515</td>\n",
       "      <td>19345204</td>\n",
       "      <td>0</td>\n",
       "    </tr>\n",
       "    <tr>\n",
       "      <th>3</th>\n",
       "      <td>4</td>\n",
       "      <td>1321</td>\n",
       "      <td>1</td>\n",
       "      <td>6</td>\n",
       "      <td>5</td>\n",
       "      <td>20</td>\n",
       "      <td>20</td>\n",
       "      <td>21222.108565</td>\n",
       "      <td>17179.319443</td>\n",
       "      <td>47</td>\n",
       "      <td>34</td>\n",
       "      <td>140698252</td>\n",
       "      <td>59319081</td>\n",
       "      <td>1</td>\n",
       "    </tr>\n",
       "    <tr>\n",
       "      <th>4</th>\n",
       "      <td>5</td>\n",
       "      <td>9713</td>\n",
       "      <td>0</td>\n",
       "      <td>52</td>\n",
       "      <td>2</td>\n",
       "      <td>30</td>\n",
       "      <td>20</td>\n",
       "      <td>14669.911958</td>\n",
       "      <td>31803.250788</td>\n",
       "      <td>85</td>\n",
       "      <td>69</td>\n",
       "      <td>16609108</td>\n",
       "      <td>59219478</td>\n",
       "      <td>1</td>\n",
       "    </tr>\n",
       "  </tbody>\n",
       "</table>\n",
       "</div>\n",
       "      <button class=\"colab-df-convert\" onclick=\"convertToInteractive('df-43dbf70c-74ae-4b6b-8424-883d1af1a21b')\"\n",
       "              title=\"Convert this dataframe to an interactive table.\"\n",
       "              style=\"display:none;\">\n",
       "        \n",
       "  <svg xmlns=\"http://www.w3.org/2000/svg\" height=\"24px\"viewBox=\"0 0 24 24\"\n",
       "       width=\"24px\">\n",
       "    <path d=\"M0 0h24v24H0V0z\" fill=\"none\"/>\n",
       "    <path d=\"M18.56 5.44l.94 2.06.94-2.06 2.06-.94-2.06-.94-.94-2.06-.94 2.06-2.06.94zm-11 1L8.5 8.5l.94-2.06 2.06-.94-2.06-.94L8.5 2.5l-.94 2.06-2.06.94zm10 10l.94 2.06.94-2.06 2.06-.94-2.06-.94-.94-2.06-.94 2.06-2.06.94z\"/><path d=\"M17.41 7.96l-1.37-1.37c-.4-.4-.92-.59-1.43-.59-.52 0-1.04.2-1.43.59L10.3 9.45l-7.72 7.72c-.78.78-.78 2.05 0 2.83L4 21.41c.39.39.9.59 1.41.59.51 0 1.02-.2 1.41-.59l7.78-7.78 2.81-2.81c.8-.78.8-2.07 0-2.86zM5.41 20L4 18.59l7.72-7.72 1.47 1.35L5.41 20z\"/>\n",
       "  </svg>\n",
       "      </button>\n",
       "      \n",
       "  <style>\n",
       "    .colab-df-container {\n",
       "      display:flex;\n",
       "      flex-wrap:wrap;\n",
       "      gap: 12px;\n",
       "    }\n",
       "\n",
       "    .colab-df-convert {\n",
       "      background-color: #E8F0FE;\n",
       "      border: none;\n",
       "      border-radius: 50%;\n",
       "      cursor: pointer;\n",
       "      display: none;\n",
       "      fill: #1967D2;\n",
       "      height: 32px;\n",
       "      padding: 0 0 0 0;\n",
       "      width: 32px;\n",
       "    }\n",
       "\n",
       "    .colab-df-convert:hover {\n",
       "      background-color: #E2EBFA;\n",
       "      box-shadow: 0px 1px 2px rgba(60, 64, 67, 0.3), 0px 1px 3px 1px rgba(60, 64, 67, 0.15);\n",
       "      fill: #174EA6;\n",
       "    }\n",
       "\n",
       "    [theme=dark] .colab-df-convert {\n",
       "      background-color: #3B4455;\n",
       "      fill: #D2E3FC;\n",
       "    }\n",
       "\n",
       "    [theme=dark] .colab-df-convert:hover {\n",
       "      background-color: #434B5C;\n",
       "      box-shadow: 0px 1px 3px 1px rgba(0, 0, 0, 0.15);\n",
       "      filter: drop-shadow(0px 1px 2px rgba(0, 0, 0, 0.3));\n",
       "      fill: #FFFFFF;\n",
       "    }\n",
       "  </style>\n",
       "\n",
       "      <script>\n",
       "        const buttonEl =\n",
       "          document.querySelector('#df-43dbf70c-74ae-4b6b-8424-883d1af1a21b button.colab-df-convert');\n",
       "        buttonEl.style.display =\n",
       "          google.colab.kernel.accessAllowed ? 'block' : 'none';\n",
       "\n",
       "        async function convertToInteractive(key) {\n",
       "          const element = document.querySelector('#df-43dbf70c-74ae-4b6b-8424-883d1af1a21b');\n",
       "          const dataTable =\n",
       "            await google.colab.kernel.invokeFunction('convertToInteractive',\n",
       "                                                     [key], {});\n",
       "          if (!dataTable) return;\n",
       "\n",
       "          const docLinkHtml = 'Like what you see? Visit the ' +\n",
       "            '<a target=\"_blank\" href=https://colab.research.google.com/notebooks/data_table.ipynb>data table notebook</a>'\n",
       "            + ' to learn more about interactive tables.';\n",
       "          element.innerHTML = '';\n",
       "          dataTable['output_type'] = 'display_data';\n",
       "          await google.colab.output.renderOutput(dataTable, element);\n",
       "          const docLink = document.createElement('div');\n",
       "          docLink.innerHTML = docLinkHtml;\n",
       "          element.appendChild(docLink);\n",
       "        }\n",
       "      </script>\n",
       "    </div>\n",
       "  </div>\n",
       "  "
      ],
      "text/plain": [
       "   id  cusno  gender  age  region  product_19  product_20      price_19  \\\n",
       "0   1   9833       0   79       5          10          30   3059.145668   \n",
       "1   2   8190       1   23       4          10          10  29973.788499   \n",
       "2   3   5096       1   12       1          30          10  32766.460997   \n",
       "3   4   1321       1    6       5          20          20  21222.108565   \n",
       "4   5   9713       0   52       2          30          20  14669.911958   \n",
       "\n",
       "       price_20  quantity_19  quantity_20  amount_19  amount_20  sales  \n",
       "0  34732.684268           98           61  167996933   17459575      1  \n",
       "1  10859.539381           86           25    3935415   24729092      1  \n",
       "2  49019.636473           66           23    8618515   19345204      0  \n",
       "3  17179.319443           47           34  140698252   59319081      1  \n",
       "4  31803.250788           85           69   16609108   59219478      1  "
      ]
     },
     "execution_count": 4,
     "metadata": {},
     "output_type": "execute_result"
    }
   ],
   "source": [
    "bdf_cu.id = idcr\n",
    "df_cu.cusno = cusnocr\n",
    "df_cu.gender = gencr\n",
    "df_cu.age = agecr\n",
    "df_cu.region = regicr\n",
    "df_cu.product_19 = prcr_19\n",
    "df_cu.product_20 = prcr_20\n",
    "df_cu.price_19 = picr_19\n",
    "df_cu.price_20 = picr_20\n",
    "df_cu.quantity_19 = quancr_19\n",
    "df_cu.quantity_20 = quancr_20\n",
    "df_cu.amount_19 = amcr_19\n",
    "df_cu.amount_20 = amcr_20\n",
    "df_cu.sales = sacr\n",
    "df_cu.head()"
   ]
  },
  {
   "cell_type": "code",
   "execution_count": 5,
   "id": "KUP5DWW0ym9M",
   "metadata": {
    "colab": {
     "base_uri": "https://localhost:8080/"
    },
    "executionInfo": {
     "elapsed": 315,
     "status": "ok",
     "timestamp": 1657249898971,
     "user": {
      "displayName": "kevin park",
      "userId": "02703084888761299921"
     },
     "user_tz": -540
    },
    "id": "KUP5DWW0ym9M",
    "outputId": "06d18d7c-20e8-4368-869b-ebc9c640cdeb"
   },
   "outputs": [
    {
     "data": {
      "text/plain": [
       "(1000, 14)"
      ]
     },
     "execution_count": 5,
     "metadata": {},
     "output_type": "execute_result"
    }
   ],
   "source": [
    "거래일자, 요일, 시간을 추가해서 10000개의 관측치를 갖는 데이터셋을 만드세요."
   ]
  },
  {
   "cell_type": "markdown",
   "id": "44e51226",
   "metadata": {
    "id": "44e51226"
   },
   "source": [
    "참조 자료인 서울시 2019, 2020년 나이별 소비 금액(단위:조)을 사용하기로 하여 나이에 따른 구매력에 차등을 두기로 했습니다.\n",
    "먼저 나이를 범주화하여 20이하 30대 40대 50대 그리고 60대 이상으로 범주화 하였습니다."
   ]
  },
  {
   "cell_type": "code",
   "execution_count": null,
   "id": "0a2daea1",
   "metadata": {
    "id": "0a2daea1"
   },
   "outputs": [],
   "source": [
    "def agtal(x):\n",
    "    if x < 30:\n",
    "        return 20\n",
    "    elif x < 40:\n",
    "        return 30\n",
    "    elif x < 50:\n",
    "        return 40\n",
    "    elif x < 60:\n",
    "        return 50\n",
    "    else:\n",
    "        return 60\n",
    "        \n",
    "df_cu.age = df_cu.age.apply(agtal)"
   ]
  },
  {
   "cell_type": "markdown",
   "id": "70c33747",
   "metadata": {
    "id": "70c33747"
   },
   "source": [
    "다음으로는 서울시 2019, 2020년의 나이별 가중치를 구하고 나이별, 년도별로 소비가에 가중치를 주었습니다."
   ]
  },
  {
   "cell_type": "code",
   "execution_count": null,
   "id": "0649bbf5",
   "metadata": {
    "id": "0649bbf5",
    "outputId": "98932842-c0e7-4fd6-bf97-6e222d79a20b"
   },
   "outputs": [
    {
     "data": {
      "text/html": [
       "<div>\n",
       "<style scoped>\n",
       "    .dataframe tbody tr th:only-of-type {\n",
       "        vertical-align: middle;\n",
       "    }\n",
       "\n",
       "    .dataframe tbody tr th {\n",
       "        vertical-align: top;\n",
       "    }\n",
       "\n",
       "    .dataframe thead th {\n",
       "        text-align: right;\n",
       "    }\n",
       "</style>\n",
       "<table border=\"1\" class=\"dataframe\">\n",
       "  <thead>\n",
       "    <tr style=\"text-align: right;\">\n",
       "      <th></th>\n",
       "      <th>20대</th>\n",
       "      <th>30대</th>\n",
       "      <th>40대</th>\n",
       "      <th>50대</th>\n",
       "      <th>60대이상</th>\n",
       "    </tr>\n",
       "  </thead>\n",
       "  <tbody>\n",
       "    <tr>\n",
       "      <th>2019</th>\n",
       "      <td>8.3</td>\n",
       "      <td>15.1</td>\n",
       "      <td>15.6</td>\n",
       "      <td>11.9</td>\n",
       "      <td>5.9</td>\n",
       "    </tr>\n",
       "    <tr>\n",
       "      <th>2020</th>\n",
       "      <td>7.7</td>\n",
       "      <td>14.0</td>\n",
       "      <td>14.8</td>\n",
       "      <td>11.7</td>\n",
       "      <td>8.6</td>\n",
       "    </tr>\n",
       "  </tbody>\n",
       "</table>\n",
       "</div>"
      ],
      "text/plain": [
       "      20대   30대   40대   50대  60대이상\n",
       "2019  8.3  15.1  15.6  11.9    5.9\n",
       "2020  7.7  14.0  14.8  11.7    8.6"
      ]
     },
     "execution_count": 11,
     "metadata": {},
     "output_type": "execute_result"
    }
   ],
   "source": [
    "ag = pd.DataFrame({\n",
    "    '20대':[8.3,7.7],\n",
    "    '30대':[15.1,14],\n",
    "    '40대':[15.6,14.8],\n",
    "    '50대':[11.9,11.7],\n",
    "    '60대이상':[5.9,8.6]},\n",
    "    index=('2019','2020'))\n",
    "ag"
   ]
  },
  {
   "cell_type": "code",
   "execution_count": null,
   "id": "9e435ad6",
   "metadata": {
    "id": "9e435ad6",
    "outputId": "bd68d508-6eab-472e-8775-d55dcd6e14b9"
   },
   "outputs": [
    {
     "name": "stdout",
     "output_type": "stream",
     "text": [
      "1.41 20\n",
      "2.56 30\n",
      "2.64 40\n",
      "2.02 50\n",
      "1.0 60\n"
     ]
    }
   ],
   "source": [
    "# 2019년\n",
    "print(round(8.3/5.9,2),20)\n",
    "print(round(15.1/5.9,2),30)\n",
    "print(round(15.6/5.9,2),40)\n",
    "print(round(11.9/5.9,2),50)\n",
    "print(round(5.9/5.9,2),60)"
   ]
  },
  {
   "cell_type": "code",
   "execution_count": null,
   "id": "a602218c",
   "metadata": {
    "id": "a602218c",
    "outputId": "3fc425e7-eb8d-4beb-8b1b-31c27f8306f2"
   },
   "outputs": [
    {
     "name": "stdout",
     "output_type": "stream",
     "text": [
      "0.9 20\n",
      "1.63 30\n",
      "1.72 40\n",
      "1.36 50\n",
      "1.0 60\n"
     ]
    }
   ],
   "source": [
    "# 2020년\n",
    "print(round(7.7/8.6,2),20)\n",
    "print(round(14/8.6,2),30)\n",
    "print(round(14.8/8.6,2),40)\n",
    "print(round(11.7/8.6,2),50)\n",
    "print(round(8.6/8.6,2),60)"
   ]
  },
  {
   "cell_type": "code",
   "execution_count": null,
   "id": "37be11d9",
   "metadata": {
    "id": "37be11d9",
    "outputId": "5d212ddf-9a13-41c7-83f7-b0534e273def"
   },
   "outputs": [
    {
     "name": "stdout",
     "output_type": "stream",
     "text": [
      "0.93 20\n",
      "0.93 30\n",
      "0.95 40\n",
      "0.98 50\n",
      "1.46 60\n"
     ]
    }
   ],
   "source": [
    "# 2019년도와 2020년도의 소비량 변화 가중\n",
    "#   2020년 / 2019년 \n",
    "print(round(7.7/8.3,2),20)\n",
    "print(round(14/15.1,2),30)\n",
    "print(round(14.8/15.6,2),40)\n",
    "print(round(11.7/11.9,2),50)\n",
    "print(round(8.6/5.9,2),60)"
   ]
  },
  {
   "cell_type": "code",
   "execution_count": null,
   "id": "8658c794",
   "metadata": {
    "id": "8658c794",
    "outputId": "f30c18d6-4c95-4984-e05b-68880696d760"
   },
   "outputs": [
    {
     "data": {
      "text/html": [
       "<div>\n",
       "<style scoped>\n",
       "    .dataframe tbody tr th:only-of-type {\n",
       "        vertical-align: middle;\n",
       "    }\n",
       "\n",
       "    .dataframe tbody tr th {\n",
       "        vertical-align: top;\n",
       "    }\n",
       "\n",
       "    .dataframe thead th {\n",
       "        text-align: right;\n",
       "    }\n",
       "</style>\n",
       "<table border=\"1\" class=\"dataframe\">\n",
       "  <thead>\n",
       "    <tr style=\"text-align: right;\">\n",
       "      <th></th>\n",
       "      <th>id</th>\n",
       "      <th>cusno</th>\n",
       "      <th>gender</th>\n",
       "      <th>age</th>\n",
       "      <th>region</th>\n",
       "      <th>product_19</th>\n",
       "      <th>product_20</th>\n",
       "      <th>price_19</th>\n",
       "      <th>price_20</th>\n",
       "      <th>quantity_19</th>\n",
       "      <th>quantity_20</th>\n",
       "      <th>amount_19</th>\n",
       "      <th>amount_20</th>\n",
       "      <th>sales</th>\n",
       "    </tr>\n",
       "  </thead>\n",
       "  <tbody>\n",
       "    <tr>\n",
       "      <th>0</th>\n",
       "      <td>1</td>\n",
       "      <td>6353</td>\n",
       "      <td>1</td>\n",
       "      <td>60</td>\n",
       "      <td>10</td>\n",
       "      <td>20</td>\n",
       "      <td>10</td>\n",
       "      <td>41514.119153</td>\n",
       "      <td>38879.374710</td>\n",
       "      <td>51</td>\n",
       "      <td>82</td>\n",
       "      <td>8.603194e+07</td>\n",
       "      <td>9.671552e+07</td>\n",
       "      <td>1</td>\n",
       "    </tr>\n",
       "    <tr>\n",
       "      <th>1</th>\n",
       "      <td>2</td>\n",
       "      <td>3303</td>\n",
       "      <td>1</td>\n",
       "      <td>30</td>\n",
       "      <td>2</td>\n",
       "      <td>10</td>\n",
       "      <td>30</td>\n",
       "      <td>49897.384271</td>\n",
       "      <td>8055.738758</td>\n",
       "      <td>25</td>\n",
       "      <td>84</td>\n",
       "      <td>2.299187e+08</td>\n",
       "      <td>1.390583e+07</td>\n",
       "      <td>0</td>\n",
       "    </tr>\n",
       "    <tr>\n",
       "      <th>2</th>\n",
       "      <td>3</td>\n",
       "      <td>5176</td>\n",
       "      <td>1</td>\n",
       "      <td>50</td>\n",
       "      <td>1</td>\n",
       "      <td>10</td>\n",
       "      <td>30</td>\n",
       "      <td>48377.459443</td>\n",
       "      <td>44103.258230</td>\n",
       "      <td>30</td>\n",
       "      <td>35</td>\n",
       "      <td>7.928354e+07</td>\n",
       "      <td>1.601857e+08</td>\n",
       "      <td>1</td>\n",
       "    </tr>\n",
       "    <tr>\n",
       "      <th>3</th>\n",
       "      <td>4</td>\n",
       "      <td>6900</td>\n",
       "      <td>0</td>\n",
       "      <td>30</td>\n",
       "      <td>10</td>\n",
       "      <td>10</td>\n",
       "      <td>30</td>\n",
       "      <td>39213.517830</td>\n",
       "      <td>15319.330381</td>\n",
       "      <td>67</td>\n",
       "      <td>1</td>\n",
       "      <td>4.375164e+08</td>\n",
       "      <td>5.759794e+07</td>\n",
       "      <td>0</td>\n",
       "    </tr>\n",
       "    <tr>\n",
       "      <th>4</th>\n",
       "      <td>5</td>\n",
       "      <td>4779</td>\n",
       "      <td>0</td>\n",
       "      <td>50</td>\n",
       "      <td>8</td>\n",
       "      <td>10</td>\n",
       "      <td>20</td>\n",
       "      <td>35841.433123</td>\n",
       "      <td>6300.230553</td>\n",
       "      <td>84</td>\n",
       "      <td>27</td>\n",
       "      <td>2.875564e+08</td>\n",
       "      <td>7.463441e+07</td>\n",
       "      <td>0</td>\n",
       "    </tr>\n",
       "  </tbody>\n",
       "</table>\n",
       "</div>"
      ],
      "text/plain": [
       "   id  cusno  gender  age  region  product_19  product_20      price_19  \\\n",
       "0   1   6353       1   60      10          20          10  41514.119153   \n",
       "1   2   3303       1   30       2          10          30  49897.384271   \n",
       "2   3   5176       1   50       1          10          30  48377.459443   \n",
       "3   4   6900       0   30      10          10          30  39213.517830   \n",
       "4   5   4779       0   50       8          10          20  35841.433123   \n",
       "\n",
       "       price_20  quantity_19  quantity_20     amount_19     amount_20  sales  \n",
       "0  38879.374710           51           82  8.603194e+07  9.671552e+07      1  \n",
       "1   8055.738758           25           84  2.299187e+08  1.390583e+07      0  \n",
       "2  44103.258230           30           35  7.928354e+07  1.601857e+08      1  \n",
       "3  15319.330381           67            1  4.375164e+08  5.759794e+07      0  \n",
       "4   6300.230553           84           27  2.875564e+08  7.463441e+07      0  "
      ]
     },
     "metadata": {},
     "output_type": "display_data"
    }
   ],
   "source": [
    "df_cu.loc[df_cu['age'] == 20,'amount_19'] = df_cu.amount_19 *1.41\n",
    "df_cu.loc[df_cu['age'] == 30,'amount_19'] = df_cu.amount_19 *2.56\n",
    "df_cu.loc[df_cu['age'] == 40,'amount_19'] = df_cu.amount_19 *2.64\n",
    "df_cu.loc[df_cu['age'] == 50,'amount_19'] = df_cu.amount_19 *2.02\n",
    "\n",
    "df_cu.loc[df_cu['age'] == 20,'amount_20'] = df_cu.amount_20 *0.9\n",
    "df_cu.loc[df_cu['age'] == 30,'amount_20'] = df_cu.amount_20 *1.63\n",
    "df_cu.loc[df_cu['age'] == 40,'amount_20'] = df_cu.amount_20 *1.72\n",
    "df_cu.loc[df_cu['age'] == 50,'amount_20'] = df_cu.amount_20 *1.36\n",
    "\n",
    "df_cu.loc[df_cu['age'] == 20,'amount_20'] = df_cu.amount_20 *0.93\n",
    "df_cu.loc[df_cu['age'] == 30,'amount_20'] = df_cu.amount_20 *0.93\n",
    "df_cu.loc[df_cu['age'] == 40,'amount_20'] = df_cu.amount_20 *0.95\n",
    "df_cu.loc[df_cu['age'] == 50,'amount_20'] = df_cu.amount_20 *0.98\n",
    "df_cu.loc[df_cu['age'] == 60,'amount_20'] = df_cu.amount_20 *1.46\n",
    "\n",
    "sacr = np.where(df_cu.amount_19 <= df_cu.amount_20,1,0)\n",
    "df_cu.sales = sacr\n",
    "\n",
    "display(df_cu.head())"
   ]
  },
  {
   "cell_type": "code",
   "execution_count": null,
   "id": "281c745a",
   "metadata": {
    "id": "281c745a",
    "outputId": "183706a5-724f-451c-9d29-f92faafb8f35"
   },
   "outputs": [
    {
     "data": {
      "text/html": [
       "<div>\n",
       "<style scoped>\n",
       "    .dataframe tbody tr th:only-of-type {\n",
       "        vertical-align: middle;\n",
       "    }\n",
       "\n",
       "    .dataframe tbody tr th {\n",
       "        vertical-align: top;\n",
       "    }\n",
       "\n",
       "    .dataframe thead th {\n",
       "        text-align: right;\n",
       "    }\n",
       "</style>\n",
       "<table border=\"1\" class=\"dataframe\">\n",
       "  <thead>\n",
       "    <tr style=\"text-align: right;\">\n",
       "      <th></th>\n",
       "      <th>age</th>\n",
       "      <th>amount_19</th>\n",
       "      <th>amount_20</th>\n",
       "      <th>sales</th>\n",
       "    </tr>\n",
       "  </thead>\n",
       "  <tbody>\n",
       "    <tr>\n",
       "      <th>0</th>\n",
       "      <td>60</td>\n",
       "      <td>8.603194e+07</td>\n",
       "      <td>9.671552e+07</td>\n",
       "      <td>1</td>\n",
       "    </tr>\n",
       "    <tr>\n",
       "      <th>1</th>\n",
       "      <td>30</td>\n",
       "      <td>2.299187e+08</td>\n",
       "      <td>1.390583e+07</td>\n",
       "      <td>0</td>\n",
       "    </tr>\n",
       "    <tr>\n",
       "      <th>2</th>\n",
       "      <td>50</td>\n",
       "      <td>7.928354e+07</td>\n",
       "      <td>1.601857e+08</td>\n",
       "      <td>1</td>\n",
       "    </tr>\n",
       "    <tr>\n",
       "      <th>3</th>\n",
       "      <td>30</td>\n",
       "      <td>4.375164e+08</td>\n",
       "      <td>5.759794e+07</td>\n",
       "      <td>0</td>\n",
       "    </tr>\n",
       "    <tr>\n",
       "      <th>4</th>\n",
       "      <td>50</td>\n",
       "      <td>2.875564e+08</td>\n",
       "      <td>7.463441e+07</td>\n",
       "      <td>0</td>\n",
       "    </tr>\n",
       "    <tr>\n",
       "      <th>...</th>\n",
       "      <td>...</td>\n",
       "      <td>...</td>\n",
       "      <td>...</td>\n",
       "      <td>...</td>\n",
       "    </tr>\n",
       "    <tr>\n",
       "      <th>995</th>\n",
       "      <td>60</td>\n",
       "      <td>1.070957e+08</td>\n",
       "      <td>1.036799e+08</td>\n",
       "      <td>0</td>\n",
       "    </tr>\n",
       "    <tr>\n",
       "      <th>996</th>\n",
       "      <td>20</td>\n",
       "      <td>3.919731e+07</td>\n",
       "      <td>1.824466e+07</td>\n",
       "      <td>0</td>\n",
       "    </tr>\n",
       "    <tr>\n",
       "      <th>997</th>\n",
       "      <td>60</td>\n",
       "      <td>2.043360e+07</td>\n",
       "      <td>2.286170e+08</td>\n",
       "      <td>1</td>\n",
       "    </tr>\n",
       "    <tr>\n",
       "      <th>998</th>\n",
       "      <td>20</td>\n",
       "      <td>5.503191e+07</td>\n",
       "      <td>4.310249e+06</td>\n",
       "      <td>0</td>\n",
       "    </tr>\n",
       "    <tr>\n",
       "      <th>999</th>\n",
       "      <td>60</td>\n",
       "      <td>2.264900e+06</td>\n",
       "      <td>8.158724e+07</td>\n",
       "      <td>1</td>\n",
       "    </tr>\n",
       "  </tbody>\n",
       "</table>\n",
       "<p>1000 rows × 4 columns</p>\n",
       "</div>"
      ],
      "text/plain": [
       "     age     amount_19     amount_20  sales\n",
       "0     60  8.603194e+07  9.671552e+07      1\n",
       "1     30  2.299187e+08  1.390583e+07      0\n",
       "2     50  7.928354e+07  1.601857e+08      1\n",
       "3     30  4.375164e+08  5.759794e+07      0\n",
       "4     50  2.875564e+08  7.463441e+07      0\n",
       "..   ...           ...           ...    ...\n",
       "995   60  1.070957e+08  1.036799e+08      0\n",
       "996   20  3.919731e+07  1.824466e+07      0\n",
       "997   60  2.043360e+07  2.286170e+08      1\n",
       "998   20  5.503191e+07  4.310249e+06      0\n",
       "999   60  2.264900e+06  8.158724e+07      1\n",
       "\n",
       "[1000 rows x 4 columns]"
      ]
     },
     "execution_count": 16,
     "metadata": {},
     "output_type": "execute_result"
    }
   ],
   "source": [
    "df_cu[['age','amount_19','amount_20','sales']]"
   ]
  },
  {
   "cell_type": "code",
   "execution_count": null,
   "id": "38ff436c",
   "metadata": {
    "id": "38ff436c",
    "outputId": "3b6090bd-27f3-4ee8-857d-7f2e3b3aac27"
   },
   "outputs": [
    {
     "data": {
      "text/plain": [
       "<AxesSubplot:xlabel='age', ylabel='amount_19'>"
      ]
     },
     "execution_count": 17,
     "metadata": {},
     "output_type": "execute_result"
    },
    {
     "data": {
      "image/png": "[encoded data removed]",
      "text/plain": [
       "<Figure size 432x288 with 1 Axes>"
      ]
     },
     "metadata": {
      "needs_background": "light"
     },
     "output_type": "display_data"
    }
   ],
   "source": [
    "df_cu.plot(x='age',y='amount_19',kind='scatter')"
   ]
  },
  {
   "cell_type": "code",
   "execution_count": null,
   "id": "bbfc63fb",
   "metadata": {
    "id": "bbfc63fb",
    "outputId": "dec50dd8-a299-49f5-83eb-54cc9adf19e1"
   },
   "outputs": [
    {
     "data": {
      "text/plain": [
       "<AxesSubplot:xlabel='age', ylabel='amount_20'>"
      ]
     },
     "execution_count": 18,
     "metadata": {},
     "output_type": "execute_result"
    },
    {
     "data": {
      "image/png": "[encoded data removed]",
      "text/plain": [
       "<Figure size 432x288 with 1 Axes>"
      ]
     },
     "metadata": {
      "needs_background": "light"
     },
     "output_type": "display_data"
    }
   ],
   "source": [
    "df_cu.plot(x='age',y='amount_20',kind='scatter')"
   ]
  },
  {
   "cell_type": "code",
   "execution_count": null,
   "id": "6fcded56",
   "metadata": {
    "id": "6fcded56",
    "outputId": "6feeba1f-46b6-4fa2-ee3d-30109c7a6c6a"
   },
   "outputs": [
    {
     "data": {
      "text/plain": [
       "<AxesSubplot:>"
      ]
     },
     "execution_count": 19,
     "metadata": {},
     "output_type": "execute_result"
    },
    {
     "data": {
      "image/png": "[encoded data removed]",
      "text/plain": [
       "<Figure size 432x288 with 1 Axes>"
      ]
     },
     "metadata": {
      "needs_background": "light"
     },
     "output_type": "display_data"
    }
   ],
   "source": [
    "df_cu[['amount_19','amount_20']].plot(kind='box')"
   ]
  }
 ],
 "metadata": {
  "colab": {
   "name": "07-06 과제 윤정준.ipynb",
   "provenance": []
  },
  "kernelspec": {
   "display_name": "Python 3 (ipykernel)",
   "language": "python",
   "name": "python3"
  },
  "language_info": {
   "codemirror_mode": {
    "name": "ipython",
    "version": 3
   },
   "file_extension": ".py",
   "mimetype": "text/x-python",
   "name": "python",
   "nbconvert_exporter": "python",
   "pygments_lexer": "ipython3",
   "version": "3.8.13"
  },
  "toc": {
   "base_numbering": 1,
   "nav_menu": {},
   "number_sections": true,
   "sideBar": true,
   "skip_h1_title": false,
   "title_cell": "Table of Contents",
   "title_sidebar": "Contents",
   "toc_cell": false,
   "toc_position": {},
   "toc_section_display": true,
   "toc_window_display": false
  }
 },
 "nbformat": 4,
 "nbformat_minor": 5
}
