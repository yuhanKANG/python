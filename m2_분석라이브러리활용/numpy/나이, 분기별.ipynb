{
 "cells": [
  {
   "cell_type": "code",
   "execution_count": null,
   "id": "dd403914",
   "metadata": {},
   "outputs": [],
   "source": [
    "li = []\n",
    "for i in range(10,71):\n",
    "    if i < 20 :\n",
    "        for j in range(300): # \n",
    "            li.append(i)\n",
    "    elif i< 30 :\n",
    "        for j in range(400): # \n",
    "            li.append(i)\n",
    "    elif i < 40 :\n",
    "        for j in range(400): # \n",
    "            li.append(i)\n",
    "    elif i < 50 :\n",
    "        for j in range(200): # \n",
    "            li.append(i)\n",
    "    elif i < 60 :\n",
    "        for j in range(100): #  \n",
    "            li.append(i)\n",
    "    else :\n",
    "        for j in range(50): # \n",
    "            li.append(i)\n",
    "        \n",
    "age=np.random.choice(li,size=10000)\n",
    "df2['age'] = age\n"
   ]
  },
  {
   "cell_type": "code",
   "execution_count": null,
   "id": "c18adfb3",
   "metadata": {},
   "outputs": [],
   "source": [
    "date_li = []\n",
    "for i in pd.date_range('2020-01-01','2021-12-31',freq='D'):\n",
    "    if i in pd.date_range('2020-01-01','2020-03-01',freq='D') :\n",
    "        for j in range(1250): \n",
    "            li.append(i)\n",
    "    elif i in pd.date_range('2020-03-01','2020-06-01',freq='D') :\n",
    "        for j in range(1250): \n",
    "            li.append(i)\n",
    "    elif i in pd.date_range('2020-06-01','2020-09-01',freq='D') :\n",
    "        for j in range(round(1250/2)): \n",
    "            li.append(i)\n",
    "    elif i in pd.date_range('2020-09-01','2021-01-01',freq='D') :\n",
    "        for j in range(1250): \n",
    "            li.append(i)\n",
    "    elif i in pd.date_range('2021-01-01','2021-03-01',freq='D') :\n",
    "        for j in range(1250): \n",
    "            li.append(i)\n",
    "    elif i in pd.date_range('2021-03-01','2021-06-01',freq='D') :\n",
    "        for j in range(1250): \n",
    "            li.append(i)\n",
    "    elif i in pd.date_range('2021-06-01','2021-09-01',freq='D') :\n",
    "        for j in range(1250): \n",
    "            li.append(i)\n",
    "    else :\n",
    "        for j in range(1250): \n",
    "            li.append(i)\n",
    "        \n",
    "df2['date']=np.random.choice(date_list,size=10000)"
   ]
  }
 ],
 "metadata": {
  "kernelspec": {
   "display_name": "Python 3 (ipykernel)",
   "language": "python",
   "name": "python3"
  },
  "language_info": {
   "codemirror_mode": {
    "name": "ipython",
    "version": 3
   },
   "file_extension": ".py",
   "mimetype": "text/x-python",
   "name": "python",
   "nbconvert_exporter": "python",
   "pygments_lexer": "ipython3",
   "version": "3.8.13"
  }
 },
 "nbformat": 4,
 "nbformat_minor": 5
}
