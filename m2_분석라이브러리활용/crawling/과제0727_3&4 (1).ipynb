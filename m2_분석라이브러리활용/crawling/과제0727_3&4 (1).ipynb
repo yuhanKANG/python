{
 "cells": [
  {
   "cell_type": "markdown",
   "id": "1a6b16c3",
   "metadata": {},
   "source": [
    "## 과제0727_3 네이버 사이트 불러오기 > 로그인 이동 > 홈 이동 > 검색어('빅데이터') 입력, 실행 > ' a' 태그 href 속성을 모두 출력"
   ]
  },
  {
   "cell_type": "code",
   "execution_count": null,
   "id": "8dae8179",
   "metadata": {},
   "outputs": [],
   "source": [
    "from time import sleep\n",
    "import selenium\n",
    "from selenium import webdriver\n",
    "from selenium.webdriver.common.keys import Keys\n",
    "from selenium.webdriver.common.by import By\n",
    "\n",
    "path = 'C:/cakd7/tool/chromedriver.exe'\n",
    "\n",
    "options = webdriver.ChromeOptions() #chrome 을 부르는 옵션 변수 생성\n",
    "options.add_argument('window_size=1920,1080') # 위도우창 크기 지정\n",
    "\n",
    "driver = webdriver.Chrome(path, options=options)  # 웹 브라우저를 제어할 수 있는 드라이브를 생성\n",
    "driver.maximize_window() # 윈도우창 크기를 최대치로 키운다\n",
    "driver.implicitly_wait(time_to_wait=5) # 5초간의 암묵적 대기\n",
    "driver.get(url='https://naver.com') # 원하는 사이트를 연다\n",
    "\n",
    "login = driver.find_element(By.XPATH, '//*[@id=\"account\"]/a') # 로그인 창으로 가기 위한 로그인 버튼 경로를 넣어준다\n",
    "login.send_keys(Keys.RETURN) # 버튼을 실행시킨다\n",
    "sleep(2) # 잠시 대기 \n",
    "\n",
    "driver.back() # 다시 메인으로 돌아가기\n",
    "sleep(2) # 잠시 대기 \n",
    "\n",
    "search_box = driver.find_element(By.XPATH, '//*[@id=\"query\"]') # 검색창의 경로를 XPATH 으로 넣어준다\n",
    "search_box.send_keys('빅데이터') # 검색하고 싶은 키워드 입력\n",
    "search_box.send_keys(Keys.RETURN) # 검색 실행시킨다\n",
    "\n",
    "links = driver.find_elements(By.TAG_NAME,'a') # 원하는 내용 위치 잡아준다. a 태그들만 불러온다\n",
    "for link in links: \n",
    "    link = link.get_attribute('href') #a 태그의 href 속성의 문자열들만 불러온다\n",
    "    if link is None: #none이면 패스\n",
    "        pass\n",
    "    elif link.startswith('http') : # 링크만 원해서 http로 시작하는 것만 출력한다. \n",
    "        print(link)\n",
    "        print('-----------------LINK-------------------')\n",
    "    else:\n",
    "        pass\n",
    "\n",
    "sleep(4)\n",
    "driver.close() # 창을 끈다."
   ]
  },
  {
   "cell_type": "markdown",
   "id": "8ed6ccd9",
   "metadata": {},
   "source": [
    "## 0727_4 마일리지 추출"
   ]
  },
  {
   "cell_type": "code",
   "execution_count": null,
   "id": "26d59339",
   "metadata": {},
   "outputs": [],
   "source": [
    "import time\n",
    "import selenium\n",
    "from selenium import webdriver\n",
    "import re\n",
    "\n",
    "driver = webdriver.Chrome(path)\n",
    "driver.get('https://www.hanbit.co.kr/')\n",
    "element = driver.find_element(By.CLASS_NAME, 'login') # 로그인사이트로 들어가기\n",
    "element.click() # 버튼 실행\n",
    "\n",
    "m_id =\n",
    "m_pw =\n",
    "\n",
    "element= driver.find_element(By.ID, 'm_id') # 아이디 입력창을 불러온다\n",
    "element.send_keys(m_id) \n",
    "time.sleep(1)\n",
    "element = driver.find_element(By.ID,'m_passwd') # 비밀번호 입력창을 불러온다\n",
    "element.send_keys(m_pw)\n",
    "time.sleep(1)\n",
    "element = driver.find_element(By.CLASS_NAME, 'btn_login') # 로그인 버튼 경로\n",
    "element.click() # 로그인 버튼 실행\n",
    "time.sleep(1)\n",
    "element = driver.find_element(By.XPATH, '//*[@id=\"wrap_nav\"]/ul[2]/li[3]/a') # 마이한빛 페이지 경로\n",
    "element.click()\n",
    "\n",
    "mileage = driver.find_element(By.XPATH, '//*[@id=\"container\"]/div/div[2]/dl[1]/dd/span') # 마일리지 경로\n",
    "user = driver.find_element(By.XPATH, '//*[@id=\"container\"]/div/div[1]/div/p')  # 이름 경로\n",
    "user = re.search(r'(\\w+)',user.text)   # 실제로 이름이 괄호 안에 있기 때문에 r 을 사용해서 raw string 으로 정해준다.\n",
    "\n",
    "print(f' {user.group()}님의 현재 마일리지는 {mileage.text} 입니다.')\n",
    "\n",
    "sleep(1)\n",
    "driver.close()"
   ]
  }
 ],
 "metadata": {
  "kernelspec": {
   "display_name": "Python 3 (ipykernel)",
   "language": "python",
   "name": "python3"
  },
  "language_info": {
   "codemirror_mode": {
    "name": "ipython",
    "version": 3
   },
   "file_extension": ".py",
   "mimetype": "text/x-python",
   "name": "python",
   "nbconvert_exporter": "python",
   "pygments_lexer": "ipython3",
   "version": "3.8.13"
  }
 },
 "nbformat": 4,
 "nbformat_minor": 5
}
