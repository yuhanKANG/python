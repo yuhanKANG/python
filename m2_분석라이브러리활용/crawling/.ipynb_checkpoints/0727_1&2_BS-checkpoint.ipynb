{
 "cells": [
  {
   "cell_type": "markdown",
   "id": "c1a9e894",
   "metadata": {
    "id": "c1a9e894"
   },
   "source": [
    "## 과제0727_1\n",
    "-코스피 지수, 등락폭 및 등락율을 출력하세요."
   ]
  },
  {
   "cell_type": "code",
   "execution_count": null,
   "id": "3317309c",
   "metadata": {
    "id": "3317309c"
   },
   "outputs": [],
   "source": [
    "import requests\n",
    "from bs4 import BeautifulSoup\n",
    "\n",
    "# 네이버 금융 국내증시 메인 사이트 주소\n",
    "url = 'https://finance.naver.com/sise/sise_index.naver?code=KOSPI'\n",
    "html = requests.get(url).text\n",
    "bs = BeautifulSoup(html, 'html.parser')\n",
    "\n",
    "texts = bs.find_all(id=['now_value','change_value_and_rate'])\n",
    "kospi =[]\n",
    "for text in texts:\n",
    "    kospi.append(text.get_text())\n",
    "    \n",
    "kospi"
   ]
  },
  {
   "cell_type": "code",
   "execution_count": null,
   "id": "8567d0ea",
   "metadata": {
    "id": "8567d0ea"
   },
   "outputs": [],
   "source": [
    "#예쁘게 출력\n",
    "from datetime import datetime\n",
    "dt = datetime.now()\n",
    "dt = dt.strftime('%Y-%m-%d %H:%M:%S')\n",
    "\n",
    "up_dn = kospi[1].split(' ')[0]\n",
    "up_dn_per = kospi[1].split(' ')[1]\n",
    "\n",
    "print(f'<{dt}> 기준 오늘의 증시')\n",
    "print(f'코스피 지수: {kospi[0]}, 등락폭:{up_dn}, 등락율:{up_dn_per}')"
   ]
  },
  {
   "cell_type": "markdown",
   "id": "4d0f4afd",
   "metadata": {
    "id": "4d0f4afd"
   },
   "source": [
    "## 과제 0727_2\n",
    "네이버 뉴스 검색 사이트에서 검색 키워드와 총 필요한 뉴스기사 수를 입력하면, 요청한 만큼 데이터프레임 형태(col은 title, url)로 출력해주는 크롤링 프로그램을 수행하세요,\n",
    "https://search.naver.com/search.naver?where=news&sm=tab_jum&query=\n"
   ]
  },
  {
   "cell_type": "code",
   "execution_count": 2,
   "id": "22b870f5",
   "metadata": {
    "id": "22b870f5"
   },
   "outputs": [
    {
     "name": "stdout",
     "output_type": "stream",
     "text": [
      "검색 키워드를 입력해주세요ai\n",
      "필요한 뉴스기사의 숫자를 입력해주세요10\n"
     ]
    },
    {
     "data": {
      "text/html": [
       "<div>\n",
       "<style scoped>\n",
       "    .dataframe tbody tr th:only-of-type {\n",
       "        vertical-align: middle;\n",
       "    }\n",
       "\n",
       "    .dataframe tbody tr th {\n",
       "        vertical-align: top;\n",
       "    }\n",
       "\n",
       "    .dataframe thead th {\n",
       "        text-align: right;\n",
       "    }\n",
       "</style>\n",
       "<table border=\"1\" class=\"dataframe\">\n",
       "  <thead>\n",
       "    <tr style=\"text-align: right;\">\n",
       "      <th></th>\n",
       "      <th>title</th>\n",
       "      <th>url</th>\n",
       "    </tr>\n",
       "  </thead>\n",
       "  <tbody>\n",
       "    <tr>\n",
       "      <th>0</th>\n",
       "      <td>KT·서울성모병원, 당뇨 관리 돕는 AI 기술 개발</td>\n",
       "      <td>https://biz.chosun.com/it-science/ict/2022/08/...</td>\n",
       "    </tr>\n",
       "    <tr>\n",
       "      <th>1</th>\n",
       "      <td>삼성전자, AI인재 키워 반도체·디스플레이 연구한다</td>\n",
       "      <td>https://zdnet.co.kr/view/?no=20220807083406</td>\n",
       "    </tr>\n",
       "    <tr>\n",
       "      <th>2</th>\n",
       "      <td>농정원, 스마트농업 AI 경진대회 개최…총상금 1억원</td>\n",
       "      <td>https://www.yna.co.kr/view/AKR2022080806520000...</td>\n",
       "    </tr>\n",
       "    <tr>\n",
       "      <th>3</th>\n",
       "      <td>삼성전자 ‘AI 챌린지’</td>\n",
       "      <td>https://www.chosun.com/economy/tech_it/2022/08...</td>\n",
       "    </tr>\n",
       "    <tr>\n",
       "      <th>4</th>\n",
       "      <td>충북도, AI영재고 카이스트 산하 고교로 설립 추진</td>\n",
       "      <td>https://www.wikitree.co.kr/articles/778793</td>\n",
       "    </tr>\n",
       "    <tr>\n",
       "      <th>5</th>\n",
       "      <td>코트라, 'AI 활용'…중견기업 ESG 모니터링 지원</td>\n",
       "      <td>http://www.edaily.co.kr/news/newspath.asp?news...</td>\n",
       "    </tr>\n",
       "    <tr>\n",
       "      <th>6</th>\n",
       "      <td>네이버-네이버클라우드-충북대병원, AI 활용한 스마트 병원 구축 '맞손'</td>\n",
       "      <td>http://www.newsis.com/view/?id=NISX20220808_00...</td>\n",
       "    </tr>\n",
       "    <tr>\n",
       "      <th>7</th>\n",
       "      <td>KT-NIPA, ICT 벤처에 DX 컨설팅·AI인재 양성 지원</td>\n",
       "      <td>http://www.etnews.com/20220808000071</td>\n",
       "    </tr>\n",
       "    <tr>\n",
       "      <th>8</th>\n",
       "      <td>대구 영진전문대, AI융합기계계열 학술대회 논문상 수상</td>\n",
       "      <td>https://www.news1.kr/articles/4766090</td>\n",
       "    </tr>\n",
       "    <tr>\n",
       "      <th>9</th>\n",
       "      <td>“일주일내 범죄 발생 예측 정확도 90%” AI 도입 득될까?</td>\n",
       "      <td>https://www.hani.co.kr/arti/science/future/105...</td>\n",
       "    </tr>\n",
       "  </tbody>\n",
       "</table>\n",
       "</div>"
      ],
      "text/plain": [
       "                                      title  \\\n",
       "0              KT·서울성모병원, 당뇨 관리 돕는 AI 기술 개발   \n",
       "1              삼성전자, AI인재 키워 반도체·디스플레이 연구한다   \n",
       "2             농정원, 스마트농업 AI 경진대회 개최…총상금 1억원   \n",
       "3                             삼성전자 ‘AI 챌린지’   \n",
       "4              충북도, AI영재고 카이스트 산하 고교로 설립 추진   \n",
       "5             코트라, 'AI 활용'…중견기업 ESG 모니터링 지원   \n",
       "6  네이버-네이버클라우드-충북대병원, AI 활용한 스마트 병원 구축 '맞손'   \n",
       "7        KT-NIPA, ICT 벤처에 DX 컨설팅·AI인재 양성 지원   \n",
       "8            대구 영진전문대, AI융합기계계열 학술대회 논문상 수상   \n",
       "9        “일주일내 범죄 발생 예측 정확도 90%” AI 도입 득될까?   \n",
       "\n",
       "                                                 url  \n",
       "0  https://biz.chosun.com/it-science/ict/2022/08/...  \n",
       "1        https://zdnet.co.kr/view/?no=20220807083406  \n",
       "2  https://www.yna.co.kr/view/AKR2022080806520000...  \n",
       "3  https://www.chosun.com/economy/tech_it/2022/08...  \n",
       "4         https://www.wikitree.co.kr/articles/778793  \n",
       "5  http://www.edaily.co.kr/news/newspath.asp?news...  \n",
       "6  http://www.newsis.com/view/?id=NISX20220808_00...  \n",
       "7               http://www.etnews.com/20220808000071  \n",
       "8              https://www.news1.kr/articles/4766090  \n",
       "9  https://www.hani.co.kr/arti/science/future/105...  "
      ]
     },
     "execution_count": 2,
     "metadata": {},
     "output_type": "execute_result"
    }
   ],
   "source": [
    "from bs4 import BeautifulSoup \n",
    "import urllib\n",
    "import urllib.request as rq\n",
    "import pandas as pd\n",
    "\n",
    "global news_df\n",
    "\n",
    "def News():\n",
    "    global keyword, num, news_df, url,page_num\n",
    "    \n",
    "    keyword = input('검색 키워드를 입력해주세요')\n",
    "    keyword = urllib.parse.quote(keyword) #퍼센트인코딩 #URL에 문자를 표현하는 인코딩방법(URL에 한글이 섞이면 오류 발생)\n",
    "    num = int(input('필요한 뉴스기사의 숫자를 입력해주세요'))\n",
    "    \n",
    "    news_df = pd.DataFrame(columns=['title','url']) \n",
    "    \n",
    "    page_num=1\n",
    "    i=0 #크롤링한 기사의 수\n",
    "    while num > i:\n",
    "        url = 'https://search.naver.com/search.naver?where=news&sm=tab_jum&query='+keyword+'&start='+str(page_num)\n",
    "        html = rq.urlopen(url)\n",
    "        bs = BeautifulSoup(html,'html.parser')\n",
    "        texts = bs.find_all(class_='news_tit')\n",
    "\n",
    "        for text in texts:\n",
    "            news_df.loc[i,'title'] = text.get_text()\n",
    "            news_df.loc[i,'url'] = text['href']\n",
    "            i +=1\n",
    "            if i == num:\n",
    "                break\n",
    "        page_num +=10\n",
    "    return news_df\n",
    "\n",
    "News()"
   ]
  },
  {
   "cell_type": "code",
   "execution_count": null,
   "id": "9db666bb",
   "metadata": {
    "id": "9db666bb"
   },
   "outputs": [],
   "source": []
  },
  {
   "cell_type": "code",
   "execution_count": null,
   "id": "da7f45fd",
   "metadata": {
    "id": "da7f45fd"
   },
   "outputs": [],
   "source": []
  },
  {
   "cell_type": "code",
   "execution_count": null,
   "id": "efbadb73",
   "metadata": {
    "id": "efbadb73"
   },
   "outputs": [],
   "source": []
  },
  {
   "cell_type": "code",
   "execution_count": null,
   "id": "b2bec658",
   "metadata": {
    "id": "b2bec658"
   },
   "outputs": [],
   "source": []
  },
  {
   "cell_type": "code",
   "execution_count": null,
   "id": "1c45f8c7",
   "metadata": {
    "id": "1c45f8c7"
   },
   "outputs": [],
   "source": []
  },
  {
   "cell_type": "code",
   "execution_count": null,
   "id": "61be5030",
   "metadata": {
    "id": "61be5030"
   },
   "outputs": [],
   "source": []
  },
  {
   "cell_type": "code",
   "execution_count": null,
   "id": "c6099c6b",
   "metadata": {
    "id": "c6099c6b"
   },
   "outputs": [],
   "source": []
  },
  {
   "cell_type": "code",
   "execution_count": null,
   "id": "faf3859c",
   "metadata": {
    "id": "faf3859c"
   },
   "outputs": [],
   "source": []
  },
  {
   "cell_type": "code",
   "execution_count": null,
   "id": "311ff2cf",
   "metadata": {
    "id": "311ff2cf"
   },
   "outputs": [],
   "source": []
  },
  {
   "cell_type": "code",
   "execution_count": null,
   "id": "56afaa60",
   "metadata": {
    "id": "56afaa60"
   },
   "outputs": [],
   "source": []
  },
  {
   "cell_type": "code",
   "execution_count": null,
   "id": "ed0ba233",
   "metadata": {
    "id": "ed0ba233"
   },
   "outputs": [],
   "source": []
  },
  {
   "cell_type": "code",
   "execution_count": null,
   "id": "61968496",
   "metadata": {
    "id": "61968496"
   },
   "outputs": [],
   "source": []
  },
  {
   "cell_type": "code",
   "execution_count": null,
   "id": "f987d935",
   "metadata": {
    "id": "f987d935"
   },
   "outputs": [],
   "source": []
  },
  {
   "cell_type": "code",
   "execution_count": null,
   "id": "36188e89",
   "metadata": {
    "id": "36188e89"
   },
   "outputs": [],
   "source": []
  }
 ],
 "metadata": {
  "colab": {
   "name": "0727_1&2_BS.ipynb",
   "provenance": []
  },
  "kernelspec": {
   "display_name": "Python 3 (ipykernel)",
   "language": "python",
   "name": "python3"
  },
  "language_info": {
   "codemirror_mode": {
    "name": "ipython",
    "version": 3
   },
   "file_extension": ".py",
   "mimetype": "text/x-python",
   "name": "python",
   "nbconvert_exporter": "python",
   "pygments_lexer": "ipython3",
   "version": "3.8.13"
  },
  "toc": {
   "base_numbering": 1,
   "nav_menu": {},
   "number_sections": true,
   "sideBar": true,
   "skip_h1_title": false,
   "title_cell": "Table of Contents",
   "title_sidebar": "Contents",
   "toc_cell": false,
   "toc_position": {},
   "toc_section_display": true,
   "toc_window_display": false
  }
 },
 "nbformat": 4,
 "nbformat_minor": 5
}
