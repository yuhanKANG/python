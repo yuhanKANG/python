{
 "cells": [
  {
   "cell_type": "markdown",
   "id": "750c5320",
   "metadata": {},
   "source": [
    "#### 셀레니움 함수\n",
    "\n",
    "- https://goodthings4me.tistory.com/696\n",
    "\n",
    "- from selenium.webdriver.common.by import By\n",
    "\n",
    "- find_element(By.ID, \" \"): id 속성을 사용하여 접근\n",
    "- find_element(s)(By.CLASS_NAME, \" \"): 클래스를 사용하여 접근\n",
    "- find_element(s)(By.NAME, \" \"): name 속성을 사용하여 접근\n",
    "- find_element(s)(By.XPATH, \" \"): xpath 속성을 사용하여 접근. 많이씀\n",
    "- find_element(s)(By.LINK_TEXT, \" \"): 앵커태그(a 태그)에 사용되는 텍스트로 접근 \n",
    "- find_element(s)(By.PARTIAL_LINK_TEXT, \" \"): 앵커태그(a 태그)에 사용되는 일부 텍스트로 접근\n",
    "- find_element(s)(By.TAG_NAME, \" \"): 태그를 사용하여 접근\n",
    "- find_element(s)(By.CSS_SELECTOR, \" \"): CSS 선택자를 사용하여 접근. 많이씀\n",
    "\n",
    "셀레니움 사용법 : https://greeksharifa.github.io/references/2020/10/30/python-selenium-usage/ \n",
    "\n",
    "셀레니움 사용법(변경.v4): https://workingwithpython.com/howtouseselenium-3/\n"
   ]
  },
  {
   "cell_type": "code",
   "execution_count": null,
   "id": "9bfe2092",
   "metadata": {},
   "outputs": [],
   "source": [
    "!pip install selenium"
   ]
  },
  {
   "cell_type": "code",
   "execution_count": 9,
   "id": "ba632304",
   "metadata": {},
   "outputs": [],
   "source": [
    "import selenium\n",
    "from selenium import webdriver\n",
    "from selenium.webdriver.common.keys import Keys\n",
    "import warnings\n",
    "warnings.filterwarnings('ignore')\n",
    "\n",
    "url = 'https://naver.com'\n",
    "path = 'C:/cakd7/tool/chromedriver.exe'  # 역슬래시로 둘거면 2개 써줘야함. 주소복사해서 붙이고 수정\n",
    "driver = webdriver.Chrome(path)\n",
    "driver.get(url)   # 크롬창 열기"
   ]
  },
  {
   "cell_type": "code",
   "execution_count": 10,
   "id": "4cb9d901",
   "metadata": {},
   "outputs": [
    {
     "name": "stdout",
     "output_type": "stream",
     "text": [
      "https://www.naver.com/\n"
     ]
    }
   ],
   "source": [
    "print(driver.current_url) # 창닫기\n",
    "driver.close()"
   ]
  },
  {
   "cell_type": "code",
   "execution_count": 13,
   "id": "755cc966",
   "metadata": {},
   "outputs": [
    {
     "name": "stdout",
     "output_type": "stream",
     "text": [
      "https://www.google.com/\n"
     ]
    }
   ],
   "source": [
    "options = webdriver.ChromeOptions()\n",
    "options.add_argument('headless') # 인터넷창 띄우지 않고 작업할때. js같은 작업 할 수 있음\n",
    "driver = webdriver.Chrome(path, options=options)\n",
    "driver.get('https://google.com')\n",
    "print(driver.current_url)\n",
    "driver.close()"
   ]
  },
  {
   "cell_type": "markdown",
   "id": "cc784670",
   "metadata": {},
   "source": [
    "- Implicit waits (암묵적 대기) : 찾으려는 element가 로드될 때까지 지정한 시간만큼 대기할 수 있도록 설정"
   ]
  },
  {
   "cell_type": "code",
   "execution_count": 21,
   "id": "63255191",
   "metadata": {},
   "outputs": [
    {
     "ename": "TypeError",
     "evalue": "presence_of_element_located() takes 1 positional argument but 2 were given",
     "output_type": "error",
     "traceback": [
      "\u001b[1;31m---------------------------------------------------------------------------\u001b[0m",
      "\u001b[1;31mTypeError\u001b[0m                                 Traceback (most recent call last)",
      "Input \u001b[1;32mIn [21]\u001b[0m, in \u001b[0;36m<cell line: 8>\u001b[1;34m()\u001b[0m\n\u001b[0;32m      6\u001b[0m driver\u001b[38;5;241m.\u001b[39mget(url \u001b[38;5;241m=\u001b[39m \u001b[38;5;124m'\u001b[39m\u001b[38;5;124mhttps://google.com\u001b[39m\u001b[38;5;124m'\u001b[39m)\n\u001b[0;32m      8\u001b[0m \u001b[38;5;28;01mtry\u001b[39;00m :\n\u001b[0;32m      9\u001b[0m     element \u001b[38;5;241m=\u001b[39m WebDriverWait(driver, \u001b[38;5;241m5\u001b[39m)\u001b[38;5;241m.\u001b[39muntil(     \u001b[38;5;66;03m# 5초를 기다림. EC가~할때까지\u001b[39;00m\n\u001b[1;32m---> 10\u001b[0m     \u001b[43mEC\u001b[49m\u001b[38;5;241;43m.\u001b[39;49m\u001b[43mpresence_of_element_located\u001b[49m\u001b[43m(\u001b[49m\u001b[43mBy\u001b[49m\u001b[38;5;241;43m.\u001b[39;49m\u001b[43mCLASS_NAME\u001b[49m\u001b[43m,\u001b[49m\u001b[43m \u001b[49m\u001b[38;5;124;43m'\u001b[39;49m\u001b[38;5;124;43mgLFyF\u001b[39;49m\u001b[38;5;124;43m'\u001b[39;49m\u001b[43m)\u001b[49m)\n\u001b[0;32m     12\u001b[0m \u001b[38;5;28;01mfinally\u001b[39;00m:\n\u001b[0;32m     13\u001b[0m     driver\u001b[38;5;241m.\u001b[39mquit()\n",
      "\u001b[1;31mTypeError\u001b[0m: presence_of_element_located() takes 1 positional argument but 2 were given"
     ]
    }
   ],
   "source": [
    "from selenium.webdriver.support.ui import WebDriverWait\n",
    "from selenium.webdriver.support import expected_conditions as EC\n",
    "from selenium.webdriver.common.by import By\n",
    "\n",
    "driver = webdriver.Chrome(path)\n",
    "driver.get(url = 'https://google.com')\n",
    "\n",
    "try :\n",
    "    element = WebDriverWait(driver, 5).until(     # 5초를 기다림. EC가~할때까지\n",
    "    EC.presence_of_element_located(By.CLASS_NAME, 'gLFyF'))\n",
    "    \n",
    "finally:\n",
    "    driver.quit() # 작업이 끝나면 어쨌든 종료\n",
    "    \n",
    "    # 지정한 시간이 끝나면 "
   ]
  },
  {
   "cell_type": "code",
   "execution_count": 26,
   "id": "60e0023e",
   "metadata": {},
   "outputs": [],
   "source": [
    "from time import sleep\n",
    "import selenium\n",
    "from selenium import webdriver\n",
    "from selenium.webdriver.common.keys import Keys\n",
    "\n",
    "options = webdriver.ChromeOptions()\n",
    "options.add_argument('window_size=1920,1080')\n",
    "\n",
    "driver = webdriver.Chrome(path, options=options)\n",
    "driver.maximize_window()\n",
    "driver.implicitly_wait(time_to_wait=5)   # 암묵적 대기  (돌아갈때까지 시간 줌)\n",
    "driver.get(url='https://google.com')\n",
    "\n",
    "# 빅데이터 검색 및 저장\n",
    "from selenium.webdriver.common.by import By\n",
    "\n",
    "#search_box = driver.find_element(By.XPATH, '/html/body/div[1]/div[3]/form/div[1]/div[1]/div[1]/div/div[2]/input')\n",
    "search_box = driver.find_element(By.XPATH, '//*[@class=\"gLFyf gsfi\"]')\n",
    "\n",
    "search_box.send_keys('빅데이터')   # 검색어 입력\n",
    "search_box.send_keys(Keys.RETURN)  # 엔터침"
   ]
  },
  {
   "cell_type": "code",
   "execution_count": 27,
   "id": "9cfa86c1",
   "metadata": {},
   "outputs": [
    {
     "name": "stdout",
     "output_type": "stream",
     "text": [
      "빅데이터란? | 고급 빅데이터 분석 | SAP Insights\n",
      "빅 데이터 프로세싱 - 나무위키:대문\n",
      "빅데이터(Big Data)란? | 알테어\n",
      "K-ICT 빅데이터 센터\n",
      "빅 데이터란 무엇인가 - 대한당뇨병학회\n",
      "국가기술 빅데이터 분석기사\n"
     ]
    }
   ],
   "source": [
    "elements = driver.find_elements(By.XPATH,'//*[@id=\"rso\"]/div/div/div/div/a/h3')\n",
    "# //*[@id=\"rso\"]/div[3]/div/div[1]/div/a/h3에서 여러개를 할것이므로 경로만 남김\n",
    "# 특정 주소 크롤링 할 곳 xpath 가져옴\n",
    "\n",
    "for element in elements :\n",
    "    print(element.text)\n",
    "    # element.get_text()도 가능\n",
    "sleep(3)\n",
    "driver.close()"
   ]
  },
  {
   "cell_type": "markdown",
   "id": "d129c816",
   "metadata": {},
   "source": [
    "- 과제 07/27 (3)\n",
    "\n",
    "네이버 사이트 불러오기 > 로그인 이동 > 홈 이동 > 검색어('빅데이터') 입력, 실행(리턴) :\n",
    "\n",
    " 'a'태그 href 속성을 모두 출력"
   ]
  },
  {
   "cell_type": "code",
   "execution_count": 65,
   "id": "64efb168",
   "metadata": {},
   "outputs": [
    {
     "name": "stdout",
     "output_type": "stream",
     "text": [
      "#lnb\n",
      "#content\n",
      "https://www.naver.com\n",
      "#\n",
      "#\n",
      "#\n",
      "#\n",
      "#\n",
      "https://help.naver.com/support/alias/search/word/word_29.naver\n",
      "https://help.naver.com/support/alias/search/word/word_29.naver\n",
      "https://help.naver.com/support/alias/search/word/word_29.naver\n",
      "#\n",
      "#\n",
      "#\n",
      "#\n",
      "@5@\n",
      "#\n",
      "#\n",
      "#\n",
      "#\n",
      "#\n",
      "#\n",
      "#\n",
      "https://help.naver.com/support/alias/search/word/word_16.naver\n",
      "#\n",
      "https://help.naver.com/support/alias/search/word/word_16.naver\n",
      "https://nid.naver.com/nidlogin.login?url=https%3A%2F%2Fsearch.naver.com%2Fsearch.naver%3Fsm%3Dtab_hty.top%26where%3Dnexearch%26query%3D%25EB%25B9%2585%25EB%258D%25B0%25EC%259D%25B4%25ED%2584%25B0%26oquery%3D%25EB%25B9%2585%25EB%258D%25B0%25EC%259D%25B4%25ED%2584%25B0%2B%25EB%25B6%2584%25EC%2584%259D%25EA%25B8%25B0%25EC%2582%25AC%26tqi%3DhXviulp0Jy0ssB0F4sdssssstrw-273966\n",
      "https://help.naver.com/support/alias/search/word/word_16.naver\n",
      "#\n",
      "https://help.naver.com/support/alias/search/word/word_17.naver\n",
      "https://help.naver.com/support/alias/search/word/word_18.naver\n",
      "#\n",
      "?where=nexearch&sm=tab_jum&query=%EB%B9%85%EB%8D%B0%EC%9D%B4%ED%84%B0\n",
      "?where=image&sm=tab_jum&query=%EB%B9%85%EB%8D%B0%EC%9D%B4%ED%84%B0\n",
      "https://dict.naver.com/search.nhn?dicQuery=%EB%B9%85%EB%8D%B0%EC%9D%B4%ED%84%B0&query=%EB%B9%85%EB%8D%B0%EC%9D%B4%ED%84%B0&target=dic&query_utf=&isOnlyViewEE=\n",
      "?where=news&sm=tab_jum&query=%EB%B9%85%EB%8D%B0%EC%9D%B4%ED%84%B0\n",
      "?where=view&sm=tab_jum&query=%EB%B9%85%EB%8D%B0%EC%9D%B4%ED%84%B0\n",
      "?where=kin&sm=tab_jum&query=%EB%B9%85%EB%8D%B0%EC%9D%B4%ED%84%B0\n",
      "?where=influencer&sm=tab_jum&query=%EB%B9%85%EB%8D%B0%EC%9D%B4%ED%84%B0\n",
      "?where=video&sm=tab_jum&query=%EB%B9%85%EB%8D%B0%EC%9D%B4%ED%84%B0\n",
      "https://search.shopping.naver.com/search/all?where=all&frm=NVSCTAB&query=%EB%B9%85%EB%8D%B0%EC%9D%B4%ED%84%B0\n",
      "https://map.naver.com/v5/search/%EB%B9%85%EB%8D%B0%EC%9D%B4%ED%84%B0\n",
      "#\n",
      "https://search.shopping.naver.com/book/search?query=%EB%B9%85%EB%8D%B0%EC%9D%B4%ED%84%B0\n",
      "https://vibe.naver.com/search?query=%EB%B9%85%EB%8D%B0%EC%9D%B4%ED%84%B0\n",
      "?where=kdic&sm=tab_jum&query=%EB%B9%85%EB%8D%B0%EC%9D%B4%ED%84%B0\n",
      "https://audioclip.naver.com/search/all?keyword=%EB%B9%85%EB%8D%B0%EC%9D%B4%ED%84%B0\n",
      "https://academic.naver.com/search.naver?field=0&query=%EB%B9%85%EB%8D%B0%EC%9D%B4%ED%84%B0\n",
      "#\n",
      "#\n",
      "?where=nexearch&sm=tab_opt&query=%EB%B9%85%EB%8D%B0%EC%9D%B4%ED%84%B0&nso=so%3Ar&nso_open=1\n",
      "?where=nexearch&sm=tab_opt&query=%EB%B9%85%EB%8D%B0%EC%9D%B4%ED%84%B0&nso=so%3Add&nso_open=1\n",
      "?where=nexearch&sm=tab_opt&query=%EB%B9%85%EB%8D%B0%EC%9D%B4%ED%84%B0&nso=p%3Aall&nso_open=1\n",
      "?where=nexearch&sm=tab_opt&query=%EB%B9%85%EB%8D%B0%EC%9D%B4%ED%84%B0&nso=p%3A1h&nso_open=1\n",
      "?where=nexearch&sm=tab_opt&query=%EB%B9%85%EB%8D%B0%EC%9D%B4%ED%84%B0&nso=p%3A1d&nso_open=1\n",
      "?where=nexearch&sm=tab_opt&query=%EB%B9%85%EB%8D%B0%EC%9D%B4%ED%84%B0&nso=p%3A1w&nso_open=1\n",
      "?where=nexearch&sm=tab_opt&query=%EB%B9%85%EB%8D%B0%EC%9D%B4%ED%84%B0&nso=p%3A1m&nso_open=1\n",
      "?where=nexearch&sm=tab_opt&query=%EB%B9%85%EB%8D%B0%EC%9D%B4%ED%84%B0&nso=p%3A3m&nso_open=1\n",
      "?where=nexearch&sm=tab_opt&query=%EB%B9%85%EB%8D%B0%EC%9D%B4%ED%84%B0&nso=p%3A6m&nso_open=1\n",
      "?where=nexearch&sm=tab_opt&query=%EB%B9%85%EB%8D%B0%EC%9D%B4%ED%84%B0&nso=p%3A1y&nso_open=1\n",
      "#\n",
      "#\n",
      "#\n",
      "?where=nexearch&sm=tab_opt&query=%EB%B9%85%EB%8D%B0%EC%9D%B4%ED%84%B0&nso_open=1\n",
      "https://help.naver.com/support/alias/search/integration/intergration_84.naver\n",
      "javascript:void(0);\n",
      "https://saedu.naver.com/help/faq/ncc/view.nhn?faqSeq=704\n",
      "//saedu.naver.com/adbiz/searchad/intro.nhn\n",
      "https://adcr.naver.com/adcr?x=lxPFT2vXnQiA/SLJEjKefP///w==keKu554t8CRRdP8QHKROG2DbkIaDCyF0ScXD95WxqEAujgHWZT5PJXqFIc93fdqULeZsrvgB+Dbal89pvoPd+LiqFk4ac9ujcFKe2TybdGgXleemVSng+hHq+UwVzh+fkB1Om5ECEhthOvKN7jznCG51BT5XPS1lCIqHjlvudBOBPhCpytJjhyREBEugMyJoyb4YvV60tgIXEm62SRVVWUk6AW88XtKoj5t4WsKCZH5bPJfbAdvX9RdsfWdFId2iqAEVkrziJT/ySp2EBC26pHWHslK2lmTQnXYhxz8hNpbcEEeblr2xLLGutVf7y9R9GHV+cA9PU0CnRh1gDgcU/q4habthKf2/NdKIj63Evnb+TzuFrAr4qm9c10cCdCbaPmRBWsHpT1Lf2nA+JGNvJDtDkdrZHFzSy110URs5f+AfXQv5YVxnheLR2QZWyx2VXCk3MGJmyHxiCHqw34bGCRI5je1N9Oy/6nxqYLVqux32SjVNqjNWEUS+dJlgGufJMvtbX4KGCG1gGKHcCRkRL9wkH+L3TdMvVnH3euuc0EUx5bdbyYCwav4sA+EMmt/EIM/9//nx1FfAMwL5ycuGk2s8NXvYvIfqkx/a4IZTs4XAyltKZz4TX6m/NbIv/imkDwNJB+CxDATbl+XAwzRgJ9Mvq719syAmVrZecRtFBANAjI9F6CvIQ3X6+byQzq0tnL9fmF5B5pU5+O0UMPHRl2kINrJmDv9TY0T3yMe4qmRS34e5ftxFMP/br7xCl+NU5L7a1DRGsyWRvigzgVsOaa7tLB7kXKian1Qd/KhvhWQvhjoZiP0z3Dzp7v0xtsC8ueIyjgnHk06setuEJm6FkeXYAqqNPHEX6VsizfzImuJc=\n",
      "https://adcr.naver.com/adcr?x=uz80OtNQ3bvinegGLW6f7v///w==keKu554t8CRRdP8QHKROG2DbkIaDCyF0ScXD95WxqEAujgHWZT5PJXqFIc93fdqULeZsrvgB+Dbal89pvoPd+Lh0V8QW3zpnISkL3DbNHxHt0Mh+5Kb5RZL5CAGWN6fqCoSYMsAeZ9SmhZLHzTPzecxQmOx5FxeSspuSH5NZTwVqQpF8HUPIumsI368fFNF5rVP9nsdfM8FlZ5RsYxfqxxVvCqC9QjNoTskHRMRZGDSoGUTwqF1DtHI4bhiNSHMffFkRz44jLqYlada+CkWsyB47MHX9ZsII2W1bgJcBf/LJxz4P5rBIXsrLQbOpbwTfOWLC9m5834Vwk1ItL8PNK6SpydfV2w8OfcAxHdMW0OBeMXxZFX30vyvjbVbwNvsebw8FRjcMfVtuxmofoGnMB8IBtmDqz7sHQ9Go/f47kqw1onJzKYYFnxJS9ZR/cPKVSDao6yeJ9EUrC7rXKv9FardK5lXi97psVAO0fOeMz4mHGe/DUzlko1Cm3EH5Yv5YyKK2LiJpjP1iJCqhftOfutPERenOdNxv79gwCzqJiLncKeUpMQ2UuKb0HiFJGQ1IQhjobC0a5plfvG3lkTYJcaM8NXvYvIfqkx/a4IZTs4XA/HrPJo60PDoYm032brcpkacAtzyFuByceg2sX3iAyYzW+TxW7TgqwCQKnkgn+aU7dXSYLjRjW4ITGS0N04cBPNDi4KqaGgdEaOlu+uiRriEZdeCybAWOJVZmFQA6/jx3XgKVeXjX/m0O0Tlv3UuGQhDy4yxOS3+VjVdxjUSOm0PfpXMB6arHd44/KieMJHpnhjoZiP0z3Dzp7v0xtsC8ueIyjgnHk06setuEJm6FkebRQNsVxuyvxHQca2QHF0MU=&p=0\n",
      "https://adcr.naver.com/adcr?x=uz80OtNQ3bvinegGLW6f7v///w==keKu554t8CRRdP8QHKROG2DbkIaDCyF0ScXD95WxqEAujgHWZT5PJXqFIc93fdqULeZsrvgB+Dbal89pvoPd+Lh0V8QW3zpnISkL3DbNHxHt0Mh+5Kb5RZL5CAGWN6fqCoSYMsAeZ9SmhZLHzTPzecxQmOx5FxeSspuSH5NZTwVqQpF8HUPIumsI368fFNF5rVP9nsdfM8FlZ5RsYxfqxxVvCqC9QjNoTskHRMRZGDSoGUTwqF1DtHI4bhiNSHMffFkRz44jLqYlada+CkWsyB47MHX9ZsII2W1bgJcBf/LJxz4P5rBIXsrLQbOpbwTfOWLC9m5834Vwk1ItL8PNK6SpydfV2w8OfcAxHdMW0OBeMXxZFX30vyvjbVbwNvsebw8FRjcMfVtuxmofoGnMB8IBtmDqz7sHQ9Go/f47kqw1onJzKYYFnxJS9ZR/cPKVSDao6yeJ9EUrC7rXKv9FardK5lXi97psVAO0fOeMz4mHGe/DUzlko1Cm3EH5Yv5YyKK2LiJpjP1iJCqhftOfutPERenOdNxv79gwCzqJiLncKeUpMQ2UuKb0HiFJGQ1IQhjobC0a5plfvG3lkTYJcaM8NXvYvIfqkx/a4IZTs4XA/HrPJo60PDoYm032brcpkacAtzyFuByceg2sX3iAyYzW+TxW7TgqwCQKnkgn+aU7dXSYLjRjW4ITGS0N04cBPNDi4KqaGgdEaOlu+uiRriEZdeCybAWOJVZmFQA6/jx3XgKVeXjX/m0O0Tlv3UuGQhDy4yxOS3+VjVdxjUSOm0PfpXMB6arHd44/KieMJHpnhjoZiP0z3Dzp7v0xtsC8ueIyjgnHk06setuEJm6FkebRQNsVxuyvxHQca2QHF0MU=&p=1\n",
      "https://adcr.naver.com/adcr?x=bq/1r9u9XES1yyiT1HUOYf///w==kekGzSlxux3yqx/3Ls6x6RupYO+DpdLpS+UPwLcruAb6njpxYm8P4C5UjJKNFg8OI4ndQGYSxEGny3lLZfiP2PwwY/FT4ceWJt9Vw/S3+dIZ7teQJf/af4zzg2QLpppSFnwFdPZRDtQUfqTk/vfV20hKUY1BOcJ82PzYGeYl1/5sMeMOjpvTzGJZym3H9DCGquMUr0eW2JCH0rMl1XkVNd//qJbpeD9pcvDDr6LepKTeEEruBD0X3B+e0y84ZAs0AqTF02rt4+gDAo+yhbe/7PBjz599+c5IH1212wxxMvdZrSk1JIH1AVwQRy4RMt8jOYMYhRVAC/d9lEgZ41BEtTytKB0XfOjbvHP/PF98aI5C/bSE5NMEXRGxuyQcJStAUDssvVatHQZUOl6pkQcaNw0DdQhu7SKL4+lhoxO+WZS5/Bq+HV9Mhn0pu/S3/UBye5ksdvSvLyWTQqBTWpuER8T+Z2DIePc7qv+3LP7yPcTXHUBHffLwc2qewu3G+Fv3aAORdckwYt1TRtAQAXs813+XMHq2NByYHR+r3d+GUajPSXwLWmI2Kjggk4DAwKWlqSIqBk9suZeoSSqu8hly7fqFIOKXTbL7q7tC7q+2DUZ+864tK8nMK6aLeDXBm7HjE9vvHuYxFjdtiVf+rqKKL8vOqD5eY6qLcJVUGWZoCMWaIumPgA45duoLx6iparvWuSYbLdBMzKy/qg7dkCzWDRhqTXQr8LVJinxpu3a13LQQ/yOwtR2iidGOmdJu7ePuVySNwRI6sMbXwL1mnhOdWRdN8dKfb84raGT3pxZdaeVb6pz8V34Fg6B7TdFEXf8Pu54m5hl9pz0q3K+ybqyVersrmW3sZ0A3ayoX2OQJCjDEevf6e0R3RmA4SEpRfIaTvbIGVvJ0o7Kv0sX36D34aP5DUPALPMPVSz+hkLboBA8bteOwE34+umaUPpdXHY0U7TTnxIcojMZ0USa+PYB5bSBlL94/b3JkbPcgOMl8/4STofvCH+3Nbw8k3vmQ0zY8d7amoewHRMcG3HYo2MmEeOQ==\n",
      "https://adcr.naver.com/adcr?x=4TL8Yxq4QQONTCzEATsDGP///w==kekGzSlxux3yqx/3Ls6x6RupYO+DpdLpS+UPwLcruAb6njpxYm8P4C5UjJKNFg8OI4ndQGYSxEGny3lLZfiP2PwwY/FT4ceWJt9Vw/S3+dIZ7teQJf/af4zzg2QLpppSFnwFdPZRDtQUfqTk/vfV20hKUY1BOcJ82PzYGeYl1/5sMeMOjpvTzGJZym3H9DCGquMUr0eW2JCH0rMl1XkVNd//qJbpeD9pcvDDr6LepKTeEEruBD0X3B+e0y84ZAs0AqTF02rt4+gDAo+yhbe/7PBjz599+c5IH1212wxxMvdZrSk1JIH1AVwQRy4RMt8jOYMYhRVAC/d9lEgZ41BEtTytKB0XfOjbvHP/PF98aI5C/bSE5NMEXRGxuyQcJStAUDssvVatHQZUOl6pkQcaNw0DdQhu7SKL4+lhoxO+WZS5/Bq+HV9Mhn0pu/S3/UBye5ksdvSvLyWTQqBTWpuER8T+Z2DIePc7qv+3LP7yPcTXHUBHffLwc2qewu3G+Fv3aAORdckwYt1TRtAQAXs813+XMHq2NByYHR+r3d+GUajPSXwLWmI2Kjggk4DAwKWlqSIqBk9suZeoSSqu8hly7fqFIOKXTbL7q7tC7q+2DUZ+864tK8nMK6aLeDXBm7HjE9vvHuYxFjdtiVf+rqKKL8vOqD5eY6qLcJVUGWZoCMWaIumPgA45duoLx6iparvWuSYbLdBMzKy/qg7dkCzWDRhqTXQr8LVJinxpu3a13LQQ/yOwtR2iidGOmdJu7ePuVySNwRI6sMbXwL1mnhOdWRdN8dKfb84raGT3pxZdaeVb6pz8V34Fg6B7TdFEXf8Pu/paY0EaDQguI6JcbB0zclvekZ35bO1E8L3ECD8l0HI+6Y07DM8QJPUCQFFfq2HLqrENZFuAN7h18BLGutGYjZWRQuMA3hlAeIvZwj/U9mx6s3iT//x5IDpNed3SmITpLO9wg5NySxpcOWNNxjF4tbxvS8Aams3LnoaB6o+B0HdB8mrp8Yc+cJ3oB5BxFLehoxgHAfs0mqlejGLWFrrRqrw==&p=0\n",
      "https://adcr.naver.com/adcr?x=4TL8Yxq4QQONTCzEATsDGP///w==kekGzSlxux3yqx/3Ls6x6RupYO+DpdLpS+UPwLcruAb6njpxYm8P4C5UjJKNFg8OI4ndQGYSxEGny3lLZfiP2PwwY/FT4ceWJt9Vw/S3+dIZ7teQJf/af4zzg2QLpppSFnwFdPZRDtQUfqTk/vfV20hKUY1BOcJ82PzYGeYl1/5sMeMOjpvTzGJZym3H9DCGquMUr0eW2JCH0rMl1XkVNd//qJbpeD9pcvDDr6LepKTeEEruBD0X3B+e0y84ZAs0AqTF02rt4+gDAo+yhbe/7PBjz599+c5IH1212wxxMvdZrSk1JIH1AVwQRy4RMt8jOYMYhRVAC/d9lEgZ41BEtTytKB0XfOjbvHP/PF98aI5C/bSE5NMEXRGxuyQcJStAUDssvVatHQZUOl6pkQcaNw0DdQhu7SKL4+lhoxO+WZS5/Bq+HV9Mhn0pu/S3/UBye5ksdvSvLyWTQqBTWpuER8T+Z2DIePc7qv+3LP7yPcTXHUBHffLwc2qewu3G+Fv3aAORdckwYt1TRtAQAXs813+XMHq2NByYHR+r3d+GUajPSXwLWmI2Kjggk4DAwKWlqSIqBk9suZeoSSqu8hly7fqFIOKXTbL7q7tC7q+2DUZ+864tK8nMK6aLeDXBm7HjE9vvHuYxFjdtiVf+rqKKL8vOqD5eY6qLcJVUGWZoCMWaIumPgA45duoLx6iparvWuSYbLdBMzKy/qg7dkCzWDRhqTXQr8LVJinxpu3a13LQQ/yOwtR2iidGOmdJu7ePuVySNwRI6sMbXwL1mnhOdWRdN8dKfb84raGT3pxZdaeVb6pz8V34Fg6B7TdFEXf8Pu/paY0EaDQguI6JcbB0zclvekZ35bO1E8L3ECD8l0HI+6Y07DM8QJPUCQFFfq2HLqrENZFuAN7h18BLGutGYjZWRQuMA3hlAeIvZwj/U9mx6s3iT//x5IDpNed3SmITpLO9wg5NySxpcOWNNxjF4tbxvS8Aams3LnoaB6o+B0HdB8mrp8Yc+cJ3oB5BxFLehoxgHAfs0mqlejGLWFrrRqrw==&p=1\n",
      "https://adcr.naver.com/adcr?x=7RHid+3xrPHTKpkOXz9QDf///w==kUo46FyhxxlQAuAscWi/KNGWwHOyU4Mez5PtN3WAozfY9uT9/VtiDa4KGNj1r9lI1ELg7yq7YdRUxGKHgQnzJeA1THMkXLpTaIq84nZ42OZK4kdZvhqVqVR+tJECJZa9NSWMYkvUcuRliYnaE0WA6x3FYGJ7lLGWgSyLykXI7mw9EPRp/s6lmFzWvOKqdmTQSfOStmxP5xye7gj2JiFQFA3f28d4Qu97kHKINOKYBH2lmypbteJ20CXsEwkEoU/u3bmarrqhgYOtAc/x3IuAH4HDqOYBwgFX3x5MBO2MKv3BJpGeDJq9yfiMnp7285w2biZ2YUApitaFdAlw92MDsXqaowqPnY7mZIkTjM5jGxgxbvjNXoyN/Y4wj9g+rh2fk0+QpGklcy6kdfP/jekiMTIeE19o8I6O5463hJqTipQTojetoEed3TaMr0r95dcW98gDGf0Rk1c0IsAYiT13dwqZzIQY7ZhArz1Xpozqx7o39dV6IYmZav6L7zNi/cJ0uRHGiRD6QDJruY1e7klTcI6wEPNCdDyUGm+3vzS3SOmBe0YNE6DHiaWujhuWG0tosyVJj91PqamrhB0Vdb8CxmBly1ysG7JxdMDT4U/BWkqJDJfkRt/QllWKYB23w54Kk26an7nixGAUT1ZG32fzQGuAtuoVbNs4F42ltAGOIHs1s+c/nPLK6B6OD5f0r8ntQ1CJWPsTuVnWIZjjBpfauqnSl/Fjc6ta7T8IYxJqxKdf8In/40k/ooH4hEeLWH+MHBK1aZs1p5gTqKX1rWvs4eOGFxXVobTpPhdNVaCHptc2SXeH3pZVqzXaIS88QrOeKlaHDunXvDvq6MnmPJLxhCY5l+cFpldTNjiSwcQuHmM/Dt58vXwS+4P6SsxmWfbveDmopLK3UiIkzI0UCev5mCQC1a2aPObxtgPSQPZ2RiVMZ+1nfYURWfNOXMF3fPs3eaYJ7ofnamTzBBv4d1JvqzA==\n",
      "https://adcr.naver.com/adcr?x=/DAeerCCiyL0o7ypg6sFuf///w==kx0VeeXmOgayNSQ69EstjRdUDrv0qghjWuzDl/YvJJXw+BHIknejjTWKwP8NOm9KWe5v9QZsEQsAoE2PoD29P1LLNTCJs28+YRkt2hhP/pzS86DdhyjS/yWShteRUsd1PahikIUyy2cJ1hwl7sCIbCfgBP5xDRd/j8umAjtF4gGd4CA3VganNRfBUExanZi5+33waSYuPdJIunyFhso5JtnkWXkdikaGbk8vycccPyIgTxlweGaKgT0HotBirwcfFLXgR+Sq95doZCoAncsxszBaEpV/0d19RDvS/pM0lg3F6Z0ug9FxsWVlHEs3tFJcqiO6F2DFd1YrLn1p2b3krO/Wflglb6dQl6kWN+kiocSR5kHM04NsekXufBueAapF8BxZjZIX7ZyO8SkzDvULtXd3u4Jo4cWLSzOsOsbsfrTbiwZOmIWNAdSREUV0g4QAvvjY+ERwFf/uJt8XvWcSH4LsuQ1VuLbs+IzF97JFQyzuCpKj929OWqu27T3YG9LS61PzAIU4ELTOsElwGF2xH/KawXWXSIDKK9O36pw1JYVxgAumC4aT+SRYLLy5LmHM0g4254KG6ERnUvbjeotKQI9kdvcMRefmVEpCDh/DgvBF7cHc+9V3lLiist98YTX3TAJVlk5MnM33tOHUlmGgaGcrvWy6V13VBRwqJl8xeuVjDGGbgFJzXypg9rADinpOK82eIjSV1anm6ssyZqHQ6V2+BLNRLmXSZnntJYQMgAwGw7pyVh+7x8egxwYIrsrsPXAPdK8svhhA3v6ZS6YCy67R1apYnGQFDYhJ5alvwsH7TtrtK6jnxBX2UNhqO8ctKNy1FT6VE3rubASgpWYRscEJIkJnUQ56ybXz8fGnOsn7CkosqVbLZ07z5UUh7ZlXbgKObkChryLpN/zddi7AnbVdLBB23xxSQb/BhuHng3t2N4bAp8RwKUPcSgtNwQsXRWQAaT7q1pum4M8quyg1qYg==\n",
      "https://adcr.naver.com/adcr?x=C4R6P4hfvUNdYHO+EzgGaf///w==ktdtN4L0dPwqhSPDmEGk5hKSvA1zvo9j3ScY07iD16I/83BRsS32agqFPiUJARE3oConrsai1tP81/MRR+jz7WVp6Y/+hDjIaJFAPlEUQvxfY1T3NwPKYj/dHfxzQdiBkwhoapoTqsFQORxk0Ow17PwVkWaZciCZfYxq5Hj542yb0L3JYAGIthfRH/fQNviEDrJdBaN9BVxtMOP1bsOzliozje5ZKyYOXWB4u9Cfqj4G14h8OpGqVcIx352r6Zvz55r6KuGj5J05YPrNkqYZ3eRCtvnhIwlZD8eT/8tFtE5pZzhcFWcTTJbPxXvsTCaC5vXtN1Bs73lqAJfadABAKgbWDTxWQZrmiL3OkTYvFQLhKyVGf/tdgaJUS5H0T6X2vcmghcr920OUXuFMDxez+KqFK272ItkQWU4ZT5XWOEqFx5AsHdDkoix5OaAf+aVCygpAwJdM8Si6xeOgTr+Xit1HLDP6Fma4mYAcFlWcdTKByZRlIuQXw/kqUH9fuRfjAuEwcTeM/FiWztBURjaFI1kz9lVbBKSZaNxk5y5b9RbxgebxNjFlS6EE6eH9Jgv8Zl6aobrxBAsx4WsxDrqddYPLVA756DqLl4XPOsynRDLe/Qdq6HURP5aVkl/zOjbThNl6Z7wZPvG9L0K5Inm9dRjrxb//I7VHcx6Ep/Yo7tNWDxeIPgOUIGdrQs/IXgZTSCOsGdi5xr/VRwMixydJNhBqkskuGbsExYIKa9Uk7el3odH9EXZp+WGcRlzjvP6xihlNmwhLQd6lGMSYLzqprYAjhQmDXBtWicTvk4jDp5i+mZVYu64GkJIF4h6TnrffgEU88144PwQGvGbWFCpUsJzxDQmHQhZSxoZ10ngwNpLR7x9TGiJR1TMrUyiWmdimQWGCmV07Wr3NxBVnmpeLfXrd62HmVqDevNp9SQczr9roRavHSvYIKiCwykRtcRE6KiBDwDgw4k2P/58hyq6aEbQ==\n",
      "https://adcr.naver.com/adcr?x=vXfU7ZOKlwMs3d7Hr0tElP///w==kUo46FyhxxlQAuAscWi/KNP26xImSN+PmATpgpETXpUI1LevOjWyV97CSux4sINxXnNp76H51AdNyVqu2z3Kg9KOJ8U8x4x4yQ15UptblhWcHWvW1+C9zy4PGlC7PJ7tQiMVgKyiBiosGMP+ubI/id6iMvEROBA8i1Jz4QJPa2GBZAEAHt/oHehL0B3cVzxERgjEzzm9EZrpi4jE9M4Et+HzAVchzLIqk4d18aG4v3y8p2RVlIFHdeKGcT12sZLO7zEaoHb9Dv4YvtxQJ84FPSbgj/9XmhVt1vXEapVefj/3H6KeJ0yRFpRE5mXY0A0gldOGj4dAJA3hqX1QtYAtYs6CqbC+J4lJo4ClIFetMx3n6IYN+z18vyw3atTCJ0okIdotcx74wBQW/XLBWoNTNqCyreLFLmSi7ukhEoG1IoQcCxnZ2hHVfe/fTM/yzvBDnJIo6oThd4TufeLZ3fJYiWsls0ymnGgR5iec95lRCdAmdn04bcg8H3paXLE8mp0bKRWltfN91kz0YVCcUt03hG4cUMzz5MsdnhADxrs1ip05PhNOSUzUmJ1f/RBAvAb2b7N/9MG32ThHXFKMZqBb9RwCyNGLy+28JWN2iaSQG77TQaWhSwCe9mAWavEVP/JWLG4fyoFtUsJUvJirlxgewjreK0ZgCariSFecc+iGGGq1aR4KCUR4ig4PT7KP4EryMwrt09KTzwBZqhUMxlcvq7zWe+QQhzzPPaKl7+uCXliXaBuvjQZJ5E1ixhy6OV6iYSo8iMO23OiQx7MRFQGxJCr8DHpcdjBBvnV5jLOUvRffGc3CNqJcah26SQ1zfjbek4PUmNaPl6aw8pexkCfxab/mYZt/5yoqbVKbcmjUjwW+kqvK5w4idkxQMbPgWkt9y1rf7LoOtSFY18pl+pAgZdsV6gDnwV06VL+ODmgh1b9FQy73lV1wDH5W6/atA+EieylqeFSLDTCsfPhlrsx1xwQ==\n",
      "https://adcr.naver.com/adcr?x=TLOujCJLrQYmZl9gYV1ahP///w==k5C7ucnNEZjTxNuwd0LKJJD9/eHJeJx+wqZPn0uoIUCsGkvVgTDq4AgFo6+ffflWkWiM5RWB2+e7Ytwyh6E7nRdtJNJe3DhoGNq7BoacunhvFHQbKnBO/vu6Z5STDlojKVVmQIbI7Mw6OCl8p0+vbKvMI7VKO5OWZ/+Ot7InN4C4u5mTWo2RC6ThgG2VdPhjyqegd4WEYuAgKTckPaOjl+cYJMbYfEf+bEQgdXKgA3TwtMSKbP6/UJOPkyJawjXPRjynxpyZabdVj8RmxwnTEJy5QAQ4uPxzviTkgdRszm3huixokmY5BOJWmRWdc18+Tue9BNuOsel7hKrS/GrxP1Yig8Rq/wE3jbOz5FHoy7/Sny8L/T07okRGRcewDgTaRQS/tNb6zFSzFnm5XMRT7kV9TYrYo8BFlGNNENxZZgdaanXlmSqg0QLPbSttbm4yploCXMnXlt7DUy58HqRPJF6O6uDio0kJl8SQpnJLdbjgZDdaLM05h2yBu9XEA1GkPzcveNpDsiq9axmqL2I71A2XhVULO4Gc1n3bgZ9/JGlCIcyII9KM6J4U5Q7PgaDIgP8+lDS6HLLjKtgksdkxj2M84GqqReSG9v33WAXTuFf1k+ZCUsqrK6zdmg93HClnLaHbLTEx3zw6kEI7ixrXTwogGkm0fxSoBCM+HSDLEOw0U7DnPJ3cWBwOJyoyraMRntaGPc4in2j+o0pXVglcOoR8NgpFgnqtvqHYTVP4FHo0VTKmSZA5ekE6eYLmVKrQTq05YbSCLGN5suZKln8cAR6JEZlKyCJTgFyhQXktHZ0rffdBTP6YJYBu/wHhu52DgTpXF4eEzucq8cfeXg5U3XDWC6n4gc4AjywfVjX1DOGx3AIIwhq8zHeRFv0E5Q4bd6iItH4TpQUCUASvLu/bO4lcgmP8lf80hZoM5NdAqS+i5bQNHa4JGHms4PZnaGGQPvJVW3zE7FRpatLhtRyosUiW1aebxhvASep5tCCftNVw=\n",
      "https://adcr.naver.com/adcr?x=lZ5RqWPVlOdtB8Ws5V2lev///w==k5C7ucnNEZjTxNuwd0LKJJD9/eHJeJx+wqZPn0uoIUCsGkvVgTDq4AgFo6+ffflWkWiM5RWB2+e7Ytwyh6E7nRdtJNJe3DhoGNq7BoacunhvFHQbKnBO/vu6Z5STDlojKVVmQIbI7Mw6OCl8p0+vbKvMI7VKO5OWZ/+Ot7InN4C4u5mTWo2RC6ThgG2VdPhjyqegd4WEYuAgKTckPaOjl+cYJMbYfEf+bEQgdXKgA3TwtMSKbP6/UJOPkyJawjXPRjynxpyZabdVj8RmxwnTEJy5QAQ4uPxzviTkgdRszm3huixokmY5BOJWmRWdc18+Tue9BNuOsel7hKrS/GrxP1Yig8Rq/wE3jbOz5FHoy7/Sny8L/T07okRGRcewDgTaRQS/tNb6zFSzFnm5XMRT7kV9TYrYo8BFlGNNENxZZgdaanXlmSqg0QLPbSttbm4yploCXMnXlt7DUy58HqRPJF6O6uDio0kJl8SQpnJLdbjgZDdaLM05h2yBu9XEA1GkPzcveNpDsiq9axmqL2I71A2XhVULO4Gc1n3bgZ9/JGlCIcyII9KM6J4U5Q7PgaDIgP8+lDS6HLLjKtgksdkxj2M84GqqReSG9v33WAXTuFf1k+ZCUsqrK6zdmg93HClnLaHbLTEx3zw6kEI7ixrXTwogGkm0fxSoBCM+HSDLEOw0U7DnPJ3cWBwOJyoyraMRntaGPc4in2j+o0pXVglcOoR8NgpFgnqtvqHYTVP4FHo0VTKmSZA5ekE6eYLmVKrQTqIVA1y5Gik3sOLXQBjhCDaJEZlKyCJTgFyhQXktHZ0rffdBTP6YJYBu/wHhu52DgTpXF4eEzucq8cfeXg5U3XDWC6n4gc4AjywfVjX1DOGx3AIIwhq8zHeRFv0E5Q4bd6iItH4TpQUCUASvLu/bO4lcgmP8lf80hZoM5NdAqS+i5bQNHa4JGHms4PZnaGGQPUXprdM++i9bNRtVw6edRZqYhGr2WSHzAh5ui1KPPZvQ=&p=0\n",
      "https://adcr.naver.com/adcr?x=lZ5RqWPVlOdtB8Ws5V2lev///w==k5C7ucnNEZjTxNuwd0LKJJD9/eHJeJx+wqZPn0uoIUCsGkvVgTDq4AgFo6+ffflWkWiM5RWB2+e7Ytwyh6E7nRdtJNJe3DhoGNq7BoacunhvFHQbKnBO/vu6Z5STDlojKVVmQIbI7Mw6OCl8p0+vbKvMI7VKO5OWZ/+Ot7InN4C4u5mTWo2RC6ThgG2VdPhjyqegd4WEYuAgKTckPaOjl+cYJMbYfEf+bEQgdXKgA3TwtMSKbP6/UJOPkyJawjXPRjynxpyZabdVj8RmxwnTEJy5QAQ4uPxzviTkgdRszm3huixokmY5BOJWmRWdc18+Tue9BNuOsel7hKrS/GrxP1Yig8Rq/wE3jbOz5FHoy7/Sny8L/T07okRGRcewDgTaRQS/tNb6zFSzFnm5XMRT7kV9TYrYo8BFlGNNENxZZgdaanXlmSqg0QLPbSttbm4yploCXMnXlt7DUy58HqRPJF6O6uDio0kJl8SQpnJLdbjgZDdaLM05h2yBu9XEA1GkPzcveNpDsiq9axmqL2I71A2XhVULO4Gc1n3bgZ9/JGlCIcyII9KM6J4U5Q7PgaDIgP8+lDS6HLLjKtgksdkxj2M84GqqReSG9v33WAXTuFf1k+ZCUsqrK6zdmg93HClnLaHbLTEx3zw6kEI7ixrXTwogGkm0fxSoBCM+HSDLEOw0U7DnPJ3cWBwOJyoyraMRntaGPc4in2j+o0pXVglcOoR8NgpFgnqtvqHYTVP4FHo0VTKmSZA5ekE6eYLmVKrQTqIVA1y5Gik3sOLXQBjhCDaJEZlKyCJTgFyhQXktHZ0rffdBTP6YJYBu/wHhu52DgTpXF4eEzucq8cfeXg5U3XDWC6n4gc4AjywfVjX1DOGx3AIIwhq8zHeRFv0E5Q4bd6iItH4TpQUCUASvLu/bO4lcgmP8lf80hZoM5NdAqS+i5bQNHa4JGHms4PZnaGGQPUXprdM++i9bNRtVw6edRZqYhGr2WSHzAh5ui1KPPZvQ=&p=1\n",
      "https://adcr.naver.com/adcr?x=WJSEzXbb4xVVt6h/cnbWDP///w==kHmCGTkXGWA+sQ7nla8mHAw/HR5Tf9r3OY7oeJObU6+n9B+9M/Nt8eOKn96R/Id8/N5rMf3CdjHNtB13Wjh2n5y29z/vyjUbFZRi03i9STS3opu4xo0fgvuqVo4fzk4HoH+WKg6vF88UdpToyoLOKhzAXIjsKjNMbsxX/97TrjEENt4I73iZqu2NSPG4Wes7MyHXg3gh7LmIcTjaS1UwoIGMA9YYhsM1/tpkDTTL1TGEnrqbSuFXTYs3Mw4jqwMm6eLRKq69mPVOIWOQyPHCCTOVg+BrFVHdjUaA8iGlvgAnGqg6z+iOdp7ZMYXdrhFe6aELEymFxMB0mSNnVZc/ylk2O81ru2ojJE6Y/MWdKBsiO9Um6SwaOrxE7hgGgoK7BqFDCg8VhAOWeexv6HozihkCIWSFlPvrhDTEB/WZqgJdIANNY3Dfuq/vY/Ae+USqEWo6/DGPu+qtl8fcS4TBpYI5qvzQ28VHLY3NHZb1jJ9whCGKkTyIZFkq6LfkZiU/gH40VgfsfoXsX5KOQILvHUshDD27Edi0rDOPFfavo8TG54bmp07QnrKbNrgUGth8716nA9uAR7C/a2KlCnEqghsgEVf9aO9gMa09aNWZQRIHPlpqD9qMRyuqFD6mF0KKuG7rXRzVOggXKZH2zELZb2yfzrk3KTa6VLYZXj1I8K7RaY1QHQjCRgGgq2uAajVRFoLHY2o1UVKhgnSoSXJG+rpUVpUFaLjGUm5gCaGdAsJgwgUlKH6ephosM3cGhM9VTZjOJzdgB8Sv8NtXr/qUSYBHWW5DRIeO3PX5Uz6PFM9VtLdvutEp9NxO7aVcprTXLOhONiHrZBYPOVNwDFCUDkQFmGNwtycuCIy4vsOUwHWsDN9Jf2paZukLMFQmunncgzC3pAf/P35Hm8k+oXkeqpc7xLkKoRRMJvttWfnBUEYRsNZOuJYsh6lhxyt9eVFnaAHxfTC3ZZSGPwdiQnfDHBuhuTvpcNKZfunJBCIUqF/+bj92upbfIyDln8NZkJTjL\n",
      "https://adcr.naver.com/adcr?x=6h86Z9XxI/h8yDxI+9t+J////w==kPD/pLZ1KHd1hZvn/Ucj/VSkSjd8RnBNynjM21oV430YjUcU3XR67xy9T3C2Fj2meKEKkOOwwOSCO0c6aSVD5/lS7Z7weDIjXIXOXHAp/yYzLOlICet8RIbVL2LoQLcnaUfBp0SZbkK4Oh7eBSP2zGkiHYMWAgsQnZOGpAQQUy1K1hNy1AITh05MaNAa9euv/bMeJ9QtB/M6c8JKPdCwqHSw2DPuSeT1qctRPjjWidUzOVXBmoT/UPUWxpglyzxCiLInWz3rU7bGVuhV+K4BYjyO1JCsOJvo8OypCHPop2zVuf88MOZ/z0UGWRU2pnBifv6i1AR9Ek480chgoNlBN/x9L0IP8yJsKnowImKkRRWIodyqgU0pg+IuJbWWhR1z6ztjR0Znv8KpEYUezvSnspt+68opQlJG+8h4JqPFfUraqg6EL20PtbrErZvDm66xw8zPXp58pRWZfUOCdcfLsE4q5glbFgn6elme7bVMP9mc22/JFxJNWG4cv0t9LRJ3HhZW33CFf1MuMgluLEVVd5zHr2YFMMZ8baKh/hFFSQ3QoMUNkam9dGZSgT9MlFxBcdE00RK71IDFJvuaWE6XxRFwedp00V0kN+rUrvjVMGQMWCkXZj7iyfYO+GR08gzeWPLMsFI2PS78wakvgOgTk26fLVxxoRE09DB360Wjuo6A6ZJZEvWGmf3sn/+Nz8iqnVrzxJU3OHA8LThF3Zy9sdzQLZ2iuxetSbdU4xb7n5rbwP8mnp1VHll2MMfsk33tODcV1PKSUhEO/VPuq63RfKhkMS830zdmRTntbJPW2aadvDHKKWhxrvoPruCkJS0wQElYZ1gwdYf+DTt2uZFW7k90t3uV0qHg4G5jHqcCL8TOjn8c8Z9cvW4sLJSu9Ss6BW+l6q3PnPPAmItR6MzRRN6a1h4gwYmRI3jzxCOqWYXW3iGLNtfiIijOeMp4Q2rVg/E/OseTPIt/ydz5syN4VdKaM36/5z/so89re+I0DYLfuCzq3GMWceNfajvpETJze\n",
      "https://adcr.naver.com/adcr?x=+trTobxZGfowerwdoAv8z////w==k1MzDNbkSKRlbDNLq+5Rz6AmD41PQylcmZ0jcnQptbk/I5zfExfnAnXZQekgaIpsgG+xFiOps8OXBg3jRl0+gZnM8jiF8B/1X4EcWNUKkWLQILLNyt5ZNX0PrwX8ae/1ePSi5M4b8dMyceOspsxFbVcw6mhAQZsapDYIHTMmn9B+f4NSkB3U5u/W89zAf0sBFSO6eY9+m4Iy8KUM0Z7F/pukDNyqYN5uSDsDsSJRyBe1zfhNk0B9mG0dnCbN5a1+5aabAsJkjKv4NMQNdDIL+22ATBiqHwlagneLSdMarvuIftRiLGD0huML/Vmwzg4BLEak63GyL6zldgxcamPBaDnMRGnNm4QihcknSeZGMFuq+np5oJQBQTvOCwUxJaeju9KS7EQUmCyrDmnVxi5jRdrZx+/vU7zteBaeC8RlpoIinX6sslho4SxdFhe8Rqn5llTF0wnJarQJqt8GJ5O00FGJEF/RkJ1Hg6X2STqB82JebwP0oiK6UUTvZLptTOP/YhyVIo7kwFBFcDlm8yws2ylTahad3skW6Id+bPdVtCuLPod/r9yyqsl+zdCN2w0iMCS1WPl4ZHHgceHMhfinDYx1q8vQVhuXdINblvUYh/H9lYcftn0gveMOG8NSW6Qng+GP/9pdzlpEyDGHH4nEURfDnNovmgMjpWtg6doxoOsXfr9MAwQjf9IwQQbPaO56DlFvs7pTLqTC1Zr0zqWtMPsCI69rTDsJmbyJFgOY+L3hT29aeYks15ZxMBq5/GEEUZRNNgNGBvtISqw4j5ihPEV8YN+PVbdYfRsY/aTKK+xPapVS0E3YjqXV0ambSdLxNwkMWL0Yk0Tm3EMjp5CaabuRAK5HIi9KpgB2QRXPZRVlvQnP0CcT2UEfSTEAvTJFWDlL+SkJdLKe7ddOzknwRcWthSmj9bSCJIlIh4TXp65naDhNNjOsQyhwgleDfx8CfF6VcEtKtU4MB4k/l+A0JBQDEK3mBmSEFl4g8srhgwiOi86MQAcljkjhh/tG3r9m6\n",
      "https://adcr.naver.com/adcr?x=QfrWI3AXeUuj5li68ur1/f///w==kxUnHCX+D6aoyRakRzzP85Se7sumef8lJZmM+7NXtB99T9u5SeThVwYZa7JNyEN9o7mC8FiQfPUNYqkwJ+uClb8F3WgAynVxRCbGvAQ6RR45+Igk5dx4Ut0DrJB82DS30PSi5M4b8dMyceOspsxFbVZxelp86LcPy0hmFXa+oC5/kIaeIozLWfyNbJitfs/WNyFvPc5MkrLYKcGXmcKwCrUKIFlrcb5erhjzlAewj/WYqeIXjFzvWcSSHVIkBMpVk2lYgYbIlDBzvETbE0ZVfwh38ujnKSQQ4vttILnxJ7+8u7WAV9PJyTyqKzRiYHOws3y2S8FMNqZUwVuOcV2bloq3ZcgZrnpwfZOxtU9F6lci4FX97Tzc9RwCPGu//+w2ZPCy0C5hAfgpUWIpLivRk+YF95RGhtXulC8buOHlUQFUWdauwFjNkYW2W9sFSTTja6AgNSz8hmC3zKzb678R33+byZ+EscK71lv9av/4PDR3sA8DhqeBN9K0A12VEe0pwDzi0lMf2isjQaDrXBe9mpMfxvyFF74TYdBBx30VszEBu69sXOIw5WM7V3t0Y+IIwQ4GYGDmsI+jwJmRhKFb+USFJ0j9vst0magWSZkYZVhzxp5ZzGe4uziFruUtN7o2eHypZC/KnCAGeF9ouIjxQIYo1otbh/B2PdtezuLTClJ5Sn1K4OpAFfRlqf7j+TxscwRmU5R5ZlRJCRWtk0gyKlL7G6REKfv/wNSoemKS2NCAteroZmaqAn7MDRSVdqCoUOBNlpyqMefm1kGnUdU45dfqjoXKprFzdwBdPRLnClKlY4JsDEvk0bfoZK5KPtKExVwP1q4LwQl4DFQCU/CDHCvJFtOns+l9rMg9VNEys4zNdnlrC6XemJtoy08W3OG1AZL/Qz2Uz2D+K+cj1u0AMUzmrm3FBRzSvK0EjVxvcGDYop6Aa7xne8TDnP1lXVYTLBgmxog1iv4H1jXMUfJWZvXfZaQT5a4kcTaMSmc2xVBgjv3KtMglQR0t5FzUYMz37\n",
      "https://adcr.naver.com/adcr?x=fgkKyJMOZsnSfm1Asv8cQP///w==kDHNpt5ms9QqKJj9Ip+nzB4sXwKgceBxVkeUtaOOTMjCs7gthFKhWx7lu37AOXF+kVbIrq5/3VWXcHq1rlUomEbBTKyxUBOkKAVvoKGGHxDYtT9cd4gDGrsuBEDLcZYlLjHc6nBYhOBZo7J8GQ0TCICggY6GObDYtlRVZkuVhKIr5yLJ70jNF3kalvzfadhiDI7GK3GB9Q4ikXfvud9YKf7yluZViy+1btdiXI5SUcd8KMPBiFoD/oT9qxKO706LegqNNaXxZ2t1MfnjGfiVBZRzaOgYRBmUZ58nZZwzC3HGjJWvQJNL3bucdalQtA5+ClZh97zGSBWU8sXmdf7y/ASMjQIgByuQGni81b3GYkUnLIS1kg5bwEyHRhZM7ogphDLWNN8SG01ThAP68lkGTatkKSt1j6K0eWjYxY8yFEn20lZu2hDQIqsluy3KyqAQEm/VEQxLia45TZ2svft6Q89qwu6crK+ZKy+79FPF/Ic7aYwf5yLU+qc4qv1OUhAjA7NTiyBnYdNvjQls39zvnsc/G0htnVnv6coXIXRpdPN8S1GAyA8OIsvgcEUUN2ZI3lNC1bnEieGwtxMuB7bWK+QEUzpAEjzH7t88BlgCP/Lf7HS+1WCqpXnAHCdaUUov9o68ODMr9yJCObM8vqA7ilza35iGXdF66w3O68XPSV3faqPCYh4fLBD2EsETXFAnraDjNg2rmuoJZ8+doYDPIEIao4ZKzpz0alzRyBNYyhoiDMXnMZjvAyQrbcAEawxniiwPk4WqZAkQDdnVAt2J5kQI8gaIrSpy4h1YjiohbHAYEYNJtylQ57i+wA0EJR/gspztZf41YgcPTNmgWo6L8vQyCowGL7P1YFLli3V1X0YujzhRLDYZ62v7HwFwti/aUtROG4+bsWE5503ympFwGI+60k3B/MBa6hUtKTeJNZX0=\n",
      "https://adcr.naver.com/adcr?x=xuBAKTDn78ZzYv+wuI095f///w==kxU8Pz3BOwFU35sUJ2ZSAkk/Bzck7Lasxg3rS8aeJTI7nmb9nVBOPXXmBhF6p6M14r8qacdJSIqyX4g+KSLZkiTI5Q7fy54OJGBWc5PT3+ZEtT9cd4gDGrsuBEDLcZYlLyXpPsc7GQ8wnek3x/HE5QVg+kx/sCvHmXU0K01w+bSkGxldKZ9xMnqx5dCdTNplGg7g/EAFQg23M8ytke7NFN3k0Z8PVAupQkaEOUuvibF5BwgywfHZ0Zrt5wN4v1qCTrrsNu20Sq8z85GKTs+6gza5BSMdrRULh9delTjWnfXS4nYuEtYTLUeWtuW92dIFYql86K0IvFFglCA8fZB9O18EhCzjgcCU2BgMK5m3zM3iqaE9kvBfvBo/dZRx4F1MOdLXA+545ADgeWEjctiGb9YaWpQGzQPgb8nJOF04SQe11+6hiWcKxZR3ZPDsGt2gS1bj0Da914gnTZu9z4az2LmvE4A5ig1E128FUZaD1C3WsbtedlrOtNHTMb0qiHqMeYEPNxc3PA7418sqhXorBowfzKqQY+dTy9+7dlfblQkpQYUcwQykyKoFZRBv+P/XMqutWHsji7D34hglm6yAEv4VaiMz+ZvmU+8SyOrzWEDsU58mcUUKVvsvYb5SEf2krozChArF+Mw2fXNYH1XiAwY5kOhm7ljBfGlSbnWkuVD4S54A5v41xradM2iWtqTcGE5U1lTL23JnQkAQ0JHHV/Rj81Vh9Ug3RJrnzPf/eemdoazUYXNyeVZq3J2jciLgrbJisuPcOsQ3CZNYI88119pHTtka5VxMnF978lfXlr76yeaJf4m3QU/sIj8dKMgM1LIlilJXRo/LUcNC0aRklBhcggIUDzwY9zMvEV7rmn7bN90EfVqOs40fSnqrJExtX6aBgxLk3tR8ksFft+54s7Rv0CYtASmmC2gycgNbza/Y=&p=0\n",
      "https://adcr.naver.com/adcr?x=xuBAKTDn78ZzYv+wuI095f///w==kxU8Pz3BOwFU35sUJ2ZSAkk/Bzck7Lasxg3rS8aeJTI7nmb9nVBOPXXmBhF6p6M14r8qacdJSIqyX4g+KSLZkiTI5Q7fy54OJGBWc5PT3+ZEtT9cd4gDGrsuBEDLcZYlLyXpPsc7GQ8wnek3x/HE5QVg+kx/sCvHmXU0K01w+bSkGxldKZ9xMnqx5dCdTNplGg7g/EAFQg23M8ytke7NFN3k0Z8PVAupQkaEOUuvibF5BwgywfHZ0Zrt5wN4v1qCTrrsNu20Sq8z85GKTs+6gza5BSMdrRULh9delTjWnfXS4nYuEtYTLUeWtuW92dIFYql86K0IvFFglCA8fZB9O18EhCzjgcCU2BgMK5m3zM3iqaE9kvBfvBo/dZRx4F1MOdLXA+545ADgeWEjctiGb9YaWpQGzQPgb8nJOF04SQe11+6hiWcKxZR3ZPDsGt2gS1bj0Da914gnTZu9z4az2LmvE4A5ig1E128FUZaD1C3WsbtedlrOtNHTMb0qiHqMeYEPNxc3PA7418sqhXorBowfzKqQY+dTy9+7dlfblQkpQYUcwQykyKoFZRBv+P/XMqutWHsji7D34hglm6yAEv4VaiMz+ZvmU+8SyOrzWEDsU58mcUUKVvsvYb5SEf2krozChArF+Mw2fXNYH1XiAwY5kOhm7ljBfGlSbnWkuVD4S54A5v41xradM2iWtqTcGE5U1lTL23JnQkAQ0JHHV/Rj81Vh9Ug3RJrnzPf/eemdoazUYXNyeVZq3J2jciLgrbJisuPcOsQ3CZNYI88119pHTtka5VxMnF978lfXlr76yeaJf4m3QU/sIj8dKMgM1LIlilJXRo/LUcNC0aRklBhcggIUDzwY9zMvEV7rmn7bN90EfVqOs40fSnqrJExtX6aBgxLk3tR8ksFft+54s7Rv0CYtASmmC2gycgNbza/Y=&p=1\n",
      "https://adcr.naver.com/adcr?x=Rz0lAMU7hxXbNlNej0YjW////w==kbI304xU0TEg7jvSqlycjJC5wo6+be1I1azlX08N+HNRFLmhOZS5PU5l6pAgJH6FCLYicJOxsLcesCFRQnZhF+/lNgrPEjXNgU31uaRiHRhbGSLab8qINxFN7btrwRbuuJjVgIxHdWS14A0XXsJaRxfc9Kg0E0845JgIKXQPxWxif0xLc0oRsQMCJJRr5pZrR9PMzutfaqXftik38YAg00xXSXnTHFxHUn8OeUPNMeF+A3DO9ntFZw/ESNof1tTHb2yWwAYWwJg98ZpAMlICp4ItSdvq9SRpvsKaZiP3PZjXqrBwi+XF7qXKH+8WlbLYUDnx5cNx2Oy9WjSpo90T0muxqniY9tyH/3Y2NPK0j6KfU0z2SRWDWxnkChbNYr2ngDdm87oy402zUbx+WqhrF96KmNK2GwlycHtpfK6epAdYZiKeImwQBlBI/RmpGXnWPxm49WC7VRJaPMnMH2UREaHvFJcPAO+9qZjk2p34X6DaQ00wCdUJra9QOc42Em6ECk1vuLsJ5Syc+/Q9Hu3bek/J3BRFsuyQrBy675v/d+Uc2p9eI6R38X5wLjzR7zYncxoYKr0QsfZifgR+iBZHsSf43s/+jezsI2JFdxvL7ITTY9eP8Lnh1g39OZQWjbdTKI+OBHs8pD1gPvSQC7Ffvmx4etd3QaeeziYuCnbEL63QHMBbloDuBiOY5OfALpvFHE40GfFCdWdtGtR/exEVkT1Lddnk61qhTPo83fxb7/7mByizJjbg497DIuySWs1/HKyru8YATAboQtDTmNmGXuLj95GhUS5HKMyOIGIm+HO4kxkYhdXlsZ4SBv1aUNfWQAuDvJ/shgBFGmrUtMr3/Vn4DySv0XZjRUSF6o1i9GLpY3SII2Jve80t/6oEaX8SQ1nNIawot8xjdkdcbqCDZCw==\n",
      "https://adcr.naver.com/adcr?x=aEzjcqDDiK1lbGwZSaN4xv///w==kbI304xU0TEg7jvSqlycjJC5wo6+be1I1azlX08N+HNRFLmhOZS5PU5l6pAgJH6FCLYicJOxsLcesCFRQnZhF+/lNgrPEjXNgU31uaRiHRhbGSLab8qINxFN7btrwRbuuJjVgIxHdWS14A0XXsJaRxfc9Kg0E0845JgIKXQPxWxif0xLc0oRsQMCJJRr5pZrR9PMzutfaqXftik38YAg00xXSXnTHFxHUn8OeUPNMeF+A3DO9ntFZw/ESNof1tTHb2yWwAYWwJg98ZpAMlICp4ItSdvq9SRpvsKaZiP3PZjXqrBwi+XF7qXKH+8WlbLYUDnx5cNx2Oy9WjSpo90T0muxqniY9tyH/3Y2NPK0j6KfU0z2SRWDWxnkChbNYr2ngDdm87oy402zUbx+WqhrF96KmNK2GwlycHtpfK6epAdYZiKeImwQBlBI/RmpGXnWPxm49WC7VRJaPMnMH2UREaHvFJcPAO+9qZjk2p34X6DaQ00wCdUJra9QOc42Em6ECk1vuLsJ5Syc+/Q9Hu3bek/J3BRFsuyQrBy675v/d+Uc2p9eI6R38X5wLjzR7zYncxoYKr0QsfZifgR+iBZHsSf43s/+jezsI2JFdxvL7ITTY9eP8Lnh1g39OZQWjbdTKI+OBHs8pD1gPvSQC7Ffvmx4etd3QaeeziYuCnbEL63QHMBbloDuBiOY5OfALpvFH3zmn0JGPpNs+/1d+OwMngjK4JcP/4Rg2WwxxKTPlk/+4FPFVUPV9331L35PYPHT7pf3u/4+6jxnF74ilv2c2XjH8ER7mhl2L88tu2zXPiztEkFM+6rnmnllt38pmaRiLireX1jb2Si8jIATCZbHI6eK45KaIAvp5TXUGWpB00deGK0EKyWSqeeVKt5tkp/wbtqz+Ot2WcrRUkw4x00M7UA==&p=0\n",
      "https://adcr.naver.com/adcr?x=aEzjcqDDiK1lbGwZSaN4xv///w==kbI304xU0TEg7jvSqlycjJC5wo6+be1I1azlX08N+HNRFLmhOZS5PU5l6pAgJH6FCLYicJOxsLcesCFRQnZhF+/lNgrPEjXNgU31uaRiHRhbGSLab8qINxFN7btrwRbuuJjVgIxHdWS14A0XXsJaRxfc9Kg0E0845JgIKXQPxWxif0xLc0oRsQMCJJRr5pZrR9PMzutfaqXftik38YAg00xXSXnTHFxHUn8OeUPNMeF+A3DO9ntFZw/ESNof1tTHb2yWwAYWwJg98ZpAMlICp4ItSdvq9SRpvsKaZiP3PZjXqrBwi+XF7qXKH+8WlbLYUDnx5cNx2Oy9WjSpo90T0muxqniY9tyH/3Y2NPK0j6KfU0z2SRWDWxnkChbNYr2ngDdm87oy402zUbx+WqhrF96KmNK2GwlycHtpfK6epAdYZiKeImwQBlBI/RmpGXnWPxm49WC7VRJaPMnMH2UREaHvFJcPAO+9qZjk2p34X6DaQ00wCdUJra9QOc42Em6ECk1vuLsJ5Syc+/Q9Hu3bek/J3BRFsuyQrBy675v/d+Uc2p9eI6R38X5wLjzR7zYncxoYKr0QsfZifgR+iBZHsSf43s/+jezsI2JFdxvL7ITTY9eP8Lnh1g39OZQWjbdTKI+OBHs8pD1gPvSQC7Ffvmx4etd3QaeeziYuCnbEL63QHMBbloDuBiOY5OfALpvFH3zmn0JGPpNs+/1d+OwMngjK4JcP/4Rg2WwxxKTPlk/+4FPFVUPV9331L35PYPHT7pf3u/4+6jxnF74ilv2c2XjH8ER7mhl2L88tu2zXPiztEkFM+6rnmnllt38pmaRiLireX1jb2Si8jIATCZbHI6eK45KaIAvp5TXUGWpB00deGK0EKyWSqeeVKt5tkp/wbtqz+Ot2WcrRUkw4x00M7UA==&p=1\n",
      "https://adcr.naver.com/adcr?x=AFtmhNt362KS0GUcdZnzDv///w==kh1rVohki6B3pGosSwAU/vv4HnV7/H2bbNbVkPwbqGQIGw379z+ZAG4FpC9jRIWXYTcp3N1VXfE5tP1MzeONPKQRnLrDlFjuFx0ARTJ//AOY5M6gdVH7JtWvMQE+XRpHkZWPTPhDv897VZp2Kv1CIWJ84G974IX3XJ85BHIkuRRI9kw5zxPNKIYe48/XcjWwR1zs5XX86DHVOadpHgWS+SILzQmG1EsdmE2YvgHoK4LTpDOShAtz1frLe2/nRIuMXuTDeYuM5zwk2sclqFqdb6rqyP3YV7pNWRRhH3EG2jsB4qAcyz/U2vPD7wr+mtMmJm4KNY2XUg4GAVzm7G767AWgfMhMXhfzUd3nWUPmR+Ee2nBGur4f08EbmhwTgZTZc+FHEHtxqt6r1hsQ0ntz7PMl2yuMpSqcYMbNcrXHc7uEfyZzPDErr62XSZPZRy7PoaYUOCg+e4pAC1vcl+CIdEh+l0COTIwxc71mDz87fjGlq1L+PrywqZcG0UIgTrloOrtt0jMVcz8qtzVBn86WxHXp8vMHaB1HywNY6rPdmh29CH5xsaAFZH5bAgbAY9xr41dHrNNvQnv6+VMq2KTZxydxFDgRhW7m0bgsj+jZSqN7xaTNj/4FtfsfiRF/GI+6NckImbKiQMV/6YpppCoQyGQMhE4XDvt+fHSLHO33yNiddlMysxCbqTLPAXppjUZsMctdjHKj4QK+qWkCUHRmcZOIkil/3/gkWIa+vN8cppApnPY/hbCGc22vOgadk/xkgBwEd2eHGZYrwRh0klcenFc+VYpiuMmOszrxdZ1QHGx/qzWiIUJcgFsL6p+wcDIYSLaugu+ym11esyiOJFqVEJxqF6PWkO7KW3tl3E10BIcJKi5AhMwlWNThgM8jqOQLaZu00fAMoNJypjY+sTb/8ZxPyo/AJhba861uHb4LKGtlqK2jI56Tr7OEDl3IMVSZ/pCu/sCjNzXOHxuF4b7KBCUO5tIbouUSYgsvtzfnGPIycnr2tNF6XsNWi91C0sg26sCJ3wjerBdWJltXmQEm1a+cV7jDrnuKYN6eU8NBBwrhRwOm3mldzJvz1evS1casif0Nh1MmP9H2slCM2lH4Kf3E8HMy/Uw+KJRR4BzQnpJ28GMWFZzQIp/BcNq4vwfACDvbGO5vQgv98NzLPZoEiqeuLfjkdkO1UyAjN917BvMHhGQ4oLHEUyTNmIjawknFMtrPD26ng++t/+Yc6VXDnIQ==&p=0\n",
      "https://adcr.naver.com/adcr?x=AFtmhNt362KS0GUcdZnzDv///w==kh1rVohki6B3pGosSwAU/vv4HnV7/H2bbNbVkPwbqGQIGw379z+ZAG4FpC9jRIWXYTcp3N1VXfE5tP1MzeONPKQRnLrDlFjuFx0ARTJ//AOY5M6gdVH7JtWvMQE+XRpHkZWPTPhDv897VZp2Kv1CIWJ84G974IX3XJ85BHIkuRRI9kw5zxPNKIYe48/XcjWwR1zs5XX86DHVOadpHgWS+SILzQmG1EsdmE2YvgHoK4LTpDOShAtz1frLe2/nRIuMXuTDeYuM5zwk2sclqFqdb6rqyP3YV7pNWRRhH3EG2jsB4qAcyz/U2vPD7wr+mtMmJm4KNY2XUg4GAVzm7G767AWgfMhMXhfzUd3nWUPmR+Ee2nBGur4f08EbmhwTgZTZc+FHEHtxqt6r1hsQ0ntz7PMl2yuMpSqcYMbNcrXHc7uEfyZzPDErr62XSZPZRy7PoaYUOCg+e4pAC1vcl+CIdEh+l0COTIwxc71mDz87fjGlq1L+PrywqZcG0UIgTrloOrtt0jMVcz8qtzVBn86WxHXp8vMHaB1HywNY6rPdmh29CH5xsaAFZH5bAgbAY9xr41dHrNNvQnv6+VMq2KTZxydxFDgRhW7m0bgsj+jZSqN7xaTNj/4FtfsfiRF/GI+6NckImbKiQMV/6YpppCoQyGQMhE4XDvt+fHSLHO33yNiddlMysxCbqTLPAXppjUZsMctdjHKj4QK+qWkCUHRmcZOIkil/3/gkWIa+vN8cppApnPY/hbCGc22vOgadk/xkgBwEd2eHGZYrwRh0klcenFc+VYpiuMmOszrxdZ1QHGx/qzWiIUJcgFsL6p+wcDIYSLaugu+ym11esyiOJFqVEJxqF6PWkO7KW3tl3E10BIcJKi5AhMwlWNThgM8jqOQLaZu00fAMoNJypjY+sTb/8ZxPyo/AJhba861uHb4LKGtlqK2jI56Tr7OEDl3IMVSZ/pCu/sCjNzXOHxuF4b7KBCUO5tIbouUSYgsvtzfnGPIycnr2tNF6XsNWi91C0sg26sCJ3wjerBdWJltXmQEm1a+cV7jDrnuKYN6eU8NBBwrhRwOm3mldzJvz1evS1casif0Nh1MmP9H2slCM2lH4Kf3E8HMy/Uw+KJRR4BzQnpJ28GMWFZzQIp/BcNq4vwfACDvbGO5vQgv98NzLPZoEiqeuLfjkdkO1UyAjN917BvMHhGQ4oLHEUyTNmIjawknFMtrPD26ng++t/+Yc6VXDnIQ==&p=1\n",
      "https://adcr.naver.com/adcr?x=+kHElrcFE7/mtZD29xn1/////w==kvRLstyYvGa1UzRl/Jj5Io0afY/LTLWLv1MPjV4Ucroln/jt1v2klT3/p6swqejKi4TnhWxhED6USBvT4r2UBVYzN3scFK+kAvoCFj6rmX82v1yaJpI2/VQPuFkb/Z4mGhmrXknEhfb0tvfaQ6HNvoDhWEkGP/KP0UF1rR6S1/08PI9IlBkb5A7vx1evmGSnJ0eCftq2rXhLJ+cNx5Ke7/N+ej6Xqr6afhQAFDS5w5zAqZgRQAcmP3KGmo65pEnU9xMHaHoVCfiqc4K1EFjnsQpoz3OtewfBZHUVMWGiFaY7S8VpXOtSMkeTkfdbZfPQbYb6yJXuw5HI05ZdWhaShYkHDeKl75dz3db2V6lpT1Bi7IkrrSN8mn0YuX9oHsldXW12DpwU5rz5jqK23JNCuw6/CKtIkLM5bCwtN11LhdgJ2vF9lbzTLCjG7TLOAdypQEVZGVSSqfOwFbs6hiSiMsgHz6l3ce+AWe1NPPvrF1srvSa4uo6MSxZSG7EXKbtvZJtav1Rpm7LRjehkVHGrZq0jy5IvZLTvTEDY6bnm9OibO4sO5jrsb1lrru+pz8pqd1Nm1RDjrkPQil9a0APYZrhV/TELoWOJYeOfH5Dbg7Kv/5QrKStqmI+JNYbFq1KpTS+QrAno4TSu9f0LjD5L8H6ayGWZoaIU7CbeJLENPriaVl4V8634Y8MO7xZVlKNtNGmB6E0zi8LBAvjeaxay4ChpEmpJu8ipo5u/VRtiZ5r1Hmg3Nw9ekdeFwptI7rFY+gyZiJ0eSoIIc/S5tXouP7X62HeCFT0EvheihSbJoVtee6EHlWJ77Rv8+7DGVduVt\n",
      "https://adcr.naver.com/adcr?x=80GwBjdA0Dsmcz37np9TOf///w==kvRLstyYvGa1UzRl/Jj5Io0afY/LTLWLv1MPjV4Ucroln/jt1v2klT3/p6swqejKi4TnhWxhED6USBvT4r2UBVf9xkL/0yH0c6kSxx26Goqqv1yaJpI2/VQPuFkb/Z4mGhmrXknEhfb0tvfaQ6HNvoDhWEkGP/KP0UF1rR6S1/08PI9IlBkb5A7vx1evmGSnJ0eCftq2rXhLJ+cNx5Ke7/N+ej6Xqr6afhQAFDS5w5zAqZgRQAcmP3KGmo65pEnU9xMHaHoVCfiqc4K1EFjnsQpoz3OtewfBZHUVMWGiFaY7S8VpXOtSMkeTkfdbZfPQbYb6yJXuw5HI05ZdWhaShYqQCzNaxbKG2ybRqnIaUWatCprHOYwqOSLusR/ioZcNaX523s7NFq4y2j7e569uzKaGL4zqldb41vdMf5IwMAUXXe4+qDaUkX1pMXZfmfYUPYhicDtyY5uJhaQYsaTSSp34XAf1UKNn7rADgCuQblkn2rxyi6YkMn5Ra0YYsP163HJI6/2b4PT59k+ZZU8gBKaflNd5iHQVPfF1LcK20I6vv1/oBG/+qQYsh324zgp30/UViQBlmSvK+ZHzrf3/y3qXqBbtPCdbhMyqkWyf9U/Wb9kG2ZrYlbuUCUhIwnK59H59YJ9jK8AfgSQ5HG0EiXN5GP8NkLjTnwVwfTcBx9M8mQ8inbfLyFDR1JcoBLOlhuNQTbGt4xKA+UvRdIiqJzERClhYbUxRMSHBrYf5oUYF0hmd6faQAgl2NoMuPkRU70dSquia3CS1anqvEflZmsNb5tYre1R1NqiM1YrwnNyF/ofqqp71e294PqBz81Plm&p=0\n",
      "https://adcr.naver.com/adcr?x=80GwBjdA0Dsmcz37np9TOf///w==kvRLstyYvGa1UzRl/Jj5Io0afY/LTLWLv1MPjV4Ucroln/jt1v2klT3/p6swqejKi4TnhWxhED6USBvT4r2UBVf9xkL/0yH0c6kSxx26Goqqv1yaJpI2/VQPuFkb/Z4mGhmrXknEhfb0tvfaQ6HNvoDhWEkGP/KP0UF1rR6S1/08PI9IlBkb5A7vx1evmGSnJ0eCftq2rXhLJ+cNx5Ke7/N+ej6Xqr6afhQAFDS5w5zAqZgRQAcmP3KGmo65pEnU9xMHaHoVCfiqc4K1EFjnsQpoz3OtewfBZHUVMWGiFaY7S8VpXOtSMkeTkfdbZfPQbYb6yJXuw5HI05ZdWhaShYqQCzNaxbKG2ybRqnIaUWatCprHOYwqOSLusR/ioZcNaX523s7NFq4y2j7e569uzKaGL4zqldb41vdMf5IwMAUXXe4+qDaUkX1pMXZfmfYUPYhicDtyY5uJhaQYsaTSSp34XAf1UKNn7rADgCuQblkn2rxyi6YkMn5Ra0YYsP163HJI6/2b4PT59k+ZZU8gBKaflNd5iHQVPfF1LcK20I6vv1/oBG/+qQYsh324zgp30/UViQBlmSvK+ZHzrf3/y3qXqBbtPCdbhMyqkWyf9U/Wb9kG2ZrYlbuUCUhIwnK59H59YJ9jK8AfgSQ5HG0EiXN5GP8NkLjTnwVwfTcBx9M8mQ8inbfLyFDR1JcoBLOlhuNQTbGt4xKA+UvRdIiqJzERClhYbUxRMSHBrYf5oUYF0hmd6faQAgl2NoMuPkRU70dSquia3CS1anqvEflZmsNb5tYre1R1NqiM1YrwnNyF/ofqqp71e294PqBz81Plm&p=1\n",
      "https://adcr.naver.com/adcr?x=j+TxXNlifi4JUAh0hHz9XP///w==kHmCGTkXGWA+sQ7nla8mHA3DL8GwUzlX33EKbdHd8VftpkdSfA5hFYwOZV+cIYqgpfC+aKGQBmm40yeSA0EPteCESkVr8gFaGelS0Fb5EvgHVCcPLfVyKcdcC6RW/f/rkl6V9GzmF/mF+gIbRsgyUMRTHoT5xYc/A/DQTSW6feF/QSrQQ/Kyrv7tyPq2tz8upEfar+yxLgroVnQViF3pQGPRMPtPnq2G1fO2zDBrWaBHeiy3gNb4EWV2wG0R3i/0uPFfaV5ZHPzdwT2nhip5oYMCsT0XzCMrgwWogBh6v+HUvUYcN4Lk8r8TXQVNFQx56vl37eo/LS5aco+88MSsj03EeV16OvVo2hkh0eAuJ1JNHHOURo2+GOO78ObRDFlp7c36eY0ZmjmoFNV2rLti4mS4E7111YkM6mLNeFDQ/VzqNwWT3KGxADq9UYauf6Zp92SqWbMr+S5vGZ2HKS2nxT2g6eUM8Ic333Qe+rkR+FA3+gQF4pNlxSjb6aEMZ5z9IWGjIQq9r+wiyKZLjgTyMNm+J3SDsVh9w65Wq+g1tGcK1BFq44nuOebyNpArCVgSZAelcwjfCbT9WTr+T+cKPFtW1a7fP8CI96WxlRFzZ1BCXlf3IEKJpa2QD9TSEiDB9eG5hfe2FElJmfdZPZAWqTfUGw+IhI632hLu1eLvnY5x5GMbqJ2zEyOLTxAvxh4nrkZGo7RE21g0koAuEn0ffJd+RRKSrkOFHlKQwrgudzI6E4xxsLXvqSnV73epzvbTsifbFvWWLvg8pfsottlUSYwz1s0PYhGLma4Lqo8YvjaEr3w4+z7DOPh0sWj6auqKxEz/+3BuGVD0Pk2j941xGSnjyIl+dV6yYSr1/z//KzPXXIexLe5ZrqssMRVeEGw00tT3JEp9t8glLiDFEVUlUWdU+z1PYO+jbJEgqz2+2l8JzQqWkOfJKLde2yjIM7TLg5Ch1Ghf+61Pqq0pAN8x7aEpdaFALy+uJHnjHfigjp4U=&p=0\n",
      "https://adcr.naver.com/adcr?x=j+TxXNlifi4JUAh0hHz9XP///w==kHmCGTkXGWA+sQ7nla8mHA3DL8GwUzlX33EKbdHd8VftpkdSfA5hFYwOZV+cIYqgpfC+aKGQBmm40yeSA0EPteCESkVr8gFaGelS0Fb5EvgHVCcPLfVyKcdcC6RW/f/rkl6V9GzmF/mF+gIbRsgyUMRTHoT5xYc/A/DQTSW6feF/QSrQQ/Kyrv7tyPq2tz8upEfar+yxLgroVnQViF3pQGPRMPtPnq2G1fO2zDBrWaBHeiy3gNb4EWV2wG0R3i/0uPFfaV5ZHPzdwT2nhip5oYMCsT0XzCMrgwWogBh6v+HUvUYcN4Lk8r8TXQVNFQx56vl37eo/LS5aco+88MSsj03EeV16OvVo2hkh0eAuJ1JNHHOURo2+GOO78ObRDFlp7c36eY0ZmjmoFNV2rLti4mS4E7111YkM6mLNeFDQ/VzqNwWT3KGxADq9UYauf6Zp92SqWbMr+S5vGZ2HKS2nxT2g6eUM8Ic333Qe+rkR+FA3+gQF4pNlxSjb6aEMZ5z9IWGjIQq9r+wiyKZLjgTyMNm+J3SDsVh9w65Wq+g1tGcK1BFq44nuOebyNpArCVgSZAelcwjfCbT9WTr+T+cKPFtW1a7fP8CI96WxlRFzZ1BCXlf3IEKJpa2QD9TSEiDB9eG5hfe2FElJmfdZPZAWqTfUGw+IhI632hLu1eLvnY5x5GMbqJ2zEyOLTxAvxh4nrkZGo7RE21g0koAuEn0ffJd+RRKSrkOFHlKQwrgudzI6E4xxsLXvqSnV73epzvbTsifbFvWWLvg8pfsottlUSYwz1s0PYhGLma4Lqo8YvjaEr3w4+z7DOPh0sWj6auqKxEz/+3BuGVD0Pk2j941xGSnjyIl+dV6yYSr1/z//KzPXXIexLe5ZrqssMRVeEGw00tT3JEp9t8glLiDFEVUlUWdU+z1PYO+jbJEgqz2+2l8JzQqWkOfJKLde2yjIM7TLg5Ch1Ghf+61Pqq0pAN8x7aEpdaFALy+uJHnjHfigjp4U=&p=1\n",
      "https://adcr.naver.com/adcr?x=tiC5myA0x7Xgzs2vLE7Yb////w==kMBopgk7Dy+7FI1qGco9aJHS7ZhQFT9IfZ+1++H1VJcessceXzTz3i/rLXKVd2Wreb9s6qxKFqHhEzrMLJPSvCWtMF/+uXzUOW8k9fgUovJ8zN15cLrUlCuImx+JC4CvljyKow31QFTFHUzxZtV0vfUBJSx9U5+q+0mEczvhWcv38EPgcleEB8zbVzD+/zA3KZJpfu8UwcrQDhC91oqxAXnauuwxdJE58xLygW4PDycutYplaqNqhwAmpKbosJ3PhwyrXnxbTFgNbKeAWj+jgI2o5taQNgQ0L0JGesj2UAoE7cP3VsORtGGfJbbZXgwoKka95li3tEUQ7x2aV739OKue3eGUuMP5veuXMqCjRM4Z0P/wZJMcRK/VCOlMiBvUK76oc2W1QS+L+EDJWyL8OOSx4zGfsVTiaCcZLeKJpRlg2TNUCLg6eI9PmXE1ZnmPHqmnSDJ2wwlZg4pn6QJHHAUKJ/UMg0m4G5xw3oLkco3iiiw/cAf++ylfJPNExDnYCjzB12D7UwrWnlcJ4FsuSwJHWos3XLQEX/bMjLcHlKdZ6/jgVx5tk06dZQEB7aA0Kfl5KxlymRq7jTAw1kgpL2B0gJmVgxqfHcXORAex8yAyd+Iu2IwXSyaYHrRzn11DkvcVtuRyam+qj3WF13CZnT4c+Qm2nqKunxNBnfSlma8InCqvUti0X7mytKnNO5ntm+mxZP0VBKlacEvkbCv/WhA==&p=0\n",
      "https://adcr.naver.com/adcr?x=tiC5myA0x7Xgzs2vLE7Yb////w==kMBopgk7Dy+7FI1qGco9aJHS7ZhQFT9IfZ+1++H1VJcessceXzTz3i/rLXKVd2Wreb9s6qxKFqHhEzrMLJPSvCWtMF/+uXzUOW8k9fgUovJ8zN15cLrUlCuImx+JC4CvljyKow31QFTFHUzxZtV0vfUBJSx9U5+q+0mEczvhWcv38EPgcleEB8zbVzD+/zA3KZJpfu8UwcrQDhC91oqxAXnauuwxdJE58xLygW4PDycutYplaqNqhwAmpKbosJ3PhwyrXnxbTFgNbKeAWj+jgI2o5taQNgQ0L0JGesj2UAoE7cP3VsORtGGfJbbZXgwoKka95li3tEUQ7x2aV739OKue3eGUuMP5veuXMqCjRM4Z0P/wZJMcRK/VCOlMiBvUK76oc2W1QS+L+EDJWyL8OOSx4zGfsVTiaCcZLeKJpRlg2TNUCLg6eI9PmXE1ZnmPHqmnSDJ2wwlZg4pn6QJHHAUKJ/UMg0m4G5xw3oLkco3iiiw/cAf++ylfJPNExDnYCjzB12D7UwrWnlcJ4FsuSwJHWos3XLQEX/bMjLcHlKdZ6/jgVx5tk06dZQEB7aA0Kfl5KxlymRq7jTAw1kgpL2B0gJmVgxqfHcXORAex8yAyd+Iu2IwXSyaYHrRzn11DkvcVtuRyam+qj3WF13CZnT4c+Qm2nqKunxNBnfSlma8InCqvUti0X7mytKnNO5ntm+mxZP0VBKlacEvkbCv/WhA==&p=1\n",
      "https://adcr.naver.com/adcr?x=1q9ulNQziIFT9E7HxxAuSv///w==kte06U4s3cMcA4fosoG5RRVU2XjTqL3ZZh9DCnynpB3oIbtsvwO9M0Eueokw54CK2w2jkbjXCs9fpJUSQMnBY2xMsW1Xt77lncpZVKfBttOBVdsUvfapeMnBq1gn5tYWek0SywW/+epXnnJgi/naf2ckbUxJIlc4hgN305p8JUbPwYFvH41RXtvbRi/UUk3pGUkFgmi4m4McMtmfBd1vC/bM+jnKzsbh2N+9YcLV9Kg7uDnkJUpEicYgaTT69fTbvGqnhyGgVMEWdKhXmelFjGShM/KXmDw8JNQ0XWbBq3zuZ08d6B4/6RVxaL7Xp+fSqCb1ut1xpx6n7i8R4rEpAgZRPDr9Tqdy1GsYF0fZ0E8ML/SV9uGBSK6x70BF7SOJpKKOHcbl2idE3549P7A2UieAKessHwfLWW/pzu9a6nxWirJDpLiwaoHl2txBpyFzoFwrzcV2JOlym90e84ieeSTUT74PSw9ZWeGQrpjfrDIY+WpHMwd05B1c5QHNAACudNTE0vMZbIxBtc8mg9J743zwdquoZt9Wa7qqOeehpgYrGTtxdmDIXWvQy0fsq21Qw/Hj7ZkX3+7IKKjY9Z8CAnqXx862Z4StDQMddkwr+D+AD1QACKFWWq//zajNSrkhjbB0Y8hvzQxHEy4UwFQXPH+9xwq40u4kG6IyG764Jx+Q=&p=0\n",
      "https://adcr.naver.com/adcr?x=1q9ulNQziIFT9E7HxxAuSv///w==kte06U4s3cMcA4fosoG5RRVU2XjTqL3ZZh9DCnynpB3oIbtsvwO9M0Eueokw54CK2w2jkbjXCs9fpJUSQMnBY2xMsW1Xt77lncpZVKfBttOBVdsUvfapeMnBq1gn5tYWek0SywW/+epXnnJgi/naf2ckbUxJIlc4hgN305p8JUbPwYFvH41RXtvbRi/UUk3pGUkFgmi4m4McMtmfBd1vC/bM+jnKzsbh2N+9YcLV9Kg7uDnkJUpEicYgaTT69fTbvGqnhyGgVMEWdKhXmelFjGShM/KXmDw8JNQ0XWbBq3zuZ08d6B4/6RVxaL7Xp+fSqCb1ut1xpx6n7i8R4rEpAgZRPDr9Tqdy1GsYF0fZ0E8ML/SV9uGBSK6x70BF7SOJpKKOHcbl2idE3549P7A2UieAKessHwfLWW/pzu9a6nxWirJDpLiwaoHl2txBpyFzoFwrzcV2JOlym90e84ieeSTUT74PSw9ZWeGQrpjfrDIY+WpHMwd05B1c5QHNAACudNTE0vMZbIxBtc8mg9J743zwdquoZt9Wa7qqOeehpgYrGTtxdmDIXWvQy0fsq21Qw/Hj7ZkX3+7IKKjY9Z8CAnqXx862Z4StDQMddkwr+D+AD1QACKFWWq//zajNSrkhjbB0Y8hvzQxHEy4UwFQXPH+9xwq40u4kG6IyG764Jx+Q=&p=1\n",
      "https://ad.search.naver.com/search.naver?where=ad&query=%EB%B9%85%EB%8D%B0%EC%9D%B4%ED%84%B0&referenceId=hXZZ%2Fsp0JywssSaIQJwssssssYR-157973&bucketTest=impression-neo-94&bucket=0\n"
     ]
    },
    {
     "ename": "KeyError",
     "evalue": "'href'",
     "output_type": "error",
     "traceback": [
      "\u001b[1;31m---------------------------------------------------------------------------\u001b[0m",
      "\u001b[1;31mKeyError\u001b[0m                                  Traceback (most recent call last)",
      "Input \u001b[1;32mIn [65]\u001b[0m, in \u001b[0;36m<cell line: 42>\u001b[1;34m()\u001b[0m\n\u001b[0;32m     40\u001b[0m attr \u001b[38;5;241m=\u001b[39m soup\u001b[38;5;241m.\u001b[39mselect(\u001b[38;5;124m'\u001b[39m\u001b[38;5;124ma\u001b[39m\u001b[38;5;124m'\u001b[39m)\n\u001b[0;32m     42\u001b[0m \u001b[38;5;28;01mfor\u001b[39;00m i \u001b[38;5;129;01min\u001b[39;00m attr :\n\u001b[1;32m---> 43\u001b[0m     \u001b[38;5;28mprint\u001b[39m(\u001b[43mi\u001b[49m\u001b[43m[\u001b[49m\u001b[38;5;124;43m'\u001b[39;49m\u001b[38;5;124;43mhref\u001b[39;49m\u001b[38;5;124;43m'\u001b[39;49m\u001b[43m]\u001b[49m)\n",
      "File \u001b[1;32m~\\Anaconda3\\envs\\cakd7\\lib\\site-packages\\bs4\\element.py:1519\u001b[0m, in \u001b[0;36mTag.__getitem__\u001b[1;34m(self, key)\u001b[0m\n\u001b[0;32m   1516\u001b[0m \u001b[38;5;28;01mdef\u001b[39;00m \u001b[38;5;21m__getitem__\u001b[39m(\u001b[38;5;28mself\u001b[39m, key):\n\u001b[0;32m   1517\u001b[0m     \u001b[38;5;124;03m\"\"\"tag[key] returns the value of the 'key' attribute for the Tag,\u001b[39;00m\n\u001b[0;32m   1518\u001b[0m \u001b[38;5;124;03m    and throws an exception if it's not there.\"\"\"\u001b[39;00m\n\u001b[1;32m-> 1519\u001b[0m     \u001b[38;5;28;01mreturn\u001b[39;00m \u001b[38;5;28;43mself\u001b[39;49m\u001b[38;5;241;43m.\u001b[39;49m\u001b[43mattrs\u001b[49m\u001b[43m[\u001b[49m\u001b[43mkey\u001b[49m\u001b[43m]\u001b[49m\n",
      "\u001b[1;31mKeyError\u001b[0m: 'href'"
     ]
    }
   ],
   "source": [
    "from selenium.webdriver.support.ui import WebDriverWait\n",
    "from selenium.webdriver.support import expected_conditions as EC\n",
    "from selenium.webdriver.common.by import By\n",
    "from time import sleep\n",
    "import selenium\n",
    "from selenium import webdriver\n",
    "from selenium.webdriver.common.keys import Keys\n",
    "from bs4 import BeautifulSoup\n",
    "import requests\n",
    "import warnings\n",
    "warnings.filterwarnings('ignore')\n",
    "\n",
    "options = webdriver.ChromeOptions()\n",
    "options.add_argument('window_size=1920,1080')\n",
    "\n",
    "driver = webdriver.Chrome(path, options=options) # 웹브라우저를 제어할 수 있는 드라이브 생성\n",
    "driver.maximize_window()\n",
    "driver.implicitly_wait(time_to_wait=5)   # 암묵적 대기  (돌아갈때까지 시간 줌)\n",
    "driver.get(url = 'https://naver.com')    # 네이버 접근\n",
    "\n",
    "# driver.implicitly_wait(time_to_wait=5)\n",
    "log_in = driver.find_element(By.CLASS_NAME, 'sc_login')  # 로그인창 이동\n",
    "log_in.click() # 클릭\n",
    "\n",
    "sleep(2)\n",
    "driver.back()  # 뒤로가기 (홈으로 이동)\n",
    "\n",
    "search_box = driver.find_element(By.XPATH, '//*[@id=\"query\"]')\n",
    "search_box.send_keys('빅데이터')   # 검색어 입력\n",
    "search_box.send_keys(Keys.RETURN)  # 실행\n",
    "\n",
    "# sleep(3)\n",
    "# driver.close()  # 3초있다 꺼짐\n",
    "\n",
    "# a태그 찾기, href 속성 모두 출력\n",
    "# url : 네이버 검색창에 빅데이터 검색한 주소\n",
    "url = 'https://search.naver.com/search.naver?sm=tab_hty.top&where=nexearch&query=%EB%B9%85%EB%8D%B0%EC%9D%B4%ED%84%B0&oquery=%EB%B9%85%EB%8D%B0%EC%9D%B4%ED%84%B0+%EB%B6%84%EC%84%9D%EA%B8%B0%EC%82%AC&tqi=hXviulp0Jy0ssB0F4sdssssstrw-273966'\n",
    "data = requests.get(url).text\n",
    "soup = BeautifulSoup(data, 'html.parser')\n",
    "\n",
    "attr = soup.select('a') # a태그 선택\n",
    "\n",
    "for i in attr :\n",
    "    print(i['href'])  # a태그 내 href 속성 모두 출력\n",
    "\n",
    "# texts = soup.find_all('p')\n",
    "# for t in texts:\n",
    "#     print(t.text)\n",
    "\n",
    "# contents = bs.find('a') # a태그에 있는거 찾기\n",
    "# contents\n",
    "# for child in contents.children :\n",
    "#     print(child.get_text())"
   ]
  },
  {
   "cell_type": "code",
   "execution_count": null,
   "id": "8fe37a94",
   "metadata": {},
   "outputs": [],
   "source": [
    "for i in range(31) :\n",
    "    "
   ]
  },
  {
   "cell_type": "code",
   "execution_count": null,
   "id": "e75e716e",
   "metadata": {},
   "outputs": [],
   "source": [
    "# nlists = bs.find_all('a',{'class':{'link_newsstand', 'btn_sort', 'btn_sort.sord_on'}})\n",
    "# for n in nlists :\n",
    "#     print(n.get_text())"
   ]
  },
  {
   "cell_type": "code",
   "execution_count": null,
   "id": "8fe9becd",
   "metadata": {},
   "outputs": [],
   "source": [
    "try :\n",
    "    element = WebDriverWait(driver, 5).until(     # 5초를 기다림. EC가~할때까지\n",
    "    EC.presence_of_element_located(By.CLASS_NAME, 'gLFyF'))\n",
    "    \n",
    "finally:\n",
    "    driver.quit()"
   ]
  },
  {
   "cell_type": "code",
   "execution_count": 2,
   "id": "8de38c93",
   "metadata": {},
   "outputs": [],
   "source": [
    "import selenium\n",
    "from selenium import webdriver\n",
    "from selenium.webdriver.common.keys import Keys\n",
    "from selenium.webdriver.common.by import By\n",
    "import warnings\n",
    "warnings.filterwarnings('ignore')\n",
    "\n",
    "url = 'https://naver.com'\n",
    "path = 'C:/cakd7/tool/chromedriver.exe'  # 역슬래시로 둘거면 2개 써줘야함. 주소복사해서 붙이고 수정\n",
    "driver = webdriver.Chrome(path)\n",
    "driver.get(url)   # 크롬창 열기\n",
    "\n",
    "#  다음으로 이동\n",
    "driver.get('https://daum.net')\n",
    "\n",
    "# 검색어 입력 및 실행\n",
    "elem = driver.find_element(By.NAME,'q')  # name='q' 찾기\n",
    "elem.send_keys('빅데이터 분석기사')\n",
    "elem.send_keys(Keys.ENTER)    # ENTER와 RETURN 차이점?\n",
    "\n",
    "# 홈 이동\n",
    "driver.back()\n",
    "\n",
    "elem = driver.find_element(By.NAME,'q')\n",
    "elem.send_keys('데이터프레임')\n",
    "# elem.send_keys(Keys.ENTER)\n",
    "# elem = driver.find_element(By.XPATH, '//*[@id=\"daumSearch\"]/fieldset/div/div/button[3]') # 검색어모양 버튼으로 검색\n",
    "# elem = driver.find_element(By.CSS_SELECTOR, '#daumSearch > fieldset > div > div > button.ico_pctop.btn_search')\n",
    "elem = driver.find_element(By.XPATH, '/html/body/div[2]/header/div[1]/div/div/form/fieldset/div/div/button[3]')\n",
    "elem.click()\n",
    "\n",
    "driver.refresh()\n",
    "# elem = driver.find_element(By.XPATH, '//*[@id=\"twaColl\"]/div[3]/ul/li[1]/a[1]')"
   ]
  },
  {
   "cell_type": "markdown",
   "id": "8bff4c05",
   "metadata": {},
   "source": [
    "- 과제 07/27 (4)\n",
    "\n",
    "한빛 네트워크 마이페이지에서 마일리지 점수를 가져와서 출력하세요."
   ]
  },
  {
   "cell_type": "code",
   "execution_count": 4,
   "id": "59cfc6d7",
   "metadata": {},
   "outputs": [
    {
     "name": "stdout",
     "output_type": "stream",
     "text": [
      "회원님의 마일리지 점수는 2,000점 입니다.\n"
     ]
    }
   ],
   "source": [
    "# 한빛 네트워크 사이트 로그인 후 점수 가져오기\n",
    "import time\n",
    "import selenium\n",
    "from selenium import webdriver\n",
    "from selenium.webdriver.support.ui import WebDriverWait\n",
    "from selenium.webdriver.common.by import By\n",
    "\n",
    "driver = webdriver.Chrome(path)\n",
    "driver.get('https://hanbit.co.kr/')\n",
    "element = driver.find_element(By.CLASS_NAME, 'login')\n",
    "element.click()\n",
    "\n",
    "m_id = 'overlight1'\n",
    "m_pw = 'cakd07!!'\n",
    "\n",
    "element = driver.find_element(By.ID, 'm_id')\n",
    "element.send_keys(m_id)\n",
    "time.sleep(1)\n",
    "element = driver.find_element(By.ID, 'm_passwd')\n",
    "element.send_keys(m_pw)\n",
    "time.sleep(1)\n",
    "element = driver.find_element(By.CLASS_NAME, 'btn_login')\n",
    "element.click()   # 로그인 완료\n",
    "\n",
    "time.sleep(2)\n",
    "\n",
    "element = driver.find_element(By.CLASS_NAME, 'myhanbit')\n",
    "element.click() # 마이페이지 클릭\n",
    "\n",
    "point = driver.find_element(By.XPATH, '//*[@id=\"container\"]/div/div[2]/dl[1]/dd/span')\n",
    "print(f'회원님의 마일리지 점수는 {point.text}점 입니다.')"
   ]
  },
  {
   "cell_type": "markdown",
   "id": "15c2dff8",
   "metadata": {},
   "source": [
    "네이버 로그인 후 메일리스트 출력하기(js)"
   ]
  },
  {
   "cell_type": "code",
   "execution_count": null,
   "id": "e1f9c929",
   "metadata": {},
   "outputs": [],
   "source": [
    "import time\n",
    "import selenium\n",
    "from selenium import webdriver\n",
    "from selenium.webdriver.common.by import By\n",
    "\n",
    "path = 'C:/tool/chromedriver.exe'\n",
    "driver = webdriver.Chrome(path)\n",
    "driver.get('https://www.naver.com')\n",
    "driver.maximize_window()\n",
    "time.sleep(1)\n",
    "element = driver.find_element(By.CLASS_NAME, 'link_login')\n",
    "element.click()\n",
    "id  = ''\n",
    "pw = ''\n",
    "\n",
    "# execute_script 함수를 사용하면 자바스크립트 코드를 실행\n",
    "# js는 getElementById('id').value로 값을 가져올 수 있다.\n",
    "driver.execute_script(\"docu\n",
    "element = driver.find_element(By.CLASS_NAME, 'btn_login')\n",
    "element.click()\n",
    "# print(driver.page_source)\n",
    "\n",
    "# 이메일\n",
    "driver.maximize_window()\n",
    "driver.find_element(By.CSS_SELECTOR, '#NM_FAVORITE > div.group_nav > ul.list_nav.type_fix > li:nth-child(1) > a').click()\n",
    "\n",
    "elements = driver.find_elements(By.CSS_SELECTOR,'#list_for_view > ol > li> div > div.subject')\n",
    "for e in elements:\n",
    "    print(e.text)\n",
    "    \n",
    "driver.close()\n",
    "driver.quit()"
   ]
  }
 ],
 "metadata": {
  "kernelspec": {
   "display_name": "Python 3 (ipykernel)",
   "language": "python",
   "name": "python3"
  },
  "language_info": {
   "codemirror_mode": {
    "name": "ipython",
    "version": 3
   },
   "file_extension": ".py",
   "mimetype": "text/x-python",
   "name": "python",
   "nbconvert_exporter": "python",
   "pygments_lexer": "ipython3",
   "version": "3.8.13"
  }
 },
 "nbformat": 4,
 "nbformat_minor": 5
}
