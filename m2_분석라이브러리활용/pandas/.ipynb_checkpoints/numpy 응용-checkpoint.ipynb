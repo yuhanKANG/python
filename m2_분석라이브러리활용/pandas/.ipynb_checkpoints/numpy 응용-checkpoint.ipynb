{
 "cells": [
  {
   "cell_type": "markdown",
   "id": "bce7aa19",
   "metadata": {},
   "source": [
    "[numpy random 함수]\n",
    "\n",
    "- np.random.seed : seed를 통한 난수 생성\n",
    "- np.random.randint : 정수 난수 1개 생성\n",
    "- np.random.rand : 0부터 1사이의 균일분포에서 난수 매트릭스 배열 생성\n",
    "- np.random.randn : 가우시안 표준 정규분포에서 난수 매트릭스 배열 생성\n",
    "- np.random.shuffle : 기존의 데이터의 순서 바꾸기\n",
    "- np.random.choice : 기존 데이터에서 sampling"
   ]
  },
  {
   "cell_type": "code",
   "execution_count": 21,
   "id": "0033643e",
   "metadata": {},
   "outputs": [
    {
     "name": "stdout",
     "output_type": "stream",
     "text": [
      "0.9657394495989626 \n",
      "\n",
      "5 \n",
      "\n",
      "17.745063822468847 \n",
      "\n",
      "8 \n",
      "\n",
      "4 \n",
      "\n",
      "==================================================\n",
      "[3, 4, 5] \n",
      "\n",
      "None\n",
      "[2, 4, 3, 1, 5]\n"
     ]
    }
   ],
   "source": [
    "import random\n",
    "\n",
    "print(random.random(),'\\n')  # 0.0 <= x < 1.0 사이 랜덤수 출력\n",
    "print(random.randint(1,10),'\\n') # 지정범위 내 랜덤정수 출력 (1 <= x <= 10)\n",
    "print(random.uniform(10,20),'\\n') # 지정 범위(min, max) 내 랜덤 실수(float) 출력\n",
    "print(random.randrange(10),'\\n') # 지정값 내 랜덤정수(int) 리턴\\\n",
    "print(random.choice([1,2,3,4,5]), '\\n') # 리스트 내부에 있는 요소를 랜덤하게 선택\n",
    "print('='*50)\n",
    "li = [1,2,3,4,5]\n",
    "print(random.sample(li,3), '\\n')  # 리스트 요소를 중복이 안되게 리턴\n",
    "random.shuffle(li) # 리스트 요소를 다시 섞어서 리턴, 셔플값으로 넣은걸 프린트하면 적용된것 확인 가능\n",
    "print(li)"
   ]
  },
  {
   "cell_type": "markdown",
   "id": "853d56ac",
   "metadata": {},
   "source": [
    "- 0과 1 사이 균일분포 (rand)"
   ]
  },
  {
   "cell_type": "code",
   "execution_count": 32,
   "id": "9d0e32b3",
   "metadata": {},
   "outputs": [
    {
     "name": "stdout",
     "output_type": "stream",
     "text": [
      "[0.78520823 0.76764786 0.07859077 0.50315514 0.0460949  0.67952405]\n"
     ]
    },
    {
     "data": {
      "text/plain": [
       "0.4767034928469533"
      ]
     },
     "execution_count": 32,
     "metadata": {},
     "output_type": "execute_result"
    }
   ],
   "source": [
    "import random\n",
    "import numpy as np\n",
    "\n",
    "r = np.random.rand(6) # 0에서 1사이의 균일분포. 6개를 뽑음.\n",
    "print(r)\n",
    "r.mean()"
   ]
  },
  {
   "cell_type": "markdown",
   "id": "d62402c3",
   "metadata": {},
   "source": [
    "- 표준 정규분포"
   ]
  },
  {
   "cell_type": "code",
   "execution_count": 35,
   "id": "22cae46c",
   "metadata": {},
   "outputs": [
    {
     "name": "stdout",
     "output_type": "stream",
     "text": [
      "[ 0.21267549 -0.03125463 -0.23218152 ...  0.03684398 -0.29346883\n",
      "  0.36738752] \n",
      "\n"
     ]
    },
    {
     "data": {
      "text/plain": [
       "-0.003887713837252732"
      ]
     },
     "execution_count": 35,
     "metadata": {},
     "output_type": "execute_result"
    }
   ],
   "source": [
    "r = np.random.randn(10000) # 평균 0 표준편차 1\n",
    "print(r,'\\n')\n",
    "r.mean()"
   ]
  },
  {
   "cell_type": "code",
   "execution_count": 36,
   "id": "c8b69d75",
   "metadata": {},
   "outputs": [
    {
     "data": {
      "text/plain": [
       "array([1.19671404, 1.41476614, 1.22414825, 1.79006245, 1.05448021,\n",
       "       1.21323484, 1.15632912, 1.56653724, 1.1713003 , 1.02463135])"
      ]
     },
     "execution_count": 36,
     "metadata": {},
     "output_type": "execute_result"
    }
   ],
   "source": [
    "np.random.uniform(1.0, 2.0, 10) # 1.0과 2.0 사이의 10개가 나옴\n",
    "                                # 정수일땐 randint, 실수일땐 uniform 사용하면됨"
   ]
  },
  {
   "cell_type": "code",
   "execution_count": 37,
   "id": "7aa2ad95",
   "metadata": {},
   "outputs": [
    {
     "data": {
      "text/plain": [
       "array([[0.01120797, 0.73758676, 0.0901442 ],\n",
       "       [0.95379814, 0.07243872, 0.46641238]])"
      ]
     },
     "execution_count": 37,
     "metadata": {},
     "output_type": "execute_result"
    }
   ],
   "source": [
    "np.random.uniform(0,1,(2,3))  # 개수대신 튜플로 묶어서 2행 3열 줌"
   ]
  },
  {
   "cell_type": "markdown",
   "id": "f482219d",
   "metadata": {},
   "source": [
    "- np.random.random_sample\n",
    "- 0 ~ 1 사이의 난수 실수값으로 행렬 생성\n",
    "- uniform 함수의 최소값, 최대값을 0, 1로 지정한 것과 같음"
   ]
  },
  {
   "cell_type": "code",
   "execution_count": 38,
   "id": "caedfef5",
   "metadata": {},
   "outputs": [
    {
     "data": {
      "text/plain": [
       "array([[0.19002799, 0.39268204, 0.88289066],\n",
       "       [0.1996873 , 0.08026883, 0.62096517]])"
      ]
     },
     "execution_count": 38,
     "metadata": {},
     "output_type": "execute_result"
    }
   ],
   "source": [
    "np.random.random_sample((2,3))     # 그래서 행렬만 줌 "
   ]
  },
  {
   "cell_type": "code",
   "execution_count": 64,
   "id": "c35e9de4",
   "metadata": {},
   "outputs": [
    {
     "data": {
      "text/plain": [
       "array([[0.7533329 , 0.62982589, 0.40783767, 0.92633791, 0.85064543,\n",
       "        0.86597747, 0.29589515, 0.2796709 ],\n",
       "       [0.1293212 , 0.60065777, 0.54098585, 0.06333968, 0.762637  ,\n",
       "        0.19097512, 0.27390608, 0.78669618],\n",
       "       [0.56369239, 0.2362757 , 0.61098611, 0.00856599, 0.47189918,\n",
       "        0.32334945, 0.62776765, 0.4847996 ],\n",
       "       [0.73595873, 0.05350064, 0.24967874, 0.57108951, 0.31060087,\n",
       "        0.08493885, 0.07671024, 0.10114573]])"
      ]
     },
     "execution_count": 64,
     "metadata": {},
     "output_type": "execute_result"
    }
   ],
   "source": [
    "import pandas as pd\n",
    "import numpy as np\n",
    "ar = np.random.rand(4,8)    # rand : 균일분포.  4행 8열\n",
    "ar"
   ]
  },
  {
   "cell_type": "code",
   "execution_count": 65,
   "id": "830b310c",
   "metadata": {},
   "outputs": [
    {
     "data": {
      "text/html": [
       "<div>\n",
       "<style scoped>\n",
       "    .dataframe tbody tr th:only-of-type {\n",
       "        vertical-align: middle;\n",
       "    }\n",
       "\n",
       "    .dataframe tbody tr th {\n",
       "        vertical-align: top;\n",
       "    }\n",
       "\n",
       "    .dataframe thead th {\n",
       "        text-align: right;\n",
       "    }\n",
       "</style>\n",
       "<table border=\"1\" class=\"dataframe\">\n",
       "  <thead>\n",
       "    <tr style=\"text-align: right;\">\n",
       "      <th></th>\n",
       "      <th>0</th>\n",
       "      <th>1</th>\n",
       "      <th>2</th>\n",
       "      <th>3</th>\n",
       "      <th>4</th>\n",
       "      <th>5</th>\n",
       "      <th>6</th>\n",
       "      <th>7</th>\n",
       "    </tr>\n",
       "  </thead>\n",
       "  <tbody>\n",
       "    <tr>\n",
       "      <th>0</th>\n",
       "      <td>0.753333</td>\n",
       "      <td>0.629826</td>\n",
       "      <td>0.407838</td>\n",
       "      <td>0.926338</td>\n",
       "      <td>0.850645</td>\n",
       "      <td>0.865977</td>\n",
       "      <td>0.295895</td>\n",
       "      <td>0.279671</td>\n",
       "    </tr>\n",
       "    <tr>\n",
       "      <th>1</th>\n",
       "      <td>0.129321</td>\n",
       "      <td>0.600658</td>\n",
       "      <td>0.540986</td>\n",
       "      <td>0.063340</td>\n",
       "      <td>0.762637</td>\n",
       "      <td>0.190975</td>\n",
       "      <td>0.273906</td>\n",
       "      <td>0.786696</td>\n",
       "    </tr>\n",
       "    <tr>\n",
       "      <th>2</th>\n",
       "      <td>0.563692</td>\n",
       "      <td>0.236276</td>\n",
       "      <td>0.610986</td>\n",
       "      <td>0.008566</td>\n",
       "      <td>0.471899</td>\n",
       "      <td>0.323349</td>\n",
       "      <td>0.627768</td>\n",
       "      <td>0.484800</td>\n",
       "    </tr>\n",
       "    <tr>\n",
       "      <th>3</th>\n",
       "      <td>0.735959</td>\n",
       "      <td>0.053501</td>\n",
       "      <td>0.249679</td>\n",
       "      <td>0.571090</td>\n",
       "      <td>0.310601</td>\n",
       "      <td>0.084939</td>\n",
       "      <td>0.076710</td>\n",
       "      <td>0.101146</td>\n",
       "    </tr>\n",
       "  </tbody>\n",
       "</table>\n",
       "</div>"
      ],
      "text/plain": [
       "          0         1         2         3         4         5         6  \\\n",
       "0  0.753333  0.629826  0.407838  0.926338  0.850645  0.865977  0.295895   \n",
       "1  0.129321  0.600658  0.540986  0.063340  0.762637  0.190975  0.273906   \n",
       "2  0.563692  0.236276  0.610986  0.008566  0.471899  0.323349  0.627768   \n",
       "3  0.735959  0.053501  0.249679  0.571090  0.310601  0.084939  0.076710   \n",
       "\n",
       "          7  \n",
       "0  0.279671  \n",
       "1  0.786696  \n",
       "2  0.484800  \n",
       "3  0.101146  "
      ]
     },
     "execution_count": 65,
     "metadata": {},
     "output_type": "execute_result"
    }
   ],
   "source": [
    "df = pd.DataFrame(ar)\n",
    "df\n",
    "# df = pd.DataFreme(ar, columns = ['id','gender','age','region','product','price','qty','time'])"
   ]
  },
  {
   "cell_type": "code",
   "execution_count": 66,
   "id": "678df49f",
   "metadata": {},
   "outputs": [
    {
     "data": {
      "text/html": [
       "<div>\n",
       "<style scoped>\n",
       "    .dataframe tbody tr th:only-of-type {\n",
       "        vertical-align: middle;\n",
       "    }\n",
       "\n",
       "    .dataframe tbody tr th {\n",
       "        vertical-align: top;\n",
       "    }\n",
       "\n",
       "    .dataframe thead th {\n",
       "        text-align: right;\n",
       "    }\n",
       "</style>\n",
       "<table border=\"1\" class=\"dataframe\">\n",
       "  <thead>\n",
       "    <tr style=\"text-align: right;\">\n",
       "      <th></th>\n",
       "      <th>id</th>\n",
       "      <th>gender</th>\n",
       "      <th>age</th>\n",
       "      <th>region</th>\n",
       "      <th>product</th>\n",
       "      <th>price</th>\n",
       "      <th>qty</th>\n",
       "      <th>time</th>\n",
       "    </tr>\n",
       "  </thead>\n",
       "  <tbody>\n",
       "    <tr>\n",
       "      <th>0</th>\n",
       "      <td>0.753333</td>\n",
       "      <td>0.629826</td>\n",
       "      <td>0.407838</td>\n",
       "      <td>0.926338</td>\n",
       "      <td>0.850645</td>\n",
       "      <td>0.865977</td>\n",
       "      <td>0.295895</td>\n",
       "      <td>0.279671</td>\n",
       "    </tr>\n",
       "    <tr>\n",
       "      <th>1</th>\n",
       "      <td>0.129321</td>\n",
       "      <td>0.600658</td>\n",
       "      <td>0.540986</td>\n",
       "      <td>0.063340</td>\n",
       "      <td>0.762637</td>\n",
       "      <td>0.190975</td>\n",
       "      <td>0.273906</td>\n",
       "      <td>0.786696</td>\n",
       "    </tr>\n",
       "    <tr>\n",
       "      <th>2</th>\n",
       "      <td>0.563692</td>\n",
       "      <td>0.236276</td>\n",
       "      <td>0.610986</td>\n",
       "      <td>0.008566</td>\n",
       "      <td>0.471899</td>\n",
       "      <td>0.323349</td>\n",
       "      <td>0.627768</td>\n",
       "      <td>0.484800</td>\n",
       "    </tr>\n",
       "    <tr>\n",
       "      <th>3</th>\n",
       "      <td>0.735959</td>\n",
       "      <td>0.053501</td>\n",
       "      <td>0.249679</td>\n",
       "      <td>0.571090</td>\n",
       "      <td>0.310601</td>\n",
       "      <td>0.084939</td>\n",
       "      <td>0.076710</td>\n",
       "      <td>0.101146</td>\n",
       "    </tr>\n",
       "  </tbody>\n",
       "</table>\n",
       "</div>"
      ],
      "text/plain": [
       "         id    gender       age    region   product     price       qty  \\\n",
       "0  0.753333  0.629826  0.407838  0.926338  0.850645  0.865977  0.295895   \n",
       "1  0.129321  0.600658  0.540986  0.063340  0.762637  0.190975  0.273906   \n",
       "2  0.563692  0.236276  0.610986  0.008566  0.471899  0.323349  0.627768   \n",
       "3  0.735959  0.053501  0.249679  0.571090  0.310601  0.084939  0.076710   \n",
       "\n",
       "       time  \n",
       "0  0.279671  \n",
       "1  0.786696  \n",
       "2  0.484800  \n",
       "3  0.101146  "
      ]
     },
     "execution_count": 66,
     "metadata": {},
     "output_type": "execute_result"
    }
   ],
   "source": [
    "# columns 8개에 대한 이름 columns = ['id','gender','age','region','product','price','qty','time']\n",
    "df.columns = ['id','gender','age','region','product','price','qty','time']\n",
    "df"
   ]
  },
  {
   "cell_type": "code",
   "execution_count": 67,
   "id": "b86eba93",
   "metadata": {},
   "outputs": [],
   "source": [
    "# Q. id, gender, age 컬럼에 대하여 의미있는 값으로 변환하여 3개의 컬럼으로 구성된 df3을 출력하세요."
   ]
  },
  {
   "cell_type": "code",
   "execution_count": 75,
   "id": "8c121093",
   "metadata": {},
   "outputs": [
    {
     "data": {
      "text/html": [
       "<div>\n",
       "<style scoped>\n",
       "    .dataframe tbody tr th:only-of-type {\n",
       "        vertical-align: middle;\n",
       "    }\n",
       "\n",
       "    .dataframe tbody tr th {\n",
       "        vertical-align: top;\n",
       "    }\n",
       "\n",
       "    .dataframe thead th {\n",
       "        text-align: right;\n",
       "    }\n",
       "</style>\n",
       "<table border=\"1\" class=\"dataframe\">\n",
       "  <thead>\n",
       "    <tr style=\"text-align: right;\">\n",
       "      <th></th>\n",
       "      <th>id</th>\n",
       "      <th>gender</th>\n",
       "      <th>age</th>\n",
       "    </tr>\n",
       "  </thead>\n",
       "  <tbody>\n",
       "    <tr>\n",
       "      <th>0</th>\n",
       "      <td>60</td>\n",
       "      <td>female</td>\n",
       "      <td>46</td>\n",
       "    </tr>\n",
       "    <tr>\n",
       "      <th>1</th>\n",
       "      <td>99</td>\n",
       "      <td>male</td>\n",
       "      <td>26</td>\n",
       "    </tr>\n",
       "    <tr>\n",
       "      <th>2</th>\n",
       "      <td>30</td>\n",
       "      <td>female</td>\n",
       "      <td>11</td>\n",
       "    </tr>\n",
       "    <tr>\n",
       "      <th>3</th>\n",
       "      <td>98</td>\n",
       "      <td>female</td>\n",
       "      <td>13</td>\n",
       "    </tr>\n",
       "  </tbody>\n",
       "</table>\n",
       "</div>"
      ],
      "text/plain": [
       "   id  gender  age\n",
       "0  60  female   46\n",
       "1  99    male   26\n",
       "2  30  female   11\n",
       "3  98  female   13"
      ]
     },
     "execution_count": 75,
     "metadata": {},
     "output_type": "execute_result"
    }
   ],
   "source": [
    "df1 = df[['id','gender','age']]\n",
    "df2 = df1.copy()\n",
    "df2.id = np.random.randint(1,100,4)  # 각 값 개별설정방법?\n",
    "df2.gender = np.random.choice(['male','female'],4)\n",
    "df2.age = np.random.randint(1,100,4)\n",
    "df2[['id','gender','age']]"
   ]
  },
  {
   "cell_type": "code",
   "execution_count": 81,
   "id": "18356cad",
   "metadata": {},
   "outputs": [],
   "source": [
    "# 배열에서 정렬한 후 50%에 해당하는 원소만 출력\n",
    "large_ar = np.random.randn(100000) # randn : 표준정규분포\n",
    "large_ar.sort() # np.array에 sort 적용하면 원본에 반영됨"
   ]
  },
  {
   "cell_type": "code",
   "execution_count": 82,
   "id": "a5fe4fbe",
   "metadata": {},
   "outputs": [
    {
     "data": {
      "text/plain": [
       "-0.0019335365994326678"
      ]
     },
     "execution_count": 82,
     "metadata": {},
     "output_type": "execute_result"
    }
   ],
   "source": [
    "large_ar[int(0.5*len(large_ar))]"
   ]
  },
  {
   "cell_type": "markdown",
   "id": "18ceacb4",
   "metadata": {},
   "source": [
    "- 배열 집합 연산"
   ]
  },
  {
   "cell_type": "code",
   "execution_count": 84,
   "id": "81fc3468",
   "metadata": {},
   "outputs": [
    {
     "data": {
      "text/plain": [
       "array(['Bob', 'Joe', 'Will'], dtype='<U4')"
      ]
     },
     "execution_count": 84,
     "metadata": {},
     "output_type": "execute_result"
    }
   ],
   "source": [
    "names = np.array(['Bob','Joe','Will','Joe','Joe'])\n",
    "np.unique(names) # 중복 필터링"
   ]
  },
  {
   "cell_type": "code",
   "execution_count": 86,
   "id": "4ba66ec8",
   "metadata": {},
   "outputs": [
    {
     "data": {
      "text/plain": [
       "['Bob', 'Joe', 'Will']"
      ]
     },
     "execution_count": 86,
     "metadata": {},
     "output_type": "execute_result"
    }
   ],
   "source": [
    "names = np.array(['Bob','Joe','Will','Joe','Joe'])\n",
    "sorted(set(names))"
   ]
  },
  {
   "cell_type": "code",
   "execution_count": 88,
   "id": "67af351a",
   "metadata": {},
   "outputs": [
    {
     "data": {
      "text/plain": [
       "array([ True, False, False,  True,  True, False,  True])"
      ]
     },
     "execution_count": 88,
     "metadata": {},
     "output_type": "execute_result"
    }
   ],
   "source": [
    "# 첫번째 배열의 원소가 두번째 배열의 원소를 포함하는지 알려주는 불리언 배열을 반환\n",
    "values = np.array([6,0,0,3,2,5,6])\n",
    "np.in1d(values, [2,3,6])   # i n 1(숫자) d. 2,3,6에 넣은 값이 있으면 그값만 True"
   ]
  },
  {
   "cell_type": "markdown",
   "id": "d2587f98",
   "metadata": {},
   "source": [
    "- 배열 데이터의 입출력"
   ]
  },
  {
   "cell_type": "code",
   "execution_count": 89,
   "id": "f7abe6f0",
   "metadata": {},
   "outputs": [],
   "source": [
    "ar = np.arange(10)\n",
    "np.save('some_ar', ar)"
   ]
  },
  {
   "cell_type": "code",
   "execution_count": 90,
   "id": "9dbfcadf",
   "metadata": {},
   "outputs": [
    {
     "data": {
      "text/plain": [
       "array([0, 1, 2, 3, 4, 5, 6, 7, 8, 9])"
      ]
     },
     "execution_count": 90,
     "metadata": {},
     "output_type": "execute_result"
    }
   ],
   "source": [
    "np.load('some_ar.npy')  # 확장자는 npy."
   ]
  },
  {
   "cell_type": "markdown",
   "id": "7da95ac9",
   "metadata": {},
   "source": [
    "- np.savez : 여러개의 배열을 압축된 형식으로 저장"
   ]
  },
  {
   "cell_type": "code",
   "execution_count": 91,
   "id": "f91498d5",
   "metadata": {},
   "outputs": [],
   "source": [
    "np.savez('ar_archive.npz', a=ar, b=ar)"
   ]
  },
  {
   "cell_type": "code",
   "execution_count": 92,
   "id": "aefab62b",
   "metadata": {},
   "outputs": [
    {
     "data": {
      "text/plain": [
       "array([0, 1, 2, 3, 4, 5, 6, 7, 8, 9])"
      ]
     },
     "execution_count": 92,
     "metadata": {},
     "output_type": "execute_result"
    }
   ],
   "source": [
    "arch = np.load('ar_archive.npz')\n",
    "arch['a']"
   ]
  },
  {
   "cell_type": "code",
   "execution_count": 93,
   "id": "bbc27000",
   "metadata": {},
   "outputs": [
    {
     "data": {
      "text/plain": [
       "array([0, 1, 2, 3, 4, 5, 6, 7, 8, 9])"
      ]
     },
     "execution_count": 93,
     "metadata": {},
     "output_type": "execute_result"
    }
   ],
   "source": [
    "arch['b']"
   ]
  },
  {
   "cell_type": "code",
   "execution_count": 96,
   "id": "6d9592d4",
   "metadata": {},
   "outputs": [
    {
     "name": "stdout",
     "output_type": "stream",
     "text": [
      "[1 2 3 4 5 6 7 8 9] \n",
      "\n"
     ]
    },
    {
     "data": {
      "text/plain": [
       "array([0, 1, 2, 3, 4, 5, 6, 7, 8], dtype=int64)"
      ]
     },
     "execution_count": 96,
     "metadata": {},
     "output_type": "execute_result"
    }
   ],
   "source": [
    "a = np.arange(1,10)\n",
    "print(a, '\\n')\n",
    "np.argsort(a)   # 인덱스 순서 찾는 함수"
   ]
  },
  {
   "cell_type": "code",
   "execution_count": 97,
   "id": "aa29e55e",
   "metadata": {},
   "outputs": [
    {
     "data": {
      "text/plain": [
       "array([8, 7, 6, 5, 4, 3, 2, 1, 0], dtype=int64)"
      ]
     },
     "execution_count": 97,
     "metadata": {},
     "output_type": "execute_result"
    }
   ],
   "source": [
    "# 인덱스 배열을 역순으로 출력\n",
    "np.argsort(a)[::-1]"
   ]
  },
  {
   "cell_type": "markdown",
   "id": "3d80821c",
   "metadata": {},
   "source": [
    "###  도전과제(7/6)\n",
    "- np.arange(336).reshape(6,7,8)에서 100번째 요소의 인덱스를 구하세요."
   ]
  },
  {
   "cell_type": "code",
   "execution_count": 103,
   "id": "67b0cba3",
   "metadata": {},
   "outputs": [
    {
     "data": {
      "text/plain": [
       "array([[[  0,   1,   2,   3,   4,   5,   6,   7],\n",
       "        [  8,   9,  10,  11,  12,  13,  14,  15],\n",
       "        [ 16,  17,  18,  19,  20,  21,  22,  23],\n",
       "        [ 24,  25,  26,  27,  28,  29,  30,  31],\n",
       "        [ 32,  33,  34,  35,  36,  37,  38,  39],\n",
       "        [ 40,  41,  42,  43,  44,  45,  46,  47],\n",
       "        [ 48,  49,  50,  51,  52,  53,  54,  55]],\n",
       "\n",
       "       [[ 56,  57,  58,  59,  60,  61,  62,  63],\n",
       "        [ 64,  65,  66,  67,  68,  69,  70,  71],\n",
       "        [ 72,  73,  74,  75,  76,  77,  78,  79],\n",
       "        [ 80,  81,  82,  83,  84,  85,  86,  87],\n",
       "        [ 88,  89,  90,  91,  92,  93,  94,  95],\n",
       "        [ 96,  97,  98,  99, 100, 101, 102, 103],\n",
       "        [104, 105, 106, 107, 108, 109, 110, 111]],\n",
       "\n",
       "       [[112, 113, 114, 115, 116, 117, 118, 119],\n",
       "        [120, 121, 122, 123, 124, 125, 126, 127],\n",
       "        [128, 129, 130, 131, 132, 133, 134, 135],\n",
       "        [136, 137, 138, 139, 140, 141, 142, 143],\n",
       "        [144, 145, 146, 147, 148, 149, 150, 151],\n",
       "        [152, 153, 154, 155, 156, 157, 158, 159],\n",
       "        [160, 161, 162, 163, 164, 165, 166, 167]],\n",
       "\n",
       "       [[168, 169, 170, 171, 172, 173, 174, 175],\n",
       "        [176, 177, 178, 179, 180, 181, 182, 183],\n",
       "        [184, 185, 186, 187, 188, 189, 190, 191],\n",
       "        [192, 193, 194, 195, 196, 197, 198, 199],\n",
       "        [200, 201, 202, 203, 204, 205, 206, 207],\n",
       "        [208, 209, 210, 211, 212, 213, 214, 215],\n",
       "        [216, 217, 218, 219, 220, 221, 222, 223]],\n",
       "\n",
       "       [[224, 225, 226, 227, 228, 229, 230, 231],\n",
       "        [232, 233, 234, 235, 236, 237, 238, 239],\n",
       "        [240, 241, 242, 243, 244, 245, 246, 247],\n",
       "        [248, 249, 250, 251, 252, 253, 254, 255],\n",
       "        [256, 257, 258, 259, 260, 261, 262, 263],\n",
       "        [264, 265, 266, 267, 268, 269, 270, 271],\n",
       "        [272, 273, 274, 275, 276, 277, 278, 279]],\n",
       "\n",
       "       [[280, 281, 282, 283, 284, 285, 286, 287],\n",
       "        [288, 289, 290, 291, 292, 293, 294, 295],\n",
       "        [296, 297, 298, 299, 300, 301, 302, 303],\n",
       "        [304, 305, 306, 307, 308, 309, 310, 311],\n",
       "        [312, 313, 314, 315, 316, 317, 318, 319],\n",
       "        [320, 321, 322, 323, 324, 325, 326, 327],\n",
       "        [328, 329, 330, 331, 332, 333, 334, 335]]])"
      ]
     },
     "execution_count": 103,
     "metadata": {},
     "output_type": "execute_result"
    }
   ],
   "source": [
    "a = np.arange(336).reshape(6,7,8)\n",
    "np.argsort(a)"
   ]
  },
  {
   "cell_type": "markdown",
   "id": "c16f24ed",
   "metadata": {},
   "source": [
    "- np.arange(4)을 이용햇 아래와 같이 출력하세요."
   ]
  },
  {
   "cell_type": "code",
   "execution_count": null,
   "id": "f8a80109",
   "metadata": {},
   "outputs": [],
   "source": [
    "array([[0, 0, 0, 0, 0],\n",
    "       [1, 0, 0, 0, 0],\n",
    "       [0, 2, 0, 0, 0],\n",
    "       [0, 0, 3, 0, 0],\n",
    "       [0, 0, 0, 4, 0]])"
   ]
  },
  {
   "cell_type": "code",
   "execution_count": 111,
   "id": "d6585879",
   "metadata": {},
   "outputs": [
    {
     "data": {
      "text/plain": [
       "array([0, 1, 2, 3])"
      ]
     },
     "execution_count": 111,
     "metadata": {},
     "output_type": "execute_result"
    }
   ],
   "source": [
    "np.arange(4) # np.ones?"
   ]
  },
  {
   "cell_type": "markdown",
   "id": "0ead8859",
   "metadata": {},
   "source": [
    "- Q. 0~10 정수 (5,5) 행렬의 역행렬을 구한 후 두 행렬간의 행렬곱을 구하세요."
   ]
  },
  {
   "cell_type": "code",
   "execution_count": 127,
   "id": "35bce7cc",
   "metadata": {},
   "outputs": [
    {
     "data": {
      "text/plain": [
       "array([[4, 4, 4, 4, 4],\n",
       "       [4, 4, 4, 4, 4],\n",
       "       [4, 4, 4, 4, 4],\n",
       "       [4, 4, 4, 4, 4],\n",
       "       [4, 4, 4, 4, 4]])"
      ]
     },
     "execution_count": 127,
     "metadata": {},
     "output_type": "execute_result"
    }
   ],
   "source": [
    "ar = np.random.randint(11,size=(5,5))\n",
    "print(ar)\n",
    "ar_r = np.linalg.inv(ar)\n",
    "\n",
    "\n",
    "# a = np.full((5,5), np.random.randint(0,10))\n"
   ]
  },
  {
   "cell_type": "code",
   "execution_count": null,
   "id": "e838dc0c",
   "metadata": {},
   "outputs": [],
   "source": [
    "# 임의의 행렬과 그 행렬의 역행렬의 곱은 항등열"
   ]
  },
  {
   "cell_type": "markdown",
   "id": "78422a4b",
   "metadata": {},
   "source": [
    "### 과제(7/6)\n",
    "-  가이드에 따라서 고객별 연간 구매데이터를 생성하고 아래사항을 수행하세요(관측치 10000개)"
   ]
  },
  {
   "cell_type": "markdown",
   "id": "3728f67b",
   "metadata": {},
   "source": [
    "- Q1. 고객 속성(id, 성별, 연령, 거주지역) 데이터와 거래 데이터를 통합한 데이터 프레임 df를 생성하세요.\n",
    "\n",
    "(관측치 1000개)"
   ]
  },
  {
   "cell_type": "code",
   "execution_count": null,
   "id": "5a2096e7",
   "metadata": {},
   "outputs": [],
   "source": [
    "거래 번호\n",
    "- id : 1 ~ 1000번 일련번호 - 개시 후 1만 건의 거래가 있었고 걍 거기에 넘버링한 거라고 이해해보자\n",
    "\n",
    "고객별 속성 데이터\n",
    "- cusno : 고객번호 1000개 랜덤\n",
    "- gender : 0,1 정수 난수 생성\n",
    "- age : 0 ~ 80사이 정수 난수 생성\n",
    "- region : 1 ~ 10 사이 정수 난수 생성\n",
    "\n",
    "거래 데이터\n",
    "- product_20 : 고가제품(10), 중가제품(20), 저가제품(30)로 구분제품코드 10,20,30\n",
    "- product_21 : 고가제품(10), 중가제품(20), 저가제품(30)로 구분제품코드 10,20,30\n",
    "- price_20 : 1000 ~ 50000 사이 실수 난수 생성\n",
    "- price_21 : 1000 ~ 50000 사이 실수 난수 생성\n",
    "- quantity_20 : 1 ~ 100 사이 정수 난수 생성\n",
    "- quantity_21 : 1 ~ 100 사이 정수 난수 생성\n",
    "- amount_20 : price_20 * quantity_20\n",
    "- amount_21 : price_21 * quantity_21\n",
    "- sales : 20년 대비 21년구매금액이 증가면 1, 감소면 0\n",
    "\n",
    "#### Q2. df를 수정하여 5가지 이상의 인사이트를 포함한 데이터 셋으로 변환하세요\n",
    "* 배운거 어떻게든 써서 . . \n",
    "* 구매 데이터 생성\n",
    "* 그룹핑등등 사용\n",
    "* 피벗으로 잘 됐는지 확인?\n",
    "#### Q3. df 를 탐색적 분석을 통하여 인사이트를 도출하세요.\n",
    "* 분석에는 인덱스를 다른거 뽑아서 사용가능\n",
    "* 판매율, 고정층, 연령층, 제품가격별, 물량 등등으로 분류해서 확인\n",
    "* 의미있는 값으로 방향제시 혹은 결과 도출\n",
    "사람살려"
   ]
  },
  {
   "cell_type": "code",
   "execution_count": null,
   "id": "e4c840a8",
   "metadata": {},
   "outputs": [],
   "source": []
  },
  {
   "cell_type": "code",
   "execution_count": null,
   "id": "ab721a28",
   "metadata": {},
   "outputs": [],
   "source": []
  },
  {
   "cell_type": "code",
   "execution_count": null,
   "id": "42117142",
   "metadata": {},
   "outputs": [],
   "source": []
  }
 ],
 "metadata": {
  "kernelspec": {
   "display_name": "Python 3 (ipykernel)",
   "language": "python",
   "name": "python3"
  },
  "language_info": {
   "codemirror_mode": {
    "name": "ipython",
    "version": 3
   },
   "file_extension": ".py",
   "mimetype": "text/x-python",
   "name": "python",
   "nbconvert_exporter": "python",
   "pygments_lexer": "ipython3",
   "version": "3.8.13"
  }
 },
 "nbformat": 4,
 "nbformat_minor": 5
}
