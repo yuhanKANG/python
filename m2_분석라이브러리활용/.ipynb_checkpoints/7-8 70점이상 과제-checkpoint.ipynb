{
 "cells": [
  {
   "cell_type": "markdown",
   "id": "a771e221",
   "metadata": {},
   "source": [
    "### 분석 실습\n",
    "\n",
    "#### 타이타닉 생존자 예측모델 개발 및 평가(아래 사항들 반영 필수)\n",
    "- Titanic data 전처리\n",
    "    - 분석 데이터 : titanic3.csv\n",
    "    - 재사용 가능한 전처리 사용자 함수 작성 하여 일괄 전처리 Null 값 처리\n",
    "    - 탐색적 분석을 통한 변수 선정 및 파생변수 생성 \n",
    "    - 훈련 데이터 : 검증 데이터 = 8:2\n",
    "    - 분류모델 : Decision Tree, Random Forest, Logistic Regression 3개 모두 적용\n",
    "    - 평가 : 사이킷런 metrics 사용, 다음 항목들을 포함하는 사용자 함수 def get_clf_eval(y_test, pred)을 작성하여 일괄 처리\n",
    "    \\\n",
    "    confusion_matrix, accuracy_score, precision_score, recall_score, f1_score\n",
    "    - 모델 개발 및 평가 결과에 대한 종합 의견\n",
    "\n",
    "\n",
    "- 컬럼 정보\n",
    "    - survived : 생존여부(1: 생존, 0 : 사망)\n",
    "    - pclass : 승선권 클래스(1 : 1st, 2 : 2nd ,3 : 3rd)\n",
    "    - name : 승객 이름\n",
    "    - sex : 승객 성별\n",
    "    - age : 승객 나이\n",
    "    - sibsp : 동반한 형제자매, 배우자 수\n",
    "    - parch : 동반한 부모, 자식 수\n",
    "    - ticket : 티켓의 고유 넘버\n",
    "    - fare 티켓의 요금\n",
    "    - cabin : 객실 번호\n",
    "    - embarked : 승선한 항구명(C : Cherbourg, Q : Queenstown, S : Southampton)\n",
    "    - boat\n",
    "    - body\n",
    "    - home.dest\n"
   ]
  },
  {
   "cell_type": "code",
   "execution_count": null,
   "id": "36dab7a6",
   "metadata": {},
   "outputs": [],
   "source": []
  },
  {
   "cell_type": "code",
   "execution_count": null,
   "id": "6eb65595",
   "metadata": {},
   "outputs": [],
   "source": []
  },
  {
   "cell_type": "code",
   "execution_count": null,
   "id": "7cd4ff0d",
   "metadata": {},
   "outputs": [],
   "source": []
  },
  {
   "cell_type": "code",
   "execution_count": 1,
   "id": "75cf586a",
   "metadata": {},
   "outputs": [
    {
     "ename": "SyntaxError",
     "evalue": "invalid syntax (1808371352.py, line 1)",
     "output_type": "error",
     "traceback": [
      "\u001b[1;36m  Input \u001b[1;32mIn [1]\u001b[1;36m\u001b[0m\n\u001b[1;33m    데이터 전처리 /사용자함수. null값제거\u001b[0m\n\u001b[1;37m        ^\u001b[0m\n\u001b[1;31mSyntaxError\u001b[0m\u001b[1;31m:\u001b[0m invalid syntax\n"
     ]
    }
   ],
   "source": [
    "데이터 전처리 /사용자함수. null값제거\n",
    "시각적 탐색\n",
    "통계적 탐색\n",
    "그래프 사용"
   ]
  },
  {
   "cell_type": "markdown",
   "id": "9f9dcf4a",
   "metadata": {},
   "source": [
    "- 모델링 및 평가"
   ]
  },
  {
   "cell_type": "code",
   "execution_count": null,
   "id": "95cb2257",
   "metadata": {},
   "outputs": [],
   "source": []
  },
  {
   "cell_type": "code",
   "execution_count": null,
   "id": "f36469e4",
   "metadata": {},
   "outputs": [],
   "source": [
    "# Decision Tree\n",
    "from sklearn.metrics import accuracy_score\n",
    "from sklearn.tree import DecisionTreeClassifier\n",
    "dt_model = DecisionTreeClassifier()\n",
    "dt_model.fit(X_train, y_train)\n",
    "dt_pred = dt_model.predict(X_test)\n",
    "\n",
    "print(dt_pred[0:10])\n",
    "print(y_test.values[0:10])\n",
    "\n",
    "accuracy = accuracy_score(y_test, dt_pred)\n",
    "print('dt 예측 정확도 :', accuracy)"
   ]
  },
  {
   "cell_type": "code",
   "execution_count": null,
   "id": "4417abca",
   "metadata": {},
   "outputs": [],
   "source": [
    "# Random Forest\n",
    "from sklearn.ensemble import RandomForestClassifier\n",
    "\n",
    "rf_model = RandomForestClassifier()\n",
    "rf_model.fit(X_train, y_train)\n",
    "rf_pred = rf_model.predict(X_test)\n",
    "\n",
    "rf_accuracy = accuracy_score(y_test, rf_pred)\n",
    "print('rf 예측 정확도 :', rf_accuracy)\n"
   ]
  },
  {
   "cell_type": "code",
   "execution_count": null,
   "id": "410dc914",
   "metadata": {},
   "outputs": [],
   "source": [
    "# Logistic Regression\n",
    "import warnings\n",
    "warnings.filterwarnings('ignore')\n",
    "from sklearn.linear_model import LogisticRegression\n",
    "\n",
    "lr_model = LogisticRegression(random_state=0)\n",
    "lr_model.fit(X_train,y_train)\n",
    "lr_pred = lr_model.predict(X_test)\n",
    "\n",
    "lr_accuracy = accuracy_score(y_test, lr_pred)\n",
    "print('lr 예측 정확도 :', accuracy)\n"
   ]
  },
  {
   "cell_type": "code",
   "execution_count": null,
   "id": "efa0c6c7",
   "metadata": {},
   "outputs": [],
   "source": [
    "from sklearn import preprocessing\n",
    "from sklearn.model_selection import train_test_split\n",
    "\n",
    "X = t_df[['pclass', 'sex', 'age', 'sibsp', 'parch', 'fare', 'cabin', 'embarked']]\n",
    "y = t_df['survived']"
   ]
  },
  {
   "cell_type": "code",
   "execution_count": null,
   "id": "1e69597a",
   "metadata": {},
   "outputs": [],
   "source": [
    "# 학습용 테이터와 평가용 데이터를 8:2로 분리\n",
    "X_train, X_test, y_train, y_test = train_test_split(X, y, test_size=0.2, \\\n",
    "                                                    random_state=10) \n",
    "print(X_train.shape)\n",
    "print(X_test.shape)\n"
   ]
  }
 ],
 "metadata": {
  "kernelspec": {
   "display_name": "Python 3 (ipykernel)",
   "language": "python",
   "name": "python3"
  },
  "language_info": {
   "codemirror_mode": {
    "name": "ipython",
    "version": 3
   },
   "file_extension": ".py",
   "mimetype": "text/x-python",
   "name": "python",
   "nbconvert_exporter": "python",
   "pygments_lexer": "ipython3",
   "version": "3.8.13"
  }
 },
 "nbformat": 4,
 "nbformat_minor": 5
}
