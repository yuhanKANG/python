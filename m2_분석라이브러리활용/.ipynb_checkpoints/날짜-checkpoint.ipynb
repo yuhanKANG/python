{
 "cells": [
  {
   "cell_type": "markdown",
   "id": "2ed84787",
   "metadata": {},
   "source": [
    "python, numpy, pandas 날짜 타입 비교 및 정리\n",
    "\n",
    "- datetime은 python 설치 시 기본적으로 내장된 라이브러리로, 날짜를 쓸 것인지, 시간을 쓸 것인지, 날짜시간을 합쳐쓸 것인지에 따라 클래스가 분화되어 있는 것이 특징. 예를들어 '2021-3-16'을 표시하고 싶으면 date 클래스를 사용하고, '2021-3-16 12:34:21'를 표시하고 싶으면 'datetime' 클래스를 사용합니다. \n",
    "- 반면 datetime64나 Timestamp는 각각 numpy, pandas 라이브러리에서 새로 정의한 날짜시간 클래스입니다. 이 둘은 numpy, pandas를 설치해야만 이용할 수 있고, 한 클래스로 날짜, 시간, 날짜시간을 모두 정의할 수 있는 것이 특징\n",
    "- 날짜, 시간 타입은 일반적인 정수, 실수끼리 연산할 때와 달리 단위를 가지고 있는 점 때문에 시간의 차이를 저장하는 별도의 클래스가 있다는 특징. 이를 timedelta(타임델타)라고 하는데, 날짜, 시간은 특정 시점의 시각을 표시하는 용도이고(2021년 3월 16일), 타임델타는 기간 또는 시간 차이를 표시하는 용도(5일)\n",
    "\n",
    "- https://ellun.tistory.com/320\n",
    "\n",
    "<img src='dataset/날짜타입.jpg' STYLE='width:500px;'>\n"
   ]
  },
  {
   "cell_type": "code",
   "execution_count": 1,
   "id": "b660618c",
   "metadata": {},
   "outputs": [],
   "source": [
    "# 날짜는 자주 잊어버리니 많은 반복학습이 필요\n",
    "# 날짜 : date\n",
    "# 날짜+시간 : datetime"
   ]
  },
  {
   "cell_type": "markdown",
   "id": "5bfe426a",
   "metadata": {},
   "source": [
    "#### 파이썬 날짜, 시간"
   ]
  },
  {
   "cell_type": "markdown",
   "id": "c5c8cff3",
   "metadata": {},
   "source": [
    "- timestamp -> str 문자  타입변환 중요!"
   ]
  },
  {
   "cell_type": "code",
   "execution_count": 3,
   "id": "9bddf199",
   "metadata": {},
   "outputs": [
    {
     "name": "stdout",
     "output_type": "stream",
     "text": [
      "1656550149.9340792 <class 'float'>\n",
      "1656550149.9340792 <class 'str'>\n"
     ]
    }
   ],
   "source": [
    "import time\n",
    "\n",
    "t = time.time()  # 1970년 1월1일부터 지난 초\n",
    "print(t,type(t))\n",
    "s = str(time.time())\n",
    "print(s, type(s))"
   ]
  },
  {
   "cell_type": "markdown",
   "id": "e4ba469f",
   "metadata": {},
   "source": [
    "- datetime -> str"
   ]
  },
  {
   "cell_type": "code",
   "execution_count": 15,
   "id": "109d5ad2",
   "metadata": {},
   "outputs": [
    {
     "name": "stdout",
     "output_type": "stream",
     "text": [
      "2022-06-30 10:22:41.177360 <class 'datetime.datetime'>\n",
      "2022-06-30 10:22:41 <class 'str'>\n"
     ]
    }
   ],
   "source": [
    "from datetime import datetime\n",
    "s = datetime.now()\n",
    "print(s,type(s))\n",
    "sl = s.strftime('%Y-%m-%d %H:%M:%S')  # 날짜와 시간. Y : year.\n",
    "print(sl, type(sl))"
   ]
  },
  {
   "cell_type": "markdown",
   "id": "875fcbc2",
   "metadata": {},
   "source": [
    "- str -> datetime "
   ]
  },
  {
   "cell_type": "code",
   "execution_count": 12,
   "id": "e0996f32",
   "metadata": {},
   "outputs": [
    {
     "name": "stdout",
     "output_type": "stream",
     "text": [
      "2021-07-20 11:13:58 <class 'str'>\n",
      "2021-07-20 11:13:58 <class 'datetime.datetime'>\n"
     ]
    }
   ],
   "source": [
    "from datetime import datetime\n",
    "s = '2021-07-20 11:13:58'\n",
    "print(s,type(s))\n",
    "\n",
    "d = datetime.strptime(s,'%Y-%m-%d %H:%M:%S') # p: passing strptime : str을 time으로 바꿔줌\n",
    "print(d, type(d))"
   ]
  },
  {
   "cell_type": "markdown",
   "id": "569b6576",
   "metadata": {},
   "source": [
    "- str -> datetime -> timestamp"
   ]
  },
  {
   "cell_type": "code",
   "execution_count": 14,
   "id": "f05778a6",
   "metadata": {},
   "outputs": [
    {
     "name": "stdout",
     "output_type": "stream",
     "text": [
      "1626747238.0 <class 'float'>\n"
     ]
    }
   ],
   "source": [
    "s = '2021-07-20 11:13:58'\n",
    "timestamp = time.mktime(datetime.strptime(s,'%Y-%m-%d %H:%M:%S').timetuple()) \n",
    "# mktime : 지방표준시인 struct_time 시퀀스 객체를 인자로 받아서 time()과\n",
    "        # 같은 누적된 초를 반환\n",
    "print(timestamp, type(timestamp))"
   ]
  },
  {
   "cell_type": "markdown",
   "id": "710807bf",
   "metadata": {},
   "source": [
    "-  datetime -> timestamp"
   ]
  },
  {
   "cell_type": "code",
   "execution_count": 25,
   "id": "a49307b6",
   "metadata": {},
   "outputs": [
    {
     "name": "stdout",
     "output_type": "stream",
     "text": [
      "2022-06-30 10:26:34.120676 <class 'datetime.datetime'>\n",
      "1656552394.0 <class 'float'>\n"
     ]
    }
   ],
   "source": [
    "d = datetime.today()\n",
    "print(d,type(d))\n",
    "timestamp1 = time.mktime(d.timetuple())  #mktime은 datetime을 timestamp로 바꿔줌\n",
    "print(timestamp1, type(timestamp1))"
   ]
  },
  {
   "cell_type": "markdown",
   "id": "570dae57",
   "metadata": {},
   "source": [
    "- timestamp -> datetime"
   ]
  },
  {
   "cell_type": "code",
   "execution_count": 30,
   "id": "c32c0f94",
   "metadata": {},
   "outputs": [
    {
     "name": "stdout",
     "output_type": "stream",
     "text": [
      "1656552469.1618903 <class 'float'>\n",
      "2022-06-30 10:27:49.161890 <class 'datetime.datetime'>\n"
     ]
    }
   ],
   "source": [
    "t = time.time() #70년부터 지금까지의 초\n",
    "print(t, type(t))\n",
    "d = datetime.fromtimestamp(t)  #fromtimestamp : ?\n",
    "print(d, type(d))"
   ]
  },
  {
   "cell_type": "markdown",
   "id": "bc6a8529",
   "metadata": {},
   "source": [
    "#### 과제(6/30)\n",
    "- 현재시간을 timestamp으로 불러와서 datetime, str로 타입을 변경한 후 다시 timestamp으로 변경하세요.\n",
    "- 원하는 날짜+시간을 5개 str로 만든 후 datetime, timestamp 타입으로 변경하세요."
   ]
  },
  {
   "cell_type": "code",
   "execution_count": 2,
   "id": "9acd0c52",
   "metadata": {},
   "outputs": [
    {
     "name": "stdout",
     "output_type": "stream",
     "text": [
      "2022-06-30 16:44:07.384871\n"
     ]
    }
   ],
   "source": [
    "# 1-1. timestamp -> datetime\n",
    "import time\n",
    "from datetime import datetime\n",
    "\n",
    "t = time.time()\n",
    "d = datetime.fromtimestamp(t)\n",
    "print(d)"
   ]
  },
  {
   "cell_type": "code",
   "execution_count": 10,
   "id": "f8bbb559",
   "metadata": {},
   "outputs": [
    {
     "name": "stdout",
     "output_type": "stream",
     "text": [
      "1656575252.0\n"
     ]
    }
   ],
   "source": [
    "# 1-2. datetime -> timestamp\n",
    "d = datetime.now() # = datetime.today()\n",
    "ttimestamp = time.mktime(d.timetuple())\n",
    "print(ttimestamp)"
   ]
  },
  {
   "cell_type": "code",
   "execution_count": 19,
   "id": "66a2a6f7",
   "metadata": {},
   "outputs": [
    {
     "data": {
      "text/plain": [
       "'2022-06-30 16:52:35'"
      ]
     },
     "execution_count": 19,
     "metadata": {},
     "output_type": "execute_result"
    }
   ],
   "source": [
    "# 1-3. timestamp -> str\n",
    "import time\n",
    "from datetime import datetime\n",
    "t = datetime.now()\n",
    "\n",
    "tl = t.strftime('%Y-%m-%d %H:%M:%S')   # 연월일은 연만 대문자, 시간은 전부 대문자\n",
    "tl"
   ]
  },
  {
   "cell_type": "code",
   "execution_count": 23,
   "id": "8d76feba",
   "metadata": {},
   "outputs": [
    {
     "data": {
      "text/plain": [
       "datetime.datetime(2022, 9, 20, 2, 3, 5)"
      ]
     },
     "execution_count": 23,
     "metadata": {},
     "output_type": "execute_result"
    }
   ],
   "source": [
    "# 1-4. str -> timestamp\n",
    "from datetime import datetime\n",
    "d1 = '2022-09-20 2:3:5'\n",
    "d2 = datetime.strptime(d1, '%Y-%m-%d %H:%M:%S')\n",
    "d2"
   ]
  },
  {
   "cell_type": "code",
   "execution_count": 32,
   "id": "0775abca",
   "metadata": {},
   "outputs": [],
   "source": [
    "# 2. 원하는 날짜+시간을 5개 str로 만든 후 datetime, timestamp 타입으로 변경하세요."
   ]
  },
  {
   "cell_type": "code",
   "execution_count": 44,
   "id": "0c6390c7",
   "metadata": {},
   "outputs": [
    {
     "name": "stdout",
     "output_type": "stream",
     "text": [
      "2052-07-06 12:00:00\n"
     ]
    }
   ],
   "source": [
    "# 2-1. str -> datetime -> timestamp 차례대로\n",
    "from datetime import datetime\n",
    "grave = '2052-07-06 12:00:00'\n",
    "tomb = datetime.strptime(grave,'%Y-%m-%d %H:%M:%S')\n",
    "print(tomb) # str -> datetime\n",
    "\n",
    "dust = time.mktime(tomb.timetuple()) # datetime -> timestamp\n",
    "\n",
    "# timestamp = time.mktime(datetime값.timetuple())"
   ]
  },
  {
   "cell_type": "code",
   "execution_count": 36,
   "id": "933c317e",
   "metadata": {},
   "outputs": [
    {
     "data": {
      "text/plain": [
       "1021872764.0"
      ]
     },
     "execution_count": 36,
     "metadata": {},
     "output_type": "execute_result"
    }
   ],
   "source": [
    "# 2-2. str -> timestamp\n",
    "from datetime import datetime\n",
    "worldcup = '2002-05-20 14:32:44'\n",
    "\n",
    "change = time.mktime(datetime.strptime(worldcup,'%Y-%m-%d %H:%M:%S').timetuple())\n",
    "change"
   ]
  },
  {
   "cell_type": "code",
   "execution_count": 50,
   "id": "2eecc661",
   "metadata": {},
   "outputs": [
    {
     "data": {
      "text/plain": [
       "808456354.0"
      ]
     },
     "execution_count": 50,
     "metadata": {},
     "output_type": "execute_result"
    }
   ],
   "source": [
    "# 2-3. str -> timestamp\n",
    "from datetime import datetime\n",
    "abcd = '1995-8-15 12:12:34'  # 1970년부터 설정!!\n",
    "\n",
    "free = time.mktime(datetime.strptime(abcd,'%Y-%m-%d %H:%M:%S').timetuple())\n",
    "free"
   ]
  },
  {
   "cell_type": "code",
   "execution_count": 54,
   "id": "88c5c2c2",
   "metadata": {},
   "outputs": [
    {
     "name": "stdout",
     "output_type": "stream",
     "text": [
      "1989-07-30 19:05:13\n",
      "617796313.0\n"
     ]
    }
   ],
   "source": [
    "# 2-4. str -> datetime -> timestamp\n",
    "from datetime import datetime\n",
    "a = '1989-7-30 19:5:13'\n",
    "\n",
    "wasday = datetime.strptime(a,'%Y-%m-%d %H:%M:%S')\n",
    "print(wasday)  # str -> datetime\n",
    "past = time.mktime(wasday.timetuple())  # datetime -> timestamp\n",
    "print(past)"
   ]
  },
  {
   "cell_type": "code",
   "execution_count": 57,
   "id": "f6c9a1d1",
   "metadata": {},
   "outputs": [
    {
     "data": {
      "text/plain": [
       "datetime.datetime(1992, 3, 23, 4, 49, 11)"
      ]
     },
     "execution_count": 57,
     "metadata": {},
     "output_type": "execute_result"
    }
   ],
   "source": [
    "# 2-5. str -> timestamp\n",
    "from datetime import datetime\n",
    "doomsday = '1992-3-23 4:49:11'\n",
    "\n",
    "fate = datetime.strptime(doomsday, '%Y-%m-%d %H:%M:%S')\n",
    "fate"
   ]
  },
  {
   "cell_type": "code",
   "execution_count": null,
   "id": "def4fcf4",
   "metadata": {},
   "outputs": [],
   "source": []
  },
  {
   "cell_type": "code",
   "execution_count": null,
   "id": "7a5519f2",
   "metadata": {},
   "outputs": [],
   "source": []
  },
  {
   "cell_type": "code",
   "execution_count": 40,
   "id": "df8f447f",
   "metadata": {},
   "outputs": [],
   "source": [
    "from datetime import timedelta\n",
    "import time"
   ]
  },
  {
   "cell_type": "code",
   "execution_count": 42,
   "id": "b2b356bd",
   "metadata": {},
   "outputs": [
    {
     "name": "stdout",
     "output_type": "stream",
     "text": [
      "2022-06-30 10:38:06.367821\n",
      "-365 days, 0:00:00\n"
     ]
    },
    {
     "data": {
      "text/plain": [
       "datetime.datetime(2021, 6, 30, 10, 38, 6, 367821)"
      ]
     },
     "execution_count": 42,
     "metadata": {},
     "output_type": "execute_result"
    }
   ],
   "source": [
    "datetime_now = datetime.now()\n",
    "print(datetime_now)\n",
    "delta_datetime = timedelta(days= -365)  # 복합대비연산자 x += i\n",
    "print(delta_datetime)                  # -=와 =- 차이?\n",
    "\n",
    "datetime_now + delta_datetime"
   ]
  },
  {
   "cell_type": "markdown",
   "id": "17fb2db7",
   "metadata": {},
   "source": [
    "- 두 날짜간의 일수 구하기 "
   ]
  },
  {
   "cell_type": "code",
   "execution_count": 44,
   "id": "4bce8c09",
   "metadata": {},
   "outputs": [
    {
     "name": "stdout",
     "output_type": "stream",
     "text": [
      "2018-03-01 00:00:00\n",
      "2018-03-31 00:00:00\n"
     ]
    },
    {
     "data": {
      "text/plain": [
       "datetime.timedelta(days=30)"
      ]
     },
     "execution_count": 44,
     "metadata": {},
     "output_type": "execute_result"
    }
   ],
   "source": [
    "since_timestamp = datetime.strptime('20180301', '%Y%m%d')  # 형식을 맞춰줘야 정확히 인식함\n",
    "until_timestamp = datetime.strptime('20180331', '%Y%m%d')\n",
    "print(since_timestamp)\n",
    "print(until_timestamp)\n",
    "result = until_timestamp - since_timestamp\n",
    "result"
   ]
  },
  {
   "cell_type": "markdown",
   "id": "35cb7dbe",
   "metadata": {},
   "source": [
    "- 특정요일 구하기"
   ]
  },
  {
   "cell_type": "code",
   "execution_count": 46,
   "id": "e1d127e4",
   "metadata": {},
   "outputs": [
    {
     "data": {
      "text/plain": [
       "'THU'"
      ]
     },
     "execution_count": 46,
     "metadata": {},
     "output_type": "execute_result"
    }
   ],
   "source": [
    "import datetime\n",
    "def get_yoil(y,m,d) :\n",
    "    days = ['MON','TUE',\"WED\",\"THU\",\"FRI\",\"SAT\",\"SUN\"]\n",
    "    return days[datetime.date(y,m,d).weekday()]  # 날짜 인자값 받은것에 상응하는 요일 출력\n",
    "\n",
    "get_yoil(2022,6,30)"
   ]
  },
  {
   "cell_type": "markdown",
   "id": "278777a1",
   "metadata": {},
   "source": [
    "- 판다스 to_datetime\n",
    " (판다스에서는 파이썬의 datetime을 timestamp라고 부른다. 용어주의)"
   ]
  },
  {
   "cell_type": "code",
   "execution_count": 48,
   "id": "0b974004",
   "metadata": {},
   "outputs": [
    {
     "data": {
      "text/plain": [
       "Timestamp('2021-07-20 02:13:58')"
      ]
     },
     "execution_count": 48,
     "metadata": {},
     "output_type": "execute_result"
    }
   ],
   "source": [
    "import pandas as pd\n",
    "\n",
    "pd.to_datetime(1626747238.0,unit='s')  # 파이썬의 datetime 값이 나옴. =판다스의 timestamp"
   ]
  },
  {
   "cell_type": "code",
   "execution_count": 49,
   "id": "cb001578",
   "metadata": {},
   "outputs": [
    {
     "name": "stdout",
     "output_type": "stream",
     "text": [
      "2021-07-20 11:13:58+09:00 <class 'pandas._libs.tslibs.timestamps.Timestamp'>\n"
     ]
    }
   ],
   "source": [
    "date = pd.Timestamp(1626747238.0, unit='s',tz='Asia/Seoul')  #판다스의 Timestamp의 T는 대문자. tz는 타임젯\n",
    "                                                             # tz='Asia/Seoul' 외워둘것\n",
    "print(date,type(date))"
   ]
  },
  {
   "cell_type": "code",
   "execution_count": 51,
   "id": "ccba07ce",
   "metadata": {},
   "outputs": [
    {
     "data": {
      "text/html": [
       "<div>\n",
       "<style scoped>\n",
       "    .dataframe tbody tr th:only-of-type {\n",
       "        vertical-align: middle;\n",
       "    }\n",
       "\n",
       "    .dataframe tbody tr th {\n",
       "        vertical-align: top;\n",
       "    }\n",
       "\n",
       "    .dataframe thead th {\n",
       "        text-align: right;\n",
       "    }\n",
       "</style>\n",
       "<table border=\"1\" class=\"dataframe\">\n",
       "  <thead>\n",
       "    <tr style=\"text-align: right;\">\n",
       "      <th></th>\n",
       "      <th>Date</th>\n",
       "      <th>Close</th>\n",
       "      <th>Start</th>\n",
       "      <th>High</th>\n",
       "      <th>Low</th>\n",
       "      <th>Volume</th>\n",
       "    </tr>\n",
       "  </thead>\n",
       "  <tbody>\n",
       "    <tr>\n",
       "      <th>0</th>\n",
       "      <td>2018-07-02</td>\n",
       "      <td>10100</td>\n",
       "      <td>10850</td>\n",
       "      <td>10900</td>\n",
       "      <td>10000</td>\n",
       "      <td>137977</td>\n",
       "    </tr>\n",
       "    <tr>\n",
       "      <th>1</th>\n",
       "      <td>2018-06-29</td>\n",
       "      <td>10700</td>\n",
       "      <td>10550</td>\n",
       "      <td>10900</td>\n",
       "      <td>9990</td>\n",
       "      <td>170253</td>\n",
       "    </tr>\n",
       "    <tr>\n",
       "      <th>2</th>\n",
       "      <td>2018-06-28</td>\n",
       "      <td>10400</td>\n",
       "      <td>10900</td>\n",
       "      <td>10950</td>\n",
       "      <td>10150</td>\n",
       "      <td>155769</td>\n",
       "    </tr>\n",
       "    <tr>\n",
       "      <th>3</th>\n",
       "      <td>2018-06-27</td>\n",
       "      <td>10900</td>\n",
       "      <td>10800</td>\n",
       "      <td>11050</td>\n",
       "      <td>10500</td>\n",
       "      <td>133548</td>\n",
       "    </tr>\n",
       "    <tr>\n",
       "      <th>4</th>\n",
       "      <td>2018-06-26</td>\n",
       "      <td>10800</td>\n",
       "      <td>10900</td>\n",
       "      <td>11000</td>\n",
       "      <td>10700</td>\n",
       "      <td>63039</td>\n",
       "    </tr>\n",
       "  </tbody>\n",
       "</table>\n",
       "</div>"
      ],
      "text/plain": [
       "         Date  Close  Start   High    Low  Volume\n",
       "0  2018-07-02  10100  10850  10900  10000  137977\n",
       "1  2018-06-29  10700  10550  10900   9990  170253\n",
       "2  2018-06-28  10400  10900  10950  10150  155769\n",
       "3  2018-06-27  10900  10800  11050  10500  133548\n",
       "4  2018-06-26  10800  10900  11000  10700   63039"
      ]
     },
     "execution_count": 51,
     "metadata": {},
     "output_type": "execute_result"
    }
   ],
   "source": [
    "df = pd.read_csv('dataset/stock-data.csv')  # 경로설정 어떻게 하는지 복습\n",
    "df.head()"
   ]
  },
  {
   "cell_type": "code",
   "execution_count": 53,
   "id": "b2c5028a",
   "metadata": {},
   "outputs": [
    {
     "name": "stdout",
     "output_type": "stream",
     "text": [
      "<class 'pandas.core.frame.DataFrame'>\n",
      "RangeIndex: 20 entries, 0 to 19\n",
      "Data columns (total 6 columns):\n",
      " #   Column  Non-Null Count  Dtype \n",
      "---  ------  --------------  ----- \n",
      " 0   Date    20 non-null     object\n",
      " 1   Close   20 non-null     int64 \n",
      " 2   Start   20 non-null     int64 \n",
      " 3   High    20 non-null     int64 \n",
      " 4   Low     20 non-null     int64 \n",
      " 5   Volume  20 non-null     int64 \n",
      "dtypes: int64(5), object(1)\n",
      "memory usage: 1.1+ KB\n"
     ]
    }
   ],
   "source": [
    "df.info()  # 요약한거보기\n",
    "           # date가 obj로 되어있음."
   ]
  },
  {
   "cell_type": "code",
   "execution_count": 54,
   "id": "096bda4d",
   "metadata": {},
   "outputs": [
    {
     "name": "stdout",
     "output_type": "stream",
     "text": [
      "<class 'pandas.core.frame.DataFrame'>\n",
      "RangeIndex: 20 entries, 0 to 19\n",
      "Data columns (total 7 columns):\n",
      " #   Column    Non-Null Count  Dtype         \n",
      "---  ------    --------------  -----         \n",
      " 0   Date      20 non-null     object        \n",
      " 1   Close     20 non-null     int64         \n",
      " 2   Start     20 non-null     int64         \n",
      " 3   High      20 non-null     int64         \n",
      " 4   Low       20 non-null     int64         \n",
      " 5   Volume    20 non-null     int64         \n",
      " 6   New_Date  20 non-null     datetime64[ns]\n",
      "dtypes: datetime64[ns](1), int64(5), object(1)\n",
      "memory usage: 1.2+ KB\n"
     ]
    }
   ],
   "source": [
    "df['New_Date'] = pd.to_datetime(df['Date']) #새로운 컬럼 만들려면 대괄호. \n",
    "                    # 타입을 바꿔서 뉴데이트에 저장해라.\n",
    "df.info()           # 6번에 새로생김"
   ]
  },
  {
   "cell_type": "code",
   "execution_count": null,
   "id": "8e576b9f",
   "metadata": {},
   "outputs": [],
   "source": [
    "df.drop('Date', axis=1, inplace= True)  # 열방향이라 axis=1, 원본에 반영할것이므로 inplace=True.\n",
    "                                        # inplace 쓰면 한번 지우면 그 데이터는 날아가기때문에\n",
    "                                        # 카피데이터를 쓰거나 하는 식으로 신중하게 사용"
   ]
  },
  {
   "cell_type": "code",
   "execution_count": 56,
   "id": "d9da1261",
   "metadata": {
    "scrolled": true
   },
   "outputs": [
    {
     "data": {
      "text/html": [
       "<div>\n",
       "<style scoped>\n",
       "    .dataframe tbody tr th:only-of-type {\n",
       "        vertical-align: middle;\n",
       "    }\n",
       "\n",
       "    .dataframe tbody tr th {\n",
       "        vertical-align: top;\n",
       "    }\n",
       "\n",
       "    .dataframe thead th {\n",
       "        text-align: right;\n",
       "    }\n",
       "</style>\n",
       "<table border=\"1\" class=\"dataframe\">\n",
       "  <thead>\n",
       "    <tr style=\"text-align: right;\">\n",
       "      <th></th>\n",
       "      <th>Close</th>\n",
       "      <th>Start</th>\n",
       "      <th>High</th>\n",
       "      <th>Low</th>\n",
       "      <th>Volume</th>\n",
       "      <th>New_Date</th>\n",
       "      <th>year</th>\n",
       "      <th>month</th>\n",
       "      <th>day</th>\n",
       "    </tr>\n",
       "  </thead>\n",
       "  <tbody>\n",
       "    <tr>\n",
       "      <th>0</th>\n",
       "      <td>10100</td>\n",
       "      <td>10850</td>\n",
       "      <td>10900</td>\n",
       "      <td>10000</td>\n",
       "      <td>137977</td>\n",
       "      <td>2018-07-02</td>\n",
       "      <td>2018</td>\n",
       "      <td>7</td>\n",
       "      <td>2</td>\n",
       "    </tr>\n",
       "    <tr>\n",
       "      <th>1</th>\n",
       "      <td>10700</td>\n",
       "      <td>10550</td>\n",
       "      <td>10900</td>\n",
       "      <td>9990</td>\n",
       "      <td>170253</td>\n",
       "      <td>2018-06-29</td>\n",
       "      <td>2018</td>\n",
       "      <td>6</td>\n",
       "      <td>29</td>\n",
       "    </tr>\n",
       "    <tr>\n",
       "      <th>2</th>\n",
       "      <td>10400</td>\n",
       "      <td>10900</td>\n",
       "      <td>10950</td>\n",
       "      <td>10150</td>\n",
       "      <td>155769</td>\n",
       "      <td>2018-06-28</td>\n",
       "      <td>2018</td>\n",
       "      <td>6</td>\n",
       "      <td>28</td>\n",
       "    </tr>\n",
       "    <tr>\n",
       "      <th>3</th>\n",
       "      <td>10900</td>\n",
       "      <td>10800</td>\n",
       "      <td>11050</td>\n",
       "      <td>10500</td>\n",
       "      <td>133548</td>\n",
       "      <td>2018-06-27</td>\n",
       "      <td>2018</td>\n",
       "      <td>6</td>\n",
       "      <td>27</td>\n",
       "    </tr>\n",
       "    <tr>\n",
       "      <th>4</th>\n",
       "      <td>10800</td>\n",
       "      <td>10900</td>\n",
       "      <td>11000</td>\n",
       "      <td>10700</td>\n",
       "      <td>63039</td>\n",
       "      <td>2018-06-26</td>\n",
       "      <td>2018</td>\n",
       "      <td>6</td>\n",
       "      <td>26</td>\n",
       "    </tr>\n",
       "  </tbody>\n",
       "</table>\n",
       "</div>"
      ],
      "text/plain": [
       "   Close  Start   High    Low  Volume   New_Date  year  month  day\n",
       "0  10100  10850  10900  10000  137977 2018-07-02  2018      7    2\n",
       "1  10700  10550  10900   9990  170253 2018-06-29  2018      6   29\n",
       "2  10400  10900  10950  10150  155769 2018-06-28  2018      6   28\n",
       "3  10900  10800  11050  10500  133548 2018-06-27  2018      6   27\n",
       "4  10800  10900  11000  10700   63039 2018-06-26  2018      6   26"
      ]
     },
     "execution_count": 56,
     "metadata": {},
     "output_type": "execute_result"
    }
   ],
   "source": [
    "df['year'] = df['New_Date'].dt.year\n",
    "df['month'] = df['New_Date'].dt.month\n",
    "df['day'] = df['New_Date'].dt.day\n",
    "df.head()"
   ]
  },
  {
   "cell_type": "code",
   "execution_count": 61,
   "id": "11650524",
   "metadata": {},
   "outputs": [],
   "source": [
    "df1 = df.copy()"
   ]
  },
  {
   "cell_type": "code",
   "execution_count": 62,
   "id": "acddd676",
   "metadata": {},
   "outputs": [
    {
     "data": {
      "text/html": [
       "<div>\n",
       "<style scoped>\n",
       "    .dataframe tbody tr th:only-of-type {\n",
       "        vertical-align: middle;\n",
       "    }\n",
       "\n",
       "    .dataframe tbody tr th {\n",
       "        vertical-align: top;\n",
       "    }\n",
       "\n",
       "    .dataframe thead th {\n",
       "        text-align: right;\n",
       "    }\n",
       "</style>\n",
       "<table border=\"1\" class=\"dataframe\">\n",
       "  <thead>\n",
       "    <tr style=\"text-align: right;\">\n",
       "      <th></th>\n",
       "      <th>Close</th>\n",
       "      <th>Start</th>\n",
       "      <th>High</th>\n",
       "      <th>Low</th>\n",
       "      <th>Volume</th>\n",
       "      <th>year</th>\n",
       "      <th>month</th>\n",
       "      <th>day</th>\n",
       "    </tr>\n",
       "    <tr>\n",
       "      <th>New_Date</th>\n",
       "      <th></th>\n",
       "      <th></th>\n",
       "      <th></th>\n",
       "      <th></th>\n",
       "      <th></th>\n",
       "      <th></th>\n",
       "      <th></th>\n",
       "      <th></th>\n",
       "    </tr>\n",
       "  </thead>\n",
       "  <tbody>\n",
       "    <tr>\n",
       "      <th>2018-07-02</th>\n",
       "      <td>10100</td>\n",
       "      <td>10850</td>\n",
       "      <td>10900</td>\n",
       "      <td>10000</td>\n",
       "      <td>137977</td>\n",
       "      <td>2018</td>\n",
       "      <td>7</td>\n",
       "      <td>2</td>\n",
       "    </tr>\n",
       "    <tr>\n",
       "      <th>2018-06-29</th>\n",
       "      <td>10700</td>\n",
       "      <td>10550</td>\n",
       "      <td>10900</td>\n",
       "      <td>9990</td>\n",
       "      <td>170253</td>\n",
       "      <td>2018</td>\n",
       "      <td>6</td>\n",
       "      <td>29</td>\n",
       "    </tr>\n",
       "    <tr>\n",
       "      <th>2018-06-28</th>\n",
       "      <td>10400</td>\n",
       "      <td>10900</td>\n",
       "      <td>10950</td>\n",
       "      <td>10150</td>\n",
       "      <td>155769</td>\n",
       "      <td>2018</td>\n",
       "      <td>6</td>\n",
       "      <td>28</td>\n",
       "    </tr>\n",
       "    <tr>\n",
       "      <th>2018-06-27</th>\n",
       "      <td>10900</td>\n",
       "      <td>10800</td>\n",
       "      <td>11050</td>\n",
       "      <td>10500</td>\n",
       "      <td>133548</td>\n",
       "      <td>2018</td>\n",
       "      <td>6</td>\n",
       "      <td>27</td>\n",
       "    </tr>\n",
       "    <tr>\n",
       "      <th>2018-06-26</th>\n",
       "      <td>10800</td>\n",
       "      <td>10900</td>\n",
       "      <td>11000</td>\n",
       "      <td>10700</td>\n",
       "      <td>63039</td>\n",
       "      <td>2018</td>\n",
       "      <td>6</td>\n",
       "      <td>26</td>\n",
       "    </tr>\n",
       "  </tbody>\n",
       "</table>\n",
       "</div>"
      ],
      "text/plain": [
       "            Close  Start   High    Low  Volume  year  month  day\n",
       "New_Date                                                        \n",
       "2018-07-02  10100  10850  10900  10000  137977  2018      7    2\n",
       "2018-06-29  10700  10550  10900   9990  170253  2018      6   29\n",
       "2018-06-28  10400  10900  10950  10150  155769  2018      6   28\n",
       "2018-06-27  10900  10800  11050  10500  133548  2018      6   27\n",
       "2018-06-26  10800  10900  11000  10700   63039  2018      6   26"
      ]
     },
     "execution_count": 62,
     "metadata": {},
     "output_type": "execute_result"
    }
   ],
   "source": [
    "df1.set_index('New_Date', inplace=True)  # 인덱스를 새로 설정\n",
    "df1.head()                               # 뉴데이트가 인덱스로 바뀜"
   ]
  },
  {
   "cell_type": "code",
   "execution_count": 63,
   "id": "8a6dc9b4",
   "metadata": {},
   "outputs": [
    {
     "data": {
      "text/plain": [
       "DatetimeIndex(['2018-07-02', '2018-06-29', '2018-06-28', '2018-06-27',\n",
       "               '2018-06-26', '2018-06-25', '2018-06-22', '2018-06-21',\n",
       "               '2018-06-20', '2018-06-19', '2018-06-18', '2018-06-15',\n",
       "               '2018-06-14', '2018-06-12', '2018-06-11', '2018-06-08',\n",
       "               '2018-06-07', '2018-06-05', '2018-06-04', '2018-06-01'],\n",
       "              dtype='datetime64[ns]', name='New_Date', freq=None)"
      ]
     },
     "execution_count": 63,
     "metadata": {},
     "output_type": "execute_result"
    }
   ],
   "source": [
    "df1.index"
   ]
  },
  {
   "cell_type": "code",
   "execution_count": 66,
   "id": "db72a9bd",
   "metadata": {},
   "outputs": [
    {
     "data": {
      "text/html": [
       "<div>\n",
       "<style scoped>\n",
       "    .dataframe tbody tr th:only-of-type {\n",
       "        vertical-align: middle;\n",
       "    }\n",
       "\n",
       "    .dataframe tbody tr th {\n",
       "        vertical-align: top;\n",
       "    }\n",
       "\n",
       "    .dataframe thead th {\n",
       "        text-align: right;\n",
       "    }\n",
       "</style>\n",
       "<table border=\"1\" class=\"dataframe\">\n",
       "  <thead>\n",
       "    <tr style=\"text-align: right;\">\n",
       "      <th></th>\n",
       "      <th>Start</th>\n",
       "      <th>High</th>\n",
       "      <th>Low</th>\n",
       "    </tr>\n",
       "    <tr>\n",
       "      <th>New_Date</th>\n",
       "      <th></th>\n",
       "      <th></th>\n",
       "      <th></th>\n",
       "    </tr>\n",
       "  </thead>\n",
       "  <tbody>\n",
       "    <tr>\n",
       "      <th>2018-06-29</th>\n",
       "      <td>10550</td>\n",
       "      <td>10900</td>\n",
       "      <td>9990</td>\n",
       "    </tr>\n",
       "    <tr>\n",
       "      <th>2018-06-28</th>\n",
       "      <td>10900</td>\n",
       "      <td>10950</td>\n",
       "      <td>10150</td>\n",
       "    </tr>\n",
       "    <tr>\n",
       "      <th>2018-06-27</th>\n",
       "      <td>10800</td>\n",
       "      <td>11050</td>\n",
       "      <td>10500</td>\n",
       "    </tr>\n",
       "    <tr>\n",
       "      <th>2018-06-26</th>\n",
       "      <td>10900</td>\n",
       "      <td>11000</td>\n",
       "      <td>10700</td>\n",
       "    </tr>\n",
       "    <tr>\n",
       "      <th>2018-06-25</th>\n",
       "      <td>11400</td>\n",
       "      <td>11450</td>\n",
       "      <td>11000</td>\n",
       "    </tr>\n",
       "    <tr>\n",
       "      <th>2018-06-22</th>\n",
       "      <td>11250</td>\n",
       "      <td>11450</td>\n",
       "      <td>10750</td>\n",
       "    </tr>\n",
       "    <tr>\n",
       "      <th>2018-06-21</th>\n",
       "      <td>11350</td>\n",
       "      <td>11750</td>\n",
       "      <td>11200</td>\n",
       "    </tr>\n",
       "    <tr>\n",
       "      <th>2018-06-20</th>\n",
       "      <td>11200</td>\n",
       "      <td>11600</td>\n",
       "      <td>10900</td>\n",
       "    </tr>\n",
       "    <tr>\n",
       "      <th>2018-06-19</th>\n",
       "      <td>11850</td>\n",
       "      <td>11950</td>\n",
       "      <td>11300</td>\n",
       "    </tr>\n",
       "    <tr>\n",
       "      <th>2018-06-18</th>\n",
       "      <td>13400</td>\n",
       "      <td>13400</td>\n",
       "      <td>12000</td>\n",
       "    </tr>\n",
       "    <tr>\n",
       "      <th>2018-06-15</th>\n",
       "      <td>13600</td>\n",
       "      <td>13600</td>\n",
       "      <td>12900</td>\n",
       "    </tr>\n",
       "    <tr>\n",
       "      <th>2018-06-14</th>\n",
       "      <td>13200</td>\n",
       "      <td>13700</td>\n",
       "      <td>13150</td>\n",
       "    </tr>\n",
       "    <tr>\n",
       "      <th>2018-06-12</th>\n",
       "      <td>12200</td>\n",
       "      <td>13300</td>\n",
       "      <td>12050</td>\n",
       "    </tr>\n",
       "    <tr>\n",
       "      <th>2018-06-11</th>\n",
       "      <td>12000</td>\n",
       "      <td>12250</td>\n",
       "      <td>11950</td>\n",
       "    </tr>\n",
       "    <tr>\n",
       "      <th>2018-06-08</th>\n",
       "      <td>11950</td>\n",
       "      <td>12200</td>\n",
       "      <td>11800</td>\n",
       "    </tr>\n",
       "    <tr>\n",
       "      <th>2018-06-07</th>\n",
       "      <td>12200</td>\n",
       "      <td>12300</td>\n",
       "      <td>11900</td>\n",
       "    </tr>\n",
       "    <tr>\n",
       "      <th>2018-06-05</th>\n",
       "      <td>11800</td>\n",
       "      <td>12250</td>\n",
       "      <td>11800</td>\n",
       "    </tr>\n",
       "    <tr>\n",
       "      <th>2018-06-04</th>\n",
       "      <td>11900</td>\n",
       "      <td>12200</td>\n",
       "      <td>11700</td>\n",
       "    </tr>\n",
       "    <tr>\n",
       "      <th>2018-06-01</th>\n",
       "      <td>11800</td>\n",
       "      <td>12100</td>\n",
       "      <td>11750</td>\n",
       "    </tr>\n",
       "  </tbody>\n",
       "</table>\n",
       "</div>"
      ],
      "text/plain": [
       "            Start   High    Low\n",
       "New_Date                       \n",
       "2018-06-29  10550  10900   9990\n",
       "2018-06-28  10900  10950  10150\n",
       "2018-06-27  10800  11050  10500\n",
       "2018-06-26  10900  11000  10700\n",
       "2018-06-25  11400  11450  11000\n",
       "2018-06-22  11250  11450  10750\n",
       "2018-06-21  11350  11750  11200\n",
       "2018-06-20  11200  11600  10900\n",
       "2018-06-19  11850  11950  11300\n",
       "2018-06-18  13400  13400  12000\n",
       "2018-06-15  13600  13600  12900\n",
       "2018-06-14  13200  13700  13150\n",
       "2018-06-12  12200  13300  12050\n",
       "2018-06-11  12000  12250  11950\n",
       "2018-06-08  11950  12200  11800\n",
       "2018-06-07  12200  12300  11900\n",
       "2018-06-05  11800  12250  11800\n",
       "2018-06-04  11900  12200  11700\n",
       "2018-06-01  11800  12100  11750"
      ]
     },
     "execution_count": 66,
     "metadata": {},
     "output_type": "execute_result"
    }
   ],
   "source": [
    "df1_ym = df1.loc['2018-06', 'Start':'Low']  # 인덱스로 만들어줘서 2018-06 과 같이 써도 값이 나옴\n",
    "df1_ym"
   ]
  },
  {
   "cell_type": "code",
   "execution_count": 68,
   "id": "dc5a3eef",
   "metadata": {},
   "outputs": [
    {
     "data": {
      "text/plain": [
       "DatetimeIndex(['2020-10-01 00:00:00', '2020-10-05 18:00:00',\n",
       "               '2020-10-10 12:00:00', '2020-10-15 06:00:00',\n",
       "               '2020-10-20 00:00:00'],\n",
       "              dtype='datetime64[ns]', freq=None)"
      ]
     },
     "execution_count": 68,
     "metadata": {},
     "output_type": "execute_result"
    }
   ],
   "source": [
    "pd.date_range(start='2020-10-01', end='2020-10-20', periods=5)  #시작~끝날짜까지 5개값을 균등한 기간으로 뱉음"
   ]
  },
  {
   "cell_type": "code",
   "execution_count": 70,
   "id": "128ca2a9",
   "metadata": {
    "collapsed": true
   },
   "outputs": [
    {
     "name": "stdout",
     "output_type": "stream",
     "text": [
      "DatetimeIndex(['2000-01-05', '2000-01-12', '2000-01-19', '2000-01-26',\n",
      "               '2000-02-02', '2000-02-09', '2000-02-16', '2000-02-23',\n",
      "               '2000-03-01', '2000-03-08', '2000-03-15', '2000-03-22',\n",
      "               '2000-03-29', '2000-04-05', '2000-04-12', '2000-04-19',\n",
      "               '2000-04-26', '2000-05-03', '2000-05-10', '2000-05-17',\n",
      "               '2000-05-24', '2000-05-31', '2000-06-07', '2000-06-14',\n",
      "               '2000-06-21', '2000-06-28', '2000-07-05', '2000-07-12',\n",
      "               '2000-07-19', '2000-07-26', '2000-08-02', '2000-08-09',\n",
      "               '2000-08-16', '2000-08-23', '2000-08-30', '2000-09-06',\n",
      "               '2000-09-13', '2000-09-20', '2000-09-27', '2000-10-04',\n",
      "               '2000-10-11', '2000-10-18', '2000-10-25', '2000-11-01',\n",
      "               '2000-11-08', '2000-11-15', '2000-11-22', '2000-11-29',\n",
      "               '2000-12-06', '2000-12-13', '2000-12-20', '2000-12-27',\n",
      "               '2001-01-03', '2001-01-10', '2001-01-17', '2001-01-24',\n",
      "               '2001-01-31', '2001-02-07', '2001-02-14', '2001-02-21',\n",
      "               '2001-02-28', '2001-03-07', '2001-03-14', '2001-03-21',\n",
      "               '2001-03-28', '2001-04-04', '2001-04-11', '2001-04-18',\n",
      "               '2001-04-25', '2001-05-02', '2001-05-09', '2001-05-16',\n",
      "               '2001-05-23', '2001-05-30', '2001-06-06', '2001-06-13',\n",
      "               '2001-06-20', '2001-06-27', '2001-07-04', '2001-07-11',\n",
      "               '2001-07-18', '2001-07-25', '2001-08-01', '2001-08-08',\n",
      "               '2001-08-15', '2001-08-22', '2001-08-29', '2001-09-05',\n",
      "               '2001-09-12', '2001-09-19', '2001-09-26', '2001-10-03',\n",
      "               '2001-10-10', '2001-10-17', '2001-10-24', '2001-10-31',\n",
      "               '2001-11-07', '2001-11-14', '2001-11-21', '2001-11-28'],\n",
      "              dtype='datetime64[ns]', freq='W-WED')\n"
     ]
    }
   ],
   "source": [
    "dates = pd.date_range('1/1/2000', periods=100, freq='W-WED') # 주단위-매주 수요일을 2000년 1월1일부터 100개값을 보여줌\n",
    "print(dates)"
   ]
  },
  {
   "cell_type": "code",
   "execution_count": 72,
   "id": "f48d35c2",
   "metadata": {
    "collapsed": true
   },
   "outputs": [
    {
     "data": {
      "text/plain": [
       "DatetimeIndex(['2000-01-01 00:00:00', '2000-01-01 04:00:00',\n",
       "               '2000-01-01 08:00:00', '2000-01-01 12:00:00',\n",
       "               '2000-01-01 16:00:00', '2000-01-01 20:00:00',\n",
       "               '2000-01-02 00:00:00', '2000-01-02 04:00:00',\n",
       "               '2000-01-02 08:00:00', '2000-01-02 12:00:00',\n",
       "               '2000-01-02 16:00:00', '2000-01-02 20:00:00',\n",
       "               '2000-01-03 00:00:00', '2000-01-03 04:00:00',\n",
       "               '2000-01-03 08:00:00', '2000-01-03 12:00:00',\n",
       "               '2000-01-03 16:00:00', '2000-01-03 20:00:00'],\n",
       "              dtype='datetime64[ns]', freq='4H')"
      ]
     },
     "execution_count": 72,
     "metadata": {},
     "output_type": "execute_result"
    }
   ],
   "source": [
    "pd.date_range('2000-01-01','2000-01-03 23:59', freq='4h') # 4시간단위로 보여줌"
   ]
  },
  {
   "cell_type": "code",
   "execution_count": 2,
   "id": "396975fa",
   "metadata": {},
   "outputs": [
    {
     "data": {
      "text/html": [
       "<div>\n",
       "<style scoped>\n",
       "    .dataframe tbody tr th:only-of-type {\n",
       "        vertical-align: middle;\n",
       "    }\n",
       "\n",
       "    .dataframe tbody tr th {\n",
       "        vertical-align: top;\n",
       "    }\n",
       "\n",
       "    .dataframe thead th {\n",
       "        text-align: right;\n",
       "    }\n",
       "</style>\n",
       "<table border=\"1\" class=\"dataframe\">\n",
       "  <thead>\n",
       "    <tr style=\"text-align: right;\">\n",
       "      <th></th>\n",
       "      <th>Date</th>\n",
       "      <th>Close</th>\n",
       "      <th>Start</th>\n",
       "      <th>High</th>\n",
       "      <th>Low</th>\n",
       "      <th>Volume</th>\n",
       "    </tr>\n",
       "  </thead>\n",
       "  <tbody>\n",
       "    <tr>\n",
       "      <th>0</th>\n",
       "      <td>2018-07-02</td>\n",
       "      <td>10100</td>\n",
       "      <td>10850</td>\n",
       "      <td>10900</td>\n",
       "      <td>10000</td>\n",
       "      <td>137977</td>\n",
       "    </tr>\n",
       "    <tr>\n",
       "      <th>1</th>\n",
       "      <td>2018-06-29</td>\n",
       "      <td>10700</td>\n",
       "      <td>10550</td>\n",
       "      <td>10900</td>\n",
       "      <td>9990</td>\n",
       "      <td>170253</td>\n",
       "    </tr>\n",
       "    <tr>\n",
       "      <th>2</th>\n",
       "      <td>2018-06-28</td>\n",
       "      <td>10400</td>\n",
       "      <td>10900</td>\n",
       "      <td>10950</td>\n",
       "      <td>10150</td>\n",
       "      <td>155769</td>\n",
       "    </tr>\n",
       "    <tr>\n",
       "      <th>3</th>\n",
       "      <td>2018-06-27</td>\n",
       "      <td>10900</td>\n",
       "      <td>10800</td>\n",
       "      <td>11050</td>\n",
       "      <td>10500</td>\n",
       "      <td>133548</td>\n",
       "    </tr>\n",
       "    <tr>\n",
       "      <th>4</th>\n",
       "      <td>2018-06-26</td>\n",
       "      <td>10800</td>\n",
       "      <td>10900</td>\n",
       "      <td>11000</td>\n",
       "      <td>10700</td>\n",
       "      <td>63039</td>\n",
       "    </tr>\n",
       "  </tbody>\n",
       "</table>\n",
       "</div>"
      ],
      "text/plain": [
       "         Date  Close  Start   High    Low  Volume\n",
       "0  2018-07-02  10100  10850  10900  10000  137977\n",
       "1  2018-06-29  10700  10550  10900   9990  170253\n",
       "2  2018-06-28  10400  10900  10950  10150  155769\n",
       "3  2018-06-27  10900  10800  11050  10500  133548\n",
       "4  2018-06-26  10800  10900  11000  10700   63039"
      ]
     },
     "execution_count": 2,
     "metadata": {},
     "output_type": "execute_result"
    }
   ],
   "source": [
    "import pandas as pd\n",
    "df = pd.read_csv('dataset/stock-data.csv') #괄호안에 들어가는 원칙은 ('./dataset/stock-data.csv')\n",
    "df.head()                                  # .은 현재를 말함.이 컴퓨터는 지금 pandas가 기본\n",
    "                                           # 상대경로"
   ]
  },
  {
   "cell_type": "code",
   "execution_count": 3,
   "id": "a01036d8",
   "metadata": {},
   "outputs": [
    {
     "name": "stdout",
     "output_type": "stream",
     "text": [
      "<class 'pandas.core.frame.DataFrame'>\n",
      "RangeIndex: 20 entries, 0 to 19\n",
      "Data columns (total 6 columns):\n",
      " #   Column  Non-Null Count  Dtype \n",
      "---  ------  --------------  ----- \n",
      " 0   Date    20 non-null     object\n",
      " 1   Close   20 non-null     int64 \n",
      " 2   Start   20 non-null     int64 \n",
      " 3   High    20 non-null     int64 \n",
      " 4   Low     20 non-null     int64 \n",
      " 5   Volume  20 non-null     int64 \n",
      "dtypes: int64(5), object(1)\n",
      "memory usage: 1.1+ KB\n"
     ]
    }
   ],
   "source": [
    "df.info()"
   ]
  },
  {
   "cell_type": "code",
   "execution_count": 5,
   "id": "48331cda",
   "metadata": {},
   "outputs": [
    {
     "name": "stdout",
     "output_type": "stream",
     "text": [
      "<class 'pandas.core.frame.DataFrame'>\n",
      "RangeIndex: 20 entries, 0 to 19\n",
      "Data columns (total 7 columns):\n",
      " #   Column    Non-Null Count  Dtype         \n",
      "---  ------    --------------  -----         \n",
      " 0   Date      20 non-null     object        \n",
      " 1   Close     20 non-null     int64         \n",
      " 2   Start     20 non-null     int64         \n",
      " 3   High      20 non-null     int64         \n",
      " 4   Low       20 non-null     int64         \n",
      " 5   Volume    20 non-null     int64         \n",
      " 6   new_Date  20 non-null     datetime64[ns]\n",
      "dtypes: datetime64[ns](1), int64(5), object(1)\n",
      "memory usage: 1.2+ KB\n"
     ]
    }
   ],
   "source": [
    "# new_Date 열 만들기\n",
    "df['new_Date'] = pd.to_datetime(df.Date) # datetime형식으로 바꿈\n",
    "df.info()"
   ]
  },
  {
   "cell_type": "code",
   "execution_count": 6,
   "id": "c9751d3a",
   "metadata": {},
   "outputs": [
    {
     "data": {
      "text/html": [
       "<div>\n",
       "<style scoped>\n",
       "    .dataframe tbody tr th:only-of-type {\n",
       "        vertical-align: middle;\n",
       "    }\n",
       "\n",
       "    .dataframe tbody tr th {\n",
       "        vertical-align: top;\n",
       "    }\n",
       "\n",
       "    .dataframe thead th {\n",
       "        text-align: right;\n",
       "    }\n",
       "</style>\n",
       "<table border=\"1\" class=\"dataframe\">\n",
       "  <thead>\n",
       "    <tr style=\"text-align: right;\">\n",
       "      <th></th>\n",
       "      <th>Close</th>\n",
       "      <th>Start</th>\n",
       "      <th>High</th>\n",
       "      <th>Low</th>\n",
       "      <th>Volume</th>\n",
       "    </tr>\n",
       "    <tr>\n",
       "      <th>new_Date</th>\n",
       "      <th></th>\n",
       "      <th></th>\n",
       "      <th></th>\n",
       "      <th></th>\n",
       "      <th></th>\n",
       "    </tr>\n",
       "  </thead>\n",
       "  <tbody>\n",
       "    <tr>\n",
       "      <th>2018-07-02</th>\n",
       "      <td>10100</td>\n",
       "      <td>10850</td>\n",
       "      <td>10900</td>\n",
       "      <td>10000</td>\n",
       "      <td>137977</td>\n",
       "    </tr>\n",
       "    <tr>\n",
       "      <th>2018-06-29</th>\n",
       "      <td>10700</td>\n",
       "      <td>10550</td>\n",
       "      <td>10900</td>\n",
       "      <td>9990</td>\n",
       "      <td>170253</td>\n",
       "    </tr>\n",
       "    <tr>\n",
       "      <th>2018-06-28</th>\n",
       "      <td>10400</td>\n",
       "      <td>10900</td>\n",
       "      <td>10950</td>\n",
       "      <td>10150</td>\n",
       "      <td>155769</td>\n",
       "    </tr>\n",
       "    <tr>\n",
       "      <th>2018-06-27</th>\n",
       "      <td>10900</td>\n",
       "      <td>10800</td>\n",
       "      <td>11050</td>\n",
       "      <td>10500</td>\n",
       "      <td>133548</td>\n",
       "    </tr>\n",
       "    <tr>\n",
       "      <th>2018-06-26</th>\n",
       "      <td>10800</td>\n",
       "      <td>10900</td>\n",
       "      <td>11000</td>\n",
       "      <td>10700</td>\n",
       "      <td>63039</td>\n",
       "    </tr>\n",
       "  </tbody>\n",
       "</table>\n",
       "</div>"
      ],
      "text/plain": [
       "            Close  Start   High    Low  Volume\n",
       "new_Date                                      \n",
       "2018-07-02  10100  10850  10900  10000  137977\n",
       "2018-06-29  10700  10550  10900   9990  170253\n",
       "2018-06-28  10400  10900  10950  10150  155769\n",
       "2018-06-27  10900  10800  11050  10500  133548\n",
       "2018-06-26  10800  10900  11000  10700   63039"
      ]
     },
     "execution_count": 6,
     "metadata": {},
     "output_type": "execute_result"
    }
   ],
   "source": [
    "# 날짜 인덱스\n",
    "df1 = df.copy()\n",
    "df1.set_index('new_Date', inplace=True)\n",
    "df1.drop('Date', axis=1, inplace = True)\n",
    "df1.head()"
   ]
  },
  {
   "cell_type": "markdown",
   "id": "99f00f3c",
   "metadata": {},
   "source": [
    "- 인덱스 리셋"
   ]
  },
  {
   "cell_type": "code",
   "execution_count": 8,
   "id": "a1c3023c",
   "metadata": {},
   "outputs": [
    {
     "data": {
      "text/html": [
       "<div>\n",
       "<style scoped>\n",
       "    .dataframe tbody tr th:only-of-type {\n",
       "        vertical-align: middle;\n",
       "    }\n",
       "\n",
       "    .dataframe tbody tr th {\n",
       "        vertical-align: top;\n",
       "    }\n",
       "\n",
       "    .dataframe thead th {\n",
       "        text-align: right;\n",
       "    }\n",
       "</style>\n",
       "<table border=\"1\" class=\"dataframe\">\n",
       "  <thead>\n",
       "    <tr style=\"text-align: right;\">\n",
       "      <th></th>\n",
       "      <th>new_Date</th>\n",
       "      <th>Close</th>\n",
       "      <th>Start</th>\n",
       "      <th>High</th>\n",
       "      <th>Low</th>\n",
       "      <th>Volume</th>\n",
       "    </tr>\n",
       "  </thead>\n",
       "  <tbody>\n",
       "    <tr>\n",
       "      <th>0</th>\n",
       "      <td>2018-07-02</td>\n",
       "      <td>10100</td>\n",
       "      <td>10850</td>\n",
       "      <td>10900</td>\n",
       "      <td>10000</td>\n",
       "      <td>137977</td>\n",
       "    </tr>\n",
       "    <tr>\n",
       "      <th>1</th>\n",
       "      <td>2018-06-29</td>\n",
       "      <td>10700</td>\n",
       "      <td>10550</td>\n",
       "      <td>10900</td>\n",
       "      <td>9990</td>\n",
       "      <td>170253</td>\n",
       "    </tr>\n",
       "    <tr>\n",
       "      <th>2</th>\n",
       "      <td>2018-06-28</td>\n",
       "      <td>10400</td>\n",
       "      <td>10900</td>\n",
       "      <td>10950</td>\n",
       "      <td>10150</td>\n",
       "      <td>155769</td>\n",
       "    </tr>\n",
       "    <tr>\n",
       "      <th>3</th>\n",
       "      <td>2018-06-27</td>\n",
       "      <td>10900</td>\n",
       "      <td>10800</td>\n",
       "      <td>11050</td>\n",
       "      <td>10500</td>\n",
       "      <td>133548</td>\n",
       "    </tr>\n",
       "    <tr>\n",
       "      <th>4</th>\n",
       "      <td>2018-06-26</td>\n",
       "      <td>10800</td>\n",
       "      <td>10900</td>\n",
       "      <td>11000</td>\n",
       "      <td>10700</td>\n",
       "      <td>63039</td>\n",
       "    </tr>\n",
       "  </tbody>\n",
       "</table>\n",
       "</div>"
      ],
      "text/plain": [
       "    new_Date  Close  Start   High    Low  Volume\n",
       "0 2018-07-02  10100  10850  10900  10000  137977\n",
       "1 2018-06-29  10700  10550  10900   9990  170253\n",
       "2 2018-06-28  10400  10900  10950  10150  155769\n",
       "3 2018-06-27  10900  10800  11050  10500  133548\n",
       "4 2018-06-26  10800  10900  11000  10700   63039"
      ]
     },
     "execution_count": 8,
     "metadata": {},
     "output_type": "execute_result"
    }
   ],
   "source": [
    "df1 = df1.reset_index()  # new_Date를 다시 컬럼으로 보내기\n",
    "df1.head()"
   ]
  },
  {
   "cell_type": "code",
   "execution_count": null,
   "id": "36b09111",
   "metadata": {},
   "outputs": [],
   "source": []
  },
  {
   "cell_type": "code",
   "execution_count": null,
   "id": "f6999efb",
   "metadata": {},
   "outputs": [],
   "source": []
  }
 ],
 "metadata": {
  "kernelspec": {
   "display_name": "Python 3 (ipykernel)",
   "language": "python",
   "name": "python3"
  },
  "language_info": {
   "codemirror_mode": {
    "name": "ipython",
    "version": 3
   },
   "file_extension": ".py",
   "mimetype": "text/x-python",
   "name": "python",
   "nbconvert_exporter": "python",
   "pygments_lexer": "ipython3",
   "version": "3.8.13"
  }
 },
 "nbformat": 4,
 "nbformat_minor": 5
}
