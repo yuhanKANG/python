{
 "cells": [
  {
   "cell_type": "markdown",
   "id": "40f24f68",
   "metadata": {},
   "source": [
    "BeautifulSoup 모듈\n",
    "- 홈페이지 내 데이터를 쉽게 추출할 수 있게 해주는 파이썬 외부 라이브러리\n",
    "- 웹 문서 내 수많은 HTML 태그들을 parser를 활용해 사용하기 편한 파이썬 객체로 만들어 제공\n",
    "- 웹 문서 구조를 알고 있다면 편하게 데이터를 뽑아 활용할 수 있음\n",
    "\n",
    "기존방식과의 차이점\n",
    "- 정규 표현식, 문자열 함수 등을 활용하여 홈페이지 텍스트 내 패턴을 분석하여 하나씩 원하는 데이터를 찾아가는 형식\n",
    "- BS는 HTML 문서를 태그를 기반으로 구조화하여 태그로 원하는 데이터를 찾아가는 형식"
   ]
  },
  {
   "cell_type": "code",
   "execution_count": 22,
   "id": "32dc2514",
   "metadata": {},
   "outputs": [
    {
     "name": "stdout",
     "output_type": "stream",
     "text": [
      "<html lang=\"en\">\n",
      " <head>\n",
      "  <title>\n",
      "   crawl\n",
      "  </title>\n",
      " </head>\n",
      " <body>\n",
      "  <p align=\"center\" class=\"a\">\n",
      "   text1\n",
      "  </p>\n",
      "  <p align=\"center\" class=\"b\">\n",
      "   text2\n",
      "  </p>\n",
      "  <p align=\"center\" class=\"c\">\n",
      "   text3\n",
      "  </p>\n",
      "  <div>\n",
      "   <img height=\"200\" src=\"/source\" width=\"300\"/>\n",
      "  </div>\n",
      " </body>\n",
      "</html>\n",
      "\n"
     ]
    }
   ],
   "source": [
    "html_doc = \"\"\"\n",
    "<html lang=\"en\">\n",
    "<head><title>crawl</title></head>\n",
    "<body>\n",
    "<p class=\"a\" align=\"center\"> text1</p>\n",
    "<p class=\"b\" align=\"center\"> text2</p>\n",
    "<p class=\"c\" align=\"center\"> text3</p>\n",
    "<div><img src=\"/source\" width=\"300\" height=\"200\"></div>\n",
    "</body>\n",
    "</html>\n",
    "\"\"\"\n",
    "\n",
    "from bs4 import BeautifulSoup as bs\n",
    "\n",
    "soup = bs(html_doc, 'html.parser')\n",
    "print(soup.prettify()) # 프린트하면 칸까지 맞춰서 출력"
   ]
  },
  {
   "cell_type": "code",
   "execution_count": 20,
   "id": "5f40e417",
   "metadata": {},
   "outputs": [
    {
     "name": "stdout",
     "output_type": "stream",
     "text": [
      "스크레이핑이란?\n",
      "웹 페이지를 분석하는 것\n",
      "원하는 부분을 추출하는 것\n"
     ]
    }
   ],
   "source": [
    "html = \"\"\"\n",
    "<html><body>\n",
    "  <h1>스크레이핑이란?</h1>\n",
    "  <p>웹 페이지를 분석하는 것</p>\n",
    "  <p>원하는 부분을 추출하는 것</p>\n",
    "</body></html>\n",
    "\"\"\"\n",
    "soup = bs(html, 'html.parser')\n",
    "h1 = soup.html.body.h1   # 바디\n",
    "p1 = soup.html.body.p\n",
    "p2 = p1.next_sibling.next_sibling # 공백이 하나 있어서 next~2번써줌\n",
    "\n",
    "print(h1.string)  # 문자열로 출력\n",
    "print(p1.string)\n",
    "print(p2.string)\n",
    "\n"
   ]
  },
  {
   "cell_type": "markdown",
   "id": "0680a88f",
   "metadata": {},
   "source": [
    "find() : HTML의 해당 태그에 대한 첫 번째 정보를 가져옴\n",
    "- find(속성='값') : HTML 해당 속성과 일치하는 값에 대한 첫 번째 정보를 가져옴"
   ]
  },
  {
   "cell_type": "code",
   "execution_count": 27,
   "id": "acffaae3",
   "metadata": {},
   "outputs": [
    {
     "ename": "AttributeError",
     "evalue": "'NoneType' object has no attribute 'text'",
     "output_type": "error",
     "traceback": [
      "\u001b[1;31m---------------------------------------------------------------------------\u001b[0m",
      "\u001b[1;31mAttributeError\u001b[0m                            Traceback (most recent call last)",
      "Input \u001b[1;32mIn [27]\u001b[0m, in \u001b[0;36m<cell line: 14>\u001b[1;34m()\u001b[0m\n\u001b[0;32m     11\u001b[0m title \u001b[38;5;241m=\u001b[39m soup\u001b[38;5;241m.\u001b[39mfind(\u001b[38;5;28mid\u001b[39m\u001b[38;5;241m=\u001b[39m\u001b[38;5;124m'\u001b[39m\u001b[38;5;124mtitle\u001b[39m\u001b[38;5;124m'\u001b[39m)\n\u001b[0;32m     12\u001b[0m body \u001b[38;5;241m=\u001b[39m soup\u001b[38;5;241m.\u001b[39mfind(\u001b[38;5;28mid\u001b[39m\u001b[38;5;241m=\u001b[39m\u001b[38;5;124m'\u001b[39m\u001b[38;5;124mbody\u001b[39m\u001b[38;5;124m'\u001b[39m)\n\u001b[1;32m---> 14\u001b[0m \u001b[38;5;28mprint\u001b[39m(\u001b[43mtitle\u001b[49m\u001b[38;5;241;43m.\u001b[39;49m\u001b[43mtext\u001b[49m)\n\u001b[0;32m     15\u001b[0m \u001b[38;5;28mprint\u001b[39m(body\u001b[38;5;241m.\u001b[39mtext)\n",
      "\u001b[1;31mAttributeError\u001b[0m: 'NoneType' object has no attribute 'text'"
     ]
    }
   ],
   "source": [
    "from bs4 import BeautifulSoup as bs\n",
    "html = \"\"\"\n",
    "<html><body>\n",
    "  <h1>스크레이핑이란?</h1>\n",
    "  <p>웹 페이지를 분석하는 것</p>\n",
    "  <p>원하는 부분을 추출하는 것</p>\n",
    "</body></html>\n",
    "\"\"\"\n",
    "\n",
    "soup = bs(html, 'html.parser')\n",
    "title = soup.find(id='title')\n",
    "body = soup.find(id='body')\n",
    "\n",
    "print(title.text)\n",
    "print(body.text)"
   ]
  },
  {
   "cell_type": "code",
   "execution_count": null,
   "id": "e1b957ed",
   "metadata": {},
   "outputs": [],
   "source": []
  }
 ],
 "metadata": {
  "kernelspec": {
   "display_name": "Python 3 (ipykernel)",
   "language": "python",
   "name": "python3"
  },
  "language_info": {
   "codemirror_mode": {
    "name": "ipython",
    "version": 3
   },
   "file_extension": ".py",
   "mimetype": "text/x-python",
   "name": "python",
   "nbconvert_exporter": "python",
   "pygments_lexer": "ipython3",
   "version": "3.8.13"
  }
 },
 "nbformat": 4,
 "nbformat_minor": 5
}
